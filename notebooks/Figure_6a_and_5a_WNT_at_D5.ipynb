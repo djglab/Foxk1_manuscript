{
  "nbformat": 4,
  "nbformat_minor": 0,
  "metadata": {
    "colab": {
      "name": "Figure 6a and 5a WNT at D5.ipynb",
      "provenance": [],
      "collapsed_sections": [],
      "toc_visible": true,
      "include_colab_link": true
    },
    "kernelspec": {
      "name": "ir",
      "display_name": "R"
    }
  },
  "cells": [
    {
      "cell_type": "markdown",
      "metadata": {
        "id": "view-in-github",
        "colab_type": "text"
      },
      "source": [
        "<a href=\"https://colab.research.google.com/github/djglab/Foxk1_manuscript/blob/main/notebooks/Figure_6a_and_5a_WNT_at_D5.ipynb\" target=\"_parent\"><img src=\"https://colab.research.google.com/assets/colab-badge.svg\" alt=\"Open In Colab\"/></a>"
      ]
    },
    {
      "cell_type": "markdown",
      "source": [
        "The notebook highlights WNT signaling pathways and top 20 genes in the top Wnt signaling pathways expression between Control and Foxk1 NUll at Day5"
      ],
      "metadata": {
        "id": "nkYyleyPa_4g"
      }
    },
    {
      "cell_type": "code",
      "metadata": {
        "id": "SK7UWjMVhJvE"
      },
      "source": [
        "start_time0 <- Sys.time()"
      ],
      "execution_count": null,
      "outputs": []
    },
    {
      "cell_type": "markdown",
      "metadata": {
        "id": "KitqR0X7qDZz"
      },
      "source": [
        "# Downloading and installing packages"
      ]
    },
    {
      "cell_type": "code",
      "metadata": {
        "id": "XRVS6cpnhHAP",
        "colab": {
          "base_uri": "https://localhost:8080/",
          "height": 851
        },
        "outputId": "9258224d-1596-406c-d0bd-806a6bc285c2"
      },
      "source": [
        "system('apt-get -q install libgsl-dev', intern = TRUE)\n",
        "system('apt-get install libcairo2-dev', intern = TRUE)"
      ],
      "execution_count": null,
      "outputs": [
        {
          "output_type": "display_data",
          "data": {
            "text/plain": [
              " [1] \"Reading package lists...\"                                                                                                                                                                                                                                                                                                                                                                                                                                                                                                                                                                                                                                      \n",
              " [2] \"Building dependency tree...\"                                                                                                                                                                                                                                                                                                                                                                                                                                                                                                                                                                                                                                   \n",
              " [3] \"Reading state information...\"                                                                                                                                                                                                                                                                                                                                                                                                                                                                                                                                                                                                                                  \n",
              " [4] \"The following packages were automatically installed and are no longer required:\"                                                                                                                                                                                                                                                                                                                                                                                                                                                                                                                                                                               \n",
              " [5] \"  cuda-command-line-tools-10-0 cuda-command-line-tools-10-1\"                                                                                                                                                                                                                                                                                                                                                                                                                                                                                                                                                                                                   \n",
              " [6] \"  cuda-command-line-tools-11-0 cuda-compiler-10-0 cuda-compiler-10-1\"                                                                                                                                                                                                                                                                                                                                                                                                                                                                                                                                                                                          \n",
              " [7] \"  cuda-compiler-11-0 cuda-cuobjdump-10-0 cuda-cuobjdump-10-1\"                                                                                                                                                                                                                                                                                                                                                                                                                                                                                                                                                                                                  \n",
              " [8] \"  cuda-cuobjdump-11-0 cuda-cupti-10-0 cuda-cupti-10-1 cuda-cupti-11-0\"                                                                                                                                                                                                                                                                                                                                                                                                                                                                                                                                                                                         \n",
              " [9] \"  cuda-cupti-dev-11-0 cuda-documentation-10-0 cuda-documentation-10-1\"                                                                                                                                                                                                                                                                                                                                                                                                                                                                                                                                                                                         \n",
              "[10] \"  cuda-documentation-11-0 cuda-documentation-11-1 cuda-gdb-10-0 cuda-gdb-10-1\"                                                                                                                                                                                                                                                                                                                                                                                                                                                                                                                                                                                 \n",
              "[11] \"  cuda-gdb-11-0 cuda-gpu-library-advisor-10-0 cuda-gpu-library-advisor-10-1\"                                                                                                                                                                                                                                                                                                                                                                                                                                                                                                                                                                                   \n",
              "[12] \"  cuda-libraries-10-0 cuda-libraries-10-1 cuda-libraries-11-0\"                                                                                                                                                                                                                                                                                                                                                                                                                                                                                                                                                                                                 \n",
              "[13] \"  cuda-memcheck-10-0 cuda-memcheck-10-1 cuda-memcheck-11-0 cuda-nsight-10-0\"                                                                                                                                                                                                                                                                                                                                                                                                                                                                                                                                                                                   \n",
              "[14] \"  cuda-nsight-10-1 cuda-nsight-11-0 cuda-nsight-11-1 cuda-nsight-compute-10-0\"                                                                                                                                                                                                                                                                                                                                                                                                                                                                                                                                                                                 \n",
              "[15] \"  cuda-nsight-compute-10-1 cuda-nsight-compute-11-0 cuda-nsight-compute-11-1\"                                                                                                                                                                                                                                                                                                                                                                                                                                                                                                                                                                                  \n",
              "[16] \"  cuda-nsight-systems-10-1 cuda-nsight-systems-11-0 cuda-nsight-systems-11-1\"                                                                                                                                                                                                                                                                                                                                                                                                                                                                                                                                                                                  \n",
              "[17] \"  cuda-nvcc-10-0 cuda-nvcc-10-1 cuda-nvcc-11-0 cuda-nvdisasm-10-0\"                                                                                                                                                                                                                                                                                                                                                                                                                                                                                                                                                                                             \n",
              "[18] \"  cuda-nvdisasm-10-1 cuda-nvdisasm-11-0 cuda-nvml-dev-10-0 cuda-nvml-dev-10-1\"                                                                                                                                                                                                                                                                                                                                                                                                                                                                                                                                                                                 \n",
              "[19] \"  cuda-nvml-dev-11-0 cuda-nvprof-10-0 cuda-nvprof-10-1 cuda-nvprof-11-0\"                                                                                                                                                                                                                                                                                                                                                                                                                                                                                                                                                                                       \n",
              "[20] \"  cuda-nvprune-10-0 cuda-nvprune-10-1 cuda-nvprune-11-0 cuda-nvtx-10-0\"                                                                                                                                                                                                                                                                                                                                                                                                                                                                                                                                                                                        \n",
              "[21] \"  cuda-nvtx-10-1 cuda-nvtx-11-0 cuda-nvvp-10-0 cuda-nvvp-10-1 cuda-nvvp-11-0\"                                                                                                                                                                                                                                                                                                                                                                                                                                                                                                                                                                                  \n",
              "[22] \"  cuda-nvvp-11-1 cuda-samples-10-0 cuda-samples-10-1 cuda-samples-11-0\"                                                                                                                                                                                                                                                                                                                                                                                                                                                                                                                                                                                        \n",
              "[23] \"  cuda-samples-11-1 cuda-sanitizer-11-0 cuda-sanitizer-api-10-1\"                                                                                                                                                                                                                                                                                                                                                                                                                                                                                                                                                                                               \n",
              "[24] \"  cuda-toolkit-10-0 cuda-toolkit-10-1 cuda-toolkit-11-0 cuda-toolkit-11-1\"                                                                                                                                                                                                                                                                                                                                                                                                                                                                                                                                                                                     \n",
              "[25] \"  cuda-tools-10-0 cuda-tools-10-1 cuda-tools-11-0 cuda-tools-11-1\"                                                                                                                                                                                                                                                                                                                                                                                                                                                                                                                                                                                             \n",
              "[26] \"  cuda-visual-tools-10-0 cuda-visual-tools-10-1 cuda-visual-tools-11-0\"                                                                                                                                                                                                                                                                                                                                                                                                                                                                                                                                                                                        \n",
              "[27] \"  cuda-visual-tools-11-1 default-jre dkms freeglut3 freeglut3-dev\"                                                                                                                                                                                                                                                                                                                                                                                                                                                                                                                                                                                             \n",
              "[28] \"  keyboard-configuration libargon2-0 libcap2 libcryptsetup12\"                                                                                                                                                                                                                                                                                                                                                                                                                                                                                                                                                                                                  \n",
              "[29] \"  libdevmapper1.02.1 libfontenc1 libidn11 libip4tc0 libjansson4\"                                                                                                                                                                                                                                                                                                                                                                                                                                                                                                                                                                                               \n",
              "[30] \"  libnvidia-cfg1-510 libnvidia-common-460 libnvidia-common-510\"                                                                                                                                                                                                                                                                                                                                                                                                                                                                                                                                                                                                \n",
              "[31] \"  libnvidia-extra-510 libnvidia-fbc1-510 libnvidia-gl-510 libpam-systemd\"                                                                                                                                                                                                                                                                                                                                                                                                                                                                                                                                                                                      \n",
              "[32] \"  libpolkit-agent-1-0 libpolkit-backend-1-0 libpolkit-gobject-1-0 libxfont2\"                                                                                                                                                                                                                                                                                                                                                                                                                                                                                                                                                                                   \n",
              "[33] \"  libxi-dev libxkbfile1 libxmu-dev libxmu-headers libxnvctrl0 libxtst6\"                                                                                                                                                                                                                                                                                                                                                                                                                                                                                                                                                                                        \n",
              "[34] \"  nsight-compute-2020.2.1 nsight-compute-2022.1.0 nsight-systems-2020.3.2\"                                                                                                                                                                                                                                                                                                                                                                                                                                                                                                                                                                                     \n",
              "[35] \"  nsight-systems-2020.3.4 nsight-systems-2021.5.2 nvidia-dkms-510\"                                                                                                                                                                                                                                                                                                                                                                                                                                                                                                                                                                                             \n",
              "[36] \"  nvidia-kernel-common-510 nvidia-kernel-source-510 nvidia-modprobe\"                                                                                                                                                                                                                                                                                                                                                                                                                                                                                                                                                                                           \n",
              "[37] \"  nvidia-settings openjdk-11-jre policykit-1 policykit-1-gnome python3-xkit\"                                                                                                                                                                                                                                                                                                                                                                                                                                                                                                                                                                                   \n",
              "[38] \"  screen-resolution-extra systemd systemd-sysv udev x11-xkb-utils\"                                                                                                                                                                                                                                                                                                                                                                                                                                                                                                                                                                                             \n",
              "[39] \"  xserver-common xserver-xorg-core-hwe-18.04 xserver-xorg-video-nvidia-510\"                                                                                                                                                                                                                                                                                                                                                                                                                                                                                                                                                                                    \n",
              "[40] \"Use 'apt autoremove' to remove them.\"                                                                                                                                                                                                                                                                                                                                                                                                                                                                                                                                                                                                                          \n",
              "[41] \"The following additional packages will be installed:\"                                                                                                                                                                                                                                                                                                                                                                                                                                                                                                                                                                                                          \n",
              "[42] \"  libgsl23 libgslcblas0\"                                                                                                                                                                                                                                                                                                                                                                                                                                                                                                                                                                                                                                       \n",
              "[43] \"Suggested packages:\"                                                                                                                                                                                                                                                                                                                                                                                                                                                                                                                                                                                                                                           \n",
              "[44] \"  gsl-ref-psdoc | gsl-doc-pdf | gsl-doc-info | gsl-ref-html\"                                                                                                                                                                                                                                                                                                                                                                                                                                                                                                                                                                                                   \n",
              "[45] \"The following NEW packages will be installed:\"                                                                                                                                                                                                                                                                                                                                                                                                                                                                                                                                                                                                                 \n",
              "[46] \"  libgsl-dev libgsl23 libgslcblas0\"                                                                                                                                                                                                                                                                                                                                                                                                                                                                                                                                                                                                                            \n",
              "[47] \"0 upgraded, 3 newly installed, 0 to remove and 39 not upgraded.\"                                                                                                                                                                                                                                                                                                                                                                                                                                                                                                                                                                                               \n",
              "[48] \"Need to get 1,926 kB of archives.\"                                                                                                                                                                                                                                                                                                                                                                                                                                                                                                                                                                                                                             \n",
              "[49] \"After this operation, 9,474 kB of additional disk space will be used.\"                                                                                                                                                                                                                                                                                                                                                                                                                                                                                                                                                                                         \n",
              "[50] \"Get:1 http://archive.ubuntu.com/ubuntu bionic/universe amd64 libgslcblas0 amd64 2.4+dfsg-6 [79.7 kB]\"                                                                                                                                                                                                                                                                                                                                                                                                                                                                                                                                                          \n",
              "[51] \"Get:2 http://archive.ubuntu.com/ubuntu bionic/universe amd64 libgsl23 amd64 2.4+dfsg-6 [823 kB]\"                                                                                                                                                                                                                                                                                                                                                                                                                                                                                                                                                               \n",
              "[52] \"Get:3 http://archive.ubuntu.com/ubuntu bionic/universe amd64 libgsl-dev amd64 2.4+dfsg-6 [1,023 kB]\"                                                                                                                                                                                                                                                                                                                                                                                                                                                                                                                                                           \n",
              "[53] \"Fetched 1,926 kB in 1s (2,370 kB/s)\"                                                                                                                                                                                                                                                                                                                                                                                                                                                                                                                                                                                                                           \n",
              "[54] \"Selecting previously unselected package libgslcblas0:amd64.\\r\"                                                                                                                                                                                                                                                                                                                                                                                                                                                                                                                                                                                                 \n",
              "[55] \"(Reading database ... \\r(Reading database ... 5%\\r(Reading database ... 10%\\r(Reading database ... 15%\\r(Reading database ... 20%\\r(Reading database ... 25%\\r(Reading database ... 30%\\r(Reading database ... 35%\\r(Reading database ... 40%\\r(Reading database ... 45%\\r(Reading database ... 50%\\r(Reading database ... 55%\\r(Reading database ... 60%\\r(Reading database ... 65%\\r(Reading database ... 70%\\r(Reading database ... 75%\\r(Reading database ... 80%\\r(Reading database ... 85%\\r(Reading database ... 90%\\r(Reading database ... 95%\\r(Reading database ... 100%\\r(Reading database ... 155113 files and directories currently installed.)\\r\"\n",
              "[56] \"Preparing to unpack .../libgslcblas0_2.4+dfsg-6_amd64.deb ...\\r\"                                                                                                                                                                                                                                                                                                                                                                                                                                                                                                                                                                                               \n",
              "[57] \"Unpacking libgslcblas0:amd64 (2.4+dfsg-6) ...\\r\"                                                                                                                                                                                                                                                                                                                                                                                                                                                                                                                                                                                                               \n",
              "[58] \"Selecting previously unselected package libgsl23:amd64.\\r\"                                                                                                                                                                                                                                                                                                                                                                                                                                                                                                                                                                                                     \n",
              "[59] \"Preparing to unpack .../libgsl23_2.4+dfsg-6_amd64.deb ...\\r\"                                                                                                                                                                                                                                                                                                                                                                                                                                                                                                                                                                                                   \n",
              "[60] \"Unpacking libgsl23:amd64 (2.4+dfsg-6) ...\\r\"                                                                                                                                                                                                                                                                                                                                                                                                                                                                                                                                                                                                                   \n",
              "[61] \"Selecting previously unselected package libgsl-dev.\\r\"                                                                                                                                                                                                                                                                                                                                                                                                                                                                                                                                                                                                         \n",
              "[62] \"Preparing to unpack .../libgsl-dev_2.4+dfsg-6_amd64.deb ...\\r\"                                                                                                                                                                                                                                                                                                                                                                                                                                                                                                                                                                                                 \n",
              "[63] \"Unpacking libgsl-dev (2.4+dfsg-6) ...\\r\"                                                                                                                                                                                                                                                                                                                                                                                                                                                                                                                                                                                                                       \n",
              "[64] \"Setting up libgslcblas0:amd64 (2.4+dfsg-6) ...\\r\"                                                                                                                                                                                                                                                                                                                                                                                                                                                                                                                                                                                                              \n",
              "[65] \"Setting up libgsl23:amd64 (2.4+dfsg-6) ...\\r\"                                                                                                                                                                                                                                                                                                                                                                                                                                                                                                                                                                                                                  \n",
              "[66] \"Setting up libgsl-dev (2.4+dfsg-6) ...\\r\"                                                                                                                                                                                                                                                                                                                                                                                                                                                                                                                                                                                                                      \n",
              "[67] \"Processing triggers for man-db (2.8.3-2ubuntu0.1) ...\\r\"                                                                                                                                                                                                                                                                                                                                                                                                                                                                                                                                                                                                       \n",
              "[68] \"Processing triggers for libc-bin (2.27-3ubuntu1.3) ...\\r\"                                                                                                                                                                                                                                                                                                                                                                                                                                                                                                                                                                                                      \n",
              "[69] \"/sbin/ldconfig.real: /usr/local/lib/python3.7/dist-packages/ideep4py/lib/libmkldnn.so.0 is not a symbolic link\\r\"                                                                                                                                                                                                                                                                                                                                                                                                                                                                                                                                              \n",
              "[70] \"\\r\"                                                                                                                                                                                                                                                                                                                                                                                                                                                                                                                                                                                                                                                            "
            ],
            "text/latex": "\\begin{enumerate*}\n\\item 'Reading package lists...'\n\\item 'Building dependency tree...'\n\\item 'Reading state information...'\n\\item 'The following packages were automatically installed and are no longer required:'\n\\item '  cuda-command-line-tools-10-0 cuda-command-line-tools-10-1'\n\\item '  cuda-command-line-tools-11-0 cuda-compiler-10-0 cuda-compiler-10-1'\n\\item '  cuda-compiler-11-0 cuda-cuobjdump-10-0 cuda-cuobjdump-10-1'\n\\item '  cuda-cuobjdump-11-0 cuda-cupti-10-0 cuda-cupti-10-1 cuda-cupti-11-0'\n\\item '  cuda-cupti-dev-11-0 cuda-documentation-10-0 cuda-documentation-10-1'\n\\item '  cuda-documentation-11-0 cuda-documentation-11-1 cuda-gdb-10-0 cuda-gdb-10-1'\n\\item '  cuda-gdb-11-0 cuda-gpu-library-advisor-10-0 cuda-gpu-library-advisor-10-1'\n\\item '  cuda-libraries-10-0 cuda-libraries-10-1 cuda-libraries-11-0'\n\\item '  cuda-memcheck-10-0 cuda-memcheck-10-1 cuda-memcheck-11-0 cuda-nsight-10-0'\n\\item '  cuda-nsight-10-1 cuda-nsight-11-0 cuda-nsight-11-1 cuda-nsight-compute-10-0'\n\\item '  cuda-nsight-compute-10-1 cuda-nsight-compute-11-0 cuda-nsight-compute-11-1'\n\\item '  cuda-nsight-systems-10-1 cuda-nsight-systems-11-0 cuda-nsight-systems-11-1'\n\\item '  cuda-nvcc-10-0 cuda-nvcc-10-1 cuda-nvcc-11-0 cuda-nvdisasm-10-0'\n\\item '  cuda-nvdisasm-10-1 cuda-nvdisasm-11-0 cuda-nvml-dev-10-0 cuda-nvml-dev-10-1'\n\\item '  cuda-nvml-dev-11-0 cuda-nvprof-10-0 cuda-nvprof-10-1 cuda-nvprof-11-0'\n\\item '  cuda-nvprune-10-0 cuda-nvprune-10-1 cuda-nvprune-11-0 cuda-nvtx-10-0'\n\\item '  cuda-nvtx-10-1 cuda-nvtx-11-0 cuda-nvvp-10-0 cuda-nvvp-10-1 cuda-nvvp-11-0'\n\\item '  cuda-nvvp-11-1 cuda-samples-10-0 cuda-samples-10-1 cuda-samples-11-0'\n\\item '  cuda-samples-11-1 cuda-sanitizer-11-0 cuda-sanitizer-api-10-1'\n\\item '  cuda-toolkit-10-0 cuda-toolkit-10-1 cuda-toolkit-11-0 cuda-toolkit-11-1'\n\\item '  cuda-tools-10-0 cuda-tools-10-1 cuda-tools-11-0 cuda-tools-11-1'\n\\item '  cuda-visual-tools-10-0 cuda-visual-tools-10-1 cuda-visual-tools-11-0'\n\\item '  cuda-visual-tools-11-1 default-jre dkms freeglut3 freeglut3-dev'\n\\item '  keyboard-configuration libargon2-0 libcap2 libcryptsetup12'\n\\item '  libdevmapper1.02.1 libfontenc1 libidn11 libip4tc0 libjansson4'\n\\item '  libnvidia-cfg1-510 libnvidia-common-460 libnvidia-common-510'\n\\item '  libnvidia-extra-510 libnvidia-fbc1-510 libnvidia-gl-510 libpam-systemd'\n\\item '  libpolkit-agent-1-0 libpolkit-backend-1-0 libpolkit-gobject-1-0 libxfont2'\n\\item '  libxi-dev libxkbfile1 libxmu-dev libxmu-headers libxnvctrl0 libxtst6'\n\\item '  nsight-compute-2020.2.1 nsight-compute-2022.1.0 nsight-systems-2020.3.2'\n\\item '  nsight-systems-2020.3.4 nsight-systems-2021.5.2 nvidia-dkms-510'\n\\item '  nvidia-kernel-common-510 nvidia-kernel-source-510 nvidia-modprobe'\n\\item '  nvidia-settings openjdk-11-jre policykit-1 policykit-1-gnome python3-xkit'\n\\item '  screen-resolution-extra systemd systemd-sysv udev x11-xkb-utils'\n\\item '  xserver-common xserver-xorg-core-hwe-18.04 xserver-xorg-video-nvidia-510'\n\\item 'Use \\textbackslash{}'apt autoremove\\textbackslash{}' to remove them.'\n\\item 'The following additional packages will be installed:'\n\\item '  libgsl23 libgslcblas0'\n\\item 'Suggested packages:'\n\\item '  gsl-ref-psdoc \\textbar{} gsl-doc-pdf \\textbar{} gsl-doc-info \\textbar{} gsl-ref-html'\n\\item 'The following NEW packages will be installed:'\n\\item '  libgsl-dev libgsl23 libgslcblas0'\n\\item '0 upgraded, 3 newly installed, 0 to remove and 39 not upgraded.'\n\\item 'Need to get 1,926 kB of archives.'\n\\item 'After this operation, 9,474 kB of additional disk space will be used.'\n\\item 'Get:1 http://archive.ubuntu.com/ubuntu bionic/universe amd64 libgslcblas0 amd64 2.4+dfsg-6 {[}79.7 kB{]}'\n\\item 'Get:2 http://archive.ubuntu.com/ubuntu bionic/universe amd64 libgsl23 amd64 2.4+dfsg-6 {[}823 kB{]}'\n\\item 'Get:3 http://archive.ubuntu.com/ubuntu bionic/universe amd64 libgsl-dev amd64 2.4+dfsg-6 {[}1,023 kB{]}'\n\\item 'Fetched 1,926 kB in 1s (2,370 kB/s)'\n\\item 'Selecting previously unselected package libgslcblas0:amd64.\\textbackslash{}r'\n\\item '(Reading database ... \\textbackslash{}r(Reading database ... 5\\%\\textbackslash{}r(Reading database ... 10\\%\\textbackslash{}r(Reading database ... 15\\%\\textbackslash{}r(Reading database ... 20\\%\\textbackslash{}r(Reading database ... 25\\%\\textbackslash{}r(Reading database ... 30\\%\\textbackslash{}r(Reading database ... 35\\%\\textbackslash{}r(Reading database ... 40\\%\\textbackslash{}r(Reading database ... 45\\%\\textbackslash{}r(Reading database ... 50\\%\\textbackslash{}r(Reading database ... 55\\%\\textbackslash{}r(Reading database ... 60\\%\\textbackslash{}r(Reading database ... 65\\%\\textbackslash{}r(Reading database ... 70\\%\\textbackslash{}r(Reading database ... 75\\%\\textbackslash{}r(Reading database ... 80\\%\\textbackslash{}r(Reading database ... 85\\%\\textbackslash{}r(Reading database ... 90\\%\\textbackslash{}r(Reading database ... 95\\%\\textbackslash{}r(Reading database ... 100\\%\\textbackslash{}r(Reading database ... 155113 files and directories currently installed.)\\textbackslash{}r'\n\\item 'Preparing to unpack .../libgslcblas0\\_2.4+dfsg-6\\_amd64.deb ...\\textbackslash{}r'\n\\item 'Unpacking libgslcblas0:amd64 (2.4+dfsg-6) ...\\textbackslash{}r'\n\\item 'Selecting previously unselected package libgsl23:amd64.\\textbackslash{}r'\n\\item 'Preparing to unpack .../libgsl23\\_2.4+dfsg-6\\_amd64.deb ...\\textbackslash{}r'\n\\item 'Unpacking libgsl23:amd64 (2.4+dfsg-6) ...\\textbackslash{}r'\n\\item 'Selecting previously unselected package libgsl-dev.\\textbackslash{}r'\n\\item 'Preparing to unpack .../libgsl-dev\\_2.4+dfsg-6\\_amd64.deb ...\\textbackslash{}r'\n\\item 'Unpacking libgsl-dev (2.4+dfsg-6) ...\\textbackslash{}r'\n\\item 'Setting up libgslcblas0:amd64 (2.4+dfsg-6) ...\\textbackslash{}r'\n\\item 'Setting up libgsl23:amd64 (2.4+dfsg-6) ...\\textbackslash{}r'\n\\item 'Setting up libgsl-dev (2.4+dfsg-6) ...\\textbackslash{}r'\n\\item 'Processing triggers for man-db (2.8.3-2ubuntu0.1) ...\\textbackslash{}r'\n\\item 'Processing triggers for libc-bin (2.27-3ubuntu1.3) ...\\textbackslash{}r'\n\\item '/sbin/ldconfig.real: /usr/local/lib/python3.7/dist-packages/ideep4py/lib/libmkldnn.so.0 is not a symbolic link\\textbackslash{}r'\n\\item '\\textbackslash{}r'\n\\end{enumerate*}\n",
            "text/markdown": "1. 'Reading package lists...'\n2. 'Building dependency tree...'\n3. 'Reading state information...'\n4. 'The following packages were automatically installed and are no longer required:'\n5. <span style=white-space:pre-wrap>'  cuda-command-line-tools-10-0 cuda-command-line-tools-10-1'</span>\n6. <span style=white-space:pre-wrap>'  cuda-command-line-tools-11-0 cuda-compiler-10-0 cuda-compiler-10-1'</span>\n7. <span style=white-space:pre-wrap>'  cuda-compiler-11-0 cuda-cuobjdump-10-0 cuda-cuobjdump-10-1'</span>\n8. <span style=white-space:pre-wrap>'  cuda-cuobjdump-11-0 cuda-cupti-10-0 cuda-cupti-10-1 cuda-cupti-11-0'</span>\n9. <span style=white-space:pre-wrap>'  cuda-cupti-dev-11-0 cuda-documentation-10-0 cuda-documentation-10-1'</span>\n10. <span style=white-space:pre-wrap>'  cuda-documentation-11-0 cuda-documentation-11-1 cuda-gdb-10-0 cuda-gdb-10-1'</span>\n11. <span style=white-space:pre-wrap>'  cuda-gdb-11-0 cuda-gpu-library-advisor-10-0 cuda-gpu-library-advisor-10-1'</span>\n12. <span style=white-space:pre-wrap>'  cuda-libraries-10-0 cuda-libraries-10-1 cuda-libraries-11-0'</span>\n13. <span style=white-space:pre-wrap>'  cuda-memcheck-10-0 cuda-memcheck-10-1 cuda-memcheck-11-0 cuda-nsight-10-0'</span>\n14. <span style=white-space:pre-wrap>'  cuda-nsight-10-1 cuda-nsight-11-0 cuda-nsight-11-1 cuda-nsight-compute-10-0'</span>\n15. <span style=white-space:pre-wrap>'  cuda-nsight-compute-10-1 cuda-nsight-compute-11-0 cuda-nsight-compute-11-1'</span>\n16. <span style=white-space:pre-wrap>'  cuda-nsight-systems-10-1 cuda-nsight-systems-11-0 cuda-nsight-systems-11-1'</span>\n17. <span style=white-space:pre-wrap>'  cuda-nvcc-10-0 cuda-nvcc-10-1 cuda-nvcc-11-0 cuda-nvdisasm-10-0'</span>\n18. <span style=white-space:pre-wrap>'  cuda-nvdisasm-10-1 cuda-nvdisasm-11-0 cuda-nvml-dev-10-0 cuda-nvml-dev-10-1'</span>\n19. <span style=white-space:pre-wrap>'  cuda-nvml-dev-11-0 cuda-nvprof-10-0 cuda-nvprof-10-1 cuda-nvprof-11-0'</span>\n20. <span style=white-space:pre-wrap>'  cuda-nvprune-10-0 cuda-nvprune-10-1 cuda-nvprune-11-0 cuda-nvtx-10-0'</span>\n21. <span style=white-space:pre-wrap>'  cuda-nvtx-10-1 cuda-nvtx-11-0 cuda-nvvp-10-0 cuda-nvvp-10-1 cuda-nvvp-11-0'</span>\n22. <span style=white-space:pre-wrap>'  cuda-nvvp-11-1 cuda-samples-10-0 cuda-samples-10-1 cuda-samples-11-0'</span>\n23. <span style=white-space:pre-wrap>'  cuda-samples-11-1 cuda-sanitizer-11-0 cuda-sanitizer-api-10-1'</span>\n24. <span style=white-space:pre-wrap>'  cuda-toolkit-10-0 cuda-toolkit-10-1 cuda-toolkit-11-0 cuda-toolkit-11-1'</span>\n25. <span style=white-space:pre-wrap>'  cuda-tools-10-0 cuda-tools-10-1 cuda-tools-11-0 cuda-tools-11-1'</span>\n26. <span style=white-space:pre-wrap>'  cuda-visual-tools-10-0 cuda-visual-tools-10-1 cuda-visual-tools-11-0'</span>\n27. <span style=white-space:pre-wrap>'  cuda-visual-tools-11-1 default-jre dkms freeglut3 freeglut3-dev'</span>\n28. <span style=white-space:pre-wrap>'  keyboard-configuration libargon2-0 libcap2 libcryptsetup12'</span>\n29. <span style=white-space:pre-wrap>'  libdevmapper1.02.1 libfontenc1 libidn11 libip4tc0 libjansson4'</span>\n30. <span style=white-space:pre-wrap>'  libnvidia-cfg1-510 libnvidia-common-460 libnvidia-common-510'</span>\n31. <span style=white-space:pre-wrap>'  libnvidia-extra-510 libnvidia-fbc1-510 libnvidia-gl-510 libpam-systemd'</span>\n32. <span style=white-space:pre-wrap>'  libpolkit-agent-1-0 libpolkit-backend-1-0 libpolkit-gobject-1-0 libxfont2'</span>\n33. <span style=white-space:pre-wrap>'  libxi-dev libxkbfile1 libxmu-dev libxmu-headers libxnvctrl0 libxtst6'</span>\n34. <span style=white-space:pre-wrap>'  nsight-compute-2020.2.1 nsight-compute-2022.1.0 nsight-systems-2020.3.2'</span>\n35. <span style=white-space:pre-wrap>'  nsight-systems-2020.3.4 nsight-systems-2021.5.2 nvidia-dkms-510'</span>\n36. <span style=white-space:pre-wrap>'  nvidia-kernel-common-510 nvidia-kernel-source-510 nvidia-modprobe'</span>\n37. <span style=white-space:pre-wrap>'  nvidia-settings openjdk-11-jre policykit-1 policykit-1-gnome python3-xkit'</span>\n38. <span style=white-space:pre-wrap>'  screen-resolution-extra systemd systemd-sysv udev x11-xkb-utils'</span>\n39. <span style=white-space:pre-wrap>'  xserver-common xserver-xorg-core-hwe-18.04 xserver-xorg-video-nvidia-510'</span>\n40. 'Use \\'apt autoremove\\' to remove them.'\n41. 'The following additional packages will be installed:'\n42. <span style=white-space:pre-wrap>'  libgsl23 libgslcblas0'</span>\n43. 'Suggested packages:'\n44. <span style=white-space:pre-wrap>'  gsl-ref-psdoc | gsl-doc-pdf | gsl-doc-info | gsl-ref-html'</span>\n45. 'The following NEW packages will be installed:'\n46. <span style=white-space:pre-wrap>'  libgsl-dev libgsl23 libgslcblas0'</span>\n47. '0 upgraded, 3 newly installed, 0 to remove and 39 not upgraded.'\n48. 'Need to get 1,926 kB of archives.'\n49. 'After this operation, 9,474 kB of additional disk space will be used.'\n50. 'Get:1 http://archive.ubuntu.com/ubuntu bionic/universe amd64 libgslcblas0 amd64 2.4+dfsg-6 [79.7 kB]'\n51. 'Get:2 http://archive.ubuntu.com/ubuntu bionic/universe amd64 libgsl23 amd64 2.4+dfsg-6 [823 kB]'\n52. 'Get:3 http://archive.ubuntu.com/ubuntu bionic/universe amd64 libgsl-dev amd64 2.4+dfsg-6 [1,023 kB]'\n53. 'Fetched 1,926 kB in 1s (2,370 kB/s)'\n54. 'Selecting previously unselected package libgslcblas0:amd64.\\r'\n55. '(Reading database ... \\r(Reading database ... 5%\\r(Reading database ... 10%\\r(Reading database ... 15%\\r(Reading database ... 20%\\r(Reading database ... 25%\\r(Reading database ... 30%\\r(Reading database ... 35%\\r(Reading database ... 40%\\r(Reading database ... 45%\\r(Reading database ... 50%\\r(Reading database ... 55%\\r(Reading database ... 60%\\r(Reading database ... 65%\\r(Reading database ... 70%\\r(Reading database ... 75%\\r(Reading database ... 80%\\r(Reading database ... 85%\\r(Reading database ... 90%\\r(Reading database ... 95%\\r(Reading database ... 100%\\r(Reading database ... 155113 files and directories currently installed.)\\r'\n56. 'Preparing to unpack .../libgslcblas0_2.4+dfsg-6_amd64.deb ...\\r'\n57. 'Unpacking libgslcblas0:amd64 (2.4+dfsg-6) ...\\r'\n58. 'Selecting previously unselected package libgsl23:amd64.\\r'\n59. 'Preparing to unpack .../libgsl23_2.4+dfsg-6_amd64.deb ...\\r'\n60. 'Unpacking libgsl23:amd64 (2.4+dfsg-6) ...\\r'\n61. 'Selecting previously unselected package libgsl-dev.\\r'\n62. 'Preparing to unpack .../libgsl-dev_2.4+dfsg-6_amd64.deb ...\\r'\n63. 'Unpacking libgsl-dev (2.4+dfsg-6) ...\\r'\n64. 'Setting up libgslcblas0:amd64 (2.4+dfsg-6) ...\\r'\n65. 'Setting up libgsl23:amd64 (2.4+dfsg-6) ...\\r'\n66. 'Setting up libgsl-dev (2.4+dfsg-6) ...\\r'\n67. 'Processing triggers for man-db (2.8.3-2ubuntu0.1) ...\\r'\n68. 'Processing triggers for libc-bin (2.27-3ubuntu1.3) ...\\r'\n69. '/sbin/ldconfig.real: /usr/local/lib/python3.7/dist-packages/ideep4py/lib/libmkldnn.so.0 is not a symbolic link\\r'\n70. '\\r'\n\n\n",
            "text/html": [
              "<style>\n",
              ".list-inline {list-style: none; margin:0; padding: 0}\n",
              ".list-inline>li {display: inline-block}\n",
              ".list-inline>li:not(:last-child)::after {content: \"\\00b7\"; padding: 0 .5ex}\n",
              "</style>\n",
              "<ol class=list-inline><li>'Reading package lists...'</li><li>'Building dependency tree...'</li><li>'Reading state information...'</li><li>'The following packages were automatically installed and are no longer required:'</li><li><span style=white-space:pre-wrap>'  cuda-command-line-tools-10-0 cuda-command-line-tools-10-1'</span></li><li><span style=white-space:pre-wrap>'  cuda-command-line-tools-11-0 cuda-compiler-10-0 cuda-compiler-10-1'</span></li><li><span style=white-space:pre-wrap>'  cuda-compiler-11-0 cuda-cuobjdump-10-0 cuda-cuobjdump-10-1'</span></li><li><span style=white-space:pre-wrap>'  cuda-cuobjdump-11-0 cuda-cupti-10-0 cuda-cupti-10-1 cuda-cupti-11-0'</span></li><li><span style=white-space:pre-wrap>'  cuda-cupti-dev-11-0 cuda-documentation-10-0 cuda-documentation-10-1'</span></li><li><span style=white-space:pre-wrap>'  cuda-documentation-11-0 cuda-documentation-11-1 cuda-gdb-10-0 cuda-gdb-10-1'</span></li><li><span style=white-space:pre-wrap>'  cuda-gdb-11-0 cuda-gpu-library-advisor-10-0 cuda-gpu-library-advisor-10-1'</span></li><li><span style=white-space:pre-wrap>'  cuda-libraries-10-0 cuda-libraries-10-1 cuda-libraries-11-0'</span></li><li><span style=white-space:pre-wrap>'  cuda-memcheck-10-0 cuda-memcheck-10-1 cuda-memcheck-11-0 cuda-nsight-10-0'</span></li><li><span style=white-space:pre-wrap>'  cuda-nsight-10-1 cuda-nsight-11-0 cuda-nsight-11-1 cuda-nsight-compute-10-0'</span></li><li><span style=white-space:pre-wrap>'  cuda-nsight-compute-10-1 cuda-nsight-compute-11-0 cuda-nsight-compute-11-1'</span></li><li><span style=white-space:pre-wrap>'  cuda-nsight-systems-10-1 cuda-nsight-systems-11-0 cuda-nsight-systems-11-1'</span></li><li><span style=white-space:pre-wrap>'  cuda-nvcc-10-0 cuda-nvcc-10-1 cuda-nvcc-11-0 cuda-nvdisasm-10-0'</span></li><li><span style=white-space:pre-wrap>'  cuda-nvdisasm-10-1 cuda-nvdisasm-11-0 cuda-nvml-dev-10-0 cuda-nvml-dev-10-1'</span></li><li><span style=white-space:pre-wrap>'  cuda-nvml-dev-11-0 cuda-nvprof-10-0 cuda-nvprof-10-1 cuda-nvprof-11-0'</span></li><li><span style=white-space:pre-wrap>'  cuda-nvprune-10-0 cuda-nvprune-10-1 cuda-nvprune-11-0 cuda-nvtx-10-0'</span></li><li><span style=white-space:pre-wrap>'  cuda-nvtx-10-1 cuda-nvtx-11-0 cuda-nvvp-10-0 cuda-nvvp-10-1 cuda-nvvp-11-0'</span></li><li><span style=white-space:pre-wrap>'  cuda-nvvp-11-1 cuda-samples-10-0 cuda-samples-10-1 cuda-samples-11-0'</span></li><li><span style=white-space:pre-wrap>'  cuda-samples-11-1 cuda-sanitizer-11-0 cuda-sanitizer-api-10-1'</span></li><li><span style=white-space:pre-wrap>'  cuda-toolkit-10-0 cuda-toolkit-10-1 cuda-toolkit-11-0 cuda-toolkit-11-1'</span></li><li><span style=white-space:pre-wrap>'  cuda-tools-10-0 cuda-tools-10-1 cuda-tools-11-0 cuda-tools-11-1'</span></li><li><span style=white-space:pre-wrap>'  cuda-visual-tools-10-0 cuda-visual-tools-10-1 cuda-visual-tools-11-0'</span></li><li><span style=white-space:pre-wrap>'  cuda-visual-tools-11-1 default-jre dkms freeglut3 freeglut3-dev'</span></li><li><span style=white-space:pre-wrap>'  keyboard-configuration libargon2-0 libcap2 libcryptsetup12'</span></li><li><span style=white-space:pre-wrap>'  libdevmapper1.02.1 libfontenc1 libidn11 libip4tc0 libjansson4'</span></li><li><span style=white-space:pre-wrap>'  libnvidia-cfg1-510 libnvidia-common-460 libnvidia-common-510'</span></li><li><span style=white-space:pre-wrap>'  libnvidia-extra-510 libnvidia-fbc1-510 libnvidia-gl-510 libpam-systemd'</span></li><li><span style=white-space:pre-wrap>'  libpolkit-agent-1-0 libpolkit-backend-1-0 libpolkit-gobject-1-0 libxfont2'</span></li><li><span style=white-space:pre-wrap>'  libxi-dev libxkbfile1 libxmu-dev libxmu-headers libxnvctrl0 libxtst6'</span></li><li><span style=white-space:pre-wrap>'  nsight-compute-2020.2.1 nsight-compute-2022.1.0 nsight-systems-2020.3.2'</span></li><li><span style=white-space:pre-wrap>'  nsight-systems-2020.3.4 nsight-systems-2021.5.2 nvidia-dkms-510'</span></li><li><span style=white-space:pre-wrap>'  nvidia-kernel-common-510 nvidia-kernel-source-510 nvidia-modprobe'</span></li><li><span style=white-space:pre-wrap>'  nvidia-settings openjdk-11-jre policykit-1 policykit-1-gnome python3-xkit'</span></li><li><span style=white-space:pre-wrap>'  screen-resolution-extra systemd systemd-sysv udev x11-xkb-utils'</span></li><li><span style=white-space:pre-wrap>'  xserver-common xserver-xorg-core-hwe-18.04 xserver-xorg-video-nvidia-510'</span></li><li>'Use \\'apt autoremove\\' to remove them.'</li><li>'The following additional packages will be installed:'</li><li><span style=white-space:pre-wrap>'  libgsl23 libgslcblas0'</span></li><li>'Suggested packages:'</li><li><span style=white-space:pre-wrap>'  gsl-ref-psdoc | gsl-doc-pdf | gsl-doc-info | gsl-ref-html'</span></li><li>'The following NEW packages will be installed:'</li><li><span style=white-space:pre-wrap>'  libgsl-dev libgsl23 libgslcblas0'</span></li><li>'0 upgraded, 3 newly installed, 0 to remove and 39 not upgraded.'</li><li>'Need to get 1,926 kB of archives.'</li><li>'After this operation, 9,474 kB of additional disk space will be used.'</li><li>'Get:1 http://archive.ubuntu.com/ubuntu bionic/universe amd64 libgslcblas0 amd64 2.4+dfsg-6 [79.7 kB]'</li><li>'Get:2 http://archive.ubuntu.com/ubuntu bionic/universe amd64 libgsl23 amd64 2.4+dfsg-6 [823 kB]'</li><li>'Get:3 http://archive.ubuntu.com/ubuntu bionic/universe amd64 libgsl-dev amd64 2.4+dfsg-6 [1,023 kB]'</li><li>'Fetched 1,926 kB in 1s (2,370 kB/s)'</li><li>'Selecting previously unselected package libgslcblas0:amd64.\\r'</li><li>'(Reading database ... \\r(Reading database ... 5%\\r(Reading database ... 10%\\r(Reading database ... 15%\\r(Reading database ... 20%\\r(Reading database ... 25%\\r(Reading database ... 30%\\r(Reading database ... 35%\\r(Reading database ... 40%\\r(Reading database ... 45%\\r(Reading database ... 50%\\r(Reading database ... 55%\\r(Reading database ... 60%\\r(Reading database ... 65%\\r(Reading database ... 70%\\r(Reading database ... 75%\\r(Reading database ... 80%\\r(Reading database ... 85%\\r(Reading database ... 90%\\r(Reading database ... 95%\\r(Reading database ... 100%\\r(Reading database ... 155113 files and directories currently installed.)\\r'</li><li>'Preparing to unpack .../libgslcblas0_2.4+dfsg-6_amd64.deb ...\\r'</li><li>'Unpacking libgslcblas0:amd64 (2.4+dfsg-6) ...\\r'</li><li>'Selecting previously unselected package libgsl23:amd64.\\r'</li><li>'Preparing to unpack .../libgsl23_2.4+dfsg-6_amd64.deb ...\\r'</li><li>'Unpacking libgsl23:amd64 (2.4+dfsg-6) ...\\r'</li><li>'Selecting previously unselected package libgsl-dev.\\r'</li><li>'Preparing to unpack .../libgsl-dev_2.4+dfsg-6_amd64.deb ...\\r'</li><li>'Unpacking libgsl-dev (2.4+dfsg-6) ...\\r'</li><li>'Setting up libgslcblas0:amd64 (2.4+dfsg-6) ...\\r'</li><li>'Setting up libgsl23:amd64 (2.4+dfsg-6) ...\\r'</li><li>'Setting up libgsl-dev (2.4+dfsg-6) ...\\r'</li><li>'Processing triggers for man-db (2.8.3-2ubuntu0.1) ...\\r'</li><li>'Processing triggers for libc-bin (2.27-3ubuntu1.3) ...\\r'</li><li>'/sbin/ldconfig.real: /usr/local/lib/python3.7/dist-packages/ideep4py/lib/libmkldnn.so.0 is not a symbolic link\\r'</li><li>'\\r'</li></ol>\n"
            ]
          },
          "metadata": {}
        },
        {
          "output_type": "display_data",
          "data": {
            "text/plain": [
              " [1] \"Reading package lists...\"                                                                                                                                                                                                                                                                                                                                                                                                                                                                                                                                                                                                                                      \n",
              " [2] \"Building dependency tree...\"                                                                                                                                                                                                                                                                                                                                                                                                                                                                                                                                                                                                                                   \n",
              " [3] \"Reading state information...\"                                                                                                                                                                                                                                                                                                                                                                                                                                                                                                                                                                                                                                  \n",
              " [4] \"The following packages were automatically installed and are no longer required:\"                                                                                                                                                                                                                                                                                                                                                                                                                                                                                                                                                                               \n",
              " [5] \"  cuda-command-line-tools-10-0 cuda-command-line-tools-10-1\"                                                                                                                                                                                                                                                                                                                                                                                                                                                                                                                                                                                                   \n",
              " [6] \"  cuda-command-line-tools-11-0 cuda-compiler-10-0 cuda-compiler-10-1\"                                                                                                                                                                                                                                                                                                                                                                                                                                                                                                                                                                                          \n",
              " [7] \"  cuda-compiler-11-0 cuda-cuobjdump-10-0 cuda-cuobjdump-10-1\"                                                                                                                                                                                                                                                                                                                                                                                                                                                                                                                                                                                                  \n",
              " [8] \"  cuda-cuobjdump-11-0 cuda-cupti-10-0 cuda-cupti-10-1 cuda-cupti-11-0\"                                                                                                                                                                                                                                                                                                                                                                                                                                                                                                                                                                                         \n",
              " [9] \"  cuda-cupti-dev-11-0 cuda-documentation-10-0 cuda-documentation-10-1\"                                                                                                                                                                                                                                                                                                                                                                                                                                                                                                                                                                                         \n",
              "[10] \"  cuda-documentation-11-0 cuda-documentation-11-1 cuda-gdb-10-0 cuda-gdb-10-1\"                                                                                                                                                                                                                                                                                                                                                                                                                                                                                                                                                                                 \n",
              "[11] \"  cuda-gdb-11-0 cuda-gpu-library-advisor-10-0 cuda-gpu-library-advisor-10-1\"                                                                                                                                                                                                                                                                                                                                                                                                                                                                                                                                                                                   \n",
              "[12] \"  cuda-libraries-10-0 cuda-libraries-10-1 cuda-libraries-11-0\"                                                                                                                                                                                                                                                                                                                                                                                                                                                                                                                                                                                                 \n",
              "[13] \"  cuda-memcheck-10-0 cuda-memcheck-10-1 cuda-memcheck-11-0 cuda-nsight-10-0\"                                                                                                                                                                                                                                                                                                                                                                                                                                                                                                                                                                                   \n",
              "[14] \"  cuda-nsight-10-1 cuda-nsight-11-0 cuda-nsight-11-1 cuda-nsight-compute-10-0\"                                                                                                                                                                                                                                                                                                                                                                                                                                                                                                                                                                                 \n",
              "[15] \"  cuda-nsight-compute-10-1 cuda-nsight-compute-11-0 cuda-nsight-compute-11-1\"                                                                                                                                                                                                                                                                                                                                                                                                                                                                                                                                                                                  \n",
              "[16] \"  cuda-nsight-systems-10-1 cuda-nsight-systems-11-0 cuda-nsight-systems-11-1\"                                                                                                                                                                                                                                                                                                                                                                                                                                                                                                                                                                                  \n",
              "[17] \"  cuda-nvcc-10-0 cuda-nvcc-10-1 cuda-nvcc-11-0 cuda-nvdisasm-10-0\"                                                                                                                                                                                                                                                                                                                                                                                                                                                                                                                                                                                             \n",
              "[18] \"  cuda-nvdisasm-10-1 cuda-nvdisasm-11-0 cuda-nvml-dev-10-0 cuda-nvml-dev-10-1\"                                                                                                                                                                                                                                                                                                                                                                                                                                                                                                                                                                                 \n",
              "[19] \"  cuda-nvml-dev-11-0 cuda-nvprof-10-0 cuda-nvprof-10-1 cuda-nvprof-11-0\"                                                                                                                                                                                                                                                                                                                                                                                                                                                                                                                                                                                       \n",
              "[20] \"  cuda-nvprune-10-0 cuda-nvprune-10-1 cuda-nvprune-11-0 cuda-nvtx-10-0\"                                                                                                                                                                                                                                                                                                                                                                                                                                                                                                                                                                                        \n",
              "[21] \"  cuda-nvtx-10-1 cuda-nvtx-11-0 cuda-nvvp-10-0 cuda-nvvp-10-1 cuda-nvvp-11-0\"                                                                                                                                                                                                                                                                                                                                                                                                                                                                                                                                                                                  \n",
              "[22] \"  cuda-nvvp-11-1 cuda-samples-10-0 cuda-samples-10-1 cuda-samples-11-0\"                                                                                                                                                                                                                                                                                                                                                                                                                                                                                                                                                                                        \n",
              "[23] \"  cuda-samples-11-1 cuda-sanitizer-11-0 cuda-sanitizer-api-10-1\"                                                                                                                                                                                                                                                                                                                                                                                                                                                                                                                                                                                               \n",
              "[24] \"  cuda-toolkit-10-0 cuda-toolkit-10-1 cuda-toolkit-11-0 cuda-toolkit-11-1\"                                                                                                                                                                                                                                                                                                                                                                                                                                                                                                                                                                                     \n",
              "[25] \"  cuda-tools-10-0 cuda-tools-10-1 cuda-tools-11-0 cuda-tools-11-1\"                                                                                                                                                                                                                                                                                                                                                                                                                                                                                                                                                                                             \n",
              "[26] \"  cuda-visual-tools-10-0 cuda-visual-tools-10-1 cuda-visual-tools-11-0\"                                                                                                                                                                                                                                                                                                                                                                                                                                                                                                                                                                                        \n",
              "[27] \"  cuda-visual-tools-11-1 default-jre dkms freeglut3 freeglut3-dev\"                                                                                                                                                                                                                                                                                                                                                                                                                                                                                                                                                                                             \n",
              "[28] \"  keyboard-configuration libargon2-0 libcap2 libcryptsetup12\"                                                                                                                                                                                                                                                                                                                                                                                                                                                                                                                                                                                                  \n",
              "[29] \"  libdevmapper1.02.1 libfontenc1 libidn11 libip4tc0 libjansson4\"                                                                                                                                                                                                                                                                                                                                                                                                                                                                                                                                                                                               \n",
              "[30] \"  libnvidia-cfg1-510 libnvidia-common-460 libnvidia-common-510\"                                                                                                                                                                                                                                                                                                                                                                                                                                                                                                                                                                                                \n",
              "[31] \"  libnvidia-extra-510 libnvidia-fbc1-510 libnvidia-gl-510 libpam-systemd\"                                                                                                                                                                                                                                                                                                                                                                                                                                                                                                                                                                                      \n",
              "[32] \"  libpolkit-agent-1-0 libpolkit-backend-1-0 libpolkit-gobject-1-0 libxfont2\"                                                                                                                                                                                                                                                                                                                                                                                                                                                                                                                                                                                   \n",
              "[33] \"  libxi-dev libxkbfile1 libxmu-dev libxmu-headers libxnvctrl0 libxtst6\"                                                                                                                                                                                                                                                                                                                                                                                                                                                                                                                                                                                        \n",
              "[34] \"  nsight-compute-2020.2.1 nsight-compute-2022.1.0 nsight-systems-2020.3.2\"                                                                                                                                                                                                                                                                                                                                                                                                                                                                                                                                                                                     \n",
              "[35] \"  nsight-systems-2020.3.4 nsight-systems-2021.5.2 nvidia-dkms-510\"                                                                                                                                                                                                                                                                                                                                                                                                                                                                                                                                                                                             \n",
              "[36] \"  nvidia-kernel-common-510 nvidia-kernel-source-510 nvidia-modprobe\"                                                                                                                                                                                                                                                                                                                                                                                                                                                                                                                                                                                           \n",
              "[37] \"  nvidia-settings openjdk-11-jre policykit-1 policykit-1-gnome python3-xkit\"                                                                                                                                                                                                                                                                                                                                                                                                                                                                                                                                                                                   \n",
              "[38] \"  screen-resolution-extra systemd systemd-sysv udev x11-xkb-utils\"                                                                                                                                                                                                                                                                                                                                                                                                                                                                                                                                                                                             \n",
              "[39] \"  xserver-common xserver-xorg-core-hwe-18.04 xserver-xorg-video-nvidia-510\"                                                                                                                                                                                                                                                                                                                                                                                                                                                                                                                                                                                    \n",
              "[40] \"Use 'apt autoremove' to remove them.\"                                                                                                                                                                                                                                                                                                                                                                                                                                                                                                                                                                                                                          \n",
              "[41] \"The following additional packages will be installed:\"                                                                                                                                                                                                                                                                                                                                                                                                                                                                                                                                                                                                          \n",
              "[42] \"  libcairo-script-interpreter2 libpixman-1-dev libxcb-shm0-dev\"                                                                                                                                                                                                                                                                                                                                                                                                                                                                                                                                                                                                \n",
              "[43] \"Suggested packages:\"                                                                                                                                                                                                                                                                                                                                                                                                                                                                                                                                                                                                                                           \n",
              "[44] \"  libcairo2-doc\"                                                                                                                                                                                                                                                                                                                                                                                                                                                                                                                                                                                                                                               \n",
              "[45] \"The following NEW packages will be installed:\"                                                                                                                                                                                                                                                                                                                                                                                                                                                                                                                                                                                                                 \n",
              "[46] \"  libcairo-script-interpreter2 libcairo2-dev libpixman-1-dev libxcb-shm0-dev\"                                                                                                                                                                                                                                                                                                                                                                                                                                                                                                                                                                                  \n",
              "[47] \"0 upgraded, 4 newly installed, 0 to remove and 39 not upgraded.\"                                                                                                                                                                                                                                                                                                                                                                                                                                                                                                                                                                                               \n",
              "[48] \"Need to get 930 kB of archives.\"                                                                                                                                                                                                                                                                                                                                                                                                                                                                                                                                                                                                                               \n",
              "[49] \"After this operation, 3,986 kB of additional disk space will be used.\"                                                                                                                                                                                                                                                                                                                                                                                                                                                                                                                                                                                         \n",
              "[50] \"Get:1 http://archive.ubuntu.com/ubuntu bionic-updates/main amd64 libcairo-script-interpreter2 amd64 1.15.10-2ubuntu0.1 [53.5 kB]\"                                                                                                                                                                                                                                                                                                                                                                                                                                                                                                                              \n",
              "[51] \"Get:2 http://archive.ubuntu.com/ubuntu bionic/main amd64 libpixman-1-dev amd64 0.34.0-2 [244 kB]\"                                                                                                                                                                                                                                                                                                                                                                                                                                                                                                                                                              \n",
              "[52] \"Get:3 http://archive.ubuntu.com/ubuntu bionic-updates/main amd64 libxcb-shm0-dev amd64 1.13-2~ubuntu18.04 [6,684 B]\"                                                                                                                                                                                                                                                                                                                                                                                                                                                                                                                                           \n",
              "[53] \"Get:4 http://archive.ubuntu.com/ubuntu bionic-updates/main amd64 libcairo2-dev amd64 1.15.10-2ubuntu0.1 [626 kB]\"                                                                                                                                                                                                                                                                                                                                                                                                                                                                                                                                              \n",
              "[54] \"Fetched 930 kB in 1s (1,281 kB/s)\"                                                                                                                                                                                                                                                                                                                                                                                                                                                                                                                                                                                                                             \n",
              "[55] \"Selecting previously unselected package libcairo-script-interpreter2:amd64.\\r\"                                                                                                                                                                                                                                                                                                                                                                                                                                                                                                                                                                                 \n",
              "[56] \"(Reading database ... \\r(Reading database ... 5%\\r(Reading database ... 10%\\r(Reading database ... 15%\\r(Reading database ... 20%\\r(Reading database ... 25%\\r(Reading database ... 30%\\r(Reading database ... 35%\\r(Reading database ... 40%\\r(Reading database ... 45%\\r(Reading database ... 50%\\r(Reading database ... 55%\\r(Reading database ... 60%\\r(Reading database ... 65%\\r(Reading database ... 70%\\r(Reading database ... 75%\\r(Reading database ... 80%\\r(Reading database ... 85%\\r(Reading database ... 90%\\r(Reading database ... 95%\\r(Reading database ... 100%\\r(Reading database ... 155385 files and directories currently installed.)\\r\"\n",
              "[57] \"Preparing to unpack .../libcairo-script-interpreter2_1.15.10-2ubuntu0.1_amd64.deb ...\\r\"                                                                                                                                                                                                                                                                                                                                                                                                                                                                                                                                                                       \n",
              "[58] \"Unpacking libcairo-script-interpreter2:amd64 (1.15.10-2ubuntu0.1) ...\\r\"                                                                                                                                                                                                                                                                                                                                                                                                                                                                                                                                                                                       \n",
              "[59] \"Selecting previously unselected package libpixman-1-dev:amd64.\\r\"                                                                                                                                                                                                                                                                                                                                                                                                                                                                                                                                                                                              \n",
              "[60] \"Preparing to unpack .../libpixman-1-dev_0.34.0-2_amd64.deb ...\\r\"                                                                                                                                                                                                                                                                                                                                                                                                                                                                                                                                                                                              \n",
              "[61] \"Unpacking libpixman-1-dev:amd64 (0.34.0-2) ...\\r\"                                                                                                                                                                                                                                                                                                                                                                                                                                                                                                                                                                                                              \n",
              "[62] \"Selecting previously unselected package libxcb-shm0-dev:amd64.\\r\"                                                                                                                                                                                                                                                                                                                                                                                                                                                                                                                                                                                              \n",
              "[63] \"Preparing to unpack .../libxcb-shm0-dev_1.13-2~ubuntu18.04_amd64.deb ...\\r\"                                                                                                                                                                                                                                                                                                                                                                                                                                                                                                                                                                                    \n",
              "[64] \"Unpacking libxcb-shm0-dev:amd64 (1.13-2~ubuntu18.04) ...\\r\"                                                                                                                                                                                                                                                                                                                                                                                                                                                                                                                                                                                                    \n",
              "[65] \"Selecting previously unselected package libcairo2-dev:amd64.\\r\"                                                                                                                                                                                                                                                                                                                                                                                                                                                                                                                                                                                                \n",
              "[66] \"Preparing to unpack .../libcairo2-dev_1.15.10-2ubuntu0.1_amd64.deb ...\\r\"                                                                                                                                                                                                                                                                                                                                                                                                                                                                                                                                                                                      \n",
              "[67] \"Unpacking libcairo2-dev:amd64 (1.15.10-2ubuntu0.1) ...\\r\"                                                                                                                                                                                                                                                                                                                                                                                                                                                                                                                                                                                                      \n",
              "[68] \"Setting up libcairo-script-interpreter2:amd64 (1.15.10-2ubuntu0.1) ...\\r\"                                                                                                                                                                                                                                                                                                                                                                                                                                                                                                                                                                                      \n",
              "[69] \"Setting up libxcb-shm0-dev:amd64 (1.13-2~ubuntu18.04) ...\\r\"                                                                                                                                                                                                                                                                                                                                                                                                                                                                                                                                                                                                   \n",
              "[70] \"Setting up libpixman-1-dev:amd64 (0.34.0-2) ...\\r\"                                                                                                                                                                                                                                                                                                                                                                                                                                                                                                                                                                                                             \n",
              "[71] \"Setting up libcairo2-dev:amd64 (1.15.10-2ubuntu0.1) ...\\r\"                                                                                                                                                                                                                                                                                                                                                                                                                                                                                                                                                                                                     \n",
              "[72] \"Processing triggers for libc-bin (2.27-3ubuntu1.3) ...\\r\"                                                                                                                                                                                                                                                                                                                                                                                                                                                                                                                                                                                                      \n",
              "[73] \"/sbin/ldconfig.real: /usr/local/lib/python3.7/dist-packages/ideep4py/lib/libmkldnn.so.0 is not a symbolic link\\r\"                                                                                                                                                                                                                                                                                                                                                                                                                                                                                                                                              \n",
              "[74] \"\\r\"                                                                                                                                                                                                                                                                                                                                                                                                                                                                                                                                                                                                                                                            "
            ],
            "text/latex": "\\begin{enumerate*}\n\\item 'Reading package lists...'\n\\item 'Building dependency tree...'\n\\item 'Reading state information...'\n\\item 'The following packages were automatically installed and are no longer required:'\n\\item '  cuda-command-line-tools-10-0 cuda-command-line-tools-10-1'\n\\item '  cuda-command-line-tools-11-0 cuda-compiler-10-0 cuda-compiler-10-1'\n\\item '  cuda-compiler-11-0 cuda-cuobjdump-10-0 cuda-cuobjdump-10-1'\n\\item '  cuda-cuobjdump-11-0 cuda-cupti-10-0 cuda-cupti-10-1 cuda-cupti-11-0'\n\\item '  cuda-cupti-dev-11-0 cuda-documentation-10-0 cuda-documentation-10-1'\n\\item '  cuda-documentation-11-0 cuda-documentation-11-1 cuda-gdb-10-0 cuda-gdb-10-1'\n\\item '  cuda-gdb-11-0 cuda-gpu-library-advisor-10-0 cuda-gpu-library-advisor-10-1'\n\\item '  cuda-libraries-10-0 cuda-libraries-10-1 cuda-libraries-11-0'\n\\item '  cuda-memcheck-10-0 cuda-memcheck-10-1 cuda-memcheck-11-0 cuda-nsight-10-0'\n\\item '  cuda-nsight-10-1 cuda-nsight-11-0 cuda-nsight-11-1 cuda-nsight-compute-10-0'\n\\item '  cuda-nsight-compute-10-1 cuda-nsight-compute-11-0 cuda-nsight-compute-11-1'\n\\item '  cuda-nsight-systems-10-1 cuda-nsight-systems-11-0 cuda-nsight-systems-11-1'\n\\item '  cuda-nvcc-10-0 cuda-nvcc-10-1 cuda-nvcc-11-0 cuda-nvdisasm-10-0'\n\\item '  cuda-nvdisasm-10-1 cuda-nvdisasm-11-0 cuda-nvml-dev-10-0 cuda-nvml-dev-10-1'\n\\item '  cuda-nvml-dev-11-0 cuda-nvprof-10-0 cuda-nvprof-10-1 cuda-nvprof-11-0'\n\\item '  cuda-nvprune-10-0 cuda-nvprune-10-1 cuda-nvprune-11-0 cuda-nvtx-10-0'\n\\item '  cuda-nvtx-10-1 cuda-nvtx-11-0 cuda-nvvp-10-0 cuda-nvvp-10-1 cuda-nvvp-11-0'\n\\item '  cuda-nvvp-11-1 cuda-samples-10-0 cuda-samples-10-1 cuda-samples-11-0'\n\\item '  cuda-samples-11-1 cuda-sanitizer-11-0 cuda-sanitizer-api-10-1'\n\\item '  cuda-toolkit-10-0 cuda-toolkit-10-1 cuda-toolkit-11-0 cuda-toolkit-11-1'\n\\item '  cuda-tools-10-0 cuda-tools-10-1 cuda-tools-11-0 cuda-tools-11-1'\n\\item '  cuda-visual-tools-10-0 cuda-visual-tools-10-1 cuda-visual-tools-11-0'\n\\item '  cuda-visual-tools-11-1 default-jre dkms freeglut3 freeglut3-dev'\n\\item '  keyboard-configuration libargon2-0 libcap2 libcryptsetup12'\n\\item '  libdevmapper1.02.1 libfontenc1 libidn11 libip4tc0 libjansson4'\n\\item '  libnvidia-cfg1-510 libnvidia-common-460 libnvidia-common-510'\n\\item '  libnvidia-extra-510 libnvidia-fbc1-510 libnvidia-gl-510 libpam-systemd'\n\\item '  libpolkit-agent-1-0 libpolkit-backend-1-0 libpolkit-gobject-1-0 libxfont2'\n\\item '  libxi-dev libxkbfile1 libxmu-dev libxmu-headers libxnvctrl0 libxtst6'\n\\item '  nsight-compute-2020.2.1 nsight-compute-2022.1.0 nsight-systems-2020.3.2'\n\\item '  nsight-systems-2020.3.4 nsight-systems-2021.5.2 nvidia-dkms-510'\n\\item '  nvidia-kernel-common-510 nvidia-kernel-source-510 nvidia-modprobe'\n\\item '  nvidia-settings openjdk-11-jre policykit-1 policykit-1-gnome python3-xkit'\n\\item '  screen-resolution-extra systemd systemd-sysv udev x11-xkb-utils'\n\\item '  xserver-common xserver-xorg-core-hwe-18.04 xserver-xorg-video-nvidia-510'\n\\item 'Use \\textbackslash{}'apt autoremove\\textbackslash{}' to remove them.'\n\\item 'The following additional packages will be installed:'\n\\item '  libcairo-script-interpreter2 libpixman-1-dev libxcb-shm0-dev'\n\\item 'Suggested packages:'\n\\item '  libcairo2-doc'\n\\item 'The following NEW packages will be installed:'\n\\item '  libcairo-script-interpreter2 libcairo2-dev libpixman-1-dev libxcb-shm0-dev'\n\\item '0 upgraded, 4 newly installed, 0 to remove and 39 not upgraded.'\n\\item 'Need to get 930 kB of archives.'\n\\item 'After this operation, 3,986 kB of additional disk space will be used.'\n\\item 'Get:1 http://archive.ubuntu.com/ubuntu bionic-updates/main amd64 libcairo-script-interpreter2 amd64 1.15.10-2ubuntu0.1 {[}53.5 kB{]}'\n\\item 'Get:2 http://archive.ubuntu.com/ubuntu bionic/main amd64 libpixman-1-dev amd64 0.34.0-2 {[}244 kB{]}'\n\\item 'Get:3 http://archive.ubuntu.com/ubuntu bionic-updates/main amd64 libxcb-shm0-dev amd64 1.13-2\\textasciitilde{}ubuntu18.04 {[}6,684 B{]}'\n\\item 'Get:4 http://archive.ubuntu.com/ubuntu bionic-updates/main amd64 libcairo2-dev amd64 1.15.10-2ubuntu0.1 {[}626 kB{]}'\n\\item 'Fetched 930 kB in 1s (1,281 kB/s)'\n\\item 'Selecting previously unselected package libcairo-script-interpreter2:amd64.\\textbackslash{}r'\n\\item '(Reading database ... \\textbackslash{}r(Reading database ... 5\\%\\textbackslash{}r(Reading database ... 10\\%\\textbackslash{}r(Reading database ... 15\\%\\textbackslash{}r(Reading database ... 20\\%\\textbackslash{}r(Reading database ... 25\\%\\textbackslash{}r(Reading database ... 30\\%\\textbackslash{}r(Reading database ... 35\\%\\textbackslash{}r(Reading database ... 40\\%\\textbackslash{}r(Reading database ... 45\\%\\textbackslash{}r(Reading database ... 50\\%\\textbackslash{}r(Reading database ... 55\\%\\textbackslash{}r(Reading database ... 60\\%\\textbackslash{}r(Reading database ... 65\\%\\textbackslash{}r(Reading database ... 70\\%\\textbackslash{}r(Reading database ... 75\\%\\textbackslash{}r(Reading database ... 80\\%\\textbackslash{}r(Reading database ... 85\\%\\textbackslash{}r(Reading database ... 90\\%\\textbackslash{}r(Reading database ... 95\\%\\textbackslash{}r(Reading database ... 100\\%\\textbackslash{}r(Reading database ... 155385 files and directories currently installed.)\\textbackslash{}r'\n\\item 'Preparing to unpack .../libcairo-script-interpreter2\\_1.15.10-2ubuntu0.1\\_amd64.deb ...\\textbackslash{}r'\n\\item 'Unpacking libcairo-script-interpreter2:amd64 (1.15.10-2ubuntu0.1) ...\\textbackslash{}r'\n\\item 'Selecting previously unselected package libpixman-1-dev:amd64.\\textbackslash{}r'\n\\item 'Preparing to unpack .../libpixman-1-dev\\_0.34.0-2\\_amd64.deb ...\\textbackslash{}r'\n\\item 'Unpacking libpixman-1-dev:amd64 (0.34.0-2) ...\\textbackslash{}r'\n\\item 'Selecting previously unselected package libxcb-shm0-dev:amd64.\\textbackslash{}r'\n\\item 'Preparing to unpack .../libxcb-shm0-dev\\_1.13-2\\textasciitilde{}ubuntu18.04\\_amd64.deb ...\\textbackslash{}r'\n\\item 'Unpacking libxcb-shm0-dev:amd64 (1.13-2\\textasciitilde{}ubuntu18.04) ...\\textbackslash{}r'\n\\item 'Selecting previously unselected package libcairo2-dev:amd64.\\textbackslash{}r'\n\\item 'Preparing to unpack .../libcairo2-dev\\_1.15.10-2ubuntu0.1\\_amd64.deb ...\\textbackslash{}r'\n\\item 'Unpacking libcairo2-dev:amd64 (1.15.10-2ubuntu0.1) ...\\textbackslash{}r'\n\\item 'Setting up libcairo-script-interpreter2:amd64 (1.15.10-2ubuntu0.1) ...\\textbackslash{}r'\n\\item 'Setting up libxcb-shm0-dev:amd64 (1.13-2\\textasciitilde{}ubuntu18.04) ...\\textbackslash{}r'\n\\item 'Setting up libpixman-1-dev:amd64 (0.34.0-2) ...\\textbackslash{}r'\n\\item 'Setting up libcairo2-dev:amd64 (1.15.10-2ubuntu0.1) ...\\textbackslash{}r'\n\\item 'Processing triggers for libc-bin (2.27-3ubuntu1.3) ...\\textbackslash{}r'\n\\item '/sbin/ldconfig.real: /usr/local/lib/python3.7/dist-packages/ideep4py/lib/libmkldnn.so.0 is not a symbolic link\\textbackslash{}r'\n\\item '\\textbackslash{}r'\n\\end{enumerate*}\n",
            "text/markdown": "1. 'Reading package lists...'\n2. 'Building dependency tree...'\n3. 'Reading state information...'\n4. 'The following packages were automatically installed and are no longer required:'\n5. <span style=white-space:pre-wrap>'  cuda-command-line-tools-10-0 cuda-command-line-tools-10-1'</span>\n6. <span style=white-space:pre-wrap>'  cuda-command-line-tools-11-0 cuda-compiler-10-0 cuda-compiler-10-1'</span>\n7. <span style=white-space:pre-wrap>'  cuda-compiler-11-0 cuda-cuobjdump-10-0 cuda-cuobjdump-10-1'</span>\n8. <span style=white-space:pre-wrap>'  cuda-cuobjdump-11-0 cuda-cupti-10-0 cuda-cupti-10-1 cuda-cupti-11-0'</span>\n9. <span style=white-space:pre-wrap>'  cuda-cupti-dev-11-0 cuda-documentation-10-0 cuda-documentation-10-1'</span>\n10. <span style=white-space:pre-wrap>'  cuda-documentation-11-0 cuda-documentation-11-1 cuda-gdb-10-0 cuda-gdb-10-1'</span>\n11. <span style=white-space:pre-wrap>'  cuda-gdb-11-0 cuda-gpu-library-advisor-10-0 cuda-gpu-library-advisor-10-1'</span>\n12. <span style=white-space:pre-wrap>'  cuda-libraries-10-0 cuda-libraries-10-1 cuda-libraries-11-0'</span>\n13. <span style=white-space:pre-wrap>'  cuda-memcheck-10-0 cuda-memcheck-10-1 cuda-memcheck-11-0 cuda-nsight-10-0'</span>\n14. <span style=white-space:pre-wrap>'  cuda-nsight-10-1 cuda-nsight-11-0 cuda-nsight-11-1 cuda-nsight-compute-10-0'</span>\n15. <span style=white-space:pre-wrap>'  cuda-nsight-compute-10-1 cuda-nsight-compute-11-0 cuda-nsight-compute-11-1'</span>\n16. <span style=white-space:pre-wrap>'  cuda-nsight-systems-10-1 cuda-nsight-systems-11-0 cuda-nsight-systems-11-1'</span>\n17. <span style=white-space:pre-wrap>'  cuda-nvcc-10-0 cuda-nvcc-10-1 cuda-nvcc-11-0 cuda-nvdisasm-10-0'</span>\n18. <span style=white-space:pre-wrap>'  cuda-nvdisasm-10-1 cuda-nvdisasm-11-0 cuda-nvml-dev-10-0 cuda-nvml-dev-10-1'</span>\n19. <span style=white-space:pre-wrap>'  cuda-nvml-dev-11-0 cuda-nvprof-10-0 cuda-nvprof-10-1 cuda-nvprof-11-0'</span>\n20. <span style=white-space:pre-wrap>'  cuda-nvprune-10-0 cuda-nvprune-10-1 cuda-nvprune-11-0 cuda-nvtx-10-0'</span>\n21. <span style=white-space:pre-wrap>'  cuda-nvtx-10-1 cuda-nvtx-11-0 cuda-nvvp-10-0 cuda-nvvp-10-1 cuda-nvvp-11-0'</span>\n22. <span style=white-space:pre-wrap>'  cuda-nvvp-11-1 cuda-samples-10-0 cuda-samples-10-1 cuda-samples-11-0'</span>\n23. <span style=white-space:pre-wrap>'  cuda-samples-11-1 cuda-sanitizer-11-0 cuda-sanitizer-api-10-1'</span>\n24. <span style=white-space:pre-wrap>'  cuda-toolkit-10-0 cuda-toolkit-10-1 cuda-toolkit-11-0 cuda-toolkit-11-1'</span>\n25. <span style=white-space:pre-wrap>'  cuda-tools-10-0 cuda-tools-10-1 cuda-tools-11-0 cuda-tools-11-1'</span>\n26. <span style=white-space:pre-wrap>'  cuda-visual-tools-10-0 cuda-visual-tools-10-1 cuda-visual-tools-11-0'</span>\n27. <span style=white-space:pre-wrap>'  cuda-visual-tools-11-1 default-jre dkms freeglut3 freeglut3-dev'</span>\n28. <span style=white-space:pre-wrap>'  keyboard-configuration libargon2-0 libcap2 libcryptsetup12'</span>\n29. <span style=white-space:pre-wrap>'  libdevmapper1.02.1 libfontenc1 libidn11 libip4tc0 libjansson4'</span>\n30. <span style=white-space:pre-wrap>'  libnvidia-cfg1-510 libnvidia-common-460 libnvidia-common-510'</span>\n31. <span style=white-space:pre-wrap>'  libnvidia-extra-510 libnvidia-fbc1-510 libnvidia-gl-510 libpam-systemd'</span>\n32. <span style=white-space:pre-wrap>'  libpolkit-agent-1-0 libpolkit-backend-1-0 libpolkit-gobject-1-0 libxfont2'</span>\n33. <span style=white-space:pre-wrap>'  libxi-dev libxkbfile1 libxmu-dev libxmu-headers libxnvctrl0 libxtst6'</span>\n34. <span style=white-space:pre-wrap>'  nsight-compute-2020.2.1 nsight-compute-2022.1.0 nsight-systems-2020.3.2'</span>\n35. <span style=white-space:pre-wrap>'  nsight-systems-2020.3.4 nsight-systems-2021.5.2 nvidia-dkms-510'</span>\n36. <span style=white-space:pre-wrap>'  nvidia-kernel-common-510 nvidia-kernel-source-510 nvidia-modprobe'</span>\n37. <span style=white-space:pre-wrap>'  nvidia-settings openjdk-11-jre policykit-1 policykit-1-gnome python3-xkit'</span>\n38. <span style=white-space:pre-wrap>'  screen-resolution-extra systemd systemd-sysv udev x11-xkb-utils'</span>\n39. <span style=white-space:pre-wrap>'  xserver-common xserver-xorg-core-hwe-18.04 xserver-xorg-video-nvidia-510'</span>\n40. 'Use \\'apt autoremove\\' to remove them.'\n41. 'The following additional packages will be installed:'\n42. <span style=white-space:pre-wrap>'  libcairo-script-interpreter2 libpixman-1-dev libxcb-shm0-dev'</span>\n43. 'Suggested packages:'\n44. <span style=white-space:pre-wrap>'  libcairo2-doc'</span>\n45. 'The following NEW packages will be installed:'\n46. <span style=white-space:pre-wrap>'  libcairo-script-interpreter2 libcairo2-dev libpixman-1-dev libxcb-shm0-dev'</span>\n47. '0 upgraded, 4 newly installed, 0 to remove and 39 not upgraded.'\n48. 'Need to get 930 kB of archives.'\n49. 'After this operation, 3,986 kB of additional disk space will be used.'\n50. 'Get:1 http://archive.ubuntu.com/ubuntu bionic-updates/main amd64 libcairo-script-interpreter2 amd64 1.15.10-2ubuntu0.1 [53.5 kB]'\n51. 'Get:2 http://archive.ubuntu.com/ubuntu bionic/main amd64 libpixman-1-dev amd64 0.34.0-2 [244 kB]'\n52. 'Get:3 http://archive.ubuntu.com/ubuntu bionic-updates/main amd64 libxcb-shm0-dev amd64 1.13-2~ubuntu18.04 [6,684 B]'\n53. 'Get:4 http://archive.ubuntu.com/ubuntu bionic-updates/main amd64 libcairo2-dev amd64 1.15.10-2ubuntu0.1 [626 kB]'\n54. 'Fetched 930 kB in 1s (1,281 kB/s)'\n55. 'Selecting previously unselected package libcairo-script-interpreter2:amd64.\\r'\n56. '(Reading database ... \\r(Reading database ... 5%\\r(Reading database ... 10%\\r(Reading database ... 15%\\r(Reading database ... 20%\\r(Reading database ... 25%\\r(Reading database ... 30%\\r(Reading database ... 35%\\r(Reading database ... 40%\\r(Reading database ... 45%\\r(Reading database ... 50%\\r(Reading database ... 55%\\r(Reading database ... 60%\\r(Reading database ... 65%\\r(Reading database ... 70%\\r(Reading database ... 75%\\r(Reading database ... 80%\\r(Reading database ... 85%\\r(Reading database ... 90%\\r(Reading database ... 95%\\r(Reading database ... 100%\\r(Reading database ... 155385 files and directories currently installed.)\\r'\n57. 'Preparing to unpack .../libcairo-script-interpreter2_1.15.10-2ubuntu0.1_amd64.deb ...\\r'\n58. 'Unpacking libcairo-script-interpreter2:amd64 (1.15.10-2ubuntu0.1) ...\\r'\n59. 'Selecting previously unselected package libpixman-1-dev:amd64.\\r'\n60. 'Preparing to unpack .../libpixman-1-dev_0.34.0-2_amd64.deb ...\\r'\n61. 'Unpacking libpixman-1-dev:amd64 (0.34.0-2) ...\\r'\n62. 'Selecting previously unselected package libxcb-shm0-dev:amd64.\\r'\n63. 'Preparing to unpack .../libxcb-shm0-dev_1.13-2~ubuntu18.04_amd64.deb ...\\r'\n64. 'Unpacking libxcb-shm0-dev:amd64 (1.13-2~ubuntu18.04) ...\\r'\n65. 'Selecting previously unselected package libcairo2-dev:amd64.\\r'\n66. 'Preparing to unpack .../libcairo2-dev_1.15.10-2ubuntu0.1_amd64.deb ...\\r'\n67. 'Unpacking libcairo2-dev:amd64 (1.15.10-2ubuntu0.1) ...\\r'\n68. 'Setting up libcairo-script-interpreter2:amd64 (1.15.10-2ubuntu0.1) ...\\r'\n69. 'Setting up libxcb-shm0-dev:amd64 (1.13-2~ubuntu18.04) ...\\r'\n70. 'Setting up libpixman-1-dev:amd64 (0.34.0-2) ...\\r'\n71. 'Setting up libcairo2-dev:amd64 (1.15.10-2ubuntu0.1) ...\\r'\n72. 'Processing triggers for libc-bin (2.27-3ubuntu1.3) ...\\r'\n73. '/sbin/ldconfig.real: /usr/local/lib/python3.7/dist-packages/ideep4py/lib/libmkldnn.so.0 is not a symbolic link\\r'\n74. '\\r'\n\n\n",
            "text/html": [
              "<style>\n",
              ".list-inline {list-style: none; margin:0; padding: 0}\n",
              ".list-inline>li {display: inline-block}\n",
              ".list-inline>li:not(:last-child)::after {content: \"\\00b7\"; padding: 0 .5ex}\n",
              "</style>\n",
              "<ol class=list-inline><li>'Reading package lists...'</li><li>'Building dependency tree...'</li><li>'Reading state information...'</li><li>'The following packages were automatically installed and are no longer required:'</li><li><span style=white-space:pre-wrap>'  cuda-command-line-tools-10-0 cuda-command-line-tools-10-1'</span></li><li><span style=white-space:pre-wrap>'  cuda-command-line-tools-11-0 cuda-compiler-10-0 cuda-compiler-10-1'</span></li><li><span style=white-space:pre-wrap>'  cuda-compiler-11-0 cuda-cuobjdump-10-0 cuda-cuobjdump-10-1'</span></li><li><span style=white-space:pre-wrap>'  cuda-cuobjdump-11-0 cuda-cupti-10-0 cuda-cupti-10-1 cuda-cupti-11-0'</span></li><li><span style=white-space:pre-wrap>'  cuda-cupti-dev-11-0 cuda-documentation-10-0 cuda-documentation-10-1'</span></li><li><span style=white-space:pre-wrap>'  cuda-documentation-11-0 cuda-documentation-11-1 cuda-gdb-10-0 cuda-gdb-10-1'</span></li><li><span style=white-space:pre-wrap>'  cuda-gdb-11-0 cuda-gpu-library-advisor-10-0 cuda-gpu-library-advisor-10-1'</span></li><li><span style=white-space:pre-wrap>'  cuda-libraries-10-0 cuda-libraries-10-1 cuda-libraries-11-0'</span></li><li><span style=white-space:pre-wrap>'  cuda-memcheck-10-0 cuda-memcheck-10-1 cuda-memcheck-11-0 cuda-nsight-10-0'</span></li><li><span style=white-space:pre-wrap>'  cuda-nsight-10-1 cuda-nsight-11-0 cuda-nsight-11-1 cuda-nsight-compute-10-0'</span></li><li><span style=white-space:pre-wrap>'  cuda-nsight-compute-10-1 cuda-nsight-compute-11-0 cuda-nsight-compute-11-1'</span></li><li><span style=white-space:pre-wrap>'  cuda-nsight-systems-10-1 cuda-nsight-systems-11-0 cuda-nsight-systems-11-1'</span></li><li><span style=white-space:pre-wrap>'  cuda-nvcc-10-0 cuda-nvcc-10-1 cuda-nvcc-11-0 cuda-nvdisasm-10-0'</span></li><li><span style=white-space:pre-wrap>'  cuda-nvdisasm-10-1 cuda-nvdisasm-11-0 cuda-nvml-dev-10-0 cuda-nvml-dev-10-1'</span></li><li><span style=white-space:pre-wrap>'  cuda-nvml-dev-11-0 cuda-nvprof-10-0 cuda-nvprof-10-1 cuda-nvprof-11-0'</span></li><li><span style=white-space:pre-wrap>'  cuda-nvprune-10-0 cuda-nvprune-10-1 cuda-nvprune-11-0 cuda-nvtx-10-0'</span></li><li><span style=white-space:pre-wrap>'  cuda-nvtx-10-1 cuda-nvtx-11-0 cuda-nvvp-10-0 cuda-nvvp-10-1 cuda-nvvp-11-0'</span></li><li><span style=white-space:pre-wrap>'  cuda-nvvp-11-1 cuda-samples-10-0 cuda-samples-10-1 cuda-samples-11-0'</span></li><li><span style=white-space:pre-wrap>'  cuda-samples-11-1 cuda-sanitizer-11-0 cuda-sanitizer-api-10-1'</span></li><li><span style=white-space:pre-wrap>'  cuda-toolkit-10-0 cuda-toolkit-10-1 cuda-toolkit-11-0 cuda-toolkit-11-1'</span></li><li><span style=white-space:pre-wrap>'  cuda-tools-10-0 cuda-tools-10-1 cuda-tools-11-0 cuda-tools-11-1'</span></li><li><span style=white-space:pre-wrap>'  cuda-visual-tools-10-0 cuda-visual-tools-10-1 cuda-visual-tools-11-0'</span></li><li><span style=white-space:pre-wrap>'  cuda-visual-tools-11-1 default-jre dkms freeglut3 freeglut3-dev'</span></li><li><span style=white-space:pre-wrap>'  keyboard-configuration libargon2-0 libcap2 libcryptsetup12'</span></li><li><span style=white-space:pre-wrap>'  libdevmapper1.02.1 libfontenc1 libidn11 libip4tc0 libjansson4'</span></li><li><span style=white-space:pre-wrap>'  libnvidia-cfg1-510 libnvidia-common-460 libnvidia-common-510'</span></li><li><span style=white-space:pre-wrap>'  libnvidia-extra-510 libnvidia-fbc1-510 libnvidia-gl-510 libpam-systemd'</span></li><li><span style=white-space:pre-wrap>'  libpolkit-agent-1-0 libpolkit-backend-1-0 libpolkit-gobject-1-0 libxfont2'</span></li><li><span style=white-space:pre-wrap>'  libxi-dev libxkbfile1 libxmu-dev libxmu-headers libxnvctrl0 libxtst6'</span></li><li><span style=white-space:pre-wrap>'  nsight-compute-2020.2.1 nsight-compute-2022.1.0 nsight-systems-2020.3.2'</span></li><li><span style=white-space:pre-wrap>'  nsight-systems-2020.3.4 nsight-systems-2021.5.2 nvidia-dkms-510'</span></li><li><span style=white-space:pre-wrap>'  nvidia-kernel-common-510 nvidia-kernel-source-510 nvidia-modprobe'</span></li><li><span style=white-space:pre-wrap>'  nvidia-settings openjdk-11-jre policykit-1 policykit-1-gnome python3-xkit'</span></li><li><span style=white-space:pre-wrap>'  screen-resolution-extra systemd systemd-sysv udev x11-xkb-utils'</span></li><li><span style=white-space:pre-wrap>'  xserver-common xserver-xorg-core-hwe-18.04 xserver-xorg-video-nvidia-510'</span></li><li>'Use \\'apt autoremove\\' to remove them.'</li><li>'The following additional packages will be installed:'</li><li><span style=white-space:pre-wrap>'  libcairo-script-interpreter2 libpixman-1-dev libxcb-shm0-dev'</span></li><li>'Suggested packages:'</li><li><span style=white-space:pre-wrap>'  libcairo2-doc'</span></li><li>'The following NEW packages will be installed:'</li><li><span style=white-space:pre-wrap>'  libcairo-script-interpreter2 libcairo2-dev libpixman-1-dev libxcb-shm0-dev'</span></li><li>'0 upgraded, 4 newly installed, 0 to remove and 39 not upgraded.'</li><li>'Need to get 930 kB of archives.'</li><li>'After this operation, 3,986 kB of additional disk space will be used.'</li><li>'Get:1 http://archive.ubuntu.com/ubuntu bionic-updates/main amd64 libcairo-script-interpreter2 amd64 1.15.10-2ubuntu0.1 [53.5 kB]'</li><li>'Get:2 http://archive.ubuntu.com/ubuntu bionic/main amd64 libpixman-1-dev amd64 0.34.0-2 [244 kB]'</li><li>'Get:3 http://archive.ubuntu.com/ubuntu bionic-updates/main amd64 libxcb-shm0-dev amd64 1.13-2~ubuntu18.04 [6,684 B]'</li><li>'Get:4 http://archive.ubuntu.com/ubuntu bionic-updates/main amd64 libcairo2-dev amd64 1.15.10-2ubuntu0.1 [626 kB]'</li><li>'Fetched 930 kB in 1s (1,281 kB/s)'</li><li>'Selecting previously unselected package libcairo-script-interpreter2:amd64.\\r'</li><li>'(Reading database ... \\r(Reading database ... 5%\\r(Reading database ... 10%\\r(Reading database ... 15%\\r(Reading database ... 20%\\r(Reading database ... 25%\\r(Reading database ... 30%\\r(Reading database ... 35%\\r(Reading database ... 40%\\r(Reading database ... 45%\\r(Reading database ... 50%\\r(Reading database ... 55%\\r(Reading database ... 60%\\r(Reading database ... 65%\\r(Reading database ... 70%\\r(Reading database ... 75%\\r(Reading database ... 80%\\r(Reading database ... 85%\\r(Reading database ... 90%\\r(Reading database ... 95%\\r(Reading database ... 100%\\r(Reading database ... 155385 files and directories currently installed.)\\r'</li><li>'Preparing to unpack .../libcairo-script-interpreter2_1.15.10-2ubuntu0.1_amd64.deb ...\\r'</li><li>'Unpacking libcairo-script-interpreter2:amd64 (1.15.10-2ubuntu0.1) ...\\r'</li><li>'Selecting previously unselected package libpixman-1-dev:amd64.\\r'</li><li>'Preparing to unpack .../libpixman-1-dev_0.34.0-2_amd64.deb ...\\r'</li><li>'Unpacking libpixman-1-dev:amd64 (0.34.0-2) ...\\r'</li><li>'Selecting previously unselected package libxcb-shm0-dev:amd64.\\r'</li><li>'Preparing to unpack .../libxcb-shm0-dev_1.13-2~ubuntu18.04_amd64.deb ...\\r'</li><li>'Unpacking libxcb-shm0-dev:amd64 (1.13-2~ubuntu18.04) ...\\r'</li><li>'Selecting previously unselected package libcairo2-dev:amd64.\\r'</li><li>'Preparing to unpack .../libcairo2-dev_1.15.10-2ubuntu0.1_amd64.deb ...\\r'</li><li>'Unpacking libcairo2-dev:amd64 (1.15.10-2ubuntu0.1) ...\\r'</li><li>'Setting up libcairo-script-interpreter2:amd64 (1.15.10-2ubuntu0.1) ...\\r'</li><li>'Setting up libxcb-shm0-dev:amd64 (1.13-2~ubuntu18.04) ...\\r'</li><li>'Setting up libpixman-1-dev:amd64 (0.34.0-2) ...\\r'</li><li>'Setting up libcairo2-dev:amd64 (1.15.10-2ubuntu0.1) ...\\r'</li><li>'Processing triggers for libc-bin (2.27-3ubuntu1.3) ...\\r'</li><li>'/sbin/ldconfig.real: /usr/local/lib/python3.7/dist-packages/ideep4py/lib/libmkldnn.so.0 is not a symbolic link\\r'</li><li>'\\r'</li></ol>\n"
            ]
          },
          "metadata": {}
        }
      ]
    },
    {
      "cell_type": "code",
      "metadata": {
        "id": "sVANztc7hMcO",
        "colab": {
          "base_uri": "https://localhost:8080/"
        },
        "outputId": "297362de-4983-4ac9-f50d-aaeb290240ac"
      },
      "source": [
        "install.packages(c('gsl', 'devtools'))\n",
        "install.packages('Cairo')\n",
        "if (!requireNamespace(\"BiocManager\", quietly = TRUE))\n",
        "  install.packages(\"BiocManager\")\n",
        "BiocManager::install(c(\n",
        "  'BiocParallel', 'SummarizedExperiment', 'gplots', 'circlize', 'plyr', 'dplyr', \n",
        "  'DESeq2', 'VennDiagram', 'ggwordcloud', 'GenomicRanges', 'apeglm', 'biomaRt', 'org.Mm.eg.db', 'TxDb.Mmusculus.UCSC.mm10.knownGene', 'clusterProfiler', 'ggplot2',\n",
        "  'GO.db','ReactomePA', 'ggnewscale', 'pathview', 'gage', 'gageData'\n",
        "))\n",
        "devtools::install_github(\"jokergoo/ComplexHeatmap\")\n",
        "devtools::install_github(\"GuangchuangYu/ChIPseeker\")"
      ],
      "execution_count": null,
      "outputs": [
        {
          "output_type": "stream",
          "name": "stderr",
          "text": [
            "Installing packages into ‘/usr/local/lib/R/site-library’\n",
            "(as ‘lib’ is unspecified)\n",
            "\n",
            "Warning message in install.packages(c(\"gsl\", \"devtools\")):\n",
            "“installation of package ‘gsl’ had non-zero exit status”\n",
            "Installing package into ‘/usr/local/lib/R/site-library’\n",
            "(as ‘lib’ is unspecified)\n",
            "\n",
            "Installing package into ‘/usr/local/lib/R/site-library’\n",
            "(as ‘lib’ is unspecified)\n",
            "\n",
            "'getOption(\"repos\")' replaces Bioconductor standard repositories, see\n",
            "'?repositories' for details\n",
            "\n",
            "replacement repositories:\n",
            "    CRAN: https://cran.rstudio.com\n",
            "\n",
            "\n",
            "Bioconductor version 3.14 (BiocManager 1.30.16), R 4.1.2 (2021-11-01)\n",
            "\n",
            "Warning message:\n",
            "“package(s) not installed when version(s) same as current; use `force = TRUE` to\n",
            "  re-install: 'ggplot2'”\n",
            "Installing package(s) 'BiocVersion', 'BiocParallel', 'SummarizedExperiment',\n",
            "  'gplots', 'circlize', 'plyr', 'dplyr', 'DESeq2', 'VennDiagram',\n",
            "  'ggwordcloud', 'GenomicRanges', 'apeglm', 'biomaRt', 'org.Mm.eg.db',\n",
            "  'TxDb.Mmusculus.UCSC.mm10.knownGene', 'clusterProfiler', 'GO.db',\n",
            "  'ReactomePA', 'ggnewscale', 'pathview', 'gage', 'gageData'\n",
            "\n",
            "also installing the dependencies ‘Rhtslib’, ‘rjson’, ‘gridGraphics’, ‘lazyeval’, ‘formatR’, ‘xtable’, ‘numDeriv’, ‘bdsmatrix’, ‘mvtnorm’, ‘plogr’, ‘Rsamtools’, ‘GenomicAlignments’, ‘restfulr’, ‘gridExtra’, ‘fastmatch’, ‘ggfun’, ‘ggplotify’, ‘patchwork’, ‘ape’, ‘tidytree’, ‘treeio’, ‘tweenr’, ‘polyclip’, ‘lambda.r’, ‘futile.options’, ‘matrixStats’, ‘RCurl’, ‘GenomeInfoDbData’, ‘bitops’, ‘annotate’, ‘zlibbioc’, ‘coda’, ‘bbmle’, ‘RSQLite’, ‘filelock’, ‘Biostrings’, ‘BiocIO’, ‘rtracklayer’, ‘DO.db’, ‘fgsea’, ‘reshape2’, ‘aplot’, ‘scatterpie’, ‘shadowtext’, ‘ggtree’, ‘ggforce’, ‘ggrepel’, ‘viridis’, ‘tidygraph’, ‘graphlayouts’, ‘checkmate’, ‘futile.logger’, ‘snow’, ‘BH’, ‘MatrixGenerics’, ‘Biobase’, ‘BiocGenerics’, ‘S4Vectors’, ‘IRanges’, ‘GenomeInfoDb’, ‘DelayedArray’, ‘gtools’, ‘caTools’, ‘GlobalOptions’, ‘shape’, ‘genefilter’, ‘locfit’, ‘geneplotter’, ‘RcppArmadillo’, ‘png’, ‘XVector’, ‘emdbook’, ‘RcppEigen’, ‘RcppNumerical’, ‘XML’, ‘AnnotationDbi’, ‘BiocFileCache’, ‘GenomicFeatures’, ‘downloader’, ‘DOSE’, ‘enrichplot’, ‘GOSemSim’, ‘qvalue’, ‘yulab.utils’, ‘ggraph’, ‘reactome.db’, ‘igraph’, ‘graphite’, ‘KEGGgraph’, ‘Rgraphviz’, ‘graph’, ‘org.Hs.eg.db’, ‘KEGGREST’\n",
            "\n",
            "\n",
            "Old packages: 'pbdZMQ', 'brew', 'cli', 'crayon', 'dplyr', 'generics', 'pillar',\n",
            "  'readr', 'rlang', 'svglite', 'systemfonts', 'tidyr'\n",
            "\n",
            "Downloading GitHub repo jokergoo/ComplexHeatmap@HEAD\n",
            "\n"
          ]
        },
        {
          "output_type": "stream",
          "name": "stdout",
          "text": [
            "iterators  (NA    -> 1.0.14) [CRAN]\n",
            "foreach    (NA    -> 1.5.2 ) [CRAN]\n",
            "crayon     (1.4.2 -> 1.5.0 ) [CRAN]\n",
            "doParallel (NA    -> 1.0.17) [CRAN]\n",
            "clue       (NA    -> 0.3-60) [CRAN]\n",
            "GetoptLong (NA    -> 1.0.5 ) [CRAN]\n"
          ]
        },
        {
          "output_type": "stream",
          "name": "stderr",
          "text": [
            "Installing 6 packages: iterators, foreach, crayon, doParallel, clue, GetoptLong\n",
            "\n",
            "Installing packages into ‘/usr/local/lib/R/site-library’\n",
            "(as ‘lib’ is unspecified)\n",
            "\n"
          ]
        },
        {
          "output_type": "stream",
          "name": "stdout",
          "text": [
            "* checking for file ‘/tmp/RtmpDKYcic/remotes461ad05fcf/jokergoo-ComplexHeatmap-6f35b6e/DESCRIPTION’ ... OK\n",
            "* preparing ‘ComplexHeatmap’:\n",
            "* checking DESCRIPTION meta-information ... OK\n",
            "* checking for LF line-endings in source and make files and shell scripts\n",
            "* checking for empty or unneeded directories\n",
            "* building ‘ComplexHeatmap_2.11.1.tar.gz’\n",
            "\n"
          ]
        },
        {
          "output_type": "stream",
          "name": "stderr",
          "text": [
            "Installing package into ‘/usr/local/lib/R/site-library’\n",
            "(as ‘lib’ is unspecified)\n",
            "\n",
            "Downloading GitHub repo GuangchuangYu/ChIPseeker@HEAD\n",
            "\n"
          ]
        },
        {
          "output_type": "stream",
          "name": "stdout",
          "text": [
            "enrichplot   (1.14.1 -> d11b60bb6...) [GitHub]\n",
            "cli          (3.1.1  -> 3.2.0       ) [CRAN]\n",
            "pillar       (1.6.5  -> 1.7.0       ) [CRAN]\n",
            "generics     (0.1.1  -> 0.1.2       ) [CRAN]\n",
            "rlang        (1.0.0  -> 1.0.1       ) [CRAN]\n",
            "tidyr        (1.1.4  -> 1.2.0       ) [CRAN]\n",
            "TxDb.Hsap... (NA     -> 3.2.2       ) [CRAN]\n",
            "plotrix      (NA     -> 3.8-2       ) [CRAN]\n"
          ]
        },
        {
          "output_type": "stream",
          "name": "stderr",
          "text": [
            "Installing 7 packages: cli, pillar, generics, rlang, tidyr, TxDb.Hsapiens.UCSC.hg19.knownGene, plotrix\n",
            "\n",
            "Installing packages into ‘/usr/local/lib/R/site-library’\n",
            "(as ‘lib’ is unspecified)\n",
            "\n",
            "Downloading GitHub repo GuangchuangYu/enrichplot@HEAD\n",
            "\n"
          ]
        },
        {
          "output_type": "stream",
          "name": "stdout",
          "text": [
            "\n",
            "* checking for file ‘/tmp/RtmpDKYcic/remotes465d9736c7/GuangchuangYu-enrichplot-d11b60b/DESCRIPTION’ ... OK\n",
            "* preparing ‘enrichplot’:\n",
            "* checking DESCRIPTION meta-information ... OK\n",
            "* checking for LF line-endings in source and make files and shell scripts\n",
            "* checking for empty or unneeded directories\n",
            "* building ‘enrichplot_1.13.1.992.tar.gz’\n",
            "\n"
          ]
        },
        {
          "output_type": "stream",
          "name": "stderr",
          "text": [
            "Installing package into ‘/usr/local/lib/R/site-library’\n",
            "(as ‘lib’ is unspecified)\n",
            "\n"
          ]
        },
        {
          "output_type": "stream",
          "name": "stdout",
          "text": [
            "* checking for file ‘/tmp/RtmpDKYcic/remotes466435bfd9/YuLab-SMU-ChIPseeker-5371322/DESCRIPTION’ ... OK\n",
            "* preparing ‘ChIPseeker’:\n",
            "* checking DESCRIPTION meta-information ... OK\n",
            "* checking for LF line-endings in source and make files and shell scripts\n",
            "* checking for empty or unneeded directories\n",
            "* looking to see if a ‘data/datalist’ file should be added\n",
            "* building ‘ChIPseeker_1.31.3.900.tar.gz’\n",
            "\n"
          ]
        },
        {
          "output_type": "stream",
          "name": "stderr",
          "text": [
            "Installing package into ‘/usr/local/lib/R/site-library’\n",
            "(as ‘lib’ is unspecified)\n",
            "\n"
          ]
        }
      ]
    },
    {
      "cell_type": "code",
      "metadata": {
        "id": "jGU7XpEVhPrf",
        "colab": {
          "base_uri": "https://localhost:8080/"
        },
        "outputId": "1c02e72e-3d88-4dc0-f9ab-a97726db4029"
      },
      "source": [
        "library(BiocParallel)\n",
        "library(SummarizedExperiment)\n",
        "library(gplots)\n",
        "library(circlize)\n",
        "library(ComplexHeatmap)\n",
        "register(MulticoreParam(4)) # Use 8 cores\n",
        "library(plyr)\n",
        "library(dplyr)\n",
        "library(DESeq2)\n",
        "library(VennDiagram)\n",
        "library(ggwordcloud)\n",
        "library(GenomicRanges)\n",
        "library(apeglm)\n",
        "library(biomaRt)\n",
        "library(org.Mm.eg.db)\n",
        "library(ChIPseeker)\n",
        "library(clusterProfiler)\n",
        "library(ggplot2)\n",
        "library(tidyr)\n",
        "library(Matrix)\n",
        "library(GO.db)\n",
        "library(matrixStats)\n",
        "library(ComplexHeatmap)\n",
        "library(stringr)\n",
        "library(DOSE)\n",
        "library(ReactomePA)\n",
        "library(ggnewscale)\n",
        "library(GOSemSim)\n",
        "library(enrichplot)\n",
        "library(pathview)\n",
        "library(gage)\n",
        "library(gageData)"
      ],
      "execution_count": null,
      "outputs": [
        {
          "output_type": "stream",
          "name": "stderr",
          "text": [
            "Loading required package: MatrixGenerics\n",
            "\n",
            "Loading required package: matrixStats\n",
            "\n",
            "\n",
            "Attaching package: ‘MatrixGenerics’\n",
            "\n",
            "\n",
            "The following objects are masked from ‘package:matrixStats’:\n",
            "\n",
            "    colAlls, colAnyNAs, colAnys, colAvgsPerRowSet, colCollapse,\n",
            "    colCounts, colCummaxs, colCummins, colCumprods, colCumsums,\n",
            "    colDiffs, colIQRDiffs, colIQRs, colLogSumExps, colMadDiffs,\n",
            "    colMads, colMaxs, colMeans2, colMedians, colMins, colOrderStats,\n",
            "    colProds, colQuantiles, colRanges, colRanks, colSdDiffs, colSds,\n",
            "    colSums2, colTabulates, colVarDiffs, colVars, colWeightedMads,\n",
            "    colWeightedMeans, colWeightedMedians, colWeightedSds,\n",
            "    colWeightedVars, rowAlls, rowAnyNAs, rowAnys, rowAvgsPerColSet,\n",
            "    rowCollapse, rowCounts, rowCummaxs, rowCummins, rowCumprods,\n",
            "    rowCumsums, rowDiffs, rowIQRDiffs, rowIQRs, rowLogSumExps,\n",
            "    rowMadDiffs, rowMads, rowMaxs, rowMeans2, rowMedians, rowMins,\n",
            "    rowOrderStats, rowProds, rowQuantiles, rowRanges, rowRanks,\n",
            "    rowSdDiffs, rowSds, rowSums2, rowTabulates, rowVarDiffs, rowVars,\n",
            "    rowWeightedMads, rowWeightedMeans, rowWeightedMedians,\n",
            "    rowWeightedSds, rowWeightedVars\n",
            "\n",
            "\n",
            "Loading required package: GenomicRanges\n",
            "\n",
            "Loading required package: stats4\n",
            "\n",
            "Loading required package: BiocGenerics\n",
            "\n",
            "\n",
            "Attaching package: ‘BiocGenerics’\n",
            "\n",
            "\n",
            "The following objects are masked from ‘package:stats’:\n",
            "\n",
            "    IQR, mad, sd, var, xtabs\n",
            "\n",
            "\n",
            "The following objects are masked from ‘package:base’:\n",
            "\n",
            "    anyDuplicated, append, as.data.frame, basename, cbind, colnames,\n",
            "    dirname, do.call, duplicated, eval, evalq, Filter, Find, get, grep,\n",
            "    grepl, intersect, is.unsorted, lapply, Map, mapply, match, mget,\n",
            "    order, paste, pmax, pmax.int, pmin, pmin.int, Position, rank,\n",
            "    rbind, Reduce, rownames, sapply, setdiff, sort, table, tapply,\n",
            "    union, unique, unsplit, which.max, which.min\n",
            "\n",
            "\n",
            "Loading required package: S4Vectors\n",
            "\n",
            "\n",
            "Attaching package: ‘S4Vectors’\n",
            "\n",
            "\n",
            "The following objects are masked from ‘package:base’:\n",
            "\n",
            "    expand.grid, I, unname\n",
            "\n",
            "\n",
            "Loading required package: IRanges\n",
            "\n",
            "Loading required package: GenomeInfoDb\n",
            "\n",
            "Loading required package: Biobase\n",
            "\n",
            "Welcome to Bioconductor\n",
            "\n",
            "    Vignettes contain introductory material; view with\n",
            "    'browseVignettes()'. To cite Bioconductor, see\n",
            "    'citation(\"Biobase\")', and for packages 'citation(\"pkgname\")'.\n",
            "\n",
            "\n",
            "\n",
            "Attaching package: ‘Biobase’\n",
            "\n",
            "\n",
            "The following object is masked from ‘package:MatrixGenerics’:\n",
            "\n",
            "    rowMedians\n",
            "\n",
            "\n",
            "The following objects are masked from ‘package:matrixStats’:\n",
            "\n",
            "    anyMissing, rowMedians\n",
            "\n",
            "\n",
            "\n",
            "Attaching package: ‘gplots’\n",
            "\n",
            "\n",
            "The following object is masked from ‘package:IRanges’:\n",
            "\n",
            "    space\n",
            "\n",
            "\n",
            "The following object is masked from ‘package:S4Vectors’:\n",
            "\n",
            "    space\n",
            "\n",
            "\n",
            "The following object is masked from ‘package:stats’:\n",
            "\n",
            "    lowess\n",
            "\n",
            "\n",
            "========================================\n",
            "circlize version 0.4.14\n",
            "CRAN page: https://cran.r-project.org/package=circlize\n",
            "Github page: https://github.com/jokergoo/circlize\n",
            "Documentation: https://jokergoo.github.io/circlize_book/book/\n",
            "\n",
            "If you use it in published research, please cite:\n",
            "Gu, Z. circlize implements and enhances circular visualization\n",
            "  in R. Bioinformatics 2014.\n",
            "\n",
            "This message can be suppressed by:\n",
            "  suppressPackageStartupMessages(library(circlize))\n",
            "========================================\n",
            "\n",
            "\n",
            "Loading required package: grid\n",
            "\n",
            "========================================\n",
            "ComplexHeatmap version 2.11.1\n",
            "Bioconductor page: http://bioconductor.org/packages/ComplexHeatmap/\n",
            "Github page: https://github.com/jokergoo/ComplexHeatmap\n",
            "Documentation: http://jokergoo.github.io/ComplexHeatmap-reference\n",
            "\n",
            "If you use it in published research, please cite:\n",
            "Gu, Z. Complex heatmaps reveal patterns and correlations in multidimensional \n",
            "  genomic data. Bioinformatics 2016.\n",
            "\n",
            "The new InteractiveComplexHeatmap package can directly export static \n",
            "complex heatmaps into an interactive Shiny app with zero effort. Have a try!\n",
            "\n",
            "This message can be suppressed by:\n",
            "  suppressPackageStartupMessages(library(ComplexHeatmap))\n",
            "========================================\n",
            "\n",
            "\n",
            "\n",
            "Attaching package: ‘plyr’\n",
            "\n",
            "\n",
            "The following object is masked from ‘package:IRanges’:\n",
            "\n",
            "    desc\n",
            "\n",
            "\n",
            "The following object is masked from ‘package:S4Vectors’:\n",
            "\n",
            "    rename\n",
            "\n",
            "\n",
            "The following object is masked from ‘package:matrixStats’:\n",
            "\n",
            "    count\n",
            "\n",
            "\n",
            "\n",
            "Attaching package: ‘dplyr’\n",
            "\n",
            "\n",
            "The following objects are masked from ‘package:plyr’:\n",
            "\n",
            "    arrange, count, desc, failwith, id, mutate, rename, summarise,\n",
            "    summarize\n",
            "\n",
            "\n",
            "The following object is masked from ‘package:Biobase’:\n",
            "\n",
            "    combine\n",
            "\n",
            "\n",
            "The following objects are masked from ‘package:GenomicRanges’:\n",
            "\n",
            "    intersect, setdiff, union\n",
            "\n",
            "\n",
            "The following object is masked from ‘package:GenomeInfoDb’:\n",
            "\n",
            "    intersect\n",
            "\n",
            "\n",
            "The following objects are masked from ‘package:IRanges’:\n",
            "\n",
            "    collapse, desc, intersect, setdiff, slice, union\n",
            "\n",
            "\n",
            "The following objects are masked from ‘package:S4Vectors’:\n",
            "\n",
            "    first, intersect, rename, setdiff, setequal, union\n",
            "\n",
            "\n",
            "The following objects are masked from ‘package:BiocGenerics’:\n",
            "\n",
            "    combine, intersect, setdiff, union\n",
            "\n",
            "\n",
            "The following object is masked from ‘package:matrixStats’:\n",
            "\n",
            "    count\n",
            "\n",
            "\n",
            "The following objects are masked from ‘package:stats’:\n",
            "\n",
            "    filter, lag\n",
            "\n",
            "\n",
            "The following objects are masked from ‘package:base’:\n",
            "\n",
            "    intersect, setdiff, setequal, union\n",
            "\n",
            "\n",
            "Loading required package: futile.logger\n",
            "\n",
            "Loading required package: ggplot2\n",
            "\n",
            "Loading required package: AnnotationDbi\n",
            "\n",
            "\n",
            "Attaching package: ‘AnnotationDbi’\n",
            "\n",
            "\n",
            "The following object is masked from ‘package:dplyr’:\n",
            "\n",
            "    select\n",
            "\n",
            "\n",
            "\n",
            "\n",
            "\n",
            "\n",
            "ChIPseeker v1.31.3.900  For help: https://guangchuangyu.github.io/software/ChIPseeker\n",
            "\n",
            "If you use ChIPseeker in published research, please cite:\n",
            "Guangchuang Yu, Li-Gen Wang, Qing-Yu He. ChIPseeker: an R/Bioconductor package for ChIP peak annotation, comparison and visualization. Bioinformatics 2015, 31(14):2382-2383\n",
            "\n",
            "\n",
            "Attaching package: ‘ChIPseeker’\n",
            "\n",
            "\n",
            "The following object is masked from ‘package:plyr’:\n",
            "\n",
            "    .\n",
            "\n",
            "\n",
            "clusterProfiler v4.2.2  For help: https://yulab-smu.top/biomedical-knowledge-mining-book/\n",
            "\n",
            "If you use clusterProfiler in published research, please cite:\n",
            "T Wu, E Hu, S Xu, M Chen, P Guo, Z Dai, T Feng, L Zhou, W Tang, L Zhan, X Fu, S Liu, X Bo, and G Yu. clusterProfiler 4.0: A universal enrichment tool for interpreting omics data. The Innovation. 2021, 2(3):100141\n",
            "\n",
            "\n",
            "Attaching package: ‘clusterProfiler’\n",
            "\n",
            "\n",
            "The following object is masked from ‘package:AnnotationDbi’:\n",
            "\n",
            "    select\n",
            "\n",
            "\n",
            "The following object is masked from ‘package:biomaRt’:\n",
            "\n",
            "    select\n",
            "\n",
            "\n",
            "The following objects are masked from ‘package:plyr’:\n",
            "\n",
            "    arrange, mutate, rename, summarise\n",
            "\n",
            "\n",
            "The following object is masked from ‘package:IRanges’:\n",
            "\n",
            "    slice\n",
            "\n",
            "\n",
            "The following object is masked from ‘package:S4Vectors’:\n",
            "\n",
            "    rename\n",
            "\n",
            "\n",
            "The following object is masked from ‘package:stats’:\n",
            "\n",
            "    filter\n",
            "\n",
            "\n",
            "\n",
            "Attaching package: ‘tidyr’\n",
            "\n",
            "\n",
            "The following object is masked from ‘package:S4Vectors’:\n",
            "\n",
            "    expand\n",
            "\n",
            "\n",
            "\n",
            "Attaching package: ‘Matrix’\n",
            "\n",
            "\n",
            "The following objects are masked from ‘package:tidyr’:\n",
            "\n",
            "    expand, pack, unpack\n",
            "\n",
            "\n",
            "The following object is masked from ‘package:S4Vectors’:\n",
            "\n",
            "    expand\n",
            "\n",
            "\n",
            "DOSE v3.20.1  For help: https://yulab-smu.top/biomedical-knowledge-mining-book/\n",
            "\n",
            "If you use DOSE in published research, please cite:\n",
            "Guangchuang Yu, Li-Gen Wang, Guang-Rong Yan, Qing-Yu He. DOSE: an R/Bioconductor package for Disease Ontology Semantic and Enrichment analysis. Bioinformatics 2015, 31(4):608-609\n",
            "\n",
            "\n",
            "ReactomePA v1.38.0  For help: https://yulab-smu.top/biomedical-knowledge-mining-book/\n",
            "\n",
            "If you use ReactomePA in published research, please cite:\n",
            "Guangchuang Yu, Qing-Yu He. ReactomePA: an R/Bioconductor package for reactome pathway analysis and visualization. Molecular BioSystems 2016, 12(2):477-479\n",
            "\n",
            "GOSemSim v2.20.0  For help: https://yulab-smu.top/biomedical-knowledge-mining-book/\n",
            "\n",
            "If you use GOSemSim in published research, please cite:\n",
            "\u001b[36m-\u001b[39m Guangchuang Yu. Gene Ontology Semantic Similarity Analysis Using GOSemSim. In: Kidder B. (eds) Stem Cell Transcriptional Networks. Methods in Molecular Biology, 2020, 2117:207-215. Humana, New York, NY. doi:10.1007/978-1-0716-0301-7_11\n",
            "\u001b[36m-\u001b[39m Guangchuang Yu, Fei Li, Yide Qin, Xiaochen Bo, Yibo Wu, Shengqi Wang. GOSemSim: an R package for measuring semantic similarity among GO terms and gene products Bioinformatics 2010, 26(7):976-978. doi:10.1093/bioinformatics/btq064\n",
            "\n",
            "\n",
            "\n",
            "\n",
            "Attaching package: ‘GOSemSim’\n",
            "\n",
            "\n",
            "The following objects are masked from ‘package:DOSE’:\n",
            "\n",
            "    clusterSim, geneSim, mclusterSim\n",
            "\n",
            "\n",
            "\n",
            "\n",
            "##############################################################################\n",
            "Pathview is an open source software package distributed under GNU General\n",
            "Public License version 3 (GPLv3). Details of GPLv3 is available at\n",
            "http://www.gnu.org/licenses/gpl-3.0.html. Particullary, users are required to\n",
            "formally cite the original Pathview paper (not just mention it) in publications\n",
            "or products. For details, do citation(\"pathview\") within R.\n",
            "\n",
            "The pathview downloads and uses KEGG data. Non-academic uses may require a KEGG\n",
            "license agreement (details at http://www.kegg.jp/kegg/legal.html).\n",
            "##############################################################################\n",
            "\n"
          ]
        }
      ]
    },
    {
      "cell_type": "markdown",
      "metadata": {
        "id": "RJJj0kumgiaK"
      },
      "source": [
        "# Download data processed on MSI"
      ]
    },
    {
      "cell_type": "markdown",
      "metadata": {
        "id": "zv3L_79Ffyir"
      },
      "source": [
        "Processed data using tximport to extract transcript-level abundance, estimated counts and transcript lengths. Summarized the abundance.tsv file from Kallisto."
      ]
    },
    {
      "cell_type": "code",
      "metadata": {
        "id": "W-CZWyDpP_YM"
      },
      "source": [
        "txi_file <- 'https://s3.msi.umn.edu/dsouz072/datasets/dataset=Foxk1_version=20191130a/Kallisto_reseq_txi_v1.rds'\n",
        "txi <- txi_file %>%\n",
        "  url() %>%\n",
        "  gzcon() %>%\n",
        "  readRDS()"
      ],
      "execution_count": null,
      "outputs": []
    },
    {
      "cell_type": "markdown",
      "metadata": {
        "id": "g7YdRSF9G1_N"
      },
      "source": [
        "Transcripts to gene txt from Kallisto for mm10"
      ]
    },
    {
      "cell_type": "code",
      "metadata": {
        "id": "kDmBBnZp_kZp"
      },
      "source": [
        "t2g_dat <- read.table('https://s3.msi.umn.edu/dsouz072/datasets/dataset=Foxk1_version=20191130a/transcripts_to_genes.txt', sep = '\\t')"
      ],
      "execution_count": null,
      "outputs": []
    },
    {
      "cell_type": "code",
      "metadata": {
        "colab": {
          "base_uri": "https://localhost:8080/",
          "height": 286
        },
        "id": "4o7xHSkpABPx",
        "outputId": "2e4d78e2-f871-433f-ec2c-434fdaa20b9d"
      },
      "source": [
        "colnames(t2g_dat) <- c('ensembl_transcript', 'ensembl_gene', 'gene_name')\n",
        "head(t2g_dat)"
      ],
      "execution_count": null,
      "outputs": [
        {
          "output_type": "display_data",
          "data": {
            "text/plain": [
              "  ensembl_transcript   ensembl_gene         gene_name    \n",
              "1 ENSMUST00000193812.1 ENSMUSG00000102693.1 4933401J01Rik\n",
              "2 ENSMUST00000082908.1 ENSMUSG00000064842.1 Gm26206      \n",
              "3 ENSMUST00000162897.1 ENSMUSG00000051951.5 Xkr4         \n",
              "4 ENSMUST00000159265.1 ENSMUSG00000051951.5 Xkr4         \n",
              "5 ENSMUST00000070533.4 ENSMUSG00000051951.5 Xkr4         \n",
              "6 ENSMUST00000192857.1 ENSMUSG00000102851.1 Gm18956      "
            ],
            "text/latex": "A data.frame: 6 × 3\n\\begin{tabular}{r|lll}\n  & ensembl\\_transcript & ensembl\\_gene & gene\\_name\\\\\n  & <chr> & <chr> & <chr>\\\\\n\\hline\n\t1 & ENSMUST00000193812.1 & ENSMUSG00000102693.1 & 4933401J01Rik\\\\\n\t2 & ENSMUST00000082908.1 & ENSMUSG00000064842.1 & Gm26206      \\\\\n\t3 & ENSMUST00000162897.1 & ENSMUSG00000051951.5 & Xkr4         \\\\\n\t4 & ENSMUST00000159265.1 & ENSMUSG00000051951.5 & Xkr4         \\\\\n\t5 & ENSMUST00000070533.4 & ENSMUSG00000051951.5 & Xkr4         \\\\\n\t6 & ENSMUST00000192857.1 & ENSMUSG00000102851.1 & Gm18956      \\\\\n\\end{tabular}\n",
            "text/markdown": "\nA data.frame: 6 × 3\n\n| <!--/--> | ensembl_transcript &lt;chr&gt; | ensembl_gene &lt;chr&gt; | gene_name &lt;chr&gt; |\n|---|---|---|---|\n| 1 | ENSMUST00000193812.1 | ENSMUSG00000102693.1 | 4933401J01Rik |\n| 2 | ENSMUST00000082908.1 | ENSMUSG00000064842.1 | Gm26206       |\n| 3 | ENSMUST00000162897.1 | ENSMUSG00000051951.5 | Xkr4          |\n| 4 | ENSMUST00000159265.1 | ENSMUSG00000051951.5 | Xkr4          |\n| 5 | ENSMUST00000070533.4 | ENSMUSG00000051951.5 | Xkr4          |\n| 6 | ENSMUST00000192857.1 | ENSMUSG00000102851.1 | Gm18956       |\n\n",
            "text/html": [
              "<table class=\"dataframe\">\n",
              "<caption>A data.frame: 6 × 3</caption>\n",
              "<thead>\n",
              "\t<tr><th></th><th scope=col>ensembl_transcript</th><th scope=col>ensembl_gene</th><th scope=col>gene_name</th></tr>\n",
              "\t<tr><th></th><th scope=col>&lt;chr&gt;</th><th scope=col>&lt;chr&gt;</th><th scope=col>&lt;chr&gt;</th></tr>\n",
              "</thead>\n",
              "<tbody>\n",
              "\t<tr><th scope=row>1</th><td>ENSMUST00000193812.1</td><td>ENSMUSG00000102693.1</td><td>4933401J01Rik</td></tr>\n",
              "\t<tr><th scope=row>2</th><td>ENSMUST00000082908.1</td><td>ENSMUSG00000064842.1</td><td>Gm26206      </td></tr>\n",
              "\t<tr><th scope=row>3</th><td>ENSMUST00000162897.1</td><td>ENSMUSG00000051951.5</td><td>Xkr4         </td></tr>\n",
              "\t<tr><th scope=row>4</th><td>ENSMUST00000159265.1</td><td>ENSMUSG00000051951.5</td><td>Xkr4         </td></tr>\n",
              "\t<tr><th scope=row>5</th><td>ENSMUST00000070533.4</td><td>ENSMUSG00000051951.5</td><td>Xkr4         </td></tr>\n",
              "\t<tr><th scope=row>6</th><td>ENSMUST00000192857.1</td><td>ENSMUSG00000102851.1</td><td>Gm18956      </td></tr>\n",
              "</tbody>\n",
              "</table>\n"
            ]
          },
          "metadata": {}
        }
      ]
    },
    {
      "cell_type": "markdown",
      "metadata": {
        "id": "FhbyAX9nHh1E"
      },
      "source": [
        "Text parsing to get the day and condition in the format 'D3_KO' for DESeq2"
      ]
    },
    {
      "cell_type": "code",
      "metadata": {
        "id": "1gxaQJXtYW4I"
      },
      "source": [
        "condition <- gsub('1_|2_|_iHAFoxk1_EB|Foxk1|_EB|_iHAFoxk1_EB', '', colnames(txi$counts)) ##parsing text to get the day and condition to get 'D3_KO' "
      ],
      "execution_count": null,
      "outputs": []
    },
    {
      "cell_type": "code",
      "metadata": {
        "id": "kDv5eeobfd1g"
      },
      "source": [
        "sampleTable <- as.data.frame(condition)"
      ],
      "execution_count": null,
      "outputs": []
    },
    {
      "cell_type": "code",
      "metadata": {
        "id": "L_7Bb8A5fpRz"
      },
      "source": [
        "rownames(sampleTable) <- colnames(txi$counts)"
      ],
      "execution_count": null,
      "outputs": []
    },
    {
      "cell_type": "code",
      "metadata": {
        "colab": {
          "base_uri": "https://localhost:8080/",
          "height": 286
        },
        "id": "eXAoC8TRhJ6Z",
        "outputId": "5d4d0f69-e75d-4ae3-d792-dd0f783787bb"
      },
      "source": [
        "head(sampleTable)"
      ],
      "execution_count": null,
      "outputs": [
        {
          "output_type": "display_data",
          "data": {
            "text/plain": [
              "                     condition\n",
              "1_D3_Foxk1KO_EB      D3_KO    \n",
              "1_D3_iHAFoxk1_EB_Dox D3_Dox   \n",
              "1_D3_iHAFoxk1_EB_ND  D3_ND    \n",
              "1_D5_Foxk1KO_EB      D5_KO    \n",
              "1_D5_iHAFoxk1_EB_Dox D5_Dox   \n",
              "1_D5_iHAFoxk1_EB_ND  D5_ND    "
            ],
            "text/latex": "A data.frame: 6 × 1\n\\begin{tabular}{r|l}\n  & condition\\\\\n  & <chr>\\\\\n\\hline\n\t1\\_D3\\_Foxk1KO\\_EB & D3\\_KO \\\\\n\t1\\_D3\\_iHAFoxk1\\_EB\\_Dox & D3\\_Dox\\\\\n\t1\\_D3\\_iHAFoxk1\\_EB\\_ND & D3\\_ND \\\\\n\t1\\_D5\\_Foxk1KO\\_EB & D5\\_KO \\\\\n\t1\\_D5\\_iHAFoxk1\\_EB\\_Dox & D5\\_Dox\\\\\n\t1\\_D5\\_iHAFoxk1\\_EB\\_ND & D5\\_ND \\\\\n\\end{tabular}\n",
            "text/markdown": "\nA data.frame: 6 × 1\n\n| <!--/--> | condition &lt;chr&gt; |\n|---|---|\n| 1_D3_Foxk1KO_EB | D3_KO  |\n| 1_D3_iHAFoxk1_EB_Dox | D3_Dox |\n| 1_D3_iHAFoxk1_EB_ND | D3_ND  |\n| 1_D5_Foxk1KO_EB | D5_KO  |\n| 1_D5_iHAFoxk1_EB_Dox | D5_Dox |\n| 1_D5_iHAFoxk1_EB_ND | D5_ND  |\n\n",
            "text/html": [
              "<table class=\"dataframe\">\n",
              "<caption>A data.frame: 6 × 1</caption>\n",
              "<thead>\n",
              "\t<tr><th></th><th scope=col>condition</th></tr>\n",
              "\t<tr><th></th><th scope=col>&lt;chr&gt;</th></tr>\n",
              "</thead>\n",
              "<tbody>\n",
              "\t<tr><th scope=row>1_D3_Foxk1KO_EB</th><td>D3_KO </td></tr>\n",
              "\t<tr><th scope=row>1_D3_iHAFoxk1_EB_Dox</th><td>D3_Dox</td></tr>\n",
              "\t<tr><th scope=row>1_D3_iHAFoxk1_EB_ND</th><td>D3_ND </td></tr>\n",
              "\t<tr><th scope=row>1_D5_Foxk1KO_EB</th><td>D5_KO </td></tr>\n",
              "\t<tr><th scope=row>1_D5_iHAFoxk1_EB_Dox</th><td>D5_Dox</td></tr>\n",
              "\t<tr><th scope=row>1_D5_iHAFoxk1_EB_ND</th><td>D5_ND </td></tr>\n",
              "</tbody>\n",
              "</table>\n"
            ]
          },
          "metadata": {}
        }
      ]
    },
    {
      "cell_type": "markdown",
      "metadata": {
        "id": "Q55AEEJ-hVNQ"
      },
      "source": [
        "# Normalize the read counts by DESeq2"
      ]
    },
    {
      "cell_type": "code",
      "metadata": {
        "colab": {
          "base_uri": "https://localhost:8080/"
        },
        "id": "wQLcvV1VYIIK",
        "outputId": "f382c5d2-aad3-435f-aa1a-365377942829"
      },
      "source": [
        "dds <- DESeqDataSetFromTximport(txi, sampleTable, ~condition)"
      ],
      "execution_count": null,
      "outputs": [
        {
          "output_type": "stream",
          "name": "stderr",
          "text": [
            "Warning message in DESeqDataSet(se, design = design, ignoreRank):\n",
            "“some variables in design formula are characters, converting to factors”\n",
            "using counts and average transcript lengths from tximport\n",
            "\n"
          ]
        }
      ]
    },
    {
      "cell_type": "code",
      "metadata": {
        "colab": {
          "base_uri": "https://localhost:8080/"
        },
        "id": "ShMK3aJ1f8c9",
        "outputId": "fe302683-eb21-4431-c5fb-d7fc43dbacca"
      },
      "source": [
        "dds_res <- DESeq(dds)"
      ],
      "execution_count": null,
      "outputs": [
        {
          "output_type": "stream",
          "name": "stderr",
          "text": [
            "estimating size factors\n",
            "\n",
            "using 'avgTxLength' from assays(dds), correcting for library size\n",
            "\n",
            "estimating dispersions\n",
            "\n",
            "gene-wise dispersion estimates\n",
            "\n",
            "mean-dispersion relationship\n",
            "\n",
            "final dispersion estimates\n",
            "\n",
            "fitting model and testing\n",
            "\n"
          ]
        }
      ]
    },
    {
      "cell_type": "markdown",
      "metadata": {
        "id": "ch1lLyaGLqhR"
      },
      "source": [
        "# Mapping Ensembl transcripts to gene symbols using transcripts_to_genes dataset"
      ]
    },
    {
      "cell_type": "code",
      "metadata": {
        "id": "lxKx1w__MIkC"
      },
      "source": [
        "ensembl_id <- as.data.frame(rownames(test_sub))\n",
        "colnames(ensembl_id) <- c('ensembl_gene_id') ##dataframe to comply with t2g ensembl transcript id"
      ],
      "execution_count": null,
      "outputs": []
    },
    {
      "cell_type": "code",
      "metadata": {
        "id": "jql_DzPqNRCo"
      },
      "source": [
        "ensembl_id$gene_name <- t2g_dat$gene_name[match(ensembl_id$ensembl_gene_id, t2g_dat$ensembl_gene)] ##Appending a column to ensembl dataframe when the ensembl transcript id of the subsetted countdata to the data from biomart"
      ],
      "execution_count": null,
      "outputs": []
    },
    {
      "cell_type": "markdown",
      "metadata": {
        "id": "aiyF0hwWPFo2"
      },
      "source": [
        "Heatmap for all the 18242 transcript level data"
      ]
    },
    {
      "cell_type": "code",
      "metadata": {
        "id": "hBzZ1Le2P9bx"
      },
      "source": [
        "scale_mat <- scale(t(counts(dds_res)))"
      ],
      "execution_count": null,
      "outputs": []
    },
    {
      "cell_type": "code",
      "metadata": {
        "colab": {
          "base_uri": "https://localhost:8080/",
          "height": 17
        },
        "id": "uVoM7RCviRTM",
        "outputId": "8fa39617-9dc6-4cc4-d7b1-a1fb8f135d39"
      },
      "source": [
        "scale_mat[is.na(scale_mat) == 'TRUE']"
      ],
      "execution_count": null,
      "outputs": [
        {
          "output_type": "display_data",
          "data": {
            "text/plain": [
              "numeric(0)"
            ],
            "text/latex": "",
            "text/markdown": "",
            "text/html": [
              ""
            ]
          },
          "metadata": {}
        }
      ]
    },
    {
      "cell_type": "code",
      "metadata": {
        "id": "ErCkqlzkh5Ro"
      },
      "source": [
        "mat <- t(scale_mat)"
      ],
      "execution_count": null,
      "outputs": []
    },
    {
      "cell_type": "code",
      "metadata": {
        "id": "3u6Rar66mXUx"
      },
      "source": [
        "rownames(mat) <- t2gadat$gene_name[match(rownames(mat), t2g_dat$ensembl_gene)]"
      ],
      "execution_count": null,
      "outputs": []
    },
    {
      "cell_type": "markdown",
      "metadata": {
        "id": "avdtjiSoPrpk"
      },
      "source": [
        "# WT(ND) Day 3 vs KO Day 3 DESeq2\n",
        "**654** genes are upregulated in WT day 3 and **703** genes are upregulated in KO Day 3"
      ]
    },
    {
      "cell_type": "code",
      "metadata": {
        "id": "AOY7UnT2zqkw"
      },
      "source": [
        "ND_d3 <- results(dds_res, contrast = c('condition', 'D3_ND', 'D3_KO'), alpha = 0.05) "
      ],
      "execution_count": null,
      "outputs": []
    },
    {
      "cell_type": "markdown",
      "metadata": {
        "id": "tDk_5vjWQJwQ"
      },
      "source": [
        "The below step is to get the data for log2 fold change equal to or greater than 1 with a significant p-adj value for ND D3 vs Ko D3. "
      ]
    },
    {
      "cell_type": "code",
      "metadata": {
        "id": "gt44qstlzDmH"
      },
      "source": [
        "sig <- ND_d3[!is.na(ND_d3$padj) & ND_d3$padj<0.05 & abs(ND_d3$log2FoldChange)>=1,] ##Subsetting significant values with absolute fold change above 1"
      ],
      "execution_count": null,
      "outputs": []
    },
    {
      "cell_type": "code",
      "metadata": {
        "colab": {
          "base_uri": "https://localhost:8080/",
          "height": 563
        },
        "id": "f-Yyh3Yi0jms",
        "outputId": "7987abff-182f-4a35-8ce8-8210a11846a6"
      },
      "source": [
        "head(sig)\n",
        "summary(sig)"
      ],
      "execution_count": null,
      "outputs": [
        {
          "output_type": "display_data",
          "data": {
            "text/plain": [
              "log2 fold change (MLE): condition D3_ND vs D3_KO \n",
              "Wald test p-value: condition D3_ND vs D3_KO \n",
              "DataFrame with 6 rows and 6 columns\n",
              "                       baseMean log2FoldChange     lfcSE      stat      pvalue\n",
              "                      <numeric>      <numeric> <numeric> <numeric>   <numeric>\n",
              "ENSMUSG00000000037.16   91.8038        1.65105  0.552885   2.98625 2.82421e-03\n",
              "ENSMUSG00000000093.6   193.1441        3.97214  1.084952   3.66112 2.51113e-04\n",
              "ENSMUSG00000000125.5   541.5975        1.89166  0.159316  11.87366 1.62218e-32\n",
              "ENSMUSG00000000126.11   52.3779       -1.91095  0.505067  -3.78355 1.54606e-04\n",
              "ENSMUSG00000000142.15 1077.8192        1.53942  0.159268   9.66562 4.22074e-22\n",
              "ENSMUSG00000000266.11   71.6997        1.10935  0.408277   2.71714 6.58488e-03\n",
              "                             padj\n",
              "                        <numeric>\n",
              "ENSMUSG00000000037.16 1.68848e-02\n",
              "ENSMUSG00000000093.6  2.17995e-03\n",
              "ENSMUSG00000000125.5  1.93746e-30\n",
              "ENSMUSG00000000126.11 1.43017e-03\n",
              "ENSMUSG00000000142.15 3.22212e-20\n",
              "ENSMUSG00000000266.11 3.35820e-02"
            ]
          },
          "metadata": {}
        },
        {
          "output_type": "stream",
          "name": "stdout",
          "text": [
            "\n",
            "out of 1347 with nonzero total read count\n",
            "adjusted p-value < 0.05\n",
            "LFC > 0 (up)       : 644, 48%\n",
            "LFC < 0 (down)     : 703, 52%\n",
            "outliers [1]       : 0, 0%\n",
            "low counts [2]     : 0, 0%\n",
            "(mean count < 5)\n",
            "[1] see 'cooksCutoff' argument of ?results\n",
            "[2] see 'independentFiltering' argument of ?results\n",
            "\n"
          ]
        }
      ]
    },
    {
      "cell_type": "code",
      "metadata": {
        "id": "BquGcivfPu5r"
      },
      "source": [
        "sig$gene_name <- t2g_dat$gene_name[match(rownames(sig), t2g_dat$ensembl_gene)] ## Adding a column with gene names in this dataset of significant genes in ND_D3 and KO_D3"
      ],
      "execution_count": null,
      "outputs": []
    },
    {
      "cell_type": "markdown",
      "metadata": {
        "id": "NosGoafmP99M"
      },
      "source": [
        "# WT(ND) Day 5 vs KO Day 5 DESeq2\n",
        "**951** genes are upregulated in WT day 5 and **1164** genes are upregulated in KO Day 5"
      ]
    },
    {
      "cell_type": "code",
      "metadata": {
        "id": "LX7n-wwn63sg"
      },
      "source": [
        "ND_d5 <- results(dds_res, contrast = c('condition', 'D5_ND', 'D5_KO'), alpha = 0.05)"
      ],
      "execution_count": null,
      "outputs": []
    },
    {
      "cell_type": "markdown",
      "metadata": {
        "id": "wVAf3s6NK-O9"
      },
      "source": [
        "The below step is to get the data for log2 fold change equal to or greater than 1 with a significant p-adj value for ND D3 vs Ko D3. "
      ]
    },
    {
      "cell_type": "code",
      "metadata": {
        "id": "ND_Lox0T7TxG"
      },
      "source": [
        "sig_d5 <- ND_d5[!is.na(ND_d5$padj) & ND_d5$padj<0.05 & abs(ND_d5$log2FoldChange)>=1,] ##Subsetting significant values with absolute fold change above 1"
      ],
      "execution_count": null,
      "outputs": []
    },
    {
      "cell_type": "code",
      "metadata": {
        "colab": {
          "base_uri": "https://localhost:8080/",
          "height": 563
        },
        "id": "OHxdXqUfWgPg",
        "outputId": "9a4d6299-f6cc-41c0-a61c-b4aef6a2a103"
      },
      "source": [
        "head(sig_d5)\n",
        "summary(sig_d5)"
      ],
      "execution_count": null,
      "outputs": [
        {
          "output_type": "display_data",
          "data": {
            "text/plain": [
              "log2 fold change (MLE): condition D5_ND vs D5_KO \n",
              "Wald test p-value: condition D5_ND vs D5_KO \n",
              "DataFrame with 6 rows and 6 columns\n",
              "                        baseMean log2FoldChange     lfcSE      stat      pvalue\n",
              "                       <numeric>      <numeric> <numeric> <numeric>   <numeric>\n",
              "ENSMUSG00000000093.6   193.14415        1.21940  0.277302   4.39736 1.09576e-05\n",
              "ENSMUSG00000000125.5   541.59745       -1.41064  0.177119  -7.96436 1.66080e-15\n",
              "ENSMUSG00000000126.11   52.37789       -1.82513  0.463660  -3.93635 8.27309e-05\n",
              "ENSMUSG00000000184.12 1035.89402        1.25131  0.184717   6.77419 1.25102e-11\n",
              "ENSMUSG00000000202.9     6.91225       -6.74538  1.967815  -3.42785 6.08371e-04\n",
              "ENSMUSG00000000303.12 4234.45452       -2.53622  0.243429 -10.41873 2.03649e-25\n",
              "                             padj\n",
              "                        <numeric>\n",
              "ENSMUSG00000000093.6  9.49015e-05\n",
              "ENSMUSG00000000125.5  5.89843e-14\n",
              "ENSMUSG00000000126.11 5.78491e-04\n",
              "ENSMUSG00000000184.12 2.95497e-10\n",
              "ENSMUSG00000000202.9  3.23983e-03\n",
              "ENSMUSG00000000303.12 1.50802e-23"
            ]
          },
          "metadata": {}
        },
        {
          "output_type": "stream",
          "name": "stdout",
          "text": [
            "\n",
            "out of 2115 with nonzero total read count\n",
            "adjusted p-value < 0.05\n",
            "LFC > 0 (up)       : 951, 45%\n",
            "LFC < 0 (down)     : 1164, 55%\n",
            "outliers [1]       : 0, 0%\n",
            "low counts [2]     : 0, 0%\n",
            "(mean count < 5)\n",
            "[1] see 'cooksCutoff' argument of ?results\n",
            "[2] see 'independentFiltering' argument of ?results\n",
            "\n"
          ]
        }
      ]
    },
    {
      "cell_type": "code",
      "metadata": {
        "id": "UrVXuOvfXHL2"
      },
      "source": [
        "sig_d5$gene_name <- t2g_dat$gene_name[match(rownames(sig_d5), t2g_dat$ensembl_gene)] ## Adding a column with gene names in this dataset of significant genes in ND_D3 and KO_D3"
      ],
      "execution_count": null,
      "outputs": []
    },
    {
      "cell_type": "markdown",
      "metadata": {
        "id": "Gzb9RaS3cjJj"
      },
      "source": [
        "# Pathway analysis for RNA seq WT vs KO Day 3 and Day 5 respectively\n"
      ]
    },
    {
      "cell_type": "markdown",
      "metadata": {
        "id": "VVMjfDOftKBD"
      },
      "source": [
        "## GO enrichment analysis for ND D3 vs KO D3\n",
        "The GO enrichment analysis from clusterprofiler shows us cardiac development related biological processes among the top 5 biological process for WT Day 3, after using the filter to incude terms that contain 'pathway|cascade|development|regeneration'.\n",
        "\n",
        "The padj values from the over-representation test for them are significant as well."
      ]
    },
    {
      "cell_type": "code",
      "metadata": {
        "id": "hHv45GjAr8gw"
      },
      "source": [
        "up_nd <- sig[sig$log2FoldChange > 0,] ##Upregulated in ND d3 and Downregulated in KO d3\n",
        "down_nd <- sig[sig$log2FoldChange < 0,] ##Upregulated in KO d3 and Downregulated in ND d3"
      ],
      "execution_count": null,
      "outputs": []
    },
    {
      "cell_type": "markdown",
      "metadata": {
        "id": "FjQtUEqLceL6"
      },
      "source": [
        " Mapping gene symbols to entrez ID"
      ]
    },
    {
      "cell_type": "code",
      "metadata": {
        "colab": {
          "base_uri": "https://localhost:8080/"
        },
        "id": "RY08PSFrtVZB",
        "outputId": "6af049e5-2d16-4230-860a-ddf91c9dad85"
      },
      "source": [
        "nd_d3 <- mapIds(org.Mm.eg.db, up_nd$gene_name, 'ENTREZID', 'SYMBOL')\n",
        "ko_d3 <- mapIds(org.Mm.eg.db, down_nd$gene_name, 'ENTREZID', 'SYMBOL')"
      ],
      "execution_count": null,
      "outputs": [
        {
          "output_type": "stream",
          "name": "stderr",
          "text": [
            "'select()' returned 1:1 mapping between keys and columns\n",
            "\n",
            "'select()' returned 1:1 mapping between keys and columns\n",
            "\n"
          ]
        }
      ]
    },
    {
      "cell_type": "markdown",
      "metadata": {
        "id": "ucCEcVJRdCaa"
      },
      "source": [
        "### ND D3 GO enrichment analysis"
      ]
    },
    {
      "cell_type": "code",
      "metadata": {
        "id": "D6YkVHWovKo0"
      },
      "source": [
        "nd_dat <- enrichGO(gene = nd_d3,\n",
        "                OrgDb         = org.Mm.eg.db,\n",
        "                ont           = \"BP\",\n",
        "                pAdjustMethod = \"BH\",\n",
        "                pvalueCutoff  = 0.05,\n",
        "                qvalueCutoff  = 0.05,\n",
        "        readable      = TRUE)"
      ],
      "execution_count": null,
      "outputs": []
    },
    {
      "cell_type": "code",
      "metadata": {
        "id": "_vuEqR1-8HCj"
      },
      "source": [
        "enrich_path <- nd_dat%>% filter(str_detect(Description, 'Notch|Hif|Wnt')) #%>% filter(!str_detect(Description, 'negative|positive')) ##subsetting data to keep terms that include pathway, cascade, development, regeneration and cardiac and excludes negative and positive"
      ],
      "execution_count": null,
      "outputs": []
    },
    {
      "cell_type": "markdown",
      "metadata": {
        "id": "R_KhwD4cdLYN"
      },
      "source": [
        "### KO D3 GO enrichment analysis"
      ]
    },
    {
      "cell_type": "code",
      "metadata": {
        "id": "3j0v-Ho3xp9U"
      },
      "source": [
        "ko_dat <- enrichGO(gene = ko_d3,\n",
        "                OrgDb         = org.Mm.eg.db,\n",
        "                ont           = \"BP\",\n",
        "                pAdjustMethod = \"BH\",\n",
        "                pvalueCutoff  = 0.05,\n",
        "                qvalueCutoff  = 0.05,\n",
        "        readable      = TRUE)"
      ],
      "execution_count": null,
      "outputs": []
    },
    {
      "cell_type": "code",
      "metadata": {
        "id": "s7SBcI-U9WB4"
      },
      "source": [
        "enrich_ko_path <- ko_dat%>% filter(str_detect(Description, 'Notch|Hif|Wnt')) #%>% filter(!str_detect(Description, 'negative|positive')) ##subsetting data to keep terms that include pathway, cascade, development, regeneration and cardiac and excludes negative and positive"
      ],
      "execution_count": null,
      "outputs": []
    },
    {
      "cell_type": "markdown",
      "metadata": {
        "id": "oN2ddXho3PR0"
      },
      "source": [
        "## GO enrichment analysis for ND D5 vs KO D5\n",
        "The GO enrichment analysis from clusterprofiler shows us muscle tissue and cardiac development related biological processes among the top 5 biological process for WT day 5, after using the filter to incude terms that contain 'pathway|cascade|development|regeneration'.\n",
        "\n",
        "The padj values from the over-representation test for them are significant as well."
      ]
    },
    {
      "cell_type": "code",
      "metadata": {
        "id": "hQb7XlBq3MgI"
      },
      "source": [
        "up_nd_d5 <- sig_d5[sig_d5$log2FoldChange > 0,] ##Upregulated in ND d5 and Downregulated in KO d5\n",
        "down_nd_d5 <- sig_d5[sig_d5$log2FoldChange < 0,] ##Upregulated in KO d5 and Downregulated in ND d5"
      ],
      "execution_count": null,
      "outputs": []
    },
    {
      "cell_type": "markdown",
      "metadata": {
        "id": "6IksEuJLd_up"
      },
      "source": [
        " Mapping gene symbols to entrez ID"
      ]
    },
    {
      "cell_type": "code",
      "metadata": {
        "colab": {
          "base_uri": "https://localhost:8080/"
        },
        "id": "fiKvAiAT3k4Q",
        "outputId": "ed43770e-e721-4908-f492-ac97508ecbe4"
      },
      "source": [
        "nd_d5 <- mapIds(org.Mm.eg.db, up_nd_d5$gene_name, 'ENTREZID', 'SYMBOL')\n",
        "ko_d5 <- mapIds(org.Mm.eg.db, down_nd_d5$gene_name, 'ENTREZID', 'SYMBOL')"
      ],
      "execution_count": null,
      "outputs": [
        {
          "output_type": "stream",
          "name": "stderr",
          "text": [
            "'select()' returned 1:1 mapping between keys and columns\n",
            "\n",
            "'select()' returned 1:1 mapping between keys and columns\n",
            "\n"
          ]
        }
      ]
    },
    {
      "cell_type": "markdown",
      "metadata": {
        "id": "Hj4qgKzktZ9E"
      },
      "source": [
        "### ND D5 Go enrichment analysis"
      ]
    },
    {
      "cell_type": "code",
      "metadata": {
        "id": "B2LqyVTn32kM"
      },
      "source": [
        "nd_dat_d5 <- enrichGO(gene = nd_d5,\n",
        "                OrgDb         = org.Mm.eg.db,\n",
        "                ont           = \"BP\",\n",
        "                pAdjustMethod = \"BH\",\n",
        "                pvalueCutoff  = 0.05,\n",
        "                qvalueCutoff  = 0.05,\n",
        "        readable      = TRUE)"
      ],
      "execution_count": null,
      "outputs": []
    },
    {
      "cell_type": "code",
      "metadata": {
        "id": "-k6KHBRG9g1R"
      },
      "source": [
        "enrich_nd_d5_path <- nd_dat_d5 %>% filter(str_detect(Description, 'Notch|Hif|Wnt')) #%>% filter(!str_detect(Description, 'negative|positive')) ##subsetting data to keep terms that include pathway, cascade, development, regeneration and cardiac and excludes negative and positive"
      ],
      "execution_count": null,
      "outputs": []
    },
    {
      "cell_type": "markdown",
      "metadata": {
        "id": "PJtpUyvytfpm"
      },
      "source": [
        "### KO D5 Go enrichment analysis"
      ]
    },
    {
      "cell_type": "code",
      "metadata": {
        "id": "dFtup7Wy4Lqp"
      },
      "source": [
        "ko_dat_d5 <- enrichGO(gene = ko_d5,\n",
        "                OrgDb         = org.Mm.eg.db,\n",
        "                ont           = \"BP\",\n",
        "                pAdjustMethod = \"BH\",\n",
        "                pvalueCutoff  = 0.05,\n",
        "                qvalueCutoff  = 0.05,\n",
        "               readable      = TRUE)"
      ],
      "execution_count": null,
      "outputs": []
    },
    {
      "cell_type": "code",
      "metadata": {
        "id": "M93IlbKx9wWo"
      },
      "source": [
        "enrich_ko_d5_path <- ko_dat_d5%>% filter(str_detect(Description, 'Notch|Hif|Wnt')) #%>% filter(!str_detect(Description, 'negative|positive')) ##subsetting data to keep terms that include pathway, cascade, development, regeneration and cardiac and excludes negative and positive"
      ],
      "execution_count": null,
      "outputs": []
    },
    {
      "cell_type": "code",
      "metadata": {
        "colab": {
          "base_uri": "https://localhost:8080/"
        },
        "id": "iRIE6-_N_jcp",
        "outputId": "939a3f7f-b955-4e89-9cee-f126ee2198e1"
      },
      "source": [
        "tab <- Reduce(function(x, y) merge(x, y, by = 'Description', all=TRUE), list(enrich_path[,c('Description', 'pvalue')], enrich_nd_d5_path[,c('Description', 'pvalue')], enrich_ko_path[,c('Description', 'pvalue')], enrich_ko_d5_path[,c('Description', 'pvalue')]))"
      ],
      "execution_count": null,
      "outputs": [
        {
          "output_type": "stream",
          "name": "stderr",
          "text": [
            "Warning message in merge.data.frame(x, y, by = \"Description\", all = TRUE):\n",
            "“column names ‘pvalue.x’, ‘pvalue.y’ are duplicated in the result”\n"
          ]
        }
      ]
    },
    {
      "cell_type": "code",
      "metadata": {
        "id": "OH0I2_FrA_p-"
      },
      "source": [
        "colnames(tab) <- c('Pathway','ND_D3', 'ND_D5', 'KO_D3', 'KO_D5')"
      ],
      "execution_count": null,
      "outputs": []
    },
    {
      "cell_type": "code",
      "metadata": {
        "id": "Jwaekk0UCIw3"
      },
      "source": [
        "pval <- tab\n",
        "rownames(pval) <- pval$Pathway"
      ],
      "execution_count": null,
      "outputs": []
    },
    {
      "cell_type": "code",
      "metadata": {
        "id": "xjorOv3aCU7c"
      },
      "source": [
        "pval <- pval[,c('ND_D3', 'ND_D5', 'KO_D3', 'KO_D5')]"
      ],
      "execution_count": null,
      "outputs": []
    },
    {
      "cell_type": "code",
      "metadata": {
        "id": "pqinoYZNCgl-"
      },
      "source": [
        "pval <- -log10(pval)\n",
        "pval[is.na(pval)] <- 0"
      ],
      "execution_count": null,
      "outputs": []
    },
    {
      "cell_type": "code",
      "source": [
        "d5_wnt <- pval[!pval$KO_D5 == 0,]"
      ],
      "metadata": {
        "id": "qDPXYAo-lIKG"
      },
      "execution_count": null,
      "outputs": []
    },
    {
      "cell_type": "code",
      "source": [
        "d5_wnt <- d5_wnt[!grepl('Notch', rownames(d5_wnt)),]\n",
        "d5_wnt <- d5_wnt[,c('ND_D5','KO_D5')]"
      ],
      "metadata": {
        "id": "pMcvEIUWlWBX"
      },
      "execution_count": null,
      "outputs": []
    },
    {
      "cell_type": "code",
      "source": [
        "d5_wnt <- d5_wnt[d5_wnt$ND_D5 < d5_wnt$KO_D5,]"
      ],
      "metadata": {
        "id": "Bl0RQ5JmKJkp"
      },
      "execution_count": null,
      "outputs": []
    },
    {
      "cell_type": "markdown",
      "source": [
        "#Wnt Signaling pathways at Day 5 between Control and KO"
      ],
      "metadata": {
        "id": "xipUdadCmA-x"
      }
    },
    {
      "cell_type": "code",
      "metadata": {
        "colab": {
          "base_uri": "https://localhost:8080/",
          "height": 377
        },
        "id": "snybOKzmtZ6d",
        "outputId": "b9921fb5-aade-4d12-f68c-6b5b0a444fe0"
      },
      "source": [
        "column_annotation <- HeatmapAnnotation(\n",
        "  Condition = colnames(d5_wnt),\n",
        "  col = list(Condition = c(\"ND_D5\" = \"cornflowerblue\", \"KO_D5\" = \"black\")), \n",
        "  gp = gpar(col = \"white\")\n",
        ")\n",
        "\n",
        "col_fun <- colorRamp2(quantile(as.matrix(d5_wnt), c(0.1, 0.5, 0.9)), c(\"blue\", \"black\", \"red\"))\n",
        "\n",
        "options(repr.plot.width=10, repr.plot.height = 6)\n",
        "Heatmap(\n",
        "  as.matrix(d5_wnt),\n",
        "  cluster_rows = TRUE,\n",
        "  cluster_columns = FALSE,\n",
        "  top_annotation = column_annotation,\n",
        "  show_row_names = TRUE,\n",
        "  show_column_names = FALSE,\n",
        "  show_column_dend = FALSE,\n",
        "  col = col_fun,\n",
        "  show_row_dend = FALSE,\n",
        "  rect_gp = gpar(col = \"white\", lwd = 0.5),\n",
        "  row_names_gp = gpar(fontsize = 9))"
      ],
      "execution_count": null,
      "outputs": [
        {
          "output_type": "display_data",
          "data": {
            "image/png": "[encoded data removed]",
            "text/plain": [
              "plot without title"
            ]
          },
          "metadata": {
            "image/png": {
              "width": 600,
              "height": 360
            }
          }
        }
      ]
    },
    {
      "cell_type": "markdown",
      "source": [
        "# Top 20 genes in pathways below upregulated in Foxk1 KO\n",
        "Wnt signaling pathway & regulation of Notch signaling pathway"
      ],
      "metadata": {
        "id": "C_DD-5-IfGiM"
      }
    },
    {
      "cell_type": "code",
      "metadata": {
        "id": "LabgBPQ4oNmB"
      },
      "source": [
        "ko_d5 <- strsplit(unlist(as.data.frame(enrich_ko_d5_path)[as.data.frame(enrich_ko_d5_path)$Description %in% c('Wnt signaling pathway','regulation of Notch signaling pathway'),]$geneID), \"\\\\/\")"
      ],
      "execution_count": null,
      "outputs": []
    },
    {
      "cell_type": "code",
      "metadata": {
        "id": "DHaV0WFUoNjY"
      },
      "source": [
        "ko_d5 <- unique(c(ko_d5[[1]], ko_d5[[2]]))"
      ],
      "execution_count": null,
      "outputs": []
    },
    {
      "cell_type": "code",
      "source": [
        "ko_genes <- data.frame(down_nd_d5[down_nd_d5$gene_name %in% ko_d5,]) %>% arrange(log2FoldChange)"
      ],
      "metadata": {
        "id": "d1f00aZAJhfu"
      },
      "execution_count": null,
      "outputs": []
    },
    {
      "cell_type": "code",
      "source": [
        "ko_genes <- head(ko_genes$gene_name, 20)"
      ],
      "metadata": {
        "id": "LdPShq4xiFl1"
      },
      "execution_count": null,
      "outputs": []
    },
    {
      "cell_type": "code",
      "metadata": {
        "id": "pZwSpyqDicc3"
      },
      "source": [
        "ko <- mat[rownames(mat) %in% ko_genes,] ## subsetting countdata to significant genes"
      ],
      "execution_count": null,
      "outputs": []
    },
    {
      "cell_type": "code",
      "source": [
        "ko <- ko[,colnames(ko)[grepl('D5_Foxk1KO|D5_iHAFoxk1_EB_ND', colnames(ko))]]"
      ],
      "metadata": {
        "id": "65nvnQXZiu2r"
      },
      "execution_count": null,
      "outputs": []
    },
    {
      "cell_type": "markdown",
      "source": [
        "# Heatmap showing expression of top 20 Wnt genes in Control and KO"
      ],
      "metadata": {
        "id": "orIAizRimETR"
      }
    },
    {
      "cell_type": "code",
      "source": [
        "ko <- ko[,c('1_D5_iHAFoxk1_EB_ND','2_D5_iHAFoxk1_EB_ND','2_D5_Foxk1KO_EB','1_D5_Foxk1KO_EB')]"
      ],
      "metadata": {
        "id": "DmVSva1yJFEh"
      },
      "execution_count": null,
      "outputs": []
    },
    {
      "cell_type": "code",
      "metadata": {
        "colab": {
          "base_uri": "https://localhost:8080/",
          "height": 617
        },
        "outputId": "3cf77552-c447-4666-da28-972f2bcbad17",
        "id": "wVGtI6RSicc8"
      },
      "source": [
        "column_annotation <- HeatmapAnnotation(\n",
        "  Condition = colnames(ko),\n",
        "  col = list(Condition = c(\n",
        "  \"1_D5_iHAFoxk1_EB_ND\" = \"cornflowerblue\", \"2_D5_iHAFoxk1_EB_ND\" = \"cornflowerblue\", \"1_D5_Foxk1KO_EB\" = \"black\", \"2_D5_Foxk1KO_EB\" = \"black\")),\n",
        "  gp = gpar(col = \"white\")\n",
        ")\n",
        "\n",
        "col_fun <- colorRamp2(quantile(ko, c(0.1, 0.5, 0.9)), c(\"blue\", \"black\", \"red\"))\n",
        "\n",
        "options(repr.plot.width=8, repr.plot.height = 10)\n",
        "Heatmap(\n",
        "  ko,\n",
        "  cluster_rows = TRUE,\n",
        "  cluster_columns = FALSE,\n",
        "  top_annotation = column_annotation,\n",
        "  show_row_names = TRUE,\n",
        "  show_column_names = FALSE,\n",
        "  show_column_dend = FALSE,\n",
        "  col = col_fun,\n",
        "  show_row_dend = FALSE,\n",
        "  row_names_gp = gpar(fontsize = 15)) "
      ],
      "execution_count": null,
      "outputs": [
        {
          "output_type": "display_data",
          "data": {
            "image/png": "[encoded data removed]",
            "text/plain": [
              "plot without title"
            ]
          },
          "metadata": {
            "image/png": {
              "width": 480,
              "height": 600
            }
          }
        }
      ]
    },
    {
      "cell_type": "code",
      "metadata": {
        "colab": {
          "base_uri": "https://localhost:8080/",
          "height": 35
        },
        "id": "6sd_7V0UvZ8V",
        "outputId": "e6656dc8-a478-41cc-8a6a-b64ed7facfe8"
      },
      "source": [
        "Sys.time() - start_time0"
      ],
      "execution_count": null,
      "outputs": [
        {
          "output_type": "display_data",
          "data": {
            "text/plain": [
              "Time difference of 44.69763 mins"
            ]
          },
          "metadata": {}
        }
      ]
    },
    {
      "cell_type": "code",
      "metadata": {
        "colab": {
          "base_uri": "https://localhost:8080/",
          "height": 1000
        },
        "id": "KQmJclTzvheu",
        "outputId": "29704dec-3e36-4fc4-b8ef-0493035141e0"
      },
      "source": [
        "sessionInfo()"
      ],
      "execution_count": null,
      "outputs": [
        {
          "output_type": "display_data",
          "data": {
            "text/plain": [
              "R version 4.1.2 (2021-11-01)\n",
              "Platform: x86_64-pc-linux-gnu (64-bit)\n",
              "Running under: Ubuntu 18.04.5 LTS\n",
              "\n",
              "Matrix products: default\n",
              "BLAS:   /usr/lib/x86_64-linux-gnu/openblas/libblas.so.3\n",
              "LAPACK: /usr/lib/x86_64-linux-gnu/libopenblasp-r0.2.20.so\n",
              "\n",
              "locale:\n",
              " [1] LC_CTYPE=en_US.UTF-8       LC_NUMERIC=C              \n",
              " [3] LC_TIME=en_US.UTF-8        LC_COLLATE=en_US.UTF-8    \n",
              " [5] LC_MONETARY=en_US.UTF-8    LC_MESSAGES=en_US.UTF-8   \n",
              " [7] LC_PAPER=en_US.UTF-8       LC_NAME=C                 \n",
              " [9] LC_ADDRESS=C               LC_TELEPHONE=C            \n",
              "[11] LC_MEASUREMENT=en_US.UTF-8 LC_IDENTIFICATION=C       \n",
              "\n",
              "attached base packages:\n",
              "[1] grid      stats4    stats     graphics  grDevices utils     datasets \n",
              "[8] methods   base     \n",
              "\n",
              "other attached packages:\n",
              " [1] gageData_2.32.0             gage_2.44.0                \n",
              " [3] pathview_1.34.0             enrichplot_1.13.1.992      \n",
              " [5] GOSemSim_2.20.0             ggnewscale_0.4.6           \n",
              " [7] ReactomePA_1.38.0           DOSE_3.20.1                \n",
              " [9] stringr_1.4.0               GO.db_3.14.0               \n",
              "[11] Matrix_1.4-0                tidyr_1.2.0                \n",
              "[13] clusterProfiler_4.2.2       ChIPseeker_1.31.3.900      \n",
              "[15] org.Mm.eg.db_3.14.0         AnnotationDbi_1.56.2       \n",
              "[17] biomaRt_2.50.3              apeglm_1.16.0              \n",
              "[19] ggwordcloud_0.5.0           ggplot2_3.3.5              \n",
              "[21] VennDiagram_1.7.1           futile.logger_1.4.3        \n",
              "[23] DESeq2_1.34.0               dplyr_1.0.8                \n",
              "[25] plyr_1.8.6                  ComplexHeatmap_2.11.1      \n",
              "[27] circlize_0.4.14             gplots_3.1.1               \n",
              "[29] SummarizedExperiment_1.24.0 Biobase_2.54.0             \n",
              "[31] GenomicRanges_1.46.1        GenomeInfoDb_1.30.1        \n",
              "[33] IRanges_2.28.0              S4Vectors_0.32.3           \n",
              "[35] BiocGenerics_0.40.0         MatrixGenerics_1.6.0       \n",
              "[37] matrixStats_0.61.0          BiocParallel_1.28.3        \n",
              "\n",
              "loaded via a namespace (and not attached):\n",
              "  [1] rappdirs_0.3.3                         \n",
              "  [2] rtracklayer_1.54.0                     \n",
              "  [3] pbdZMQ_0.3-6                           \n",
              "  [4] coda_0.19-4                            \n",
              "  [5] bit64_4.0.5                            \n",
              "  [6] DelayedArray_0.20.0                    \n",
              "  [7] data.table_1.14.2                      \n",
              "  [8] KEGGREST_1.34.0                        \n",
              "  [9] RCurl_1.98-1.6                         \n",
              " [10] doParallel_1.0.17                      \n",
              " [11] generics_0.1.2                         \n",
              " [12] GenomicFeatures_1.46.4                 \n",
              " [13] callr_3.7.0                            \n",
              " [14] lambda.r_1.2.4                         \n",
              " [15] usethis_2.1.5                          \n",
              " [16] RSQLite_2.2.9                          \n",
              " [17] shadowtext_0.1.1                       \n",
              " [18] bit_4.0.4                              \n",
              " [19] xml2_1.3.3                             \n",
              " [20] assertthat_0.2.1                       \n",
              " [21] viridis_0.6.2                          \n",
              " [22] hms_1.1.1                              \n",
              " [23] evaluate_0.14                          \n",
              " [24] fansi_1.0.2                            \n",
              " [25] restfulr_0.0.13                        \n",
              " [26] progress_1.2.2                         \n",
              " [27] caTools_1.18.2                         \n",
              " [28] dbplyr_2.1.1                           \n",
              " [29] Rgraphviz_2.38.0                       \n",
              " [30] igraph_1.2.11                          \n",
              " [31] DBI_1.1.2                              \n",
              " [32] geneplotter_1.72.0                     \n",
              " [33] purrr_0.3.4                            \n",
              " [34] ellipsis_0.3.2                         \n",
              " [35] backports_1.4.1                        \n",
              " [36] annotate_1.72.0                        \n",
              " [37] vctrs_0.3.8                            \n",
              " [38] Cairo_1.5-14                           \n",
              " [39] remotes_2.4.2                          \n",
              " [40] cachem_1.0.6                           \n",
              " [41] withr_2.4.3                            \n",
              " [42] ggforce_0.3.3                          \n",
              " [43] bdsmatrix_1.3-4                        \n",
              " [44] checkmate_2.0.0                        \n",
              " [45] GenomicAlignments_1.30.0               \n",
              " [46] treeio_1.18.1                          \n",
              " [47] prettyunits_1.1.1                      \n",
              " [48] cluster_2.1.2                          \n",
              " [49] ape_5.6-1                              \n",
              " [50] IRdisplay_1.1                          \n",
              " [51] lazyeval_0.2.2                         \n",
              " [52] crayon_1.4.2                           \n",
              " [53] genefilter_1.76.0                      \n",
              " [54] labeling_0.4.2                         \n",
              " [55] pkgconfig_2.0.3                        \n",
              " [56] tweenr_1.0.2                           \n",
              " [57] nlme_3.1-155                           \n",
              " [58] pkgload_1.2.4                          \n",
              " [59] devtools_2.4.3                         \n",
              " [60] rlang_1.0.0                            \n",
              " [61] lifecycle_1.0.1                        \n",
              " [62] downloader_0.4                         \n",
              " [63] filelock_1.0.2                         \n",
              " [64] BiocFileCache_2.2.1                    \n",
              " [65] rprojroot_2.0.2                        \n",
              " [66] polyclip_1.10-0                        \n",
              " [67] graph_1.72.0                           \n",
              " [68] aplot_0.1.2                            \n",
              " [69] IRkernel_1.3                           \n",
              " [70] boot_1.3-28                            \n",
              " [71] base64enc_0.1-3                        \n",
              " [72] GlobalOptions_0.1.2                    \n",
              " [73] processx_3.5.2                         \n",
              " [74] png_0.1-7                              \n",
              " [75] viridisLite_0.4.0                      \n",
              " [76] rjson_0.2.21                           \n",
              " [77] bitops_1.0-7                           \n",
              " [78] KernSmooth_2.23-20                     \n",
              " [79] Biostrings_2.62.0                      \n",
              " [80] blob_1.2.2                             \n",
              " [81] shape_1.4.6                            \n",
              " [82] qvalue_2.26.0                          \n",
              " [83] gridGraphics_0.5-1                     \n",
              " [84] reactome.db_1.77.0                     \n",
              " [85] scales_1.1.1                           \n",
              " [86] memoise_2.0.1                          \n",
              " [87] graphite_1.40.0                        \n",
              " [88] magrittr_2.0.2                         \n",
              " [89] zlibbioc_1.40.0                        \n",
              " [90] compiler_4.1.2                         \n",
              " [91] scatterpie_0.1.7                       \n",
              " [92] BiocIO_1.4.0                           \n",
              " [93] bbmle_1.0.24                           \n",
              " [94] RColorBrewer_1.1-2                     \n",
              " [95] plotrix_3.8-2                          \n",
              " [96] clue_0.3-60                            \n",
              " [97] KEGGgraph_1.54.0                       \n",
              " [98] Rsamtools_2.10.0                       \n",
              " [99] cli_3.1.1                              \n",
              "[100] XVector_0.34.0                         \n",
              "[101] patchwork_1.1.1                        \n",
              "[102] ps_1.6.0                               \n",
              "[103] formatR_1.11                           \n",
              "[104] MASS_7.3-55                            \n",
              "[105] tidyselect_1.1.1                       \n",
              "[106] stringi_1.7.6                          \n",
              "[107] emdbook_1.3.12                         \n",
              "[108] yaml_2.2.2                             \n",
              "[109] locfit_1.5-9.4                         \n",
              "[110] ggrepel_0.9.1                          \n",
              "[111] fastmatch_1.1-3                        \n",
              "[112] tools_4.1.2                            \n",
              "[113] parallel_4.1.2                         \n",
              "[114] uuid_1.0-3                             \n",
              "[115] foreach_1.5.2                          \n",
              "[116] TxDb.Hsapiens.UCSC.hg19.knownGene_3.2.2\n",
              "[117] gridExtra_2.3                          \n",
              "[118] farver_2.1.0                           \n",
              "[119] ggraph_2.0.5                           \n",
              "[120] digest_0.6.29                          \n",
              "[121] BiocManager_1.30.16                    \n",
              "[122] Rcpp_1.0.8                             \n",
              "[123] org.Hs.eg.db_3.14.0                    \n",
              "[124] httr_1.4.2                             \n",
              "[125] colorspace_2.0-2                       \n",
              "[126] brio_1.1.3                             \n",
              "[127] XML_3.99-0.8                           \n",
              "[128] fs_1.5.2                               \n",
              "[129] splines_4.1.2                          \n",
              "[130] yulab.utils_0.0.4                      \n",
              "[131] tidytree_0.3.7                         \n",
              "[132] graphlayouts_0.8.0                     \n",
              "[133] ggplotify_0.1.0                        \n",
              "[134] sessioninfo_1.2.2                      \n",
              "[135] xtable_1.8-4                           \n",
              "[136] jsonlite_1.7.3                         \n",
              "[137] ggtree_3.2.1                           \n",
              "[138] futile.options_1.0.1                   \n",
              "[139] tidygraph_1.2.0                        \n",
              "[140] ggfun_0.0.5                            \n",
              "[141] testthat_3.1.2                         \n",
              "[142] R6_2.5.1                               \n",
              "[143] pillar_1.6.5                           \n",
              "[144] htmltools_0.5.2                        \n",
              "[145] glue_1.6.1                             \n",
              "[146] fastmap_1.1.0                          \n",
              "[147] codetools_0.2-18                       \n",
              "[148] fgsea_1.20.0                           \n",
              "[149] pkgbuild_1.3.1                         \n",
              "[150] mvtnorm_1.1-3                          \n",
              "[151] utf8_1.2.2                             \n",
              "[152] lattice_0.20-45                        \n",
              "[153] tibble_3.1.6                           \n",
              "[154] numDeriv_2016.8-1.1                    \n",
              "[155] curl_4.3.2                             \n",
              "[156] gtools_3.9.2                           \n",
              "[157] survival_3.2-13                        \n",
              "[158] repr_1.1.4                             \n",
              "[159] desc_1.4.0                             \n",
              "[160] munsell_0.5.0                          \n",
              "[161] DO.db_2.9                              \n",
              "[162] GetoptLong_1.0.5                       \n",
              "[163] GenomeInfoDbData_1.2.7                 \n",
              "[164] iterators_1.0.14                       \n",
              "[165] reshape2_1.4.4                         \n",
              "[166] gtable_0.3.0                           "
            ]
          },
          "metadata": {}
        }
      ]
    }
  ]
}