{
  "nbformat": 4,
  "nbformat_minor": 0,
  "metadata": {
    "colab": {
      "name": "Supplementary 4cd Foxk1_RNA_ATAC_Integration_chromVAR.ipynb",
      "provenance": [],
      "collapsed_sections": [],
      "toc_visible": true,
      "authorship_tag": "ABX9TyPvUlZgcLjzXbVejuaXmOum",
      "include_colab_link": true
    },
    "kernelspec": {
      "display_name": "R",
      "name": "ir"
    }
  },
  "cells": [
    {
      "cell_type": "markdown",
      "metadata": {
        "id": "view-in-github",
        "colab_type": "text"
      },
      "source": [
        "<a href=\"https://colab.research.google.com/github/djglab/Foxk1_manuscript/blob/main/notebooks/Supplementary_4cd_Foxk1_RNA_ATAC_Integration_chromVAR.ipynb\" target=\"_parent\"><img src=\"https://colab.research.google.com/assets/colab-badge.svg\" alt=\"Open In Colab\"/></a>"
      ]
    },
    {
      "cell_type": "markdown",
      "metadata": {
        "id": "x6RQthVBwtFn"
      },
      "source": [
        "The goal of this notebook is to evaluate the pathways upregulated in genes commonly upregulated between RNA and ATAC data to see TFs highlighted from chromVar."
      ]
    },
    {
      "cell_type": "code",
      "metadata": {
        "id": "HcoiiR6DsUVb"
      },
      "source": [
        "start_time0 <- Sys.time()"
      ],
      "execution_count": null,
      "outputs": []
    },
    {
      "cell_type": "markdown",
      "metadata": {
        "id": "qzSQyz_V3ZSh"
      },
      "source": [
        "#**Install external packages**"
      ]
    },
    {
      "cell_type": "code",
      "metadata": {
        "colab": {
          "base_uri": "https://localhost:8080/",
          "height": 763
        },
        "id": "6S3o7Qbzsf8s",
        "outputId": "013cabf4-11fb-4c6b-aa3d-831573e208f0"
      },
      "source": [
        "system('apt-get -q install libgsl-dev', intern = TRUE)\n",
        "system('apt-get install libcairo2-dev', intern = TRUE)"
      ],
      "execution_count": null,
      "outputs": [
        {
          "output_type": "display_data",
          "data": {
            "text/html": [
              "<style>\n",
              ".list-inline {list-style: none; margin:0; padding: 0}\n",
              ".list-inline>li {display: inline-block}\n",
              ".list-inline>li:not(:last-child)::after {content: \"\\00b7\"; padding: 0 .5ex}\n",
              "</style>\n",
              "<ol class=list-inline><li>'Reading package lists...'</li><li>'Building dependency tree...'</li><li>'Reading state information...'</li><li>'The following additional packages will be installed:'</li><li><span style=white-space:pre-wrap>'  libgsl23 libgslcblas0'</span></li><li>'Suggested packages:'</li><li><span style=white-space:pre-wrap>'  gsl-ref-psdoc | gsl-doc-pdf | gsl-doc-info | gsl-ref-html'</span></li><li>'The following NEW packages will be installed:'</li><li><span style=white-space:pre-wrap>'  libgsl-dev libgsl23 libgslcblas0'</span></li><li>'0 upgraded, 3 newly installed, 0 to remove and 39 not upgraded.'</li><li>'Need to get 1,926 kB of archives.'</li><li>'After this operation, 9,474 kB of additional disk space will be used.'</li><li>'Get:1 http://archive.ubuntu.com/ubuntu bionic/universe amd64 libgslcblas0 amd64 2.4+dfsg-6 [79.7 kB]'</li><li>'Get:2 http://archive.ubuntu.com/ubuntu bionic/universe amd64 libgsl23 amd64 2.4+dfsg-6 [823 kB]'</li><li>'Get:3 http://archive.ubuntu.com/ubuntu bionic/universe amd64 libgsl-dev amd64 2.4+dfsg-6 [1,023 kB]'</li><li>'Fetched 1,926 kB in 0s (5,537 kB/s)'</li><li>'Selecting previously unselected package libgslcblas0:amd64.\\r'</li><li>'(Reading database ... \\r(Reading database ... 5%\\r(Reading database ... 10%\\r(Reading database ... 15%\\r(Reading database ... 20%\\r(Reading database ... 25%\\r(Reading database ... 30%\\r(Reading database ... 35%\\r(Reading database ... 40%\\r(Reading database ... 45%\\r(Reading database ... 50%\\r(Reading database ... 55%\\r(Reading database ... 60%\\r(Reading database ... 65%\\r(Reading database ... 70%\\r(Reading database ... 75%\\r(Reading database ... 80%\\r(Reading database ... 85%\\r(Reading database ... 90%\\r(Reading database ... 95%\\r(Reading database ... 100%\\r(Reading database ... 156210 files and directories currently installed.)\\r'</li><li>'Preparing to unpack .../libgslcblas0_2.4+dfsg-6_amd64.deb ...\\r'</li><li>'Unpacking libgslcblas0:amd64 (2.4+dfsg-6) ...\\r'</li><li>'Selecting previously unselected package libgsl23:amd64.\\r'</li><li>'Preparing to unpack .../libgsl23_2.4+dfsg-6_amd64.deb ...\\r'</li><li>'Unpacking libgsl23:amd64 (2.4+dfsg-6) ...\\r'</li><li>'Selecting previously unselected package libgsl-dev.\\r'</li><li>'Preparing to unpack .../libgsl-dev_2.4+dfsg-6_amd64.deb ...\\r'</li><li>'Unpacking libgsl-dev (2.4+dfsg-6) ...\\r'</li><li>'Setting up libgslcblas0:amd64 (2.4+dfsg-6) ...\\r'</li><li>'Setting up libgsl23:amd64 (2.4+dfsg-6) ...\\r'</li><li>'Setting up libgsl-dev (2.4+dfsg-6) ...\\r'</li><li>'Processing triggers for man-db (2.8.3-2ubuntu0.1) ...\\r'</li><li>'Processing triggers for libc-bin (2.27-3ubuntu1.3) ...\\r'</li><li>'/sbin/ldconfig.real: /usr/local/lib/python3.7/dist-packages/ideep4py/lib/libmkldnn.so.0 is not a symbolic link\\r'</li><li>'\\r'</li></ol>\n"
            ],
            "text/markdown": "1. 'Reading package lists...'\n2. 'Building dependency tree...'\n3. 'Reading state information...'\n4. 'The following additional packages will be installed:'\n5. <span style=white-space:pre-wrap>'  libgsl23 libgslcblas0'</span>\n6. 'Suggested packages:'\n7. <span style=white-space:pre-wrap>'  gsl-ref-psdoc | gsl-doc-pdf | gsl-doc-info | gsl-ref-html'</span>\n8. 'The following NEW packages will be installed:'\n9. <span style=white-space:pre-wrap>'  libgsl-dev libgsl23 libgslcblas0'</span>\n10. '0 upgraded, 3 newly installed, 0 to remove and 39 not upgraded.'\n11. 'Need to get 1,926 kB of archives.'\n12. 'After this operation, 9,474 kB of additional disk space will be used.'\n13. 'Get:1 http://archive.ubuntu.com/ubuntu bionic/universe amd64 libgslcblas0 amd64 2.4+dfsg-6 [79.7 kB]'\n14. 'Get:2 http://archive.ubuntu.com/ubuntu bionic/universe amd64 libgsl23 amd64 2.4+dfsg-6 [823 kB]'\n15. 'Get:3 http://archive.ubuntu.com/ubuntu bionic/universe amd64 libgsl-dev amd64 2.4+dfsg-6 [1,023 kB]'\n16. 'Fetched 1,926 kB in 0s (5,537 kB/s)'\n17. 'Selecting previously unselected package libgslcblas0:amd64.\\r'\n18. '(Reading database ... \\r(Reading database ... 5%\\r(Reading database ... 10%\\r(Reading database ... 15%\\r(Reading database ... 20%\\r(Reading database ... 25%\\r(Reading database ... 30%\\r(Reading database ... 35%\\r(Reading database ... 40%\\r(Reading database ... 45%\\r(Reading database ... 50%\\r(Reading database ... 55%\\r(Reading database ... 60%\\r(Reading database ... 65%\\r(Reading database ... 70%\\r(Reading database ... 75%\\r(Reading database ... 80%\\r(Reading database ... 85%\\r(Reading database ... 90%\\r(Reading database ... 95%\\r(Reading database ... 100%\\r(Reading database ... 156210 files and directories currently installed.)\\r'\n19. 'Preparing to unpack .../libgslcblas0_2.4+dfsg-6_amd64.deb ...\\r'\n20. 'Unpacking libgslcblas0:amd64 (2.4+dfsg-6) ...\\r'\n21. 'Selecting previously unselected package libgsl23:amd64.\\r'\n22. 'Preparing to unpack .../libgsl23_2.4+dfsg-6_amd64.deb ...\\r'\n23. 'Unpacking libgsl23:amd64 (2.4+dfsg-6) ...\\r'\n24. 'Selecting previously unselected package libgsl-dev.\\r'\n25. 'Preparing to unpack .../libgsl-dev_2.4+dfsg-6_amd64.deb ...\\r'\n26. 'Unpacking libgsl-dev (2.4+dfsg-6) ...\\r'\n27. 'Setting up libgslcblas0:amd64 (2.4+dfsg-6) ...\\r'\n28. 'Setting up libgsl23:amd64 (2.4+dfsg-6) ...\\r'\n29. 'Setting up libgsl-dev (2.4+dfsg-6) ...\\r'\n30. 'Processing triggers for man-db (2.8.3-2ubuntu0.1) ...\\r'\n31. 'Processing triggers for libc-bin (2.27-3ubuntu1.3) ...\\r'\n32. '/sbin/ldconfig.real: /usr/local/lib/python3.7/dist-packages/ideep4py/lib/libmkldnn.so.0 is not a symbolic link\\r'\n33. '\\r'\n\n\n",
            "text/latex": "\\begin{enumerate*}\n\\item 'Reading package lists...'\n\\item 'Building dependency tree...'\n\\item 'Reading state information...'\n\\item 'The following additional packages will be installed:'\n\\item '  libgsl23 libgslcblas0'\n\\item 'Suggested packages:'\n\\item '  gsl-ref-psdoc \\textbar{} gsl-doc-pdf \\textbar{} gsl-doc-info \\textbar{} gsl-ref-html'\n\\item 'The following NEW packages will be installed:'\n\\item '  libgsl-dev libgsl23 libgslcblas0'\n\\item '0 upgraded, 3 newly installed, 0 to remove and 39 not upgraded.'\n\\item 'Need to get 1,926 kB of archives.'\n\\item 'After this operation, 9,474 kB of additional disk space will be used.'\n\\item 'Get:1 http://archive.ubuntu.com/ubuntu bionic/universe amd64 libgslcblas0 amd64 2.4+dfsg-6 {[}79.7 kB{]}'\n\\item 'Get:2 http://archive.ubuntu.com/ubuntu bionic/universe amd64 libgsl23 amd64 2.4+dfsg-6 {[}823 kB{]}'\n\\item 'Get:3 http://archive.ubuntu.com/ubuntu bionic/universe amd64 libgsl-dev amd64 2.4+dfsg-6 {[}1,023 kB{]}'\n\\item 'Fetched 1,926 kB in 0s (5,537 kB/s)'\n\\item 'Selecting previously unselected package libgslcblas0:amd64.\\textbackslash{}r'\n\\item '(Reading database ... \\textbackslash{}r(Reading database ... 5\\%\\textbackslash{}r(Reading database ... 10\\%\\textbackslash{}r(Reading database ... 15\\%\\textbackslash{}r(Reading database ... 20\\%\\textbackslash{}r(Reading database ... 25\\%\\textbackslash{}r(Reading database ... 30\\%\\textbackslash{}r(Reading database ... 35\\%\\textbackslash{}r(Reading database ... 40\\%\\textbackslash{}r(Reading database ... 45\\%\\textbackslash{}r(Reading database ... 50\\%\\textbackslash{}r(Reading database ... 55\\%\\textbackslash{}r(Reading database ... 60\\%\\textbackslash{}r(Reading database ... 65\\%\\textbackslash{}r(Reading database ... 70\\%\\textbackslash{}r(Reading database ... 75\\%\\textbackslash{}r(Reading database ... 80\\%\\textbackslash{}r(Reading database ... 85\\%\\textbackslash{}r(Reading database ... 90\\%\\textbackslash{}r(Reading database ... 95\\%\\textbackslash{}r(Reading database ... 100\\%\\textbackslash{}r(Reading database ... 156210 files and directories currently installed.)\\textbackslash{}r'\n\\item 'Preparing to unpack .../libgslcblas0\\_2.4+dfsg-6\\_amd64.deb ...\\textbackslash{}r'\n\\item 'Unpacking libgslcblas0:amd64 (2.4+dfsg-6) ...\\textbackslash{}r'\n\\item 'Selecting previously unselected package libgsl23:amd64.\\textbackslash{}r'\n\\item 'Preparing to unpack .../libgsl23\\_2.4+dfsg-6\\_amd64.deb ...\\textbackslash{}r'\n\\item 'Unpacking libgsl23:amd64 (2.4+dfsg-6) ...\\textbackslash{}r'\n\\item 'Selecting previously unselected package libgsl-dev.\\textbackslash{}r'\n\\item 'Preparing to unpack .../libgsl-dev\\_2.4+dfsg-6\\_amd64.deb ...\\textbackslash{}r'\n\\item 'Unpacking libgsl-dev (2.4+dfsg-6) ...\\textbackslash{}r'\n\\item 'Setting up libgslcblas0:amd64 (2.4+dfsg-6) ...\\textbackslash{}r'\n\\item 'Setting up libgsl23:amd64 (2.4+dfsg-6) ...\\textbackslash{}r'\n\\item 'Setting up libgsl-dev (2.4+dfsg-6) ...\\textbackslash{}r'\n\\item 'Processing triggers for man-db (2.8.3-2ubuntu0.1) ...\\textbackslash{}r'\n\\item 'Processing triggers for libc-bin (2.27-3ubuntu1.3) ...\\textbackslash{}r'\n\\item '/sbin/ldconfig.real: /usr/local/lib/python3.7/dist-packages/ideep4py/lib/libmkldnn.so.0 is not a symbolic link\\textbackslash{}r'\n\\item '\\textbackslash{}r'\n\\end{enumerate*}\n",
            "text/plain": [
              " [1] \"Reading package lists...\"                                                                                                                                                                                                                                                                                                                                                                                                                                                                                                                                                                                                                                      \n",
              " [2] \"Building dependency tree...\"                                                                                                                                                                                                                                                                                                                                                                                                                                                                                                                                                                                                                                   \n",
              " [3] \"Reading state information...\"                                                                                                                                                                                                                                                                                                                                                                                                                                                                                                                                                                                                                                  \n",
              " [4] \"The following additional packages will be installed:\"                                                                                                                                                                                                                                                                                                                                                                                                                                                                                                                                                                                                          \n",
              " [5] \"  libgsl23 libgslcblas0\"                                                                                                                                                                                                                                                                                                                                                                                                                                                                                                                                                                                                                                       \n",
              " [6] \"Suggested packages:\"                                                                                                                                                                                                                                                                                                                                                                                                                                                                                                                                                                                                                                           \n",
              " [7] \"  gsl-ref-psdoc | gsl-doc-pdf | gsl-doc-info | gsl-ref-html\"                                                                                                                                                                                                                                                                                                                                                                                                                                                                                                                                                                                                   \n",
              " [8] \"The following NEW packages will be installed:\"                                                                                                                                                                                                                                                                                                                                                                                                                                                                                                                                                                                                                 \n",
              " [9] \"  libgsl-dev libgsl23 libgslcblas0\"                                                                                                                                                                                                                                                                                                                                                                                                                                                                                                                                                                                                                            \n",
              "[10] \"0 upgraded, 3 newly installed, 0 to remove and 39 not upgraded.\"                                                                                                                                                                                                                                                                                                                                                                                                                                                                                                                                                                                               \n",
              "[11] \"Need to get 1,926 kB of archives.\"                                                                                                                                                                                                                                                                                                                                                                                                                                                                                                                                                                                                                             \n",
              "[12] \"After this operation, 9,474 kB of additional disk space will be used.\"                                                                                                                                                                                                                                                                                                                                                                                                                                                                                                                                                                                         \n",
              "[13] \"Get:1 http://archive.ubuntu.com/ubuntu bionic/universe amd64 libgslcblas0 amd64 2.4+dfsg-6 [79.7 kB]\"                                                                                                                                                                                                                                                                                                                                                                                                                                                                                                                                                          \n",
              "[14] \"Get:2 http://archive.ubuntu.com/ubuntu bionic/universe amd64 libgsl23 amd64 2.4+dfsg-6 [823 kB]\"                                                                                                                                                                                                                                                                                                                                                                                                                                                                                                                                                               \n",
              "[15] \"Get:3 http://archive.ubuntu.com/ubuntu bionic/universe amd64 libgsl-dev amd64 2.4+dfsg-6 [1,023 kB]\"                                                                                                                                                                                                                                                                                                                                                                                                                                                                                                                                                           \n",
              "[16] \"Fetched 1,926 kB in 0s (5,537 kB/s)\"                                                                                                                                                                                                                                                                                                                                                                                                                                                                                                                                                                                                                           \n",
              "[17] \"Selecting previously unselected package libgslcblas0:amd64.\\r\"                                                                                                                                                                                                                                                                                                                                                                                                                                                                                                                                                                                                 \n",
              "[18] \"(Reading database ... \\r(Reading database ... 5%\\r(Reading database ... 10%\\r(Reading database ... 15%\\r(Reading database ... 20%\\r(Reading database ... 25%\\r(Reading database ... 30%\\r(Reading database ... 35%\\r(Reading database ... 40%\\r(Reading database ... 45%\\r(Reading database ... 50%\\r(Reading database ... 55%\\r(Reading database ... 60%\\r(Reading database ... 65%\\r(Reading database ... 70%\\r(Reading database ... 75%\\r(Reading database ... 80%\\r(Reading database ... 85%\\r(Reading database ... 90%\\r(Reading database ... 95%\\r(Reading database ... 100%\\r(Reading database ... 156210 files and directories currently installed.)\\r\"\n",
              "[19] \"Preparing to unpack .../libgslcblas0_2.4+dfsg-6_amd64.deb ...\\r\"                                                                                                                                                                                                                                                                                                                                                                                                                                                                                                                                                                                               \n",
              "[20] \"Unpacking libgslcblas0:amd64 (2.4+dfsg-6) ...\\r\"                                                                                                                                                                                                                                                                                                                                                                                                                                                                                                                                                                                                               \n",
              "[21] \"Selecting previously unselected package libgsl23:amd64.\\r\"                                                                                                                                                                                                                                                                                                                                                                                                                                                                                                                                                                                                     \n",
              "[22] \"Preparing to unpack .../libgsl23_2.4+dfsg-6_amd64.deb ...\\r\"                                                                                                                                                                                                                                                                                                                                                                                                                                                                                                                                                                                                   \n",
              "[23] \"Unpacking libgsl23:amd64 (2.4+dfsg-6) ...\\r\"                                                                                                                                                                                                                                                                                                                                                                                                                                                                                                                                                                                                                   \n",
              "[24] \"Selecting previously unselected package libgsl-dev.\\r\"                                                                                                                                                                                                                                                                                                                                                                                                                                                                                                                                                                                                         \n",
              "[25] \"Preparing to unpack .../libgsl-dev_2.4+dfsg-6_amd64.deb ...\\r\"                                                                                                                                                                                                                                                                                                                                                                                                                                                                                                                                                                                                 \n",
              "[26] \"Unpacking libgsl-dev (2.4+dfsg-6) ...\\r\"                                                                                                                                                                                                                                                                                                                                                                                                                                                                                                                                                                                                                       \n",
              "[27] \"Setting up libgslcblas0:amd64 (2.4+dfsg-6) ...\\r\"                                                                                                                                                                                                                                                                                                                                                                                                                                                                                                                                                                                                              \n",
              "[28] \"Setting up libgsl23:amd64 (2.4+dfsg-6) ...\\r\"                                                                                                                                                                                                                                                                                                                                                                                                                                                                                                                                                                                                                  \n",
              "[29] \"Setting up libgsl-dev (2.4+dfsg-6) ...\\r\"                                                                                                                                                                                                                                                                                                                                                                                                                                                                                                                                                                                                                      \n",
              "[30] \"Processing triggers for man-db (2.8.3-2ubuntu0.1) ...\\r\"                                                                                                                                                                                                                                                                                                                                                                                                                                                                                                                                                                                                       \n",
              "[31] \"Processing triggers for libc-bin (2.27-3ubuntu1.3) ...\\r\"                                                                                                                                                                                                                                                                                                                                                                                                                                                                                                                                                                                                      \n",
              "[32] \"/sbin/ldconfig.real: /usr/local/lib/python3.7/dist-packages/ideep4py/lib/libmkldnn.so.0 is not a symbolic link\\r\"                                                                                                                                                                                                                                                                                                                                                                                                                                                                                                                                              \n",
              "[33] \"\\r\"                                                                                                                                                                                                                                                                                                                                                                                                                                                                                                                                                                                                                                                            "
            ]
          },
          "metadata": {}
        },
        {
          "output_type": "display_data",
          "data": {
            "text/html": [
              "<style>\n",
              ".list-inline {list-style: none; margin:0; padding: 0}\n",
              ".list-inline>li {display: inline-block}\n",
              ".list-inline>li:not(:last-child)::after {content: \"\\00b7\"; padding: 0 .5ex}\n",
              "</style>\n",
              "<ol class=list-inline><li>'Reading package lists...'</li><li>'Building dependency tree...'</li><li>'Reading state information...'</li><li>'The following additional packages will be installed:'</li><li><span style=white-space:pre-wrap>'  libcairo-script-interpreter2 libpixman-1-dev libxcb-shm0-dev'</span></li><li>'Suggested packages:'</li><li><span style=white-space:pre-wrap>'  libcairo2-doc'</span></li><li>'The following NEW packages will be installed:'</li><li><span style=white-space:pre-wrap>'  libcairo-script-interpreter2 libcairo2-dev libpixman-1-dev libxcb-shm0-dev'</span></li><li>'0 upgraded, 4 newly installed, 0 to remove and 39 not upgraded.'</li><li>'Need to get 930 kB of archives.'</li><li>'After this operation, 3,986 kB of additional disk space will be used.'</li><li>'Get:1 http://archive.ubuntu.com/ubuntu bionic-updates/main amd64 libcairo-script-interpreter2 amd64 1.15.10-2ubuntu0.1 [53.5 kB]'</li><li>'Get:2 http://archive.ubuntu.com/ubuntu bionic/main amd64 libpixman-1-dev amd64 0.34.0-2 [244 kB]'</li><li>'Get:3 http://archive.ubuntu.com/ubuntu bionic-updates/main amd64 libxcb-shm0-dev amd64 1.13-2~ubuntu18.04 [6,684 B]'</li><li>'Get:4 http://archive.ubuntu.com/ubuntu bionic-updates/main amd64 libcairo2-dev amd64 1.15.10-2ubuntu0.1 [626 kB]'</li><li>'Fetched 930 kB in 0s (3,029 kB/s)'</li><li>'Selecting previously unselected package libcairo-script-interpreter2:amd64.\\r'</li><li>'(Reading database ... \\r(Reading database ... 5%\\r(Reading database ... 10%\\r(Reading database ... 15%\\r(Reading database ... 20%\\r(Reading database ... 25%\\r(Reading database ... 30%\\r(Reading database ... 35%\\r(Reading database ... 40%\\r(Reading database ... 45%\\r(Reading database ... 50%\\r(Reading database ... 55%\\r(Reading database ... 60%\\r(Reading database ... 65%\\r(Reading database ... 70%\\r(Reading database ... 75%\\r(Reading database ... 80%\\r(Reading database ... 85%\\r(Reading database ... 90%\\r(Reading database ... 95%\\r(Reading database ... 100%\\r(Reading database ... 156482 files and directories currently installed.)\\r'</li><li>'Preparing to unpack .../libcairo-script-interpreter2_1.15.10-2ubuntu0.1_amd64.deb ...\\r'</li><li>'Unpacking libcairo-script-interpreter2:amd64 (1.15.10-2ubuntu0.1) ...\\r'</li><li>'Selecting previously unselected package libpixman-1-dev:amd64.\\r'</li><li>'Preparing to unpack .../libpixman-1-dev_0.34.0-2_amd64.deb ...\\r'</li><li>'Unpacking libpixman-1-dev:amd64 (0.34.0-2) ...\\r'</li><li>'Selecting previously unselected package libxcb-shm0-dev:amd64.\\r'</li><li>'Preparing to unpack .../libxcb-shm0-dev_1.13-2~ubuntu18.04_amd64.deb ...\\r'</li><li>'Unpacking libxcb-shm0-dev:amd64 (1.13-2~ubuntu18.04) ...\\r'</li><li>'Selecting previously unselected package libcairo2-dev:amd64.\\r'</li><li>'Preparing to unpack .../libcairo2-dev_1.15.10-2ubuntu0.1_amd64.deb ...\\r'</li><li>'Unpacking libcairo2-dev:amd64 (1.15.10-2ubuntu0.1) ...\\r'</li><li>'Setting up libcairo-script-interpreter2:amd64 (1.15.10-2ubuntu0.1) ...\\r'</li><li>'Setting up libxcb-shm0-dev:amd64 (1.13-2~ubuntu18.04) ...\\r'</li><li>'Setting up libpixman-1-dev:amd64 (0.34.0-2) ...\\r'</li><li>'Setting up libcairo2-dev:amd64 (1.15.10-2ubuntu0.1) ...\\r'</li><li>'Processing triggers for libc-bin (2.27-3ubuntu1.3) ...\\r'</li><li>'/sbin/ldconfig.real: /usr/local/lib/python3.7/dist-packages/ideep4py/lib/libmkldnn.so.0 is not a symbolic link\\r'</li><li>'\\r'</li></ol>\n"
            ],
            "text/markdown": "1. 'Reading package lists...'\n2. 'Building dependency tree...'\n3. 'Reading state information...'\n4. 'The following additional packages will be installed:'\n5. <span style=white-space:pre-wrap>'  libcairo-script-interpreter2 libpixman-1-dev libxcb-shm0-dev'</span>\n6. 'Suggested packages:'\n7. <span style=white-space:pre-wrap>'  libcairo2-doc'</span>\n8. 'The following NEW packages will be installed:'\n9. <span style=white-space:pre-wrap>'  libcairo-script-interpreter2 libcairo2-dev libpixman-1-dev libxcb-shm0-dev'</span>\n10. '0 upgraded, 4 newly installed, 0 to remove and 39 not upgraded.'\n11. 'Need to get 930 kB of archives.'\n12. 'After this operation, 3,986 kB of additional disk space will be used.'\n13. 'Get:1 http://archive.ubuntu.com/ubuntu bionic-updates/main amd64 libcairo-script-interpreter2 amd64 1.15.10-2ubuntu0.1 [53.5 kB]'\n14. 'Get:2 http://archive.ubuntu.com/ubuntu bionic/main amd64 libpixman-1-dev amd64 0.34.0-2 [244 kB]'\n15. 'Get:3 http://archive.ubuntu.com/ubuntu bionic-updates/main amd64 libxcb-shm0-dev amd64 1.13-2~ubuntu18.04 [6,684 B]'\n16. 'Get:4 http://archive.ubuntu.com/ubuntu bionic-updates/main amd64 libcairo2-dev amd64 1.15.10-2ubuntu0.1 [626 kB]'\n17. 'Fetched 930 kB in 0s (3,029 kB/s)'\n18. 'Selecting previously unselected package libcairo-script-interpreter2:amd64.\\r'\n19. '(Reading database ... \\r(Reading database ... 5%\\r(Reading database ... 10%\\r(Reading database ... 15%\\r(Reading database ... 20%\\r(Reading database ... 25%\\r(Reading database ... 30%\\r(Reading database ... 35%\\r(Reading database ... 40%\\r(Reading database ... 45%\\r(Reading database ... 50%\\r(Reading database ... 55%\\r(Reading database ... 60%\\r(Reading database ... 65%\\r(Reading database ... 70%\\r(Reading database ... 75%\\r(Reading database ... 80%\\r(Reading database ... 85%\\r(Reading database ... 90%\\r(Reading database ... 95%\\r(Reading database ... 100%\\r(Reading database ... 156482 files and directories currently installed.)\\r'\n20. 'Preparing to unpack .../libcairo-script-interpreter2_1.15.10-2ubuntu0.1_amd64.deb ...\\r'\n21. 'Unpacking libcairo-script-interpreter2:amd64 (1.15.10-2ubuntu0.1) ...\\r'\n22. 'Selecting previously unselected package libpixman-1-dev:amd64.\\r'\n23. 'Preparing to unpack .../libpixman-1-dev_0.34.0-2_amd64.deb ...\\r'\n24. 'Unpacking libpixman-1-dev:amd64 (0.34.0-2) ...\\r'\n25. 'Selecting previously unselected package libxcb-shm0-dev:amd64.\\r'\n26. 'Preparing to unpack .../libxcb-shm0-dev_1.13-2~ubuntu18.04_amd64.deb ...\\r'\n27. 'Unpacking libxcb-shm0-dev:amd64 (1.13-2~ubuntu18.04) ...\\r'\n28. 'Selecting previously unselected package libcairo2-dev:amd64.\\r'\n29. 'Preparing to unpack .../libcairo2-dev_1.15.10-2ubuntu0.1_amd64.deb ...\\r'\n30. 'Unpacking libcairo2-dev:amd64 (1.15.10-2ubuntu0.1) ...\\r'\n31. 'Setting up libcairo-script-interpreter2:amd64 (1.15.10-2ubuntu0.1) ...\\r'\n32. 'Setting up libxcb-shm0-dev:amd64 (1.13-2~ubuntu18.04) ...\\r'\n33. 'Setting up libpixman-1-dev:amd64 (0.34.0-2) ...\\r'\n34. 'Setting up libcairo2-dev:amd64 (1.15.10-2ubuntu0.1) ...\\r'\n35. 'Processing triggers for libc-bin (2.27-3ubuntu1.3) ...\\r'\n36. '/sbin/ldconfig.real: /usr/local/lib/python3.7/dist-packages/ideep4py/lib/libmkldnn.so.0 is not a symbolic link\\r'\n37. '\\r'\n\n\n",
            "text/latex": "\\begin{enumerate*}\n\\item 'Reading package lists...'\n\\item 'Building dependency tree...'\n\\item 'Reading state information...'\n\\item 'The following additional packages will be installed:'\n\\item '  libcairo-script-interpreter2 libpixman-1-dev libxcb-shm0-dev'\n\\item 'Suggested packages:'\n\\item '  libcairo2-doc'\n\\item 'The following NEW packages will be installed:'\n\\item '  libcairo-script-interpreter2 libcairo2-dev libpixman-1-dev libxcb-shm0-dev'\n\\item '0 upgraded, 4 newly installed, 0 to remove and 39 not upgraded.'\n\\item 'Need to get 930 kB of archives.'\n\\item 'After this operation, 3,986 kB of additional disk space will be used.'\n\\item 'Get:1 http://archive.ubuntu.com/ubuntu bionic-updates/main amd64 libcairo-script-interpreter2 amd64 1.15.10-2ubuntu0.1 {[}53.5 kB{]}'\n\\item 'Get:2 http://archive.ubuntu.com/ubuntu bionic/main amd64 libpixman-1-dev amd64 0.34.0-2 {[}244 kB{]}'\n\\item 'Get:3 http://archive.ubuntu.com/ubuntu bionic-updates/main amd64 libxcb-shm0-dev amd64 1.13-2\\textasciitilde{}ubuntu18.04 {[}6,684 B{]}'\n\\item 'Get:4 http://archive.ubuntu.com/ubuntu bionic-updates/main amd64 libcairo2-dev amd64 1.15.10-2ubuntu0.1 {[}626 kB{]}'\n\\item 'Fetched 930 kB in 0s (3,029 kB/s)'\n\\item 'Selecting previously unselected package libcairo-script-interpreter2:amd64.\\textbackslash{}r'\n\\item '(Reading database ... \\textbackslash{}r(Reading database ... 5\\%\\textbackslash{}r(Reading database ... 10\\%\\textbackslash{}r(Reading database ... 15\\%\\textbackslash{}r(Reading database ... 20\\%\\textbackslash{}r(Reading database ... 25\\%\\textbackslash{}r(Reading database ... 30\\%\\textbackslash{}r(Reading database ... 35\\%\\textbackslash{}r(Reading database ... 40\\%\\textbackslash{}r(Reading database ... 45\\%\\textbackslash{}r(Reading database ... 50\\%\\textbackslash{}r(Reading database ... 55\\%\\textbackslash{}r(Reading database ... 60\\%\\textbackslash{}r(Reading database ... 65\\%\\textbackslash{}r(Reading database ... 70\\%\\textbackslash{}r(Reading database ... 75\\%\\textbackslash{}r(Reading database ... 80\\%\\textbackslash{}r(Reading database ... 85\\%\\textbackslash{}r(Reading database ... 90\\%\\textbackslash{}r(Reading database ... 95\\%\\textbackslash{}r(Reading database ... 100\\%\\textbackslash{}r(Reading database ... 156482 files and directories currently installed.)\\textbackslash{}r'\n\\item 'Preparing to unpack .../libcairo-script-interpreter2\\_1.15.10-2ubuntu0.1\\_amd64.deb ...\\textbackslash{}r'\n\\item 'Unpacking libcairo-script-interpreter2:amd64 (1.15.10-2ubuntu0.1) ...\\textbackslash{}r'\n\\item 'Selecting previously unselected package libpixman-1-dev:amd64.\\textbackslash{}r'\n\\item 'Preparing to unpack .../libpixman-1-dev\\_0.34.0-2\\_amd64.deb ...\\textbackslash{}r'\n\\item 'Unpacking libpixman-1-dev:amd64 (0.34.0-2) ...\\textbackslash{}r'\n\\item 'Selecting previously unselected package libxcb-shm0-dev:amd64.\\textbackslash{}r'\n\\item 'Preparing to unpack .../libxcb-shm0-dev\\_1.13-2\\textasciitilde{}ubuntu18.04\\_amd64.deb ...\\textbackslash{}r'\n\\item 'Unpacking libxcb-shm0-dev:amd64 (1.13-2\\textasciitilde{}ubuntu18.04) ...\\textbackslash{}r'\n\\item 'Selecting previously unselected package libcairo2-dev:amd64.\\textbackslash{}r'\n\\item 'Preparing to unpack .../libcairo2-dev\\_1.15.10-2ubuntu0.1\\_amd64.deb ...\\textbackslash{}r'\n\\item 'Unpacking libcairo2-dev:amd64 (1.15.10-2ubuntu0.1) ...\\textbackslash{}r'\n\\item 'Setting up libcairo-script-interpreter2:amd64 (1.15.10-2ubuntu0.1) ...\\textbackslash{}r'\n\\item 'Setting up libxcb-shm0-dev:amd64 (1.13-2\\textasciitilde{}ubuntu18.04) ...\\textbackslash{}r'\n\\item 'Setting up libpixman-1-dev:amd64 (0.34.0-2) ...\\textbackslash{}r'\n\\item 'Setting up libcairo2-dev:amd64 (1.15.10-2ubuntu0.1) ...\\textbackslash{}r'\n\\item 'Processing triggers for libc-bin (2.27-3ubuntu1.3) ...\\textbackslash{}r'\n\\item '/sbin/ldconfig.real: /usr/local/lib/python3.7/dist-packages/ideep4py/lib/libmkldnn.so.0 is not a symbolic link\\textbackslash{}r'\n\\item '\\textbackslash{}r'\n\\end{enumerate*}\n",
            "text/plain": [
              " [1] \"Reading package lists...\"                                                                                                                                                                                                                                                                                                                                                                                                                                                                                                                                                                                                                                      \n",
              " [2] \"Building dependency tree...\"                                                                                                                                                                                                                                                                                                                                                                                                                                                                                                                                                                                                                                   \n",
              " [3] \"Reading state information...\"                                                                                                                                                                                                                                                                                                                                                                                                                                                                                                                                                                                                                                  \n",
              " [4] \"The following additional packages will be installed:\"                                                                                                                                                                                                                                                                                                                                                                                                                                                                                                                                                                                                          \n",
              " [5] \"  libcairo-script-interpreter2 libpixman-1-dev libxcb-shm0-dev\"                                                                                                                                                                                                                                                                                                                                                                                                                                                                                                                                                                                                \n",
              " [6] \"Suggested packages:\"                                                                                                                                                                                                                                                                                                                                                                                                                                                                                                                                                                                                                                           \n",
              " [7] \"  libcairo2-doc\"                                                                                                                                                                                                                                                                                                                                                                                                                                                                                                                                                                                                                                               \n",
              " [8] \"The following NEW packages will be installed:\"                                                                                                                                                                                                                                                                                                                                                                                                                                                                                                                                                                                                                 \n",
              " [9] \"  libcairo-script-interpreter2 libcairo2-dev libpixman-1-dev libxcb-shm0-dev\"                                                                                                                                                                                                                                                                                                                                                                                                                                                                                                                                                                                  \n",
              "[10] \"0 upgraded, 4 newly installed, 0 to remove and 39 not upgraded.\"                                                                                                                                                                                                                                                                                                                                                                                                                                                                                                                                                                                               \n",
              "[11] \"Need to get 930 kB of archives.\"                                                                                                                                                                                                                                                                                                                                                                                                                                                                                                                                                                                                                               \n",
              "[12] \"After this operation, 3,986 kB of additional disk space will be used.\"                                                                                                                                                                                                                                                                                                                                                                                                                                                                                                                                                                                         \n",
              "[13] \"Get:1 http://archive.ubuntu.com/ubuntu bionic-updates/main amd64 libcairo-script-interpreter2 amd64 1.15.10-2ubuntu0.1 [53.5 kB]\"                                                                                                                                                                                                                                                                                                                                                                                                                                                                                                                              \n",
              "[14] \"Get:2 http://archive.ubuntu.com/ubuntu bionic/main amd64 libpixman-1-dev amd64 0.34.0-2 [244 kB]\"                                                                                                                                                                                                                                                                                                                                                                                                                                                                                                                                                              \n",
              "[15] \"Get:3 http://archive.ubuntu.com/ubuntu bionic-updates/main amd64 libxcb-shm0-dev amd64 1.13-2~ubuntu18.04 [6,684 B]\"                                                                                                                                                                                                                                                                                                                                                                                                                                                                                                                                           \n",
              "[16] \"Get:4 http://archive.ubuntu.com/ubuntu bionic-updates/main amd64 libcairo2-dev amd64 1.15.10-2ubuntu0.1 [626 kB]\"                                                                                                                                                                                                                                                                                                                                                                                                                                                                                                                                              \n",
              "[17] \"Fetched 930 kB in 0s (3,029 kB/s)\"                                                                                                                                                                                                                                                                                                                                                                                                                                                                                                                                                                                                                             \n",
              "[18] \"Selecting previously unselected package libcairo-script-interpreter2:amd64.\\r\"                                                                                                                                                                                                                                                                                                                                                                                                                                                                                                                                                                                 \n",
              "[19] \"(Reading database ... \\r(Reading database ... 5%\\r(Reading database ... 10%\\r(Reading database ... 15%\\r(Reading database ... 20%\\r(Reading database ... 25%\\r(Reading database ... 30%\\r(Reading database ... 35%\\r(Reading database ... 40%\\r(Reading database ... 45%\\r(Reading database ... 50%\\r(Reading database ... 55%\\r(Reading database ... 60%\\r(Reading database ... 65%\\r(Reading database ... 70%\\r(Reading database ... 75%\\r(Reading database ... 80%\\r(Reading database ... 85%\\r(Reading database ... 90%\\r(Reading database ... 95%\\r(Reading database ... 100%\\r(Reading database ... 156482 files and directories currently installed.)\\r\"\n",
              "[20] \"Preparing to unpack .../libcairo-script-interpreter2_1.15.10-2ubuntu0.1_amd64.deb ...\\r\"                                                                                                                                                                                                                                                                                                                                                                                                                                                                                                                                                                       \n",
              "[21] \"Unpacking libcairo-script-interpreter2:amd64 (1.15.10-2ubuntu0.1) ...\\r\"                                                                                                                                                                                                                                                                                                                                                                                                                                                                                                                                                                                       \n",
              "[22] \"Selecting previously unselected package libpixman-1-dev:amd64.\\r\"                                                                                                                                                                                                                                                                                                                                                                                                                                                                                                                                                                                              \n",
              "[23] \"Preparing to unpack .../libpixman-1-dev_0.34.0-2_amd64.deb ...\\r\"                                                                                                                                                                                                                                                                                                                                                                                                                                                                                                                                                                                              \n",
              "[24] \"Unpacking libpixman-1-dev:amd64 (0.34.0-2) ...\\r\"                                                                                                                                                                                                                                                                                                                                                                                                                                                                                                                                                                                                              \n",
              "[25] \"Selecting previously unselected package libxcb-shm0-dev:amd64.\\r\"                                                                                                                                                                                                                                                                                                                                                                                                                                                                                                                                                                                              \n",
              "[26] \"Preparing to unpack .../libxcb-shm0-dev_1.13-2~ubuntu18.04_amd64.deb ...\\r\"                                                                                                                                                                                                                                                                                                                                                                                                                                                                                                                                                                                    \n",
              "[27] \"Unpacking libxcb-shm0-dev:amd64 (1.13-2~ubuntu18.04) ...\\r\"                                                                                                                                                                                                                                                                                                                                                                                                                                                                                                                                                                                                    \n",
              "[28] \"Selecting previously unselected package libcairo2-dev:amd64.\\r\"                                                                                                                                                                                                                                                                                                                                                                                                                                                                                                                                                                                                \n",
              "[29] \"Preparing to unpack .../libcairo2-dev_1.15.10-2ubuntu0.1_amd64.deb ...\\r\"                                                                                                                                                                                                                                                                                                                                                                                                                                                                                                                                                                                      \n",
              "[30] \"Unpacking libcairo2-dev:amd64 (1.15.10-2ubuntu0.1) ...\\r\"                                                                                                                                                                                                                                                                                                                                                                                                                                                                                                                                                                                                      \n",
              "[31] \"Setting up libcairo-script-interpreter2:amd64 (1.15.10-2ubuntu0.1) ...\\r\"                                                                                                                                                                                                                                                                                                                                                                                                                                                                                                                                                                                      \n",
              "[32] \"Setting up libxcb-shm0-dev:amd64 (1.13-2~ubuntu18.04) ...\\r\"                                                                                                                                                                                                                                                                                                                                                                                                                                                                                                                                                                                                   \n",
              "[33] \"Setting up libpixman-1-dev:amd64 (0.34.0-2) ...\\r\"                                                                                                                                                                                                                                                                                                                                                                                                                                                                                                                                                                                                             \n",
              "[34] \"Setting up libcairo2-dev:amd64 (1.15.10-2ubuntu0.1) ...\\r\"                                                                                                                                                                                                                                                                                                                                                                                                                                                                                                                                                                                                     \n",
              "[35] \"Processing triggers for libc-bin (2.27-3ubuntu1.3) ...\\r\"                                                                                                                                                                                                                                                                                                                                                                                                                                                                                                                                                                                                      \n",
              "[36] \"/sbin/ldconfig.real: /usr/local/lib/python3.7/dist-packages/ideep4py/lib/libmkldnn.so.0 is not a symbolic link\\r\"                                                                                                                                                                                                                                                                                                                                                                                                                                                                                                                                              \n",
              "[37] \"\\r\"                                                                                                                                                                                                                                                                                                                                                                                                                                                                                                                                                                                                                                                            "
            ]
          },
          "metadata": {}
        }
      ]
    },
    {
      "cell_type": "markdown",
      "metadata": {
        "id": "9nwdVbcOzWKw"
      },
      "source": [
        "#**Downloading and loading packages required for the analysis**"
      ]
    },
    {
      "cell_type": "code",
      "metadata": {
        "id": "P47aZm-9sjAs",
        "colab": {
          "base_uri": "https://localhost:8080/"
        },
        "outputId": "08ed653f-11cb-42fc-89e2-cad073ec8ed9"
      },
      "source": [
        "install.packages(c('gsl', 'devtools'))\n",
        "install.packages('Cairo')\n",
        "if (!requireNamespace(\"BiocManager\", quietly = TRUE))\n",
        "  install.packages(\"BiocManager\")\n",
        "BiocManager::install(c(\n",
        "  'chromVAR', 'BSgenome.Mmusculus.UCSC.mm10', 'motifmatchr', 'gplots', 'circlize', 'plyr', 'dplyr',  'ggrepel', 'splitstackshape',  'BiocParallel', 'SummarizedExperiment', 'gplots', 'circlize', 'plyr', 'dplyr', \n",
        "  'DESeq2', 'VennDiagram', 'ggwordcloud', 'GenomicRanges', 'apeglm', 'biomaRt', 'org.Mm.eg.db', 'TxDb.Mmusculus.UCSC.mm10.knownGene', 'clusterProfiler', 'ggplot2',\n",
        "  'GO.db','ReactomePA', 'ggnewscale', 'pathview', 'gage', 'gageData'\n",
        "))\n",
        "devtools::install_github(\"GreenleafLab/chromVARmotifs\")\n",
        "devtools::install_github(\"jokergoo/ComplexHeatmap\")"
      ],
      "execution_count": null,
      "outputs": [
        {
          "output_type": "stream",
          "name": "stderr",
          "text": [
            "Installing packages into ‘/usr/local/lib/R/site-library’\n",
            "(as ‘lib’ is unspecified)\n",
            "\n",
            "Warning message in install.packages(c(\"gsl\", \"devtools\")):\n",
            "“installation of package ‘gsl’ had non-zero exit status”\n",
            "Installing package into ‘/usr/local/lib/R/site-library’\n",
            "(as ‘lib’ is unspecified)\n",
            "\n",
            "Installing package into ‘/usr/local/lib/R/site-library’\n",
            "(as ‘lib’ is unspecified)\n",
            "\n",
            "'getOption(\"repos\")' replaces Bioconductor standard repositories, see\n",
            "'?repositories' for details\n",
            "\n",
            "replacement repositories:\n",
            "    CRAN: https://cran.rstudio.com\n",
            "\n",
            "\n",
            "Bioconductor version 3.14 (BiocManager 1.30.16), R 4.1.3 (2022-03-10)\n",
            "\n",
            "Warning message:\n",
            "“package(s) not installed when version(s) same as current; use `force = TRUE` to\n",
            "  re-install: 'dplyr' 'ggplot2'”\n",
            "Installing package(s) 'BiocVersion', 'chromVAR',\n",
            "  'BSgenome.Mmusculus.UCSC.mm10', 'motifmatchr', 'gplots', 'circlize', 'plyr',\n",
            "  'ggrepel', 'splitstackshape', 'BiocParallel', 'SummarizedExperiment',\n",
            "  'DESeq2', 'VennDiagram', 'ggwordcloud', 'GenomicRanges', 'apeglm', 'biomaRt',\n",
            "  'org.Mm.eg.db', 'TxDb.Mmusculus.UCSC.mm10.knownGene', 'clusterProfiler',\n",
            "  'GO.db', 'ReactomePA', 'ggnewscale', 'pathview', 'gage', 'gageData'\n",
            "\n",
            "also installing the dependencies ‘pracma’, ‘R.oo’, ‘R.methodsS3’, ‘rjson’, ‘gridGraphics’, ‘GenomicAlignments’, ‘poweRlaw’, ‘R.utils’, ‘plogr’, ‘restfulr’, ‘formatR’, ‘numDeriv’, ‘bdsmatrix’, ‘mvtnorm’, ‘gridExtra’, ‘fastmatch’, ‘ggfun’, ‘ggplotify’, ‘patchwork’, ‘ape’, ‘tidytree’, ‘treeio’, ‘tweenr’, ‘polyclip’, ‘RCurl’, ‘GenomeInfoDbData’, ‘CNEr’, ‘DirichletMultinomial’, ‘RSQLite’, ‘rtracklayer’, ‘seqLogo’, ‘TFMPvalue’, ‘zlibbioc’, ‘bitops’, ‘Rhtslib’, ‘htmlwidgets’, ‘lazyeval’, ‘crosstalk’, ‘promises’, ‘httpuv’, ‘xtable’, ‘fontawesome’, ‘sourcetools’, ‘later’, ‘matrixStats’, ‘lambda.r’, ‘futile.options’, ‘annotate’, ‘coda’, ‘bbmle’, ‘filelock’, ‘BiocIO’, ‘DO.db’, ‘fgsea’, ‘reshape2’, ‘aplot’, ‘scatterpie’, ‘shadowtext’, ‘ggtree’, ‘ggforce’, ‘viridis’, ‘tidygraph’, ‘graphlayouts’, ‘checkmate’, ‘IRanges’, ‘GenomeInfoDb’, ‘nabor’, ‘BiocGenerics’, ‘Biostrings’, ‘TFBSTools’, ‘Rsamtools’, ‘S4Vectors’, ‘plotly’, ‘shiny’, ‘miniUI’, ‘DT’, ‘Rtsne’, ‘BSgenome’, ‘RcppArmadillo’, ‘gtools’, ‘caTools’, ‘GlobalOptions’, ‘shape’, ‘futile.logger’, ‘snow’, ‘BH’, ‘MatrixGenerics’, ‘Biobase’, ‘DelayedArray’, ‘genefilter’, ‘locfit’, ‘geneplotter’, ‘png’, ‘XVector’, ‘emdbook’, ‘RcppEigen’, ‘RcppNumerical’, ‘XML’, ‘AnnotationDbi’, ‘BiocFileCache’, ‘GenomicFeatures’, ‘downloader’, ‘DOSE’, ‘enrichplot’, ‘GOSemSim’, ‘qvalue’, ‘yulab.utils’, ‘ggraph’, ‘reactome.db’, ‘igraph’, ‘graphite’, ‘KEGGgraph’, ‘Rgraphviz’, ‘graph’, ‘org.Hs.eg.db’, ‘KEGGREST’\n",
            "\n",
            "\n",
            "Old packages: 'crayon', 'fansi', 'knitr', 'processx', 'readxl', 'sass',\n",
            "  'tinytex', 'tzdb', 'cluster', 'MASS', 'Matrix', 'mgcv', 'nlme'\n",
            "\n",
            "Downloading GitHub repo GreenleafLab/chromVARmotifs@HEAD\n",
            "\n"
          ]
        },
        {
          "output_type": "stream",
          "name": "stdout",
          "text": [
            "crayon (1.5.0 -> 1.5.1) [CRAN]\n",
            "fansi  (1.0.2 -> 1.0.3) [CRAN]\n",
            "tzdb   (0.2.0 -> 0.3.0) [CRAN]\n"
          ]
        },
        {
          "output_type": "stream",
          "name": "stderr",
          "text": [
            "Installing 3 packages: crayon, fansi, tzdb\n",
            "\n",
            "Installing packages into ‘/usr/local/lib/R/site-library’\n",
            "(as ‘lib’ is unspecified)\n",
            "\n"
          ]
        },
        {
          "output_type": "stream",
          "name": "stdout",
          "text": [
            "* checking for file ‘/tmp/RtmpSp8ZHD/remotes3d61732da7/GreenleafLab-chromVARmotifs-38bed55/DESCRIPTION’ ... OK\n",
            "* preparing ‘chromVARmotifs’:\n",
            "* checking DESCRIPTION meta-information ... OK\n",
            "* checking for LF line-endings in source and make files and shell scripts\n",
            "* checking for empty or unneeded directories\n",
            "* building ‘chromVARmotifs_0.2.0.tar.gz’\n",
            "\n"
          ]
        },
        {
          "output_type": "stream",
          "name": "stderr",
          "text": [
            "Installing package into ‘/usr/local/lib/R/site-library’\n",
            "(as ‘lib’ is unspecified)\n",
            "\n",
            "Downloading GitHub repo jokergoo/ComplexHeatmap@HEAD\n",
            "\n"
          ]
        },
        {
          "output_type": "stream",
          "name": "stdout",
          "text": [
            "iterators  (NA -> 1.0.14) [CRAN]\n",
            "foreach    (NA -> 1.5.2 ) [CRAN]\n",
            "doParallel (NA -> 1.0.17) [CRAN]\n",
            "clue       (NA -> 0.3-60) [CRAN]\n",
            "GetoptLong (NA -> 1.0.5 ) [CRAN]\n"
          ]
        },
        {
          "output_type": "stream",
          "name": "stderr",
          "text": [
            "Installing 5 packages: iterators, foreach, doParallel, clue, GetoptLong\n",
            "\n",
            "Installing packages into ‘/usr/local/lib/R/site-library’\n",
            "(as ‘lib’ is unspecified)\n",
            "\n"
          ]
        },
        {
          "output_type": "stream",
          "name": "stdout",
          "text": [
            "* checking for file ‘/tmp/RtmpSp8ZHD/remotes3d5d24b6bb/jokergoo-ComplexHeatmap-22ab8e0/DESCRIPTION’ ... OK\n",
            "* preparing ‘ComplexHeatmap’:\n",
            "* checking DESCRIPTION meta-information ... OK\n",
            "* checking for LF line-endings in source and make files and shell scripts\n",
            "* checking for empty or unneeded directories\n",
            "* building ‘ComplexHeatmap_2.11.1.tar.gz’\n",
            "\n"
          ]
        },
        {
          "output_type": "stream",
          "name": "stderr",
          "text": [
            "Installing package into ‘/usr/local/lib/R/site-library’\n",
            "(as ‘lib’ is unspecified)\n",
            "\n"
          ]
        }
      ]
    },
    {
      "cell_type": "code",
      "metadata": {
        "id": "lK-VWWiTsSVJ",
        "colab": {
          "base_uri": "https://localhost:8080/"
        },
        "outputId": "5aad56b3-64e0-4ffb-89a9-79c723124226"
      },
      "source": [
        "devtools::install_github(\"GuangchuangYu/ChIPseeker\")"
      ],
      "execution_count": null,
      "outputs": [
        {
          "output_type": "stream",
          "name": "stderr",
          "text": [
            "Downloading GitHub repo GuangchuangYu/ChIPseeker@HEAD\n",
            "\n"
          ]
        },
        {
          "output_type": "stream",
          "name": "stdout",
          "text": [
            "enrichplot   (1.14.2 -> d11b60bb6...) [GitHub]\n",
            "TxDb.Hsap... (NA     -> 3.2.2       ) [CRAN]\n",
            "plotrix      (NA     -> 3.8-2       ) [CRAN]\n"
          ]
        },
        {
          "output_type": "stream",
          "name": "stderr",
          "text": [
            "Installing 2 packages: TxDb.Hsapiens.UCSC.hg19.knownGene, plotrix\n",
            "\n",
            "Installing packages into ‘/usr/local/lib/R/site-library’\n",
            "(as ‘lib’ is unspecified)\n",
            "\n",
            "Downloading GitHub repo GuangchuangYu/enrichplot@HEAD\n",
            "\n"
          ]
        },
        {
          "output_type": "stream",
          "name": "stdout",
          "text": [
            "\n",
            "* checking for file ‘/tmp/RtmpSp8ZHD/remotes3d3dd2f070/GuangchuangYu-enrichplot-d11b60b/DESCRIPTION’ ... OK\n",
            "* preparing ‘enrichplot’:\n",
            "* checking DESCRIPTION meta-information ... OK\n",
            "* checking for LF line-endings in source and make files and shell scripts\n",
            "* checking for empty or unneeded directories\n",
            "* building ‘enrichplot_1.13.1.992.tar.gz’\n",
            "\n"
          ]
        },
        {
          "output_type": "stream",
          "name": "stderr",
          "text": [
            "Installing package into ‘/usr/local/lib/R/site-library’\n",
            "(as ‘lib’ is unspecified)\n",
            "\n"
          ]
        },
        {
          "output_type": "stream",
          "name": "stdout",
          "text": [
            "* checking for file ‘/tmp/RtmpSp8ZHD/remotes3d4fd40e7c/YuLab-SMU-ChIPseeker-5371322/DESCRIPTION’ ... OK\n",
            "* preparing ‘ChIPseeker’:\n",
            "* checking DESCRIPTION meta-information ... OK\n",
            "* checking for LF line-endings in source and make files and shell scripts\n",
            "* checking for empty or unneeded directories\n",
            "* looking to see if a ‘data/datalist’ file should be added\n",
            "* building ‘ChIPseeker_1.31.3.900.tar.gz’\n",
            "\n"
          ]
        },
        {
          "output_type": "stream",
          "name": "stderr",
          "text": [
            "Installing package into ‘/usr/local/lib/R/site-library’\n",
            "(as ‘lib’ is unspecified)\n",
            "\n"
          ]
        }
      ]
    },
    {
      "cell_type": "code",
      "metadata": {
        "id": "q62AdfzVtAck"
      },
      "source": [
        "library(chromVARmotifs)\n",
        "library(chromVAR)\n",
        "library(BSgenome.Mmusculus.UCSC.mm10)\n",
        "library(motifmatchr)\n",
        "library(BiocParallel)\n",
        "library(SummarizedExperiment)\n",
        "library(gplots)\n",
        "library(circlize)\n",
        "library(ComplexHeatmap)\n",
        "register(MulticoreParam(4)) # Use 8 cores\n",
        "library(plyr)\n",
        "library(dplyr)\n",
        "library(GenomicRanges)\n",
        "library(ggrepel)\n",
        "library(splitstackshape)\n",
        "register(MulticoreParam(4)) # Use 8 cores\n",
        "library(plyr)\n",
        "library(dplyr)\n",
        "library(DESeq2)\n",
        "library(VennDiagram)\n",
        "library(ggwordcloud)\n",
        "library(apeglm)\n",
        "library(biomaRt)\n",
        "library(org.Mm.eg.db)\n",
        "library(ChIPseeker)\n",
        "library(clusterProfiler)\n",
        "library(ggplot2)\n",
        "library(tidyr)\n",
        "library(Matrix)\n",
        "library(GO.db)\n",
        "library(matrixStats)\n",
        "library(ComplexHeatmap)\n",
        "library(stringr)\n",
        "library(DOSE)\n",
        "library(ReactomePA)\n",
        "library(ggnewscale)\n",
        "library(GOSemSim)\n",
        "library(enrichplot)\n",
        "library(pathview)\n",
        "library(gage)\n",
        "library(gageData)\n",
        "library(TxDb.Mmusculus.UCSC.mm10.knownGene)"
      ],
      "execution_count": null,
      "outputs": []
    },
    {
      "cell_type": "markdown",
      "metadata": {
        "id": "9dax3mnDzgHo"
      },
      "source": [
        "#**Generate a Granges dataset 'gr' using the bed files for chromVar analysis**"
      ]
    },
    {
      "cell_type": "code",
      "metadata": {
        "id": "Dlj11OZg0Jqn"
      },
      "source": [
        "s3_bed_files <- c(\n",
        "  'FoxK1_KO_D3-1_S1' = 'https://s3.msi.umn.edu/dsouz072/datasets/dataset=Foxk1_version=20191130a/FoxK1_KO_D3-1_S1.dedup_summits.bed',\n",
        "  'FoxK1_KO_D3-2_S2' = 'https://s3.msi.umn.edu/dsouz072/datasets/dataset=Foxk1_version=20191130a/FoxK1_KO_D3-2_S2.dedup_summits.bed',\n",
        "  'FoxK1_KO_D5-1_S3' = 'https://s3.msi.umn.edu/dsouz072/datasets/dataset=Foxk1_version=20191130a/FoxK1_KO_D5-1_S3.dedup_summits.bed',\n",
        "  'FoxK1_KO_D5-2_S4' = 'https://s3.msi.umn.edu/dsouz072/datasets/dataset=Foxk1_version=20191130a/FoxK1_KO_D5-2_S4.dedup_summits.bed',\n",
        "  'FoxK1_KO_D7-1_S5' = 'https://s3.msi.umn.edu/dsouz072/datasets/dataset=Foxk1_version=20191130a/FoxK1_KO_D7-1_S5.dedup_summits.bed',\n",
        "  'FoxK1_KO_D7-2_S6' = 'https://s3.msi.umn.edu/dsouz072/datasets/dataset=Foxk1_version=20191130a/FoxK1_KO_D7-2_S6.dedup_summits.bed',\n",
        "  'iFoxk1_Dox_D3-1_S13' = 'https://s3.msi.umn.edu/dsouz072/datasets/dataset=Foxk1_version=20191130a/iFoxk1_Dox_D3-1_S13.dedup_summits.bed',\n",
        "  'iFoxk1_Dox_D3-2_S14' = 'https://s3.msi.umn.edu/dsouz072/datasets/dataset=Foxk1_version=20191130a/iFoxk1_Dox_D3-2_S14.dedup_summits.bed',\n",
        "  'iFoxk1_Dox_D5-1_S15' = 'https://s3.msi.umn.edu/dsouz072/datasets/dataset=Foxk1_version=20191130a/iFoxk1_Dox_D5-1_S15.dedup_summits.bed',\n",
        "  'iFoxk1_Dox_D5-2_S16' = 'https://s3.msi.umn.edu/dsouz072/datasets/dataset=Foxk1_version=20191130a/iFoxk1_Dox_D5-2_S16.dedup_summits.bed',\n",
        "  'iFoxk1_Dox_D7-1_S17' = 'https://s3.msi.umn.edu/dsouz072/datasets/dataset=Foxk1_version=20191130a/iFoxk1_Dox_D7-1_S17.dedup_summits.bed',\n",
        "  'iFoxk1_Dox_D7-2_S18' = 'https://s3.msi.umn.edu/dsouz072/datasets/dataset=Foxk1_version=20191130a/iFoxk1_Dox_D7-2_S18.dedup_summits.bed',\n",
        "  'iFoxk1_ND_D3-1_S7' = 'https://s3.msi.umn.edu/dsouz072/datasets/dataset=Foxk1_version=20191130a/iFoxk1_ND_D3-1_S7.dedup_summits.bed',\n",
        "  'iFoxk1_ND_D3-2_S8' = 'https://s3.msi.umn.edu/dsouz072/datasets/dataset=Foxk1_version=20191130a/iFoxk1_ND_D3-2_S8.dedup_summits.bed',\n",
        "  'iFoxk1_ND_D5-1_S9' = 'https://s3.msi.umn.edu/dsouz072/datasets/dataset=Foxk1_version=20191130a/iFoxk1_ND_D5-1_S9.dedup_summits.bed',\n",
        "  'iFoxk1_ND_D5-2_S10' = 'https://s3.msi.umn.edu/dsouz072/datasets/dataset=Foxk1_version=20191130a/iFoxk1_ND_D5-2_S10.dedup_summits.bed',\n",
        "  'iFoxk1_ND_D7-1_S11' = 'https://s3.msi.umn.edu/dsouz072/datasets/dataset=Foxk1_version=20191130a/iFoxk1_ND_D7-1_S11.dedup_summits.bed',\n",
        "  'iFoxk1_ND_D7-2_S12' = 'https://s3.msi.umn.edu/dsouz072/datasets/dataset=Foxk1_version=20191130a/iFoxk1_ND_D7-2_S12.dedup_summits.bed')\n"
      ],
      "execution_count": null,
      "outputs": []
    },
    {
      "cell_type": "code",
      "metadata": {
        "id": "X88u29Nd0Nxw"
      },
      "source": [
        "peak_size <- 200L # the ATAC-seq peaks\n",
        "window_size <- 800L\n",
        "gr <- lapply(s3_bed_files, function(bed_file){\n",
        "  peaks <- read.table(bed_file, header = FALSE, sep = '\\t')\n",
        "  peaks <- GRanges(seqnames = peaks[, 1], range = IRanges(start = peaks[, 2], end = peaks[, 3]))\n",
        "  peaks <- resize(peaks, fix = 'center', width = peak_size)\n",
        "  peaks\n",
        "}) %>%\n",
        "  GRangesList() %>%\n",
        "  coverage() %>%\n",
        "  IRanges::slice(lower = 2, rangesOnly = TRUE) %>%\n",
        "  GRanges() %>%\n",
        "  resize(width = window_size, fix = 'center')\n",
        "  gr <- gr[!seqnames(gr) %in% c('chrM', 'chrY')]"
      ],
      "execution_count": null,
      "outputs": []
    },
    {
      "cell_type": "code",
      "metadata": {
        "id": "iDEpl1cs4dUo",
        "colab": {
          "base_uri": "https://localhost:8080/",
          "height": 311
        },
        "outputId": "4680e9ff-d1e6-4302-e75d-536f9dab66e3"
      },
      "source": [
        "blacklist_file <- 'https://s3.msi.umn.edu/gongx030/datasets/datasets=blacklists_version=20190827a/mm10.blacklist.bed.gz'\n",
        "blacklist <- blacklist_file %>%\n",
        "  url() %>%\n",
        "  gzcon() %>%\n",
        "  readLines() %>%\n",
        "  textConnection() %>%\n",
        "  read.table(header = TRUE, sep = '\\t')\n",
        "blacklist <- GRanges(seqnames = blacklist[, 1], range = IRanges(blacklist[, 2], blacklist[, 3]))\n",
        "\n",
        "gr <- gr[!gr %over% blacklist]\n",
        "gr"
      ],
      "execution_count": null,
      "outputs": [
        {
          "output_type": "display_data",
          "data": {
            "text/plain": [
              "GRanges object with 94713 ranges and 0 metadata columns:\n",
              "          seqnames              ranges strand\n",
              "             <Rle>           <IRanges>  <Rle>\n",
              "      [1]     chr1     3037558-3038357      *\n",
              "      [2]     chr1     3062526-3063325      *\n",
              "      [3]     chr1     3191360-3192159      *\n",
              "      [4]     chr1     3253111-3253910      *\n",
              "      [5]     chr1     3263498-3264297      *\n",
              "      ...      ...                 ...    ...\n",
              "  [94709]     chrX 170843428-170844227      *\n",
              "  [94710]     chrX 170843538-170844337      *\n",
              "  [94711]     chrX 170843706-170844505      *\n",
              "  [94712]     chrX 170861798-170862597      *\n",
              "  [94713]     chrX 170880730-170881529      *\n",
              "  -------\n",
              "  seqinfo: 22 sequences from an unspecified genome; no seqlengths"
            ]
          },
          "metadata": {}
        }
      ]
    },
    {
      "cell_type": "markdown",
      "metadata": {
        "id": "QsVLcEuHzpW-"
      },
      "source": [
        "#**Read pileup files and get read counts for chromVar analysis**"
      ]
    },
    {
      "cell_type": "code",
      "metadata": {
        "id": "F3V0mpqR3W0B"
      },
      "source": [
        "s3_bw_files <- c('iFoxk1_ND_D3-1_S7' = 'https://s3.msi.umn.edu/dsouz072/datasets/dataset=Foxk1_version=20191130a/iFoxk1_ND_D3-1_S7.dedup_treat_pileup.bw',\n",
        "  'iFoxk1_ND_D3-2_S8' = 'https://s3.msi.umn.edu/dsouz072/datasets/dataset=Foxk1_version=20191130a/iFoxk1_ND_D3-2_S8.dedup_treat_pileup.bw',\n",
        "  'iFoxk1_ND_D5-1_S9' = 'https://s3.msi.umn.edu/dsouz072/datasets/dataset=Foxk1_version=20191130a/iFoxk1_ND_D5-1_S9.dedup_treat_pileup.bw',\n",
        "  'iFoxk1_ND_D5-2_S10' = 'https://s3.msi.umn.edu/dsouz072/datasets/dataset=Foxk1_version=20191130a/iFoxk1_ND_D5-2_S10.dedup_treat_pileup.bw',\n",
        "  'FoxK1_KO_D3-1_S1' = 'https://s3.msi.umn.edu/dsouz072/datasets/dataset=Foxk1_version=20191130a/FoxK1_KO_D3-1_S1.dedup_treat_pileup.bw',\n",
        "  'FoxK1_KO_D3-2_S2' = 'https://s3.msi.umn.edu/dsouz072/datasets/dataset=Foxk1_version=20191130a/FoxK1_KO_D3-2_S2.dedup_treat_pileup.bw',\n",
        "  'FoxK1_KO_D5-1_S5' = 'https://s3.msi.umn.edu/dsouz072/datasets/dataset=Foxk1_version=20191130a/FoxK1_KO_D7-1_S5.dedup_treat_pileup.bw',\n",
        "  'FoxK1_KO_D5-2_S6' = 'https://s3.msi.umn.edu/dsouz072/datasets/dataset=Foxk1_version=20191130a/FoxK1_KO_D7-2_S6.dedup_treat_pileup.bw')"
      ],
      "execution_count": null,
      "outputs": []
    },
    {
      "cell_type": "code",
      "metadata": {
        "id": "-FT8SEDP-qoB"
      },
      "source": [
        "for (i in 1:length(s3_bw_files)){\n",
        "  sprintf('wget -x -c -nH %s', s3_bw_files[i]) %>% system()\n",
        "}\n",
        "s3_bw_files <- gsub('https://s3.msi.umn.edu/', './', s3_bw_files)\n",
        "message(sprintf('all s3_bw_files exist: %s', all(file.exists(s3_bw_files))))"
      ],
      "execution_count": null,
      "outputs": []
    },
    {
      "cell_type": "code",
      "metadata": {
        "id": "M3o3Vh3F3Wtw"
      },
      "source": [
        "library(rtracklayer)\n",
        "library(futile.logger)\n",
        "X <- do.call('cbind', lapply(s3_bw_files, function(bw_file){\n",
        "  flog.info(sprintf('reading %s', bw_file))\n",
        "\tga <- rtracklayer::import(bw_file, format = 'BigWig')#, which = reduce(peaks))\t\n",
        "  cvg <- coverage(ga, weight = as.numeric(mcols(ga)$score))\n",
        "  sum(cvg[gr])\n",
        "}))\n",
        "se <- SummarizedExperiment(assays = SimpleList(counts = X), rowRanges = gr, colData = names(s3_bw_files))"
      ],
      "execution_count": null,
      "outputs": []
    },
    {
      "cell_type": "code",
      "metadata": {
        "id": "2Xv1IQC83WlG"
      },
      "source": [
        "se <- addGCBias(se, genome = BSgenome.Mmusculus.UCSC.mm10)"
      ],
      "execution_count": null,
      "outputs": []
    },
    {
      "cell_type": "code",
      "metadata": {
        "id": "hgIbMgMX7lyf"
      },
      "source": [
        "colnames(colData(se)) <- c(\"Name\") ##Changing colData of sample names from 'X' to 'Name'"
      ],
      "execution_count": null,
      "outputs": []
    },
    {
      "cell_type": "markdown",
      "metadata": {
        "id": "YzXniuLTkU9i"
      },
      "source": [
        "## **Adding colData information**"
      ]
    },
    {
      "cell_type": "code",
      "metadata": {
        "id": "UXDcJRwc-HDO"
      },
      "source": [
        "colData(se)$ND <- grepl('ND', names(s3_bw_files))\n",
        "colData(se)$KO <- grepl('KO', names(s3_bw_files))\n",
        "colData(se)$Dox<- grepl('Dox', names(s3_bw_files))\n",
        "colData(se)$D3 <- grepl('D3', names(s3_bw_files))\n",
        "colData(se)$D5 <- grepl('D5', names(s3_bw_files))\n",
        "colData(se)$D7 <- grepl('D7', names(s3_bw_files))"
      ],
      "execution_count": null,
      "outputs": []
    },
    {
      "cell_type": "code",
      "metadata": {
        "id": "EndJ2YGs-J9L"
      },
      "source": [
        "colData(se)$condition <- t(apply(colData(se)[,c(\"ND\",\"KO\")], 1, function(i) names(colData(se)[,c(\"ND\",\"KO\")])[i]))\n",
        "colData(se)$time <- t(apply(colData(se)[,c(\"D3\",\"D5\",\"D7\")], 1, function(i) names(colData(se)[,c(\"D3\",\"D5\",\"D7\")])[i]))"
      ],
      "execution_count": null,
      "outputs": []
    },
    {
      "cell_type": "code",
      "metadata": {
        "id": "wb8ixM_PWZNY"
      },
      "source": [
        "colData(se)$Sample <- paste(colData(se)$condition, colData(se)$time, sep='_')"
      ],
      "execution_count": null,
      "outputs": []
    },
    {
      "cell_type": "markdown",
      "metadata": {
        "id": "cJK3S0qq3QuO"
      },
      "source": [
        "# **ChromVar analysis for WT vs KO**"
      ]
    },
    {
      "cell_type": "code",
      "metadata": {
        "id": "_BfbdOK-Hfk2"
      },
      "source": [
        "motif_ix <- matchMotifs(mouse_pwms_v2, se, genome = BSgenome.Mmusculus.UCSC.mm10)"
      ],
      "execution_count": null,
      "outputs": []
    },
    {
      "cell_type": "code",
      "metadata": {
        "id": "tr9__BMlHlvK"
      },
      "source": [
        "dev <- computeDeviations(object = se, annotations = motif_ix)\n",
        "v <- computeVariability(dev)"
      ],
      "execution_count": null,
      "outputs": []
    },
    {
      "cell_type": "code",
      "metadata": {
        "id": "6MZweA2dHzO_"
      },
      "source": [
        "m <- v$p_value_adj < 0.05\n",
        "cat(sprintf('# of significant motifs: %d(%d)\\n', sum(m), length(m)))\n",
        "Y <- assays(dev)$z\n",
        "rownames(Y) <- rowData(dev)$name\n",
        "Y <- Y[m, ]"
      ],
      "execution_count": null,
      "outputs": []
    },
    {
      "cell_type": "markdown",
      "metadata": {
        "id": "Sfb_G0fjk-xb"
      },
      "source": [
        "### Named list for each condition and timepoint - ND_D3, KO_D3, ND_D5 and KO_D5"
      ]
    },
    {
      "cell_type": "code",
      "metadata": {
        "id": "875qF-tZJi_C"
      },
      "source": [
        "nd_d3_atac <- (rowMeans(assays(dev)$deviations[, colData(dev)$Name %in% c('iFoxk1_ND_D3-1_S7', 'iFoxk1_ND_D3-2_S8')])) \n",
        "ko_d3_atac <- (rowMeans(assays(dev)$deviations[, colData(dev)$Name %in% c('FoxK1_KO_D3-1_S1', 'FoxK1_KO_D3-2_S2')]))"
      ],
      "execution_count": null,
      "outputs": []
    },
    {
      "cell_type": "code",
      "metadata": {
        "id": "fYML7ElHMB7W"
      },
      "source": [
        "nd_d5_atac <- (rowMeans(assays(dev)$deviations[, colData(dev)$Name %in% c('iFoxk1_ND_D5-1_S9',\t'iFoxk1_ND_D5-2_S10')]))\n",
        "ko_d5_atac <- (rowMeans(assays(dev)$deviations[, colData(dev)$Name %in% c('FoxK1_KO_D5-1_S5',\t'FoxK1_KO_D5-2_S6')]))"
      ],
      "execution_count": null,
      "outputs": []
    },
    {
      "cell_type": "markdown",
      "metadata": {
        "id": "uvirO6N1nAkE"
      },
      "source": [
        "### Dataframe containing motif information from chromVar obatined using deviations assay data"
      ]
    },
    {
      "cell_type": "code",
      "metadata": {
        "id": "flN7XAedm_-f"
      },
      "source": [
        "chrom_dat <- data.frame(\n",
        "  gene_name = v$name,\n",
        "  D3 = nd_d3_atac - ko_d3_atac,\n",
        "  pvalue_adj = v$p_value_adj,\n",
        "  D5 = nd_d5_atac - ko_d5_atac\n",
        ") "
      ],
      "execution_count": null,
      "outputs": []
    },
    {
      "cell_type": "markdown",
      "metadata": {
        "id": "k498ZCVpxGhK"
      },
      "source": [
        "# RNASeq and DESeq2 "
      ]
    },
    {
      "cell_type": "markdown",
      "metadata": {
        "id": "VhSfL9iOlWWO"
      },
      "source": [
        "## Read counts files from preprocessed data"
      ]
    },
    {
      "cell_type": "code",
      "metadata": {
        "id": "Z9x6zow7w28p"
      },
      "source": [
        "txi_file <- 'https://s3.msi.umn.edu/dsouz072/datasets/dataset=Foxk1_version=20191130a/Kallisto_reseq_txi_v1.rds'\n",
        "txi <- txi_file %>%\n",
        "  url() %>%\n",
        "  gzcon() %>%\n",
        "  readRDS()"
      ],
      "execution_count": null,
      "outputs": []
    },
    {
      "cell_type": "code",
      "metadata": {
        "id": "zeB9AjdxxKRH"
      },
      "source": [
        "t2g_dat <- read.table('https://s3.msi.umn.edu/dsouz072/datasets/dataset=Foxk1_version=20191130a/transcripts_to_genes.txt', sep = '\\t') ##Dataset containing transcripts informtion"
      ],
      "execution_count": null,
      "outputs": []
    },
    {
      "cell_type": "code",
      "metadata": {
        "id": "2lwl8nccxMkc",
        "colab": {
          "base_uri": "https://localhost:8080/",
          "height": 286
        },
        "outputId": "ea7df5c0-5edb-4a43-d2d5-3b3c09843b0c"
      },
      "source": [
        "colnames(t2g_dat) <- c('ensembl_transcript', 'ensembl_gene', 'gene_name')\n",
        "head(t2g_dat)"
      ],
      "execution_count": null,
      "outputs": [
        {
          "output_type": "display_data",
          "data": {
            "text/html": [
              "<table class=\"dataframe\">\n",
              "<caption>A data.frame: 6 × 3</caption>\n",
              "<thead>\n",
              "\t<tr><th></th><th scope=col>ensembl_transcript</th><th scope=col>ensembl_gene</th><th scope=col>gene_name</th></tr>\n",
              "\t<tr><th></th><th scope=col>&lt;chr&gt;</th><th scope=col>&lt;chr&gt;</th><th scope=col>&lt;chr&gt;</th></tr>\n",
              "</thead>\n",
              "<tbody>\n",
              "\t<tr><th scope=row>1</th><td>ENSMUST00000193812.1</td><td>ENSMUSG00000102693.1</td><td>4933401J01Rik</td></tr>\n",
              "\t<tr><th scope=row>2</th><td>ENSMUST00000082908.1</td><td>ENSMUSG00000064842.1</td><td>Gm26206      </td></tr>\n",
              "\t<tr><th scope=row>3</th><td>ENSMUST00000162897.1</td><td>ENSMUSG00000051951.5</td><td>Xkr4         </td></tr>\n",
              "\t<tr><th scope=row>4</th><td>ENSMUST00000159265.1</td><td>ENSMUSG00000051951.5</td><td>Xkr4         </td></tr>\n",
              "\t<tr><th scope=row>5</th><td>ENSMUST00000070533.4</td><td>ENSMUSG00000051951.5</td><td>Xkr4         </td></tr>\n",
              "\t<tr><th scope=row>6</th><td>ENSMUST00000192857.1</td><td>ENSMUSG00000102851.1</td><td>Gm18956      </td></tr>\n",
              "</tbody>\n",
              "</table>\n"
            ],
            "text/markdown": "\nA data.frame: 6 × 3\n\n| <!--/--> | ensembl_transcript &lt;chr&gt; | ensembl_gene &lt;chr&gt; | gene_name &lt;chr&gt; |\n|---|---|---|---|\n| 1 | ENSMUST00000193812.1 | ENSMUSG00000102693.1 | 4933401J01Rik |\n| 2 | ENSMUST00000082908.1 | ENSMUSG00000064842.1 | Gm26206       |\n| 3 | ENSMUST00000162897.1 | ENSMUSG00000051951.5 | Xkr4          |\n| 4 | ENSMUST00000159265.1 | ENSMUSG00000051951.5 | Xkr4          |\n| 5 | ENSMUST00000070533.4 | ENSMUSG00000051951.5 | Xkr4          |\n| 6 | ENSMUST00000192857.1 | ENSMUSG00000102851.1 | Gm18956       |\n\n",
            "text/latex": "A data.frame: 6 × 3\n\\begin{tabular}{r|lll}\n  & ensembl\\_transcript & ensembl\\_gene & gene\\_name\\\\\n  & <chr> & <chr> & <chr>\\\\\n\\hline\n\t1 & ENSMUST00000193812.1 & ENSMUSG00000102693.1 & 4933401J01Rik\\\\\n\t2 & ENSMUST00000082908.1 & ENSMUSG00000064842.1 & Gm26206      \\\\\n\t3 & ENSMUST00000162897.1 & ENSMUSG00000051951.5 & Xkr4         \\\\\n\t4 & ENSMUST00000159265.1 & ENSMUSG00000051951.5 & Xkr4         \\\\\n\t5 & ENSMUST00000070533.4 & ENSMUSG00000051951.5 & Xkr4         \\\\\n\t6 & ENSMUST00000192857.1 & ENSMUSG00000102851.1 & Gm18956      \\\\\n\\end{tabular}\n",
            "text/plain": [
              "  ensembl_transcript   ensembl_gene         gene_name    \n",
              "1 ENSMUST00000193812.1 ENSMUSG00000102693.1 4933401J01Rik\n",
              "2 ENSMUST00000082908.1 ENSMUSG00000064842.1 Gm26206      \n",
              "3 ENSMUST00000162897.1 ENSMUSG00000051951.5 Xkr4         \n",
              "4 ENSMUST00000159265.1 ENSMUSG00000051951.5 Xkr4         \n",
              "5 ENSMUST00000070533.4 ENSMUSG00000051951.5 Xkr4         \n",
              "6 ENSMUST00000192857.1 ENSMUSG00000102851.1 Gm18956      "
            ]
          },
          "metadata": {}
        }
      ]
    },
    {
      "cell_type": "markdown",
      "metadata": {
        "id": "AnQbBKOLl-ks"
      },
      "source": [
        "# Normalize the read counts by DESeq2"
      ]
    },
    {
      "cell_type": "code",
      "metadata": {
        "id": "loojVhT7xsyS"
      },
      "source": [
        "condition <- gsub('1_|2_|_iHAFoxk1_EB|Foxk1|_EB|_iHAFoxk1_EB', '', colnames(txi$counts)) ##parsing text to get the day and condition to get 'D3_KO' \n",
        "sampleTable <- as.data.frame(condition)"
      ],
      "execution_count": null,
      "outputs": []
    },
    {
      "cell_type": "code",
      "metadata": {
        "id": "aqxTAOTOx0Tl"
      },
      "source": [
        "rownames(sampleTable) <- colnames(txi$counts)\n",
        "head(sampleTable)"
      ],
      "execution_count": null,
      "outputs": []
    },
    {
      "cell_type": "code",
      "metadata": {
        "id": "KKujTJulxl9F"
      },
      "source": [
        "set.seed(9821)\n",
        "dds <- DESeqDataSetFromTximport(txi, sampleTable, ~condition)"
      ],
      "execution_count": null,
      "outputs": []
    },
    {
      "cell_type": "code",
      "metadata": {
        "id": "RDqf1Pjqxp0R"
      },
      "source": [
        "dds_res <- DESeq(dds)"
      ],
      "execution_count": null,
      "outputs": []
    },
    {
      "cell_type": "code",
      "source": [
        "mat <- counts(dds_res)"
      ],
      "metadata": {
        "id": "tt2-9L2gIWWR"
      },
      "execution_count": null,
      "outputs": []
    },
    {
      "cell_type": "code",
      "metadata": {
        "id": "3u6Rar66mXUx"
      },
      "source": [
        "rownames(mat) <- t2g_dat$gene_name[match(rownames(mat), t2g_dat$ensembl_gene)]"
      ],
      "execution_count": null,
      "outputs": []
    },
    {
      "cell_type": "markdown",
      "metadata": {
        "id": "uhoJAdXQucCt"
      },
      "source": [
        "# Upregulation and Downregulation of genes in WT and KO"
      ]
    },
    {
      "cell_type": "markdown",
      "metadata": {
        "id": "KsQ61LX7mf6F"
      },
      "source": [
        "## ND_D3 upregulated and Downregulated genes"
      ]
    },
    {
      "cell_type": "code",
      "metadata": {
        "id": "UJs5Tl-Syf9z"
      },
      "source": [
        "ND_d3 <- results(dds_res, contrast = c('condition', 'D3_ND', 'D3_KO'), alpha = 0.05) "
      ],
      "execution_count": null,
      "outputs": []
    },
    {
      "cell_type": "code",
      "metadata": {
        "id": "rJFGJd6l9VUe"
      },
      "source": [
        "ND_d3$gene_name <- t2g_dat$gene_name[match(rownames(ND_d3), t2g_dat$ensembl_gene)] \n",
        "ND_d3$transcriptId <- t2g_dat$ensembl_transcript[match(rownames(ND_d3), t2g_dat$ensembl_gene)] "
      ],
      "execution_count": null,
      "outputs": []
    },
    {
      "cell_type": "code",
      "metadata": {
        "id": "Q6AuZlGo-ULo"
      },
      "source": [
        "up_d3 <- ND_d3[!is.na(ND_d3$padj) & ND_d3$padj<0.05 & ND_d3$log2FoldChange > 0,] ##Subsetting up regulated\n",
        "down_d3 <- ND_d3[!is.na(ND_d3$padj) & ND_d3$padj<0.05 & ND_d3$log2FoldChange < 0,] ##Subsetting down regulated"
      ],
      "execution_count": null,
      "outputs": []
    },
    {
      "cell_type": "code",
      "metadata": {
        "id": "xI4BYAdmETu5"
      },
      "source": [
        "sig <- ND_d3[!is.na(ND_d3$padj) & ND_d3$padj<0.05 & abs(ND_d3$log2FoldChange)>=1,] ##Subsetting significant values with absolute fold change above 1"
      ],
      "execution_count": null,
      "outputs": []
    },
    {
      "cell_type": "markdown",
      "metadata": {
        "id": "oaakcdGbmmfK"
      },
      "source": [
        "## ND_D5 upregulated and Downregulated genes"
      ]
    },
    {
      "cell_type": "code",
      "metadata": {
        "id": "9rPxX0cEykxb"
      },
      "source": [
        "ND_d5 <- results(dds_res, contrast = c('condition', 'D5_ND', 'D5_KO'), alpha = 0.05)"
      ],
      "execution_count": null,
      "outputs": []
    },
    {
      "cell_type": "code",
      "metadata": {
        "id": "x7z1_Eqf9Vy8"
      },
      "source": [
        "ND_d5$gene_name <- t2g_dat$gene_name[match(rownames(ND_d5), t2g_dat$ensembl_gene)] \n",
        "ND_d5$transcriptId <- t2g_dat$ensembl_transcript[match(rownames(ND_d5), t2g_dat$ensembl_gene)] "
      ],
      "execution_count": null,
      "outputs": []
    },
    {
      "cell_type": "code",
      "metadata": {
        "id": "-z5ahKUG-uk_"
      },
      "source": [
        "up_d5 <- ND_d5[!is.na(ND_d5$padj) & ND_d5$padj<0.05 & ND_d5$log2FoldChange > 0,] ##Subsetting up regulated\n",
        "down_d5 <- ND_d5[!is.na(ND_d5$padj) & ND_d5$padj<0.05 & ND_d5$log2FoldChange < 0,] ##Subsetting down regulated"
      ],
      "execution_count": null,
      "outputs": []
    },
    {
      "cell_type": "code",
      "metadata": {
        "id": "hqBaxawTEVOK"
      },
      "source": [
        "sig_d5 <- ND_d5[!is.na(ND_d5$padj) & ND_d5$padj<0.05 & abs(ND_d5$log2FoldChange)>=1,] ##Subsetting significant values with absolute fold change above 1"
      ],
      "execution_count": null,
      "outputs": []
    },
    {
      "cell_type": "markdown",
      "metadata": {
        "id": "sVXVcKNnNCBE"
      },
      "source": [
        "# RNA and ChromVar overlap of up regulated and downregulated genes WT(ND) and KO"
      ]
    },
    {
      "cell_type": "markdown",
      "metadata": {
        "id": "kn3gmGUsnb0x"
      },
      "source": [
        "## Combining RNA and ChromVar dataframes "
      ]
    },
    {
      "cell_type": "code",
      "metadata": {
        "id": "0tp4fSZwQFzS"
      },
      "source": [
        "dat_merge_d3 <- merge(as.data.frame(ND_d3), chrom_dat, by = 'gene_name') #Day 3 \n",
        "dat_merge_d5 <- merge(as.data.frame(ND_d5), chrom_dat, by = 'gene_name') #Day 5"
      ],
      "execution_count": null,
      "outputs": []
    },
    {
      "cell_type": "code",
      "metadata": {
        "id": "6kT61rSUREBp"
      },
      "source": [
        "dat_merge_d3 <- dat_merge_d3 %>% drop_na()\n",
        "dat_merge_d5 <- dat_merge_d5 %>% drop_na()"
      ],
      "execution_count": null,
      "outputs": []
    },
    {
      "cell_type": "code",
      "metadata": {
        "id": "XFm0yu5CQZCg",
        "colab": {
          "base_uri": "https://localhost:8080/",
          "height": 556
        },
        "outputId": "fe408068-bdbd-45d3-d8f6-cbf4acf3d86d"
      },
      "source": [
        "head(dat_merge_d3)\n",
        "head(dat_merge_d5)"
      ],
      "execution_count": null,
      "outputs": [
        {
          "output_type": "display_data",
          "data": {
            "text/html": [
              "<table class=\"dataframe\">\n",
              "<caption>A data.frame: 6 × 11</caption>\n",
              "<thead>\n",
              "\t<tr><th></th><th scope=col>gene_name</th><th scope=col>baseMean</th><th scope=col>log2FoldChange</th><th scope=col>lfcSE</th><th scope=col>stat</th><th scope=col>pvalue</th><th scope=col>padj</th><th scope=col>transcriptId</th><th scope=col>D3</th><th scope=col>pvalue_adj</th><th scope=col>D5</th></tr>\n",
              "\t<tr><th></th><th scope=col>&lt;chr&gt;</th><th scope=col>&lt;dbl&gt;</th><th scope=col>&lt;dbl&gt;</th><th scope=col>&lt;dbl&gt;</th><th scope=col>&lt;dbl&gt;</th><th scope=col>&lt;dbl&gt;</th><th scope=col>&lt;dbl&gt;</th><th scope=col>&lt;chr&gt;</th><th scope=col>&lt;dbl&gt;</th><th scope=col>&lt;dbl&gt;</th><th scope=col>&lt;dbl&gt;</th></tr>\n",
              "</thead>\n",
              "<tbody>\n",
              "\t<tr><th scope=row>1</th><td>Ahctf1</td><td>2573.459245</td><td>-0.05216881</td><td>0.1068680</td><td>-0.4881613</td><td>6.254356e-01</td><td>8.058728e-01</td><td>ENSMUST00000027768.13</td><td>-0.01299484</td><td>2.054110e-12</td><td>-0.004180976</td></tr>\n",
              "\t<tr><th scope=row>2</th><td>Ahr   </td><td> 103.067234</td><td>-1.76350317</td><td>0.3660428</td><td>-4.8177516</td><td>1.451850e-06</td><td>2.322019e-05</td><td>ENSMUST00000116436.8 </td><td>-0.00148721</td><td>6.962567e-55</td><td> 0.003594083</td></tr>\n",
              "\t<tr><th scope=row>3</th><td>Ahrr  </td><td>  16.349822</td><td>-0.73971997</td><td>0.9828699</td><td>-0.7526123</td><td>4.516829e-01</td><td>6.755733e-01</td><td>ENSMUST00000022059.13</td><td>-0.00148721</td><td>6.962567e-55</td><td> 0.003594083</td></tr>\n",
              "\t<tr><th scope=row>4</th><td>Alx1  </td><td>   9.187503</td><td>-0.35676595</td><td>1.1322145</td><td>-0.3151046</td><td>7.526823e-01</td><td>8.800746e-01</td><td>ENSMUST00000217946.1 </td><td> 0.06679359</td><td>6.966307e-16</td><td> 0.070354779</td></tr>\n",
              "\t<tr><th scope=row>5</th><td>Alx3  </td><td>  64.236121</td><td> 0.85521585</td><td>0.5733085</td><td> 1.4917201</td><td>1.357725e-01</td><td>3.197315e-01</td><td>ENSMUST00000014747.2 </td><td> 0.03748803</td><td>1.084761e-05</td><td> 0.032981435</td></tr>\n",
              "\t<tr><th scope=row>6</th><td>Alx4  </td><td> 112.534310</td><td> 2.28125543</td><td>0.7022191</td><td> 3.2486376</td><td>1.159591e-03</td><td>8.077867e-03</td><td>ENSMUST00000042078.9 </td><td> 0.06679359</td><td>6.966307e-16</td><td> 0.070354779</td></tr>\n",
              "</tbody>\n",
              "</table>\n"
            ],
            "text/markdown": "\nA data.frame: 6 × 11\n\n| <!--/--> | gene_name &lt;chr&gt; | baseMean &lt;dbl&gt; | log2FoldChange &lt;dbl&gt; | lfcSE &lt;dbl&gt; | stat &lt;dbl&gt; | pvalue &lt;dbl&gt; | padj &lt;dbl&gt; | transcriptId &lt;chr&gt; | D3 &lt;dbl&gt; | pvalue_adj &lt;dbl&gt; | D5 &lt;dbl&gt; |\n|---|---|---|---|---|---|---|---|---|---|---|---|\n| 1 | Ahctf1 | 2573.459245 | -0.05216881 | 0.1068680 | -0.4881613 | 6.254356e-01 | 8.058728e-01 | ENSMUST00000027768.13 | -0.01299484 | 2.054110e-12 | -0.004180976 |\n| 2 | Ahr    |  103.067234 | -1.76350317 | 0.3660428 | -4.8177516 | 1.451850e-06 | 2.322019e-05 | ENSMUST00000116436.8  | -0.00148721 | 6.962567e-55 |  0.003594083 |\n| 3 | Ahrr   |   16.349822 | -0.73971997 | 0.9828699 | -0.7526123 | 4.516829e-01 | 6.755733e-01 | ENSMUST00000022059.13 | -0.00148721 | 6.962567e-55 |  0.003594083 |\n| 4 | Alx1   |    9.187503 | -0.35676595 | 1.1322145 | -0.3151046 | 7.526823e-01 | 8.800746e-01 | ENSMUST00000217946.1  |  0.06679359 | 6.966307e-16 |  0.070354779 |\n| 5 | Alx3   |   64.236121 |  0.85521585 | 0.5733085 |  1.4917201 | 1.357725e-01 | 3.197315e-01 | ENSMUST00000014747.2  |  0.03748803 | 1.084761e-05 |  0.032981435 |\n| 6 | Alx4   |  112.534310 |  2.28125543 | 0.7022191 |  3.2486376 | 1.159591e-03 | 8.077867e-03 | ENSMUST00000042078.9  |  0.06679359 | 6.966307e-16 |  0.070354779 |\n\n",
            "text/latex": "A data.frame: 6 × 11\n\\begin{tabular}{r|lllllllllll}\n  & gene\\_name & baseMean & log2FoldChange & lfcSE & stat & pvalue & padj & transcriptId & D3 & pvalue\\_adj & D5\\\\\n  & <chr> & <dbl> & <dbl> & <dbl> & <dbl> & <dbl> & <dbl> & <chr> & <dbl> & <dbl> & <dbl>\\\\\n\\hline\n\t1 & Ahctf1 & 2573.459245 & -0.05216881 & 0.1068680 & -0.4881613 & 6.254356e-01 & 8.058728e-01 & ENSMUST00000027768.13 & -0.01299484 & 2.054110e-12 & -0.004180976\\\\\n\t2 & Ahr    &  103.067234 & -1.76350317 & 0.3660428 & -4.8177516 & 1.451850e-06 & 2.322019e-05 & ENSMUST00000116436.8  & -0.00148721 & 6.962567e-55 &  0.003594083\\\\\n\t3 & Ahrr   &   16.349822 & -0.73971997 & 0.9828699 & -0.7526123 & 4.516829e-01 & 6.755733e-01 & ENSMUST00000022059.13 & -0.00148721 & 6.962567e-55 &  0.003594083\\\\\n\t4 & Alx1   &    9.187503 & -0.35676595 & 1.1322145 & -0.3151046 & 7.526823e-01 & 8.800746e-01 & ENSMUST00000217946.1  &  0.06679359 & 6.966307e-16 &  0.070354779\\\\\n\t5 & Alx3   &   64.236121 &  0.85521585 & 0.5733085 &  1.4917201 & 1.357725e-01 & 3.197315e-01 & ENSMUST00000014747.2  &  0.03748803 & 1.084761e-05 &  0.032981435\\\\\n\t6 & Alx4   &  112.534310 &  2.28125543 & 0.7022191 &  3.2486376 & 1.159591e-03 & 8.077867e-03 & ENSMUST00000042078.9  &  0.06679359 & 6.966307e-16 &  0.070354779\\\\\n\\end{tabular}\n",
            "text/plain": [
              "  gene_name baseMean    log2FoldChange lfcSE     stat       pvalue      \n",
              "1 Ahctf1    2573.459245 -0.05216881    0.1068680 -0.4881613 6.254356e-01\n",
              "2 Ahr        103.067234 -1.76350317    0.3660428 -4.8177516 1.451850e-06\n",
              "3 Ahrr        16.349822 -0.73971997    0.9828699 -0.7526123 4.516829e-01\n",
              "4 Alx1         9.187503 -0.35676595    1.1322145 -0.3151046 7.526823e-01\n",
              "5 Alx3        64.236121  0.85521585    0.5733085  1.4917201 1.357725e-01\n",
              "6 Alx4       112.534310  2.28125543    0.7022191  3.2486376 1.159591e-03\n",
              "  padj         transcriptId          D3          pvalue_adj   D5          \n",
              "1 8.058728e-01 ENSMUST00000027768.13 -0.01299484 2.054110e-12 -0.004180976\n",
              "2 2.322019e-05 ENSMUST00000116436.8  -0.00148721 6.962567e-55  0.003594083\n",
              "3 6.755733e-01 ENSMUST00000022059.13 -0.00148721 6.962567e-55  0.003594083\n",
              "4 8.800746e-01 ENSMUST00000217946.1   0.06679359 6.966307e-16  0.070354779\n",
              "5 3.197315e-01 ENSMUST00000014747.2   0.03748803 1.084761e-05  0.032981435\n",
              "6 8.077867e-03 ENSMUST00000042078.9   0.06679359 6.966307e-16  0.070354779"
            ]
          },
          "metadata": {}
        },
        {
          "output_type": "display_data",
          "data": {
            "text/html": [
              "<table class=\"dataframe\">\n",
              "<caption>A data.frame: 6 × 11</caption>\n",
              "<thead>\n",
              "\t<tr><th></th><th scope=col>gene_name</th><th scope=col>baseMean</th><th scope=col>log2FoldChange</th><th scope=col>lfcSE</th><th scope=col>stat</th><th scope=col>pvalue</th><th scope=col>padj</th><th scope=col>transcriptId</th><th scope=col>D3</th><th scope=col>pvalue_adj</th><th scope=col>D5</th></tr>\n",
              "\t<tr><th></th><th scope=col>&lt;chr&gt;</th><th scope=col>&lt;dbl&gt;</th><th scope=col>&lt;dbl&gt;</th><th scope=col>&lt;dbl&gt;</th><th scope=col>&lt;dbl&gt;</th><th scope=col>&lt;dbl&gt;</th><th scope=col>&lt;dbl&gt;</th><th scope=col>&lt;chr&gt;</th><th scope=col>&lt;dbl&gt;</th><th scope=col>&lt;dbl&gt;</th><th scope=col>&lt;dbl&gt;</th></tr>\n",
              "</thead>\n",
              "<tbody>\n",
              "\t<tr><th scope=row>1</th><td>Ahctf1</td><td>2573.459245</td><td>-0.05607017</td><td>0.1075728</td><td>-0.5212302</td><td>6.022064e-01</td><td>7.523236e-01</td><td>ENSMUST00000027768.13</td><td>-0.01299484</td><td>2.054110e-12</td><td>-0.004180976</td></tr>\n",
              "\t<tr><th scope=row>2</th><td>Ahr   </td><td> 103.067234</td><td>-1.67621770</td><td>0.3946285</td><td>-4.2475838</td><td>2.160884e-05</td><td>1.753572e-04</td><td>ENSMUST00000116436.8 </td><td>-0.00148721</td><td>6.962567e-55</td><td> 0.003594083</td></tr>\n",
              "\t<tr><th scope=row>3</th><td>Ahrr  </td><td>  16.349822</td><td>-0.18982467</td><td>1.0206438</td><td>-0.1859852</td><td>8.524563e-01</td><td>9.181062e-01</td><td>ENSMUST00000022059.13</td><td>-0.00148721</td><td>6.962567e-55</td><td> 0.003594083</td></tr>\n",
              "\t<tr><th scope=row>4</th><td>Alx1  </td><td>   9.187503</td><td>-1.50806300</td><td>1.2483671</td><td>-1.2080285</td><td>2.270363e-01</td><td>3.937574e-01</td><td>ENSMUST00000217946.1 </td><td> 0.06679359</td><td>6.966307e-16</td><td> 0.070354779</td></tr>\n",
              "\t<tr><th scope=row>5</th><td>Alx3  </td><td>  64.236121</td><td> 0.72989894</td><td>0.4876612</td><td> 1.4967337</td><td>1.344626e-01</td><td>2.692262e-01</td><td>ENSMUST00000014747.2 </td><td> 0.03748803</td><td>1.084761e-05</td><td> 0.032981435</td></tr>\n",
              "\t<tr><th scope=row>6</th><td>Alx4  </td><td> 112.534310</td><td> 2.26314769</td><td>0.3078047</td><td> 7.3525453</td><td>1.944676e-13</td><td>5.592359e-12</td><td>ENSMUST00000042078.9 </td><td> 0.06679359</td><td>6.966307e-16</td><td> 0.070354779</td></tr>\n",
              "</tbody>\n",
              "</table>\n"
            ],
            "text/markdown": "\nA data.frame: 6 × 11\n\n| <!--/--> | gene_name &lt;chr&gt; | baseMean &lt;dbl&gt; | log2FoldChange &lt;dbl&gt; | lfcSE &lt;dbl&gt; | stat &lt;dbl&gt; | pvalue &lt;dbl&gt; | padj &lt;dbl&gt; | transcriptId &lt;chr&gt; | D3 &lt;dbl&gt; | pvalue_adj &lt;dbl&gt; | D5 &lt;dbl&gt; |\n|---|---|---|---|---|---|---|---|---|---|---|---|\n| 1 | Ahctf1 | 2573.459245 | -0.05607017 | 0.1075728 | -0.5212302 | 6.022064e-01 | 7.523236e-01 | ENSMUST00000027768.13 | -0.01299484 | 2.054110e-12 | -0.004180976 |\n| 2 | Ahr    |  103.067234 | -1.67621770 | 0.3946285 | -4.2475838 | 2.160884e-05 | 1.753572e-04 | ENSMUST00000116436.8  | -0.00148721 | 6.962567e-55 |  0.003594083 |\n| 3 | Ahrr   |   16.349822 | -0.18982467 | 1.0206438 | -0.1859852 | 8.524563e-01 | 9.181062e-01 | ENSMUST00000022059.13 | -0.00148721 | 6.962567e-55 |  0.003594083 |\n| 4 | Alx1   |    9.187503 | -1.50806300 | 1.2483671 | -1.2080285 | 2.270363e-01 | 3.937574e-01 | ENSMUST00000217946.1  |  0.06679359 | 6.966307e-16 |  0.070354779 |\n| 5 | Alx3   |   64.236121 |  0.72989894 | 0.4876612 |  1.4967337 | 1.344626e-01 | 2.692262e-01 | ENSMUST00000014747.2  |  0.03748803 | 1.084761e-05 |  0.032981435 |\n| 6 | Alx4   |  112.534310 |  2.26314769 | 0.3078047 |  7.3525453 | 1.944676e-13 | 5.592359e-12 | ENSMUST00000042078.9  |  0.06679359 | 6.966307e-16 |  0.070354779 |\n\n",
            "text/latex": "A data.frame: 6 × 11\n\\begin{tabular}{r|lllllllllll}\n  & gene\\_name & baseMean & log2FoldChange & lfcSE & stat & pvalue & padj & transcriptId & D3 & pvalue\\_adj & D5\\\\\n  & <chr> & <dbl> & <dbl> & <dbl> & <dbl> & <dbl> & <dbl> & <chr> & <dbl> & <dbl> & <dbl>\\\\\n\\hline\n\t1 & Ahctf1 & 2573.459245 & -0.05607017 & 0.1075728 & -0.5212302 & 6.022064e-01 & 7.523236e-01 & ENSMUST00000027768.13 & -0.01299484 & 2.054110e-12 & -0.004180976\\\\\n\t2 & Ahr    &  103.067234 & -1.67621770 & 0.3946285 & -4.2475838 & 2.160884e-05 & 1.753572e-04 & ENSMUST00000116436.8  & -0.00148721 & 6.962567e-55 &  0.003594083\\\\\n\t3 & Ahrr   &   16.349822 & -0.18982467 & 1.0206438 & -0.1859852 & 8.524563e-01 & 9.181062e-01 & ENSMUST00000022059.13 & -0.00148721 & 6.962567e-55 &  0.003594083\\\\\n\t4 & Alx1   &    9.187503 & -1.50806300 & 1.2483671 & -1.2080285 & 2.270363e-01 & 3.937574e-01 & ENSMUST00000217946.1  &  0.06679359 & 6.966307e-16 &  0.070354779\\\\\n\t5 & Alx3   &   64.236121 &  0.72989894 & 0.4876612 &  1.4967337 & 1.344626e-01 & 2.692262e-01 & ENSMUST00000014747.2  &  0.03748803 & 1.084761e-05 &  0.032981435\\\\\n\t6 & Alx4   &  112.534310 &  2.26314769 & 0.3078047 &  7.3525453 & 1.944676e-13 & 5.592359e-12 & ENSMUST00000042078.9  &  0.06679359 & 6.966307e-16 &  0.070354779\\\\\n\\end{tabular}\n",
            "text/plain": [
              "  gene_name baseMean    log2FoldChange lfcSE     stat       pvalue      \n",
              "1 Ahctf1    2573.459245 -0.05607017    0.1075728 -0.5212302 6.022064e-01\n",
              "2 Ahr        103.067234 -1.67621770    0.3946285 -4.2475838 2.160884e-05\n",
              "3 Ahrr        16.349822 -0.18982467    1.0206438 -0.1859852 8.524563e-01\n",
              "4 Alx1         9.187503 -1.50806300    1.2483671 -1.2080285 2.270363e-01\n",
              "5 Alx3        64.236121  0.72989894    0.4876612  1.4967337 1.344626e-01\n",
              "6 Alx4       112.534310  2.26314769    0.3078047  7.3525453 1.944676e-13\n",
              "  padj         transcriptId          D3          pvalue_adj   D5          \n",
              "1 7.523236e-01 ENSMUST00000027768.13 -0.01299484 2.054110e-12 -0.004180976\n",
              "2 1.753572e-04 ENSMUST00000116436.8  -0.00148721 6.962567e-55  0.003594083\n",
              "3 9.181062e-01 ENSMUST00000022059.13 -0.00148721 6.962567e-55  0.003594083\n",
              "4 3.937574e-01 ENSMUST00000217946.1   0.06679359 6.966307e-16  0.070354779\n",
              "5 2.692262e-01 ENSMUST00000014747.2   0.03748803 1.084761e-05  0.032981435\n",
              "6 5.592359e-12 ENSMUST00000042078.9   0.06679359 6.966307e-16  0.070354779"
            ]
          },
          "metadata": {}
        }
      ]
    },
    {
      "cell_type": "markdown",
      "source": [
        "### WT(ND) Day 3 upregulated Transcription factors"
      ],
      "metadata": {
        "id": "F9mL80raXASd"
      }
    },
    {
      "cell_type": "code",
      "metadata": {
        "id": "kuzHXGhjXx7t"
      },
      "source": [
        "tf <- dat_merge_d3 %>% filter(pvalue_adj < 0.05 & D3 > 0 & padj < 0.05 & log2FoldChange > 0)"
      ],
      "execution_count": null,
      "outputs": []
    },
    {
      "cell_type": "code",
      "source": [
        "tf <- tf %>% arrange(-log2FoldChange)"
      ],
      "metadata": {
        "id": "d3-nG3ING0ha"
      },
      "execution_count": null,
      "outputs": []
    },
    {
      "cell_type": "code",
      "source": [
        "nd_go <- enrichGO(gene = tf$gene_name,\n",
        "                OrgDb         = org.Mm.eg.db,\n",
        "                keyType = 'SYMBOL',\n",
        "                ont           = \"BP\",\n",
        "                pAdjustMethod = \"BH\",\n",
        "                pvalueCutoff  = 0.01,\n",
        "                qvalueCutoff  = 0.05,\n",
        "        readable      = FALSE) #Day 3 over-representation test data for ND"
      ],
      "metadata": {
        "id": "JBDoFCvXhLgG"
      },
      "execution_count": null,
      "outputs": []
    },
    {
      "cell_type": "code",
      "execution_count": null,
      "metadata": {
        "id": "c6elWNXDrorC"
      },
      "outputs": [],
      "source": [
        "enrich_nd <- nd_go%>% filter(str_detect(Description, 'pathway|cascade|development|regeneration')) %>% filter(!str_detect(Description, 'negative|positive')) ##subsetting data to keep terms that include pathway, cascade, development, regeneration and cardiac and excludes negative and positive"
      ]
    },
    {
      "cell_type": "code",
      "source": [
        "options(repr.plot.width = 8, repr.plot.height = 8)\n",
        "barplot(enrich_nd, showCategory=5)  + scale_fill_gradient(low = \"#132B43\", high = \"#56B1F7\")"
      ],
      "metadata": {
        "colab": {
          "base_uri": "https://localhost:8080/",
          "height": 552
        },
        "id": "QW292oiLiNlv",
        "outputId": "70142504-2f90-49b7-b01c-24878a34280d"
      },
      "execution_count": null,
      "outputs": [
        {
          "output_type": "stream",
          "name": "stderr",
          "text": [
            "Scale for 'fill' is already present. Adding another scale for 'fill', which\n",
            "will replace the existing scale.\n",
            "\n"
          ]
        },
        {
          "output_type": "display_data",
          "data": {
            "text/plain": [
              "plot without title"
            ],
            "image/png": "[encoded data removed]"
          },
          "metadata": {
            "image/png": {
              "width": 480,
              "height": 480
            }
          }
        }
      ]
    },
    {
      "cell_type": "markdown",
      "metadata": {
        "id": "bVcIrvvCX3JL"
      },
      "source": [
        "### WT(ND) Day 5 upregulated Transcription factors"
      ]
    },
    {
      "cell_type": "code",
      "metadata": {
        "id": "yLSu8vMKa4vS"
      },
      "source": [
        "tf <- dat_merge_d5 %>% filter(pvalue_adj < 0.05 & D5 > 0 & padj < 0.05 & log2FoldChange > 0)"
      ],
      "execution_count": null,
      "outputs": []
    },
    {
      "cell_type": "code",
      "source": [
        "tf <- tf %>% arrange(-log2FoldChange)"
      ],
      "metadata": {
        "id": "Hd-60TN0HN_Y"
      },
      "execution_count": null,
      "outputs": []
    },
    {
      "cell_type": "code",
      "source": [
        "d5_nd_go <- enrichGO(gene = tf$gene_name,\n",
        "                OrgDb         = org.Mm.eg.db,\n",
        "                keyType = 'SYMBOL',\n",
        "                ont           = \"BP\",\n",
        "                pAdjustMethod = \"BH\",\n",
        "                pvalueCutoff  = 0.01,\n",
        "                qvalueCutoff  = 0.05,\n",
        "        readable      = FALSE) #Day 3 over-representation test data for ND"
      ],
      "metadata": {
        "id": "iIPGAad8io7J"
      },
      "execution_count": null,
      "outputs": []
    },
    {
      "cell_type": "code",
      "execution_count": null,
      "metadata": {
        "id": "gbsjlWMNio7L"
      },
      "outputs": [],
      "source": [
        "enrich_nd_d5 <- d5_nd_go%>% filter(str_detect(Description, 'pathway|cascade|development|regeneration')) %>% filter(!str_detect(Description, 'negative|positive')) ##subsetting data to keep terms that include pathway, cascade, development, regeneration and cardiac and excludes negative and positive"
      ]
    },
    {
      "cell_type": "code",
      "source": [
        "options(repr.plot.width = 8, repr.plot.height = 8)\n",
        "barplot(enrich_nd_d5, showCategory=5)  + scale_fill_gradient(low = \"#132B43\", high = \"#56B1F7\")"
      ],
      "metadata": {
        "colab": {
          "base_uri": "https://localhost:8080/",
          "height": 552
        },
        "outputId": "dd76cc7a-c532-413d-cfa4-f8ebbaebb781",
        "id": "HYgDX4Jeio7N"
      },
      "execution_count": null,
      "outputs": [
        {
          "output_type": "stream",
          "name": "stderr",
          "text": [
            "Scale for 'fill' is already present. Adding another scale for 'fill', which\n",
            "will replace the existing scale.\n",
            "\n"
          ]
        },
        {
          "output_type": "display_data",
          "data": {
            "text/plain": [
              "plot without title"
            ],
            "image/png": "[encoded data removed]"
          },
          "metadata": {
            "image/png": {
              "width": 480,
              "height": 480
            }
          }
        }
      ]
    },
    {
      "cell_type": "code",
      "metadata": {
        "id": "jcKgyKwu9Uv6",
        "colab": {
          "base_uri": "https://localhost:8080/",
          "height": 1000
        },
        "outputId": "c00595ee-1354-416b-b0f7-ce76965ca02f"
      },
      "source": [
        "sessionInfo()"
      ],
      "execution_count": null,
      "outputs": [
        {
          "data": {
            "text/plain": [
              "R version 4.1.3 (2022-03-10)\n",
              "Platform: x86_64-pc-linux-gnu (64-bit)\n",
              "Running under: Ubuntu 18.04.5 LTS\n",
              "\n",
              "Matrix products: default\n",
              "BLAS:   /usr/lib/x86_64-linux-gnu/openblas/libblas.so.3\n",
              "LAPACK: /usr/lib/x86_64-linux-gnu/libopenblasp-r0.2.20.so\n",
              "\n",
              "locale:\n",
              " [1] LC_CTYPE=en_US.UTF-8       LC_NUMERIC=C              \n",
              " [3] LC_TIME=en_US.UTF-8        LC_COLLATE=en_US.UTF-8    \n",
              " [5] LC_MONETARY=en_US.UTF-8    LC_MESSAGES=en_US.UTF-8   \n",
              " [7] LC_PAPER=en_US.UTF-8       LC_NAME=C                 \n",
              " [9] LC_ADDRESS=C               LC_TELEPHONE=C            \n",
              "[11] LC_MEASUREMENT=en_US.UTF-8 LC_IDENTIFICATION=C       \n",
              "\n",
              "attached base packages:\n",
              "[1] grid      stats4    stats     graphics  grDevices utils     datasets \n",
              "[8] methods   base     \n",
              "\n",
              "other attached packages:\n",
              " [1] TxDb.Mmusculus.UCSC.mm10.knownGene_3.10.0\n",
              " [2] GenomicFeatures_1.46.5                   \n",
              " [3] gageData_2.32.0                          \n",
              " [4] gage_2.44.0                              \n",
              " [5] pathview_1.34.0                          \n",
              " [6] enrichplot_1.13.1.992                    \n",
              " [7] GOSemSim_2.20.0                          \n",
              " [8] ggnewscale_0.4.7                         \n",
              " [9] ReactomePA_1.38.0                        \n",
              "[10] DOSE_3.20.1                              \n",
              "[11] stringr_1.4.0                            \n",
              "[12] GO.db_3.14.0                             \n",
              "[13] Matrix_1.4-0                             \n",
              "[14] tidyr_1.2.0                              \n",
              "[15] clusterProfiler_4.2.2                    \n",
              "[16] ChIPseeker_1.31.3.900                    \n",
              "[17] org.Mm.eg.db_3.14.0                      \n",
              "[18] AnnotationDbi_1.56.2                     \n",
              "[19] biomaRt_2.50.3                           \n",
              "[20] apeglm_1.16.0                            \n",
              "[21] ggwordcloud_0.5.0                        \n",
              "[22] VennDiagram_1.7.1                        \n",
              "[23] futile.logger_1.4.3                      \n",
              "[24] DESeq2_1.34.0                            \n",
              "[25] splitstackshape_1.4.8                    \n",
              "[26] ggrepel_0.9.1                            \n",
              "[27] ggplot2_3.3.5                            \n",
              "[28] dplyr_1.0.8                              \n",
              "[29] plyr_1.8.7                               \n",
              "[30] ComplexHeatmap_2.11.1                    \n",
              "[31] circlize_0.4.14                          \n",
              "[32] gplots_3.1.1                             \n",
              "[33] SummarizedExperiment_1.24.0              \n",
              "[34] Biobase_2.54.0                           \n",
              "[35] MatrixGenerics_1.6.0                     \n",
              "[36] matrixStats_0.61.0                       \n",
              "[37] BiocParallel_1.28.3                      \n",
              "[38] motifmatchr_1.16.0                       \n",
              "[39] BSgenome.Mmusculus.UCSC.mm10_1.4.3       \n",
              "[40] BSgenome_1.62.0                          \n",
              "[41] rtracklayer_1.54.0                       \n",
              "[42] Biostrings_2.62.0                        \n",
              "[43] XVector_0.34.0                           \n",
              "[44] GenomicRanges_1.46.1                     \n",
              "[45] GenomeInfoDb_1.30.1                      \n",
              "[46] IRanges_2.28.0                           \n",
              "[47] S4Vectors_0.32.4                         \n",
              "[48] BiocGenerics_0.40.0                      \n",
              "[49] chromVAR_1.16.0                          \n",
              "[50] chromVARmotifs_0.2.0                     \n",
              "\n",
              "loaded via a namespace (and not attached):\n",
              "  [1] rappdirs_0.3.3                         \n",
              "  [2] pbdZMQ_0.3-7                           \n",
              "  [3] R.methodsS3_1.8.1                      \n",
              "  [4] coda_0.19-4                            \n",
              "  [5] nabor_0.5.0                            \n",
              "  [6] bit64_4.0.5                            \n",
              "  [7] DelayedArray_0.20.0                    \n",
              "  [8] R.utils_2.11.0                         \n",
              "  [9] data.table_1.14.2                      \n",
              " [10] KEGGREST_1.34.0                        \n",
              " [11] TFBSTools_1.32.0                       \n",
              " [12] RCurl_1.98-1.6                         \n",
              " [13] doParallel_1.0.17                      \n",
              " [14] generics_0.1.2                         \n",
              " [15] callr_3.7.0                            \n",
              " [16] lambda.r_1.2.4                         \n",
              " [17] usethis_2.1.5                          \n",
              " [18] RSQLite_2.2.11                         \n",
              " [19] shadowtext_0.1.1                       \n",
              " [20] bit_4.0.4                              \n",
              " [21] tzdb_0.3.0                             \n",
              " [22] xml2_1.3.3                             \n",
              " [23] httpuv_1.6.5                           \n",
              " [24] assertthat_0.2.1                       \n",
              " [25] DirichletMultinomial_1.36.0            \n",
              " [26] viridis_0.6.2                          \n",
              " [27] hms_1.1.1                              \n",
              " [28] evaluate_0.15                          \n",
              " [29] promises_1.2.0.1                       \n",
              " [30] fansi_1.0.2                            \n",
              " [31] restfulr_0.0.13                        \n",
              " [32] progress_1.2.2                         \n",
              " [33] caTools_1.18.2                         \n",
              " [34] dbplyr_2.1.1                           \n",
              " [35] Rgraphviz_2.38.0                       \n",
              " [36] igraph_1.2.11                          \n",
              " [37] DBI_1.1.2                              \n",
              " [38] geneplotter_1.72.0                     \n",
              " [39] htmlwidgets_1.5.4                      \n",
              " [40] purrr_0.3.4                            \n",
              " [41] ellipsis_0.3.2                         \n",
              " [42] backports_1.4.1                        \n",
              " [43] annotate_1.72.0                        \n",
              " [44] vctrs_0.3.8                            \n",
              " [45] Cairo_1.5-15                           \n",
              " [46] remotes_2.4.2                          \n",
              " [47] cachem_1.0.6                           \n",
              " [48] withr_2.5.0                            \n",
              " [49] ggforce_0.3.3                          \n",
              " [50] checkmate_2.0.0                        \n",
              " [51] bdsmatrix_1.3-4                        \n",
              " [52] treeio_1.18.1                          \n",
              " [53] GenomicAlignments_1.30.0               \n",
              " [54] prettyunits_1.1.1                      \n",
              " [55] cluster_2.1.2                          \n",
              " [56] ape_5.6-2                              \n",
              " [57] IRdisplay_1.1                          \n",
              " [58] lazyeval_0.2.2                         \n",
              " [59] seqLogo_1.60.0                         \n",
              " [60] crayon_1.5.0                           \n",
              " [61] genefilter_1.76.0                      \n",
              " [62] labeling_0.4.2                         \n",
              " [63] pkgconfig_2.0.3                        \n",
              " [64] tweenr_1.0.2                           \n",
              " [65] nlme_3.1-155                           \n",
              " [66] pkgload_1.2.4                          \n",
              " [67] devtools_2.4.3                         \n",
              " [68] rlang_1.0.2                            \n",
              " [69] lifecycle_1.0.1                        \n",
              " [70] miniUI_0.1.1.1                         \n",
              " [71] downloader_0.4                         \n",
              " [72] filelock_1.0.2                         \n",
              " [73] BiocFileCache_2.2.1                    \n",
              " [74] rprojroot_2.0.2                        \n",
              " [75] polyclip_1.10-0                        \n",
              " [76] graph_1.72.0                           \n",
              " [77] aplot_0.1.2                            \n",
              " [78] IRkernel_1.3                           \n",
              " [79] boot_1.3-28                            \n",
              " [80] base64enc_0.1-3                        \n",
              " [81] GlobalOptions_0.1.2                    \n",
              " [82] processx_3.5.2                         \n",
              " [83] png_0.1-7                              \n",
              " [84] viridisLite_0.4.0                      \n",
              " [85] rjson_0.2.21                           \n",
              " [86] bitops_1.0-7                           \n",
              " [87] R.oo_1.24.0                            \n",
              " [88] KernSmooth_2.23-20                     \n",
              " [89] blob_1.2.2                             \n",
              " [90] shape_1.4.6                            \n",
              " [91] qvalue_2.26.0                          \n",
              " [92] readr_2.1.2                            \n",
              " [93] gridGraphics_0.5-1                     \n",
              " [94] reactome.db_1.77.0                     \n",
              " [95] CNEr_1.30.0                            \n",
              " [96] scales_1.1.1                           \n",
              " [97] graphite_1.40.0                        \n",
              " [98] memoise_2.0.1                          \n",
              " [99] magrittr_2.0.2                         \n",
              "[100] zlibbioc_1.40.0                        \n",
              "[101] scatterpie_0.1.7                       \n",
              "[102] compiler_4.1.3                         \n",
              "[103] BiocIO_1.4.0                           \n",
              "[104] bbmle_1.0.24                           \n",
              "[105] RColorBrewer_1.1-2                     \n",
              "[106] KEGGgraph_1.54.0                       \n",
              "[107] plotrix_3.8-2                          \n",
              "[108] clue_0.3-60                            \n",
              "[109] Rsamtools_2.10.0                       \n",
              "[110] cli_3.2.0                              \n",
              "[111] patchwork_1.1.1                        \n",
              "[112] ps_1.6.0                               \n",
              "[113] formatR_1.11                           \n",
              "[114] MASS_7.3-55                            \n",
              "[115] tidyselect_1.1.2                       \n",
              "[116] stringi_1.7.6                          \n",
              "[117] emdbook_1.3.12                         \n",
              "[118] yaml_2.3.5                             \n",
              "[119] locfit_1.5-9.5                         \n",
              "[120] fastmatch_1.1-3                        \n",
              "[121] tools_4.1.3                            \n",
              "[122] parallel_4.1.3                         \n",
              "[123] uuid_1.0-4                             \n",
              "[124] TFMPvalue_0.0.8                        \n",
              "[125] foreach_1.5.2                          \n",
              "[126] TxDb.Hsapiens.UCSC.hg19.knownGene_3.2.2\n",
              "[127] gridExtra_2.3                          \n",
              "[128] farver_2.1.0                           \n",
              "[129] ggraph_2.0.5                           \n",
              "[130] digest_0.6.29                          \n",
              "[131] BiocManager_1.30.16                    \n",
              "[132] shiny_1.7.1                            \n",
              "[133] pracma_2.3.8                           \n",
              "[134] Rcpp_1.0.8.3                           \n",
              "[135] later_1.3.0                            \n",
              "[136] org.Hs.eg.db_3.14.0                    \n",
              "[137] httr_1.4.2                             \n",
              "[138] colorspace_2.0-3                       \n",
              "[139] brio_1.1.3                             \n",
              "[140] XML_3.99-0.9                           \n",
              "[141] fs_1.5.2                               \n",
              "[142] splines_4.1.3                          \n",
              "[143] yulab.utils_0.0.4                      \n",
              "[144] tidytree_0.3.9                         \n",
              "[145] graphlayouts_0.8.0                     \n",
              "[146] ggplotify_0.1.0                        \n",
              "[147] plotly_4.10.0                          \n",
              "[148] sessioninfo_1.2.2                      \n",
              "[149] xtable_1.8-4                           \n",
              "[150] ggtree_3.2.1                           \n",
              "[151] jsonlite_1.8.0                         \n",
              "[152] futile.options_1.0.1                   \n",
              "[153] poweRlaw_0.70.6                        \n",
              "[154] tidygraph_1.2.0                        \n",
              "[155] ggfun_0.0.5                            \n",
              "[156] testthat_3.1.2                         \n",
              "[157] R6_2.5.1                               \n",
              "[158] pillar_1.7.0                           \n",
              "[159] htmltools_0.5.2                        \n",
              "[160] mime_0.12                              \n",
              "[161] glue_1.6.2                             \n",
              "[162] fastmap_1.1.0                          \n",
              "[163] DT_0.22                                \n",
              "[164] codetools_0.2-18                       \n",
              "[165] fgsea_1.20.0                           \n",
              "[166] pkgbuild_1.3.1                         \n",
              "[167] mvtnorm_1.1-3                          \n",
              "[168] utf8_1.2.2                             \n",
              "[169] lattice_0.20-45                        \n",
              "[170] tibble_3.1.6                           \n",
              "[171] numDeriv_2016.8-1.1                    \n",
              "[172] curl_4.3.2                             \n",
              "[173] gtools_3.9.2                           \n",
              "[174] survival_3.3-1                         \n",
              "[175] repr_1.1.4                             \n",
              "[176] desc_1.4.1                             \n",
              "[177] munsell_0.5.0                          \n",
              "[178] DO.db_2.9                              \n",
              "[179] GetoptLong_1.0.5                       \n",
              "[180] GenomeInfoDbData_1.2.7                 \n",
              "[181] iterators_1.0.14                       \n",
              "[182] reshape2_1.4.4                         \n",
              "[183] gtable_0.3.0                           "
            ]
          },
          "metadata": {},
          "output_type": "display_data"
        },
        {
          "output_type": "display_data",
          "data": {
            "text/plain": [
              "R version 4.1.3 (2022-03-10)\n",
              "Platform: x86_64-pc-linux-gnu (64-bit)\n",
              "Running under: Ubuntu 18.04.5 LTS\n",
              "\n",
              "Matrix products: default\n",
              "BLAS:   /usr/lib/x86_64-linux-gnu/openblas/libblas.so.3\n",
              "LAPACK: /usr/lib/x86_64-linux-gnu/libopenblasp-r0.2.20.so\n",
              "\n",
              "locale:\n",
              " [1] LC_CTYPE=en_US.UTF-8       LC_NUMERIC=C              \n",
              " [3] LC_TIME=en_US.UTF-8        LC_COLLATE=en_US.UTF-8    \n",
              " [5] LC_MONETARY=en_US.UTF-8    LC_MESSAGES=en_US.UTF-8   \n",
              " [7] LC_PAPER=en_US.UTF-8       LC_NAME=C                 \n",
              " [9] LC_ADDRESS=C               LC_TELEPHONE=C            \n",
              "[11] LC_MEASUREMENT=en_US.UTF-8 LC_IDENTIFICATION=C       \n",
              "\n",
              "attached base packages:\n",
              "[1] grid      stats4    stats     graphics  grDevices utils     datasets \n",
              "[8] methods   base     \n",
              "\n",
              "other attached packages:\n",
              " [1] TxDb.Mmusculus.UCSC.mm10.knownGene_3.10.0\n",
              " [2] GenomicFeatures_1.46.5                   \n",
              " [3] gageData_2.32.0                          \n",
              " [4] gage_2.44.0                              \n",
              " [5] pathview_1.34.0                          \n",
              " [6] enrichplot_1.13.1.992                    \n",
              " [7] GOSemSim_2.20.0                          \n",
              " [8] ggnewscale_0.4.7                         \n",
              " [9] ReactomePA_1.38.0                        \n",
              "[10] DOSE_3.20.1                              \n",
              "[11] stringr_1.4.0                            \n",
              "[12] GO.db_3.14.0                             \n",
              "[13] Matrix_1.4-0                             \n",
              "[14] tidyr_1.2.0                              \n",
              "[15] clusterProfiler_4.2.2                    \n",
              "[16] ChIPseeker_1.31.3.900                    \n",
              "[17] org.Mm.eg.db_3.14.0                      \n",
              "[18] AnnotationDbi_1.56.2                     \n",
              "[19] biomaRt_2.50.3                           \n",
              "[20] apeglm_1.16.0                            \n",
              "[21] ggwordcloud_0.5.0                        \n",
              "[22] VennDiagram_1.7.1                        \n",
              "[23] futile.logger_1.4.3                      \n",
              "[24] DESeq2_1.34.0                            \n",
              "[25] splitstackshape_1.4.8                    \n",
              "[26] ggrepel_0.9.1                            \n",
              "[27] ggplot2_3.3.5                            \n",
              "[28] dplyr_1.0.8                              \n",
              "[29] plyr_1.8.7                               \n",
              "[30] ComplexHeatmap_2.11.1                    \n",
              "[31] circlize_0.4.14                          \n",
              "[32] gplots_3.1.1                             \n",
              "[33] SummarizedExperiment_1.24.0              \n",
              "[34] Biobase_2.54.0                           \n",
              "[35] MatrixGenerics_1.6.0                     \n",
              "[36] matrixStats_0.61.0                       \n",
              "[37] BiocParallel_1.28.3                      \n",
              "[38] motifmatchr_1.16.0                       \n",
              "[39] BSgenome.Mmusculus.UCSC.mm10_1.4.3       \n",
              "[40] BSgenome_1.62.0                          \n",
              "[41] rtracklayer_1.54.0                       \n",
              "[42] Biostrings_2.62.0                        \n",
              "[43] XVector_0.34.0                           \n",
              "[44] GenomicRanges_1.46.1                     \n",
              "[45] GenomeInfoDb_1.30.1                      \n",
              "[46] IRanges_2.28.0                           \n",
              "[47] S4Vectors_0.32.4                         \n",
              "[48] BiocGenerics_0.40.0                      \n",
              "[49] chromVAR_1.16.0                          \n",
              "[50] chromVARmotifs_0.2.0                     \n",
              "\n",
              "loaded via a namespace (and not attached):\n",
              "  [1] rappdirs_0.3.3                         \n",
              "  [2] pbdZMQ_0.3-7                           \n",
              "  [3] R.methodsS3_1.8.1                      \n",
              "  [4] coda_0.19-4                            \n",
              "  [5] nabor_0.5.0                            \n",
              "  [6] bit64_4.0.5                            \n",
              "  [7] DelayedArray_0.20.0                    \n",
              "  [8] R.utils_2.11.0                         \n",
              "  [9] data.table_1.14.2                      \n",
              " [10] KEGGREST_1.34.0                        \n",
              " [11] TFBSTools_1.32.0                       \n",
              " [12] RCurl_1.98-1.6                         \n",
              " [13] doParallel_1.0.17                      \n",
              " [14] generics_0.1.2                         \n",
              " [15] callr_3.7.0                            \n",
              " [16] lambda.r_1.2.4                         \n",
              " [17] usethis_2.1.5                          \n",
              " [18] RSQLite_2.2.11                         \n",
              " [19] shadowtext_0.1.1                       \n",
              " [20] bit_4.0.4                              \n",
              " [21] tzdb_0.3.0                             \n",
              " [22] xml2_1.3.3                             \n",
              " [23] httpuv_1.6.5                           \n",
              " [24] assertthat_0.2.1                       \n",
              " [25] DirichletMultinomial_1.36.0            \n",
              " [26] viridis_0.6.2                          \n",
              " [27] hms_1.1.1                              \n",
              " [28] evaluate_0.15                          \n",
              " [29] promises_1.2.0.1                       \n",
              " [30] fansi_1.0.2                            \n",
              " [31] restfulr_0.0.13                        \n",
              " [32] progress_1.2.2                         \n",
              " [33] caTools_1.18.2                         \n",
              " [34] dbplyr_2.1.1                           \n",
              " [35] Rgraphviz_2.38.0                       \n",
              " [36] igraph_1.2.11                          \n",
              " [37] DBI_1.1.2                              \n",
              " [38] geneplotter_1.72.0                     \n",
              " [39] htmlwidgets_1.5.4                      \n",
              " [40] purrr_0.3.4                            \n",
              " [41] ellipsis_0.3.2                         \n",
              " [42] backports_1.4.1                        \n",
              " [43] annotate_1.72.0                        \n",
              " [44] vctrs_0.3.8                            \n",
              " [45] Cairo_1.5-15                           \n",
              " [46] remotes_2.4.2                          \n",
              " [47] cachem_1.0.6                           \n",
              " [48] withr_2.5.0                            \n",
              " [49] ggforce_0.3.3                          \n",
              " [50] checkmate_2.0.0                        \n",
              " [51] bdsmatrix_1.3-4                        \n",
              " [52] treeio_1.18.1                          \n",
              " [53] GenomicAlignments_1.30.0               \n",
              " [54] prettyunits_1.1.1                      \n",
              " [55] cluster_2.1.2                          \n",
              " [56] ape_5.6-2                              \n",
              " [57] IRdisplay_1.1                          \n",
              " [58] lazyeval_0.2.2                         \n",
              " [59] seqLogo_1.60.0                         \n",
              " [60] crayon_1.5.0                           \n",
              " [61] genefilter_1.76.0                      \n",
              " [62] labeling_0.4.2                         \n",
              " [63] pkgconfig_2.0.3                        \n",
              " [64] tweenr_1.0.2                           \n",
              " [65] nlme_3.1-155                           \n",
              " [66] pkgload_1.2.4                          \n",
              " [67] devtools_2.4.3                         \n",
              " [68] rlang_1.0.2                            \n",
              " [69] lifecycle_1.0.1                        \n",
              " [70] miniUI_0.1.1.1                         \n",
              " [71] downloader_0.4                         \n",
              " [72] filelock_1.0.2                         \n",
              " [73] BiocFileCache_2.2.1                    \n",
              " [74] rprojroot_2.0.2                        \n",
              " [75] polyclip_1.10-0                        \n",
              " [76] graph_1.72.0                           \n",
              " [77] aplot_0.1.2                            \n",
              " [78] IRkernel_1.3                           \n",
              " [79] boot_1.3-28                            \n",
              " [80] base64enc_0.1-3                        \n",
              " [81] GlobalOptions_0.1.2                    \n",
              " [82] processx_3.5.2                         \n",
              " [83] png_0.1-7                              \n",
              " [84] viridisLite_0.4.0                      \n",
              " [85] rjson_0.2.21                           \n",
              " [86] bitops_1.0-7                           \n",
              " [87] R.oo_1.24.0                            \n",
              " [88] KernSmooth_2.23-20                     \n",
              " [89] blob_1.2.2                             \n",
              " [90] shape_1.4.6                            \n",
              " [91] qvalue_2.26.0                          \n",
              " [92] readr_2.1.2                            \n",
              " [93] gridGraphics_0.5-1                     \n",
              " [94] reactome.db_1.77.0                     \n",
              " [95] CNEr_1.30.0                            \n",
              " [96] scales_1.1.1                           \n",
              " [97] graphite_1.40.0                        \n",
              " [98] memoise_2.0.1                          \n",
              " [99] magrittr_2.0.2                         \n",
              "[100] zlibbioc_1.40.0                        \n",
              "[101] scatterpie_0.1.7                       \n",
              "[102] compiler_4.1.3                         \n",
              "[103] BiocIO_1.4.0                           \n",
              "[104] bbmle_1.0.24                           \n",
              "[105] RColorBrewer_1.1-2                     \n",
              "[106] KEGGgraph_1.54.0                       \n",
              "[107] plotrix_3.8-2                          \n",
              "[108] clue_0.3-60                            \n",
              "[109] Rsamtools_2.10.0                       \n",
              "[110] cli_3.2.0                              \n",
              "[111] patchwork_1.1.1                        \n",
              "[112] ps_1.6.0                               \n",
              "[113] formatR_1.11                           \n",
              "[114] MASS_7.3-55                            \n",
              "[115] tidyselect_1.1.2                       \n",
              "[116] stringi_1.7.6                          \n",
              "[117] emdbook_1.3.12                         \n",
              "[118] yaml_2.3.5                             \n",
              "[119] locfit_1.5-9.5                         \n",
              "[120] fastmatch_1.1-3                        \n",
              "[121] tools_4.1.3                            \n",
              "[122] parallel_4.1.3                         \n",
              "[123] uuid_1.0-4                             \n",
              "[124] TFMPvalue_0.0.8                        \n",
              "[125] foreach_1.5.2                          \n",
              "[126] TxDb.Hsapiens.UCSC.hg19.knownGene_3.2.2\n",
              "[127] gridExtra_2.3                          \n",
              "[128] farver_2.1.0                           \n",
              "[129] ggraph_2.0.5                           \n",
              "[130] digest_0.6.29                          \n",
              "[131] BiocManager_1.30.16                    \n",
              "[132] shiny_1.7.1                            \n",
              "[133] pracma_2.3.8                           \n",
              "[134] Rcpp_1.0.8.3                           \n",
              "[135] later_1.3.0                            \n",
              "[136] org.Hs.eg.db_3.14.0                    \n",
              "[137] httr_1.4.2                             \n",
              "[138] colorspace_2.0-3                       \n",
              "[139] brio_1.1.3                             \n",
              "[140] XML_3.99-0.9                           \n",
              "[141] fs_1.5.2                               \n",
              "[142] splines_4.1.3                          \n",
              "[143] yulab.utils_0.0.4                      \n",
              "[144] tidytree_0.3.9                         \n",
              "[145] graphlayouts_0.8.0                     \n",
              "[146] ggplotify_0.1.0                        \n",
              "[147] plotly_4.10.0                          \n",
              "[148] sessioninfo_1.2.2                      \n",
              "[149] xtable_1.8-4                           \n",
              "[150] ggtree_3.2.1                           \n",
              "[151] jsonlite_1.8.0                         \n",
              "[152] futile.options_1.0.1                   \n",
              "[153] poweRlaw_0.70.6                        \n",
              "[154] tidygraph_1.2.0                        \n",
              "[155] ggfun_0.0.5                            \n",
              "[156] testthat_3.1.2                         \n",
              "[157] R6_2.5.1                               \n",
              "[158] pillar_1.7.0                           \n",
              "[159] htmltools_0.5.2                        \n",
              "[160] mime_0.12                              \n",
              "[161] glue_1.6.2                             \n",
              "[162] fastmap_1.1.0                          \n",
              "[163] DT_0.22                                \n",
              "[164] codetools_0.2-18                       \n",
              "[165] fgsea_1.20.0                           \n",
              "[166] pkgbuild_1.3.1                         \n",
              "[167] mvtnorm_1.1-3                          \n",
              "[168] utf8_1.2.2                             \n",
              "[169] lattice_0.20-45                        \n",
              "[170] tibble_3.1.6                           \n",
              "[171] numDeriv_2016.8-1.1                    \n",
              "[172] curl_4.3.2                             \n",
              "[173] gtools_3.9.2                           \n",
              "[174] survival_3.3-1                         \n",
              "[175] repr_1.1.4                             \n",
              "[176] desc_1.4.1                             \n",
              "[177] munsell_0.5.0                          \n",
              "[178] DO.db_2.9                              \n",
              "[179] GetoptLong_1.0.5                       \n",
              "[180] GenomeInfoDbData_1.2.7                 \n",
              "[181] iterators_1.0.14                       \n",
              "[182] reshape2_1.4.4                         \n",
              "[183] gtable_0.3.0                           "
            ]
          },
          "metadata": {}
        }
      ]
    }
  ]
}