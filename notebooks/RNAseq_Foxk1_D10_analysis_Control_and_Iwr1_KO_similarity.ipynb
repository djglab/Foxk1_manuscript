{
  "nbformat": 4,
  "nbformat_minor": 0,
  "metadata": {
    "colab": {
      "name": "RNAseq_Foxk1_D10_analysis_Control and Iwr1 KO similarity.ipynb",
      "provenance": [],
      "collapsed_sections": [],
      "toc_visible": true,
      "include_colab_link": true
    },
    "kernelspec": {
      "name": "ir",
      "display_name": "R"
    }
  },
  "cells": [
    {
      "cell_type": "markdown",
      "metadata": {
        "id": "view-in-github",
        "colab_type": "text"
      },
      "source": [
        "<a href=\"https://colab.research.google.com/github/djglab/Foxk1_manuscript/blob/main/notebooks/RNAseq_Foxk1_D10_analysis_Control_and_Iwr1_KO_similarity.ipynb\" target=\"_parent\"><img src=\"https://colab.research.google.com/assets/colab-badge.svg\" alt=\"Open In Colab\"/></a>"
      ]
    },
    {
      "cell_type": "markdown",
      "source": [
        "The goal of this notebook is to see the commonly upregulated genes in Foxk1 KO IWR1 and Control samples "
      ],
      "metadata": {
        "id": "P1SKJ02-SNsL"
      }
    },
    {
      "cell_type": "code",
      "metadata": {
        "id": "SK7UWjMVhJvE"
      },
      "source": [
        "start_time0 <- Sys.time()"
      ],
      "execution_count": null,
      "outputs": []
    },
    {
      "cell_type": "markdown",
      "metadata": {
        "id": "KitqR0X7qDZz"
      },
      "source": [
        "# Downloading and installing packages"
      ]
    },
    {
      "cell_type": "code",
      "metadata": {
        "id": "XRVS6cpnhHAP",
        "colab": {
          "base_uri": "https://localhost:8080/",
          "height": 763
        },
        "outputId": "16fbf2c4-c998-4dd6-f7dd-3e1531948a0d"
      },
      "source": [
        "system('apt-get -q install libgsl-dev', intern = TRUE)\n",
        "system('apt-get install libcairo2-dev', intern = TRUE)"
      ],
      "execution_count": null,
      "outputs": [
        {
          "output_type": "display_data",
          "data": {
            "text/html": [
              "<style>\n",
              ".list-inline {list-style: none; margin:0; padding: 0}\n",
              ".list-inline>li {display: inline-block}\n",
              ".list-inline>li:not(:last-child)::after {content: \"\\00b7\"; padding: 0 .5ex}\n",
              "</style>\n",
              "<ol class=list-inline><li>'Reading package lists...'</li><li>'Building dependency tree...'</li><li>'Reading state information...'</li><li>'The following additional packages will be installed:'</li><li><span style=white-space:pre-wrap>'  libgsl23 libgslcblas0'</span></li><li>'Suggested packages:'</li><li><span style=white-space:pre-wrap>'  gsl-ref-psdoc | gsl-doc-pdf | gsl-doc-info | gsl-ref-html'</span></li><li>'The following NEW packages will be installed:'</li><li><span style=white-space:pre-wrap>'  libgsl-dev libgsl23 libgslcblas0'</span></li><li>'0 upgraded, 3 newly installed, 0 to remove and 39 not upgraded.'</li><li>'Need to get 1,926 kB of archives.'</li><li>'After this operation, 9,474 kB of additional disk space will be used.'</li><li>'Get:1 http://archive.ubuntu.com/ubuntu bionic/universe amd64 libgslcblas0 amd64 2.4+dfsg-6 [79.7 kB]'</li><li>'Get:2 http://archive.ubuntu.com/ubuntu bionic/universe amd64 libgsl23 amd64 2.4+dfsg-6 [823 kB]'</li><li>'Get:3 http://archive.ubuntu.com/ubuntu bionic/universe amd64 libgsl-dev amd64 2.4+dfsg-6 [1,023 kB]'</li><li>'Fetched 1,926 kB in 0s (4,481 kB/s)'</li><li>'Selecting previously unselected package libgslcblas0:amd64.\\r'</li><li>'(Reading database ... \\r(Reading database ... 5%\\r(Reading database ... 10%\\r(Reading database ... 15%\\r(Reading database ... 20%\\r(Reading database ... 25%\\r(Reading database ... 30%\\r(Reading database ... 35%\\r(Reading database ... 40%\\r(Reading database ... 45%\\r(Reading database ... 50%\\r(Reading database ... 55%\\r(Reading database ... 60%\\r(Reading database ... 65%\\r(Reading database ... 70%\\r(Reading database ... 75%\\r(Reading database ... 80%\\r(Reading database ... 85%\\r(Reading database ... 90%\\r(Reading database ... 95%\\r(Reading database ... 100%\\r(Reading database ... 155335 files and directories currently installed.)\\r'</li><li>'Preparing to unpack .../libgslcblas0_2.4+dfsg-6_amd64.deb ...\\r'</li><li>'Unpacking libgslcblas0:amd64 (2.4+dfsg-6) ...\\r'</li><li>'Selecting previously unselected package libgsl23:amd64.\\r'</li><li>'Preparing to unpack .../libgsl23_2.4+dfsg-6_amd64.deb ...\\r'</li><li>'Unpacking libgsl23:amd64 (2.4+dfsg-6) ...\\r'</li><li>'Selecting previously unselected package libgsl-dev.\\r'</li><li>'Preparing to unpack .../libgsl-dev_2.4+dfsg-6_amd64.deb ...\\r'</li><li>'Unpacking libgsl-dev (2.4+dfsg-6) ...\\r'</li><li>'Setting up libgslcblas0:amd64 (2.4+dfsg-6) ...\\r'</li><li>'Setting up libgsl23:amd64 (2.4+dfsg-6) ...\\r'</li><li>'Setting up libgsl-dev (2.4+dfsg-6) ...\\r'</li><li>'Processing triggers for man-db (2.8.3-2ubuntu0.1) ...\\r'</li><li>'Processing triggers for libc-bin (2.27-3ubuntu1.3) ...\\r'</li><li>'/sbin/ldconfig.real: /usr/local/lib/python3.7/dist-packages/ideep4py/lib/libmkldnn.so.0 is not a symbolic link\\r'</li><li>'\\r'</li></ol>\n"
            ],
            "text/markdown": "1. 'Reading package lists...'\n2. 'Building dependency tree...'\n3. 'Reading state information...'\n4. 'The following additional packages will be installed:'\n5. <span style=white-space:pre-wrap>'  libgsl23 libgslcblas0'</span>\n6. 'Suggested packages:'\n7. <span style=white-space:pre-wrap>'  gsl-ref-psdoc | gsl-doc-pdf | gsl-doc-info | gsl-ref-html'</span>\n8. 'The following NEW packages will be installed:'\n9. <span style=white-space:pre-wrap>'  libgsl-dev libgsl23 libgslcblas0'</span>\n10. '0 upgraded, 3 newly installed, 0 to remove and 39 not upgraded.'\n11. 'Need to get 1,926 kB of archives.'\n12. 'After this operation, 9,474 kB of additional disk space will be used.'\n13. 'Get:1 http://archive.ubuntu.com/ubuntu bionic/universe amd64 libgslcblas0 amd64 2.4+dfsg-6 [79.7 kB]'\n14. 'Get:2 http://archive.ubuntu.com/ubuntu bionic/universe amd64 libgsl23 amd64 2.4+dfsg-6 [823 kB]'\n15. 'Get:3 http://archive.ubuntu.com/ubuntu bionic/universe amd64 libgsl-dev amd64 2.4+dfsg-6 [1,023 kB]'\n16. 'Fetched 1,926 kB in 0s (4,481 kB/s)'\n17. 'Selecting previously unselected package libgslcblas0:amd64.\\r'\n18. '(Reading database ... \\r(Reading database ... 5%\\r(Reading database ... 10%\\r(Reading database ... 15%\\r(Reading database ... 20%\\r(Reading database ... 25%\\r(Reading database ... 30%\\r(Reading database ... 35%\\r(Reading database ... 40%\\r(Reading database ... 45%\\r(Reading database ... 50%\\r(Reading database ... 55%\\r(Reading database ... 60%\\r(Reading database ... 65%\\r(Reading database ... 70%\\r(Reading database ... 75%\\r(Reading database ... 80%\\r(Reading database ... 85%\\r(Reading database ... 90%\\r(Reading database ... 95%\\r(Reading database ... 100%\\r(Reading database ... 155335 files and directories currently installed.)\\r'\n19. 'Preparing to unpack .../libgslcblas0_2.4+dfsg-6_amd64.deb ...\\r'\n20. 'Unpacking libgslcblas0:amd64 (2.4+dfsg-6) ...\\r'\n21. 'Selecting previously unselected package libgsl23:amd64.\\r'\n22. 'Preparing to unpack .../libgsl23_2.4+dfsg-6_amd64.deb ...\\r'\n23. 'Unpacking libgsl23:amd64 (2.4+dfsg-6) ...\\r'\n24. 'Selecting previously unselected package libgsl-dev.\\r'\n25. 'Preparing to unpack .../libgsl-dev_2.4+dfsg-6_amd64.deb ...\\r'\n26. 'Unpacking libgsl-dev (2.4+dfsg-6) ...\\r'\n27. 'Setting up libgslcblas0:amd64 (2.4+dfsg-6) ...\\r'\n28. 'Setting up libgsl23:amd64 (2.4+dfsg-6) ...\\r'\n29. 'Setting up libgsl-dev (2.4+dfsg-6) ...\\r'\n30. 'Processing triggers for man-db (2.8.3-2ubuntu0.1) ...\\r'\n31. 'Processing triggers for libc-bin (2.27-3ubuntu1.3) ...\\r'\n32. '/sbin/ldconfig.real: /usr/local/lib/python3.7/dist-packages/ideep4py/lib/libmkldnn.so.0 is not a symbolic link\\r'\n33. '\\r'\n\n\n",
            "text/latex": "\\begin{enumerate*}\n\\item 'Reading package lists...'\n\\item 'Building dependency tree...'\n\\item 'Reading state information...'\n\\item 'The following additional packages will be installed:'\n\\item '  libgsl23 libgslcblas0'\n\\item 'Suggested packages:'\n\\item '  gsl-ref-psdoc \\textbar{} gsl-doc-pdf \\textbar{} gsl-doc-info \\textbar{} gsl-ref-html'\n\\item 'The following NEW packages will be installed:'\n\\item '  libgsl-dev libgsl23 libgslcblas0'\n\\item '0 upgraded, 3 newly installed, 0 to remove and 39 not upgraded.'\n\\item 'Need to get 1,926 kB of archives.'\n\\item 'After this operation, 9,474 kB of additional disk space will be used.'\n\\item 'Get:1 http://archive.ubuntu.com/ubuntu bionic/universe amd64 libgslcblas0 amd64 2.4+dfsg-6 {[}79.7 kB{]}'\n\\item 'Get:2 http://archive.ubuntu.com/ubuntu bionic/universe amd64 libgsl23 amd64 2.4+dfsg-6 {[}823 kB{]}'\n\\item 'Get:3 http://archive.ubuntu.com/ubuntu bionic/universe amd64 libgsl-dev amd64 2.4+dfsg-6 {[}1,023 kB{]}'\n\\item 'Fetched 1,926 kB in 0s (4,481 kB/s)'\n\\item 'Selecting previously unselected package libgslcblas0:amd64.\\textbackslash{}r'\n\\item '(Reading database ... \\textbackslash{}r(Reading database ... 5\\%\\textbackslash{}r(Reading database ... 10\\%\\textbackslash{}r(Reading database ... 15\\%\\textbackslash{}r(Reading database ... 20\\%\\textbackslash{}r(Reading database ... 25\\%\\textbackslash{}r(Reading database ... 30\\%\\textbackslash{}r(Reading database ... 35\\%\\textbackslash{}r(Reading database ... 40\\%\\textbackslash{}r(Reading database ... 45\\%\\textbackslash{}r(Reading database ... 50\\%\\textbackslash{}r(Reading database ... 55\\%\\textbackslash{}r(Reading database ... 60\\%\\textbackslash{}r(Reading database ... 65\\%\\textbackslash{}r(Reading database ... 70\\%\\textbackslash{}r(Reading database ... 75\\%\\textbackslash{}r(Reading database ... 80\\%\\textbackslash{}r(Reading database ... 85\\%\\textbackslash{}r(Reading database ... 90\\%\\textbackslash{}r(Reading database ... 95\\%\\textbackslash{}r(Reading database ... 100\\%\\textbackslash{}r(Reading database ... 155335 files and directories currently installed.)\\textbackslash{}r'\n\\item 'Preparing to unpack .../libgslcblas0\\_2.4+dfsg-6\\_amd64.deb ...\\textbackslash{}r'\n\\item 'Unpacking libgslcblas0:amd64 (2.4+dfsg-6) ...\\textbackslash{}r'\n\\item 'Selecting previously unselected package libgsl23:amd64.\\textbackslash{}r'\n\\item 'Preparing to unpack .../libgsl23\\_2.4+dfsg-6\\_amd64.deb ...\\textbackslash{}r'\n\\item 'Unpacking libgsl23:amd64 (2.4+dfsg-6) ...\\textbackslash{}r'\n\\item 'Selecting previously unselected package libgsl-dev.\\textbackslash{}r'\n\\item 'Preparing to unpack .../libgsl-dev\\_2.4+dfsg-6\\_amd64.deb ...\\textbackslash{}r'\n\\item 'Unpacking libgsl-dev (2.4+dfsg-6) ...\\textbackslash{}r'\n\\item 'Setting up libgslcblas0:amd64 (2.4+dfsg-6) ...\\textbackslash{}r'\n\\item 'Setting up libgsl23:amd64 (2.4+dfsg-6) ...\\textbackslash{}r'\n\\item 'Setting up libgsl-dev (2.4+dfsg-6) ...\\textbackslash{}r'\n\\item 'Processing triggers for man-db (2.8.3-2ubuntu0.1) ...\\textbackslash{}r'\n\\item 'Processing triggers for libc-bin (2.27-3ubuntu1.3) ...\\textbackslash{}r'\n\\item '/sbin/ldconfig.real: /usr/local/lib/python3.7/dist-packages/ideep4py/lib/libmkldnn.so.0 is not a symbolic link\\textbackslash{}r'\n\\item '\\textbackslash{}r'\n\\end{enumerate*}\n",
            "text/plain": [
              " [1] \"Reading package lists...\"                                                                                                                                                                                                                                                                                                                                                                                                                                                                                                                                                                                                                                      \n",
              " [2] \"Building dependency tree...\"                                                                                                                                                                                                                                                                                                                                                                                                                                                                                                                                                                                                                                   \n",
              " [3] \"Reading state information...\"                                                                                                                                                                                                                                                                                                                                                                                                                                                                                                                                                                                                                                  \n",
              " [4] \"The following additional packages will be installed:\"                                                                                                                                                                                                                                                                                                                                                                                                                                                                                                                                                                                                          \n",
              " [5] \"  libgsl23 libgslcblas0\"                                                                                                                                                                                                                                                                                                                                                                                                                                                                                                                                                                                                                                       \n",
              " [6] \"Suggested packages:\"                                                                                                                                                                                                                                                                                                                                                                                                                                                                                                                                                                                                                                           \n",
              " [7] \"  gsl-ref-psdoc | gsl-doc-pdf | gsl-doc-info | gsl-ref-html\"                                                                                                                                                                                                                                                                                                                                                                                                                                                                                                                                                                                                   \n",
              " [8] \"The following NEW packages will be installed:\"                                                                                                                                                                                                                                                                                                                                                                                                                                                                                                                                                                                                                 \n",
              " [9] \"  libgsl-dev libgsl23 libgslcblas0\"                                                                                                                                                                                                                                                                                                                                                                                                                                                                                                                                                                                                                            \n",
              "[10] \"0 upgraded, 3 newly installed, 0 to remove and 39 not upgraded.\"                                                                                                                                                                                                                                                                                                                                                                                                                                                                                                                                                                                               \n",
              "[11] \"Need to get 1,926 kB of archives.\"                                                                                                                                                                                                                                                                                                                                                                                                                                                                                                                                                                                                                             \n",
              "[12] \"After this operation, 9,474 kB of additional disk space will be used.\"                                                                                                                                                                                                                                                                                                                                                                                                                                                                                                                                                                                         \n",
              "[13] \"Get:1 http://archive.ubuntu.com/ubuntu bionic/universe amd64 libgslcblas0 amd64 2.4+dfsg-6 [79.7 kB]\"                                                                                                                                                                                                                                                                                                                                                                                                                                                                                                                                                          \n",
              "[14] \"Get:2 http://archive.ubuntu.com/ubuntu bionic/universe amd64 libgsl23 amd64 2.4+dfsg-6 [823 kB]\"                                                                                                                                                                                                                                                                                                                                                                                                                                                                                                                                                               \n",
              "[15] \"Get:3 http://archive.ubuntu.com/ubuntu bionic/universe amd64 libgsl-dev amd64 2.4+dfsg-6 [1,023 kB]\"                                                                                                                                                                                                                                                                                                                                                                                                                                                                                                                                                           \n",
              "[16] \"Fetched 1,926 kB in 0s (4,481 kB/s)\"                                                                                                                                                                                                                                                                                                                                                                                                                                                                                                                                                                                                                           \n",
              "[17] \"Selecting previously unselected package libgslcblas0:amd64.\\r\"                                                                                                                                                                                                                                                                                                                                                                                                                                                                                                                                                                                                 \n",
              "[18] \"(Reading database ... \\r(Reading database ... 5%\\r(Reading database ... 10%\\r(Reading database ... 15%\\r(Reading database ... 20%\\r(Reading database ... 25%\\r(Reading database ... 30%\\r(Reading database ... 35%\\r(Reading database ... 40%\\r(Reading database ... 45%\\r(Reading database ... 50%\\r(Reading database ... 55%\\r(Reading database ... 60%\\r(Reading database ... 65%\\r(Reading database ... 70%\\r(Reading database ... 75%\\r(Reading database ... 80%\\r(Reading database ... 85%\\r(Reading database ... 90%\\r(Reading database ... 95%\\r(Reading database ... 100%\\r(Reading database ... 155335 files and directories currently installed.)\\r\"\n",
              "[19] \"Preparing to unpack .../libgslcblas0_2.4+dfsg-6_amd64.deb ...\\r\"                                                                                                                                                                                                                                                                                                                                                                                                                                                                                                                                                                                               \n",
              "[20] \"Unpacking libgslcblas0:amd64 (2.4+dfsg-6) ...\\r\"                                                                                                                                                                                                                                                                                                                                                                                                                                                                                                                                                                                                               \n",
              "[21] \"Selecting previously unselected package libgsl23:amd64.\\r\"                                                                                                                                                                                                                                                                                                                                                                                                                                                                                                                                                                                                     \n",
              "[22] \"Preparing to unpack .../libgsl23_2.4+dfsg-6_amd64.deb ...\\r\"                                                                                                                                                                                                                                                                                                                                                                                                                                                                                                                                                                                                   \n",
              "[23] \"Unpacking libgsl23:amd64 (2.4+dfsg-6) ...\\r\"                                                                                                                                                                                                                                                                                                                                                                                                                                                                                                                                                                                                                   \n",
              "[24] \"Selecting previously unselected package libgsl-dev.\\r\"                                                                                                                                                                                                                                                                                                                                                                                                                                                                                                                                                                                                         \n",
              "[25] \"Preparing to unpack .../libgsl-dev_2.4+dfsg-6_amd64.deb ...\\r\"                                                                                                                                                                                                                                                                                                                                                                                                                                                                                                                                                                                                 \n",
              "[26] \"Unpacking libgsl-dev (2.4+dfsg-6) ...\\r\"                                                                                                                                                                                                                                                                                                                                                                                                                                                                                                                                                                                                                       \n",
              "[27] \"Setting up libgslcblas0:amd64 (2.4+dfsg-6) ...\\r\"                                                                                                                                                                                                                                                                                                                                                                                                                                                                                                                                                                                                              \n",
              "[28] \"Setting up libgsl23:amd64 (2.4+dfsg-6) ...\\r\"                                                                                                                                                                                                                                                                                                                                                                                                                                                                                                                                                                                                                  \n",
              "[29] \"Setting up libgsl-dev (2.4+dfsg-6) ...\\r\"                                                                                                                                                                                                                                                                                                                                                                                                                                                                                                                                                                                                                      \n",
              "[30] \"Processing triggers for man-db (2.8.3-2ubuntu0.1) ...\\r\"                                                                                                                                                                                                                                                                                                                                                                                                                                                                                                                                                                                                       \n",
              "[31] \"Processing triggers for libc-bin (2.27-3ubuntu1.3) ...\\r\"                                                                                                                                                                                                                                                                                                                                                                                                                                                                                                                                                                                                      \n",
              "[32] \"/sbin/ldconfig.real: /usr/local/lib/python3.7/dist-packages/ideep4py/lib/libmkldnn.so.0 is not a symbolic link\\r\"                                                                                                                                                                                                                                                                                                                                                                                                                                                                                                                                              \n",
              "[33] \"\\r\"                                                                                                                                                                                                                                                                                                                                                                                                                                                                                                                                                                                                                                                            "
            ]
          },
          "metadata": {}
        },
        {
          "output_type": "display_data",
          "data": {
            "text/html": [
              "<style>\n",
              ".list-inline {list-style: none; margin:0; padding: 0}\n",
              ".list-inline>li {display: inline-block}\n",
              ".list-inline>li:not(:last-child)::after {content: \"\\00b7\"; padding: 0 .5ex}\n",
              "</style>\n",
              "<ol class=list-inline><li>'Reading package lists...'</li><li>'Building dependency tree...'</li><li>'Reading state information...'</li><li>'The following additional packages will be installed:'</li><li><span style=white-space:pre-wrap>'  libcairo-script-interpreter2 libpixman-1-dev libxcb-shm0-dev'</span></li><li>'Suggested packages:'</li><li><span style=white-space:pre-wrap>'  libcairo2-doc'</span></li><li>'The following NEW packages will be installed:'</li><li><span style=white-space:pre-wrap>'  libcairo-script-interpreter2 libcairo2-dev libpixman-1-dev libxcb-shm0-dev'</span></li><li>'0 upgraded, 4 newly installed, 0 to remove and 39 not upgraded.'</li><li>'Need to get 930 kB of archives.'</li><li>'After this operation, 3,986 kB of additional disk space will be used.'</li><li>'Get:1 http://archive.ubuntu.com/ubuntu bionic-updates/main amd64 libcairo-script-interpreter2 amd64 1.15.10-2ubuntu0.1 [53.5 kB]'</li><li>'Get:2 http://archive.ubuntu.com/ubuntu bionic/main amd64 libpixman-1-dev amd64 0.34.0-2 [244 kB]'</li><li>'Get:3 http://archive.ubuntu.com/ubuntu bionic-updates/main amd64 libxcb-shm0-dev amd64 1.13-2~ubuntu18.04 [6,684 B]'</li><li>'Get:4 http://archive.ubuntu.com/ubuntu bionic-updates/main amd64 libcairo2-dev amd64 1.15.10-2ubuntu0.1 [626 kB]'</li><li>'Fetched 930 kB in 0s (3,026 kB/s)'</li><li>'Selecting previously unselected package libcairo-script-interpreter2:amd64.\\r'</li><li>'(Reading database ... \\r(Reading database ... 5%\\r(Reading database ... 10%\\r(Reading database ... 15%\\r(Reading database ... 20%\\r(Reading database ... 25%\\r(Reading database ... 30%\\r(Reading database ... 35%\\r(Reading database ... 40%\\r(Reading database ... 45%\\r(Reading database ... 50%\\r(Reading database ... 55%\\r(Reading database ... 60%\\r(Reading database ... 65%\\r(Reading database ... 70%\\r(Reading database ... 75%\\r(Reading database ... 80%\\r(Reading database ... 85%\\r(Reading database ... 90%\\r(Reading database ... 95%\\r(Reading database ... 100%\\r(Reading database ... 155607 files and directories currently installed.)\\r'</li><li>'Preparing to unpack .../libcairo-script-interpreter2_1.15.10-2ubuntu0.1_amd64.deb ...\\r'</li><li>'Unpacking libcairo-script-interpreter2:amd64 (1.15.10-2ubuntu0.1) ...\\r'</li><li>'Selecting previously unselected package libpixman-1-dev:amd64.\\r'</li><li>'Preparing to unpack .../libpixman-1-dev_0.34.0-2_amd64.deb ...\\r'</li><li>'Unpacking libpixman-1-dev:amd64 (0.34.0-2) ...\\r'</li><li>'Selecting previously unselected package libxcb-shm0-dev:amd64.\\r'</li><li>'Preparing to unpack .../libxcb-shm0-dev_1.13-2~ubuntu18.04_amd64.deb ...\\r'</li><li>'Unpacking libxcb-shm0-dev:amd64 (1.13-2~ubuntu18.04) ...\\r'</li><li>'Selecting previously unselected package libcairo2-dev:amd64.\\r'</li><li>'Preparing to unpack .../libcairo2-dev_1.15.10-2ubuntu0.1_amd64.deb ...\\r'</li><li>'Unpacking libcairo2-dev:amd64 (1.15.10-2ubuntu0.1) ...\\r'</li><li>'Setting up libcairo-script-interpreter2:amd64 (1.15.10-2ubuntu0.1) ...\\r'</li><li>'Setting up libxcb-shm0-dev:amd64 (1.13-2~ubuntu18.04) ...\\r'</li><li>'Setting up libpixman-1-dev:amd64 (0.34.0-2) ...\\r'</li><li>'Setting up libcairo2-dev:amd64 (1.15.10-2ubuntu0.1) ...\\r'</li><li>'Processing triggers for libc-bin (2.27-3ubuntu1.3) ...\\r'</li><li>'/sbin/ldconfig.real: /usr/local/lib/python3.7/dist-packages/ideep4py/lib/libmkldnn.so.0 is not a symbolic link\\r'</li><li>'\\r'</li></ol>\n"
            ],
            "text/markdown": "1. 'Reading package lists...'\n2. 'Building dependency tree...'\n3. 'Reading state information...'\n4. 'The following additional packages will be installed:'\n5. <span style=white-space:pre-wrap>'  libcairo-script-interpreter2 libpixman-1-dev libxcb-shm0-dev'</span>\n6. 'Suggested packages:'\n7. <span style=white-space:pre-wrap>'  libcairo2-doc'</span>\n8. 'The following NEW packages will be installed:'\n9. <span style=white-space:pre-wrap>'  libcairo-script-interpreter2 libcairo2-dev libpixman-1-dev libxcb-shm0-dev'</span>\n10. '0 upgraded, 4 newly installed, 0 to remove and 39 not upgraded.'\n11. 'Need to get 930 kB of archives.'\n12. 'After this operation, 3,986 kB of additional disk space will be used.'\n13. 'Get:1 http://archive.ubuntu.com/ubuntu bionic-updates/main amd64 libcairo-script-interpreter2 amd64 1.15.10-2ubuntu0.1 [53.5 kB]'\n14. 'Get:2 http://archive.ubuntu.com/ubuntu bionic/main amd64 libpixman-1-dev amd64 0.34.0-2 [244 kB]'\n15. 'Get:3 http://archive.ubuntu.com/ubuntu bionic-updates/main amd64 libxcb-shm0-dev amd64 1.13-2~ubuntu18.04 [6,684 B]'\n16. 'Get:4 http://archive.ubuntu.com/ubuntu bionic-updates/main amd64 libcairo2-dev amd64 1.15.10-2ubuntu0.1 [626 kB]'\n17. 'Fetched 930 kB in 0s (3,026 kB/s)'\n18. 'Selecting previously unselected package libcairo-script-interpreter2:amd64.\\r'\n19. '(Reading database ... \\r(Reading database ... 5%\\r(Reading database ... 10%\\r(Reading database ... 15%\\r(Reading database ... 20%\\r(Reading database ... 25%\\r(Reading database ... 30%\\r(Reading database ... 35%\\r(Reading database ... 40%\\r(Reading database ... 45%\\r(Reading database ... 50%\\r(Reading database ... 55%\\r(Reading database ... 60%\\r(Reading database ... 65%\\r(Reading database ... 70%\\r(Reading database ... 75%\\r(Reading database ... 80%\\r(Reading database ... 85%\\r(Reading database ... 90%\\r(Reading database ... 95%\\r(Reading database ... 100%\\r(Reading database ... 155607 files and directories currently installed.)\\r'\n20. 'Preparing to unpack .../libcairo-script-interpreter2_1.15.10-2ubuntu0.1_amd64.deb ...\\r'\n21. 'Unpacking libcairo-script-interpreter2:amd64 (1.15.10-2ubuntu0.1) ...\\r'\n22. 'Selecting previously unselected package libpixman-1-dev:amd64.\\r'\n23. 'Preparing to unpack .../libpixman-1-dev_0.34.0-2_amd64.deb ...\\r'\n24. 'Unpacking libpixman-1-dev:amd64 (0.34.0-2) ...\\r'\n25. 'Selecting previously unselected package libxcb-shm0-dev:amd64.\\r'\n26. 'Preparing to unpack .../libxcb-shm0-dev_1.13-2~ubuntu18.04_amd64.deb ...\\r'\n27. 'Unpacking libxcb-shm0-dev:amd64 (1.13-2~ubuntu18.04) ...\\r'\n28. 'Selecting previously unselected package libcairo2-dev:amd64.\\r'\n29. 'Preparing to unpack .../libcairo2-dev_1.15.10-2ubuntu0.1_amd64.deb ...\\r'\n30. 'Unpacking libcairo2-dev:amd64 (1.15.10-2ubuntu0.1) ...\\r'\n31. 'Setting up libcairo-script-interpreter2:amd64 (1.15.10-2ubuntu0.1) ...\\r'\n32. 'Setting up libxcb-shm0-dev:amd64 (1.13-2~ubuntu18.04) ...\\r'\n33. 'Setting up libpixman-1-dev:amd64 (0.34.0-2) ...\\r'\n34. 'Setting up libcairo2-dev:amd64 (1.15.10-2ubuntu0.1) ...\\r'\n35. 'Processing triggers for libc-bin (2.27-3ubuntu1.3) ...\\r'\n36. '/sbin/ldconfig.real: /usr/local/lib/python3.7/dist-packages/ideep4py/lib/libmkldnn.so.0 is not a symbolic link\\r'\n37. '\\r'\n\n\n",
            "text/latex": "\\begin{enumerate*}\n\\item 'Reading package lists...'\n\\item 'Building dependency tree...'\n\\item 'Reading state information...'\n\\item 'The following additional packages will be installed:'\n\\item '  libcairo-script-interpreter2 libpixman-1-dev libxcb-shm0-dev'\n\\item 'Suggested packages:'\n\\item '  libcairo2-doc'\n\\item 'The following NEW packages will be installed:'\n\\item '  libcairo-script-interpreter2 libcairo2-dev libpixman-1-dev libxcb-shm0-dev'\n\\item '0 upgraded, 4 newly installed, 0 to remove and 39 not upgraded.'\n\\item 'Need to get 930 kB of archives.'\n\\item 'After this operation, 3,986 kB of additional disk space will be used.'\n\\item 'Get:1 http://archive.ubuntu.com/ubuntu bionic-updates/main amd64 libcairo-script-interpreter2 amd64 1.15.10-2ubuntu0.1 {[}53.5 kB{]}'\n\\item 'Get:2 http://archive.ubuntu.com/ubuntu bionic/main amd64 libpixman-1-dev amd64 0.34.0-2 {[}244 kB{]}'\n\\item 'Get:3 http://archive.ubuntu.com/ubuntu bionic-updates/main amd64 libxcb-shm0-dev amd64 1.13-2\\textasciitilde{}ubuntu18.04 {[}6,684 B{]}'\n\\item 'Get:4 http://archive.ubuntu.com/ubuntu bionic-updates/main amd64 libcairo2-dev amd64 1.15.10-2ubuntu0.1 {[}626 kB{]}'\n\\item 'Fetched 930 kB in 0s (3,026 kB/s)'\n\\item 'Selecting previously unselected package libcairo-script-interpreter2:amd64.\\textbackslash{}r'\n\\item '(Reading database ... \\textbackslash{}r(Reading database ... 5\\%\\textbackslash{}r(Reading database ... 10\\%\\textbackslash{}r(Reading database ... 15\\%\\textbackslash{}r(Reading database ... 20\\%\\textbackslash{}r(Reading database ... 25\\%\\textbackslash{}r(Reading database ... 30\\%\\textbackslash{}r(Reading database ... 35\\%\\textbackslash{}r(Reading database ... 40\\%\\textbackslash{}r(Reading database ... 45\\%\\textbackslash{}r(Reading database ... 50\\%\\textbackslash{}r(Reading database ... 55\\%\\textbackslash{}r(Reading database ... 60\\%\\textbackslash{}r(Reading database ... 65\\%\\textbackslash{}r(Reading database ... 70\\%\\textbackslash{}r(Reading database ... 75\\%\\textbackslash{}r(Reading database ... 80\\%\\textbackslash{}r(Reading database ... 85\\%\\textbackslash{}r(Reading database ... 90\\%\\textbackslash{}r(Reading database ... 95\\%\\textbackslash{}r(Reading database ... 100\\%\\textbackslash{}r(Reading database ... 155607 files and directories currently installed.)\\textbackslash{}r'\n\\item 'Preparing to unpack .../libcairo-script-interpreter2\\_1.15.10-2ubuntu0.1\\_amd64.deb ...\\textbackslash{}r'\n\\item 'Unpacking libcairo-script-interpreter2:amd64 (1.15.10-2ubuntu0.1) ...\\textbackslash{}r'\n\\item 'Selecting previously unselected package libpixman-1-dev:amd64.\\textbackslash{}r'\n\\item 'Preparing to unpack .../libpixman-1-dev\\_0.34.0-2\\_amd64.deb ...\\textbackslash{}r'\n\\item 'Unpacking libpixman-1-dev:amd64 (0.34.0-2) ...\\textbackslash{}r'\n\\item 'Selecting previously unselected package libxcb-shm0-dev:amd64.\\textbackslash{}r'\n\\item 'Preparing to unpack .../libxcb-shm0-dev\\_1.13-2\\textasciitilde{}ubuntu18.04\\_amd64.deb ...\\textbackslash{}r'\n\\item 'Unpacking libxcb-shm0-dev:amd64 (1.13-2\\textasciitilde{}ubuntu18.04) ...\\textbackslash{}r'\n\\item 'Selecting previously unselected package libcairo2-dev:amd64.\\textbackslash{}r'\n\\item 'Preparing to unpack .../libcairo2-dev\\_1.15.10-2ubuntu0.1\\_amd64.deb ...\\textbackslash{}r'\n\\item 'Unpacking libcairo2-dev:amd64 (1.15.10-2ubuntu0.1) ...\\textbackslash{}r'\n\\item 'Setting up libcairo-script-interpreter2:amd64 (1.15.10-2ubuntu0.1) ...\\textbackslash{}r'\n\\item 'Setting up libxcb-shm0-dev:amd64 (1.13-2\\textasciitilde{}ubuntu18.04) ...\\textbackslash{}r'\n\\item 'Setting up libpixman-1-dev:amd64 (0.34.0-2) ...\\textbackslash{}r'\n\\item 'Setting up libcairo2-dev:amd64 (1.15.10-2ubuntu0.1) ...\\textbackslash{}r'\n\\item 'Processing triggers for libc-bin (2.27-3ubuntu1.3) ...\\textbackslash{}r'\n\\item '/sbin/ldconfig.real: /usr/local/lib/python3.7/dist-packages/ideep4py/lib/libmkldnn.so.0 is not a symbolic link\\textbackslash{}r'\n\\item '\\textbackslash{}r'\n\\end{enumerate*}\n",
            "text/plain": [
              " [1] \"Reading package lists...\"                                                                                                                                                                                                                                                                                                                                                                                                                                                                                                                                                                                                                                      \n",
              " [2] \"Building dependency tree...\"                                                                                                                                                                                                                                                                                                                                                                                                                                                                                                                                                                                                                                   \n",
              " [3] \"Reading state information...\"                                                                                                                                                                                                                                                                                                                                                                                                                                                                                                                                                                                                                                  \n",
              " [4] \"The following additional packages will be installed:\"                                                                                                                                                                                                                                                                                                                                                                                                                                                                                                                                                                                                          \n",
              " [5] \"  libcairo-script-interpreter2 libpixman-1-dev libxcb-shm0-dev\"                                                                                                                                                                                                                                                                                                                                                                                                                                                                                                                                                                                                \n",
              " [6] \"Suggested packages:\"                                                                                                                                                                                                                                                                                                                                                                                                                                                                                                                                                                                                                                           \n",
              " [7] \"  libcairo2-doc\"                                                                                                                                                                                                                                                                                                                                                                                                                                                                                                                                                                                                                                               \n",
              " [8] \"The following NEW packages will be installed:\"                                                                                                                                                                                                                                                                                                                                                                                                                                                                                                                                                                                                                 \n",
              " [9] \"  libcairo-script-interpreter2 libcairo2-dev libpixman-1-dev libxcb-shm0-dev\"                                                                                                                                                                                                                                                                                                                                                                                                                                                                                                                                                                                  \n",
              "[10] \"0 upgraded, 4 newly installed, 0 to remove and 39 not upgraded.\"                                                                                                                                                                                                                                                                                                                                                                                                                                                                                                                                                                                               \n",
              "[11] \"Need to get 930 kB of archives.\"                                                                                                                                                                                                                                                                                                                                                                                                                                                                                                                                                                                                                               \n",
              "[12] \"After this operation, 3,986 kB of additional disk space will be used.\"                                                                                                                                                                                                                                                                                                                                                                                                                                                                                                                                                                                         \n",
              "[13] \"Get:1 http://archive.ubuntu.com/ubuntu bionic-updates/main amd64 libcairo-script-interpreter2 amd64 1.15.10-2ubuntu0.1 [53.5 kB]\"                                                                                                                                                                                                                                                                                                                                                                                                                                                                                                                              \n",
              "[14] \"Get:2 http://archive.ubuntu.com/ubuntu bionic/main amd64 libpixman-1-dev amd64 0.34.0-2 [244 kB]\"                                                                                                                                                                                                                                                                                                                                                                                                                                                                                                                                                              \n",
              "[15] \"Get:3 http://archive.ubuntu.com/ubuntu bionic-updates/main amd64 libxcb-shm0-dev amd64 1.13-2~ubuntu18.04 [6,684 B]\"                                                                                                                                                                                                                                                                                                                                                                                                                                                                                                                                           \n",
              "[16] \"Get:4 http://archive.ubuntu.com/ubuntu bionic-updates/main amd64 libcairo2-dev amd64 1.15.10-2ubuntu0.1 [626 kB]\"                                                                                                                                                                                                                                                                                                                                                                                                                                                                                                                                              \n",
              "[17] \"Fetched 930 kB in 0s (3,026 kB/s)\"                                                                                                                                                                                                                                                                                                                                                                                                                                                                                                                                                                                                                             \n",
              "[18] \"Selecting previously unselected package libcairo-script-interpreter2:amd64.\\r\"                                                                                                                                                                                                                                                                                                                                                                                                                                                                                                                                                                                 \n",
              "[19] \"(Reading database ... \\r(Reading database ... 5%\\r(Reading database ... 10%\\r(Reading database ... 15%\\r(Reading database ... 20%\\r(Reading database ... 25%\\r(Reading database ... 30%\\r(Reading database ... 35%\\r(Reading database ... 40%\\r(Reading database ... 45%\\r(Reading database ... 50%\\r(Reading database ... 55%\\r(Reading database ... 60%\\r(Reading database ... 65%\\r(Reading database ... 70%\\r(Reading database ... 75%\\r(Reading database ... 80%\\r(Reading database ... 85%\\r(Reading database ... 90%\\r(Reading database ... 95%\\r(Reading database ... 100%\\r(Reading database ... 155607 files and directories currently installed.)\\r\"\n",
              "[20] \"Preparing to unpack .../libcairo-script-interpreter2_1.15.10-2ubuntu0.1_amd64.deb ...\\r\"                                                                                                                                                                                                                                                                                                                                                                                                                                                                                                                                                                       \n",
              "[21] \"Unpacking libcairo-script-interpreter2:amd64 (1.15.10-2ubuntu0.1) ...\\r\"                                                                                                                                                                                                                                                                                                                                                                                                                                                                                                                                                                                       \n",
              "[22] \"Selecting previously unselected package libpixman-1-dev:amd64.\\r\"                                                                                                                                                                                                                                                                                                                                                                                                                                                                                                                                                                                              \n",
              "[23] \"Preparing to unpack .../libpixman-1-dev_0.34.0-2_amd64.deb ...\\r\"                                                                                                                                                                                                                                                                                                                                                                                                                                                                                                                                                                                              \n",
              "[24] \"Unpacking libpixman-1-dev:amd64 (0.34.0-2) ...\\r\"                                                                                                                                                                                                                                                                                                                                                                                                                                                                                                                                                                                                              \n",
              "[25] \"Selecting previously unselected package libxcb-shm0-dev:amd64.\\r\"                                                                                                                                                                                                                                                                                                                                                                                                                                                                                                                                                                                              \n",
              "[26] \"Preparing to unpack .../libxcb-shm0-dev_1.13-2~ubuntu18.04_amd64.deb ...\\r\"                                                                                                                                                                                                                                                                                                                                                                                                                                                                                                                                                                                    \n",
              "[27] \"Unpacking libxcb-shm0-dev:amd64 (1.13-2~ubuntu18.04) ...\\r\"                                                                                                                                                                                                                                                                                                                                                                                                                                                                                                                                                                                                    \n",
              "[28] \"Selecting previously unselected package libcairo2-dev:amd64.\\r\"                                                                                                                                                                                                                                                                                                                                                                                                                                                                                                                                                                                                \n",
              "[29] \"Preparing to unpack .../libcairo2-dev_1.15.10-2ubuntu0.1_amd64.deb ...\\r\"                                                                                                                                                                                                                                                                                                                                                                                                                                                                                                                                                                                      \n",
              "[30] \"Unpacking libcairo2-dev:amd64 (1.15.10-2ubuntu0.1) ...\\r\"                                                                                                                                                                                                                                                                                                                                                                                                                                                                                                                                                                                                      \n",
              "[31] \"Setting up libcairo-script-interpreter2:amd64 (1.15.10-2ubuntu0.1) ...\\r\"                                                                                                                                                                                                                                                                                                                                                                                                                                                                                                                                                                                      \n",
              "[32] \"Setting up libxcb-shm0-dev:amd64 (1.13-2~ubuntu18.04) ...\\r\"                                                                                                                                                                                                                                                                                                                                                                                                                                                                                                                                                                                                   \n",
              "[33] \"Setting up libpixman-1-dev:amd64 (0.34.0-2) ...\\r\"                                                                                                                                                                                                                                                                                                                                                                                                                                                                                                                                                                                                             \n",
              "[34] \"Setting up libcairo2-dev:amd64 (1.15.10-2ubuntu0.1) ...\\r\"                                                                                                                                                                                                                                                                                                                                                                                                                                                                                                                                                                                                     \n",
              "[35] \"Processing triggers for libc-bin (2.27-3ubuntu1.3) ...\\r\"                                                                                                                                                                                                                                                                                                                                                                                                                                                                                                                                                                                                      \n",
              "[36] \"/sbin/ldconfig.real: /usr/local/lib/python3.7/dist-packages/ideep4py/lib/libmkldnn.so.0 is not a symbolic link\\r\"                                                                                                                                                                                                                                                                                                                                                                                                                                                                                                                                              \n",
              "[37] \"\\r\"                                                                                                                                                                                                                                                                                                                                                                                                                                                                                                                                                                                                                                                            "
            ]
          },
          "metadata": {}
        }
      ]
    },
    {
      "cell_type": "code",
      "metadata": {
        "id": "sVANztc7hMcO",
        "colab": {
          "base_uri": "https://localhost:8080/"
        },
        "outputId": "c2f392c2-faa7-490c-de47-8b5a6d7f5c70"
      },
      "source": [
        "install.packages(c('gsl', 'devtools'))\n",
        "install.packages('Cairo')\n",
        "if (!requireNamespace(\"BiocManager\", quietly = TRUE))\n",
        "  install.packages(\"BiocManager\")\n",
        "BiocManager::install(c(\n",
        "  'BiocParallel', 'SummarizedExperiment', 'gplots', 'circlize', 'plyr', 'dplyr', \n",
        "  'DESeq2', 'VennDiagram', 'ggwordcloud', 'GenomicRanges', 'apeglm', 'biomaRt', 'org.Mm.eg.db', 'TxDb.Mmusculus.UCSC.mm10.knownGene', 'clusterProfiler', 'ggplot2',\n",
        "  'GO.db','ReactomePA', 'ggnewscale', 'pathview', 'gage', 'gageData'\n",
        "))\n",
        "devtools::install_github(\"jokergoo/ComplexHeatmap\")\n",
        "devtools::install_github(\"GuangchuangYu/ChIPseeker\")"
      ],
      "execution_count": null,
      "outputs": [
        {
          "output_type": "stream",
          "name": "stderr",
          "text": [
            "Installing packages into ‘/usr/local/lib/R/site-library’\n",
            "(as ‘lib’ is unspecified)\n",
            "\n",
            "Warning message in install.packages(c(\"gsl\", \"devtools\")):\n",
            "“installation of package ‘gsl’ had non-zero exit status”\n",
            "Installing package into ‘/usr/local/lib/R/site-library’\n",
            "(as ‘lib’ is unspecified)\n",
            "\n",
            "Installing package into ‘/usr/local/lib/R/site-library’\n",
            "(as ‘lib’ is unspecified)\n",
            "\n",
            "'getOption(\"repos\")' replaces Bioconductor standard repositories, see\n",
            "'?repositories' for details\n",
            "\n",
            "replacement repositories:\n",
            "    CRAN: https://cran.rstudio.com\n",
            "\n",
            "\n",
            "Bioconductor version 3.14 (BiocManager 1.30.16), R 4.1.2 (2021-11-01)\n",
            "\n",
            "Warning message:\n",
            "“package(s) not installed when version(s) same as current; use `force = TRUE` to\n",
            "  re-install: 'dplyr' 'ggplot2'”\n",
            "Installing package(s) 'BiocVersion', 'BiocParallel', 'SummarizedExperiment',\n",
            "  'gplots', 'circlize', 'plyr', 'DESeq2', 'VennDiagram', 'ggwordcloud',\n",
            "  'GenomicRanges', 'apeglm', 'biomaRt', 'org.Mm.eg.db',\n",
            "  'TxDb.Mmusculus.UCSC.mm10.knownGene', 'clusterProfiler', 'GO.db',\n",
            "  'ReactomePA', 'ggnewscale', 'pathview', 'gage', 'gageData'\n",
            "\n",
            "also installing the dependencies ‘Rhtslib’, ‘rjson’, ‘gridGraphics’, ‘lazyeval’, ‘formatR’, ‘xtable’, ‘numDeriv’, ‘bdsmatrix’, ‘mvtnorm’, ‘plogr’, ‘Rsamtools’, ‘GenomicAlignments’, ‘restfulr’, ‘gridExtra’, ‘fastmatch’, ‘ggfun’, ‘ggplotify’, ‘patchwork’, ‘ape’, ‘tidytree’, ‘treeio’, ‘tweenr’, ‘polyclip’, ‘lambda.r’, ‘futile.options’, ‘matrixStats’, ‘RCurl’, ‘GenomeInfoDbData’, ‘bitops’, ‘annotate’, ‘zlibbioc’, ‘coda’, ‘bbmle’, ‘RSQLite’, ‘filelock’, ‘Biostrings’, ‘BiocIO’, ‘rtracklayer’, ‘DO.db’, ‘fgsea’, ‘reshape2’, ‘aplot’, ‘scatterpie’, ‘shadowtext’, ‘ggtree’, ‘ggforce’, ‘ggrepel’, ‘viridis’, ‘tidygraph’, ‘graphlayouts’, ‘checkmate’, ‘futile.logger’, ‘snow’, ‘BH’, ‘MatrixGenerics’, ‘Biobase’, ‘BiocGenerics’, ‘S4Vectors’, ‘IRanges’, ‘GenomeInfoDb’, ‘DelayedArray’, ‘gtools’, ‘caTools’, ‘GlobalOptions’, ‘shape’, ‘genefilter’, ‘locfit’, ‘geneplotter’, ‘RcppArmadillo’, ‘png’, ‘XVector’, ‘emdbook’, ‘RcppEigen’, ‘RcppNumerical’, ‘XML’, ‘AnnotationDbi’, ‘BiocFileCache’, ‘GenomicFeatures’, ‘downloader’, ‘DOSE’, ‘enrichplot’, ‘GOSemSim’, ‘qvalue’, ‘yulab.utils’, ‘ggraph’, ‘reactome.db’, ‘igraph’, ‘graphite’, ‘KEGGgraph’, ‘Rgraphviz’, ‘graph’, ‘org.Hs.eg.db’, ‘KEGGREST’\n",
            "\n",
            "\n",
            "Old packages: 'commonmark', 'desc', 'openssl', 'Rcpp', 'rlang', 'rmarkdown',\n",
            "  'uuid', 'waldo', 'withr', 'xfun', 'survival'\n",
            "\n",
            "Downloading GitHub repo jokergoo/ComplexHeatmap@HEAD\n",
            "\n"
          ]
        },
        {
          "output_type": "stream",
          "name": "stdout",
          "text": [
            "iterators  (NA -> 1.0.14) [CRAN]\n",
            "foreach    (NA -> 1.5.2 ) [CRAN]\n",
            "doParallel (NA -> 1.0.17) [CRAN]\n",
            "clue       (NA -> 0.3-60) [CRAN]\n",
            "GetoptLong (NA -> 1.0.5 ) [CRAN]\n"
          ]
        },
        {
          "output_type": "stream",
          "name": "stderr",
          "text": [
            "Installing 5 packages: iterators, foreach, doParallel, clue, GetoptLong\n",
            "\n",
            "Installing packages into ‘/usr/local/lib/R/site-library’\n",
            "(as ‘lib’ is unspecified)\n",
            "\n"
          ]
        },
        {
          "output_type": "stream",
          "name": "stdout",
          "text": [
            "* checking for file ‘/tmp/RtmpUc0oFz/remotes3d714ee7df/jokergoo-ComplexHeatmap-267a221/DESCRIPTION’ ... OK\n",
            "* preparing ‘ComplexHeatmap’:\n",
            "* checking DESCRIPTION meta-information ... OK\n",
            "* checking for LF line-endings in source and make files and shell scripts\n",
            "* checking for empty or unneeded directories\n",
            "* building ‘ComplexHeatmap_2.11.1.tar.gz’\n",
            "\n"
          ]
        },
        {
          "output_type": "stream",
          "name": "stderr",
          "text": [
            "Installing package into ‘/usr/local/lib/R/site-library’\n",
            "(as ‘lib’ is unspecified)\n",
            "\n",
            "Downloading GitHub repo GuangchuangYu/ChIPseeker@HEAD\n",
            "\n"
          ]
        },
        {
          "output_type": "stream",
          "name": "stdout",
          "text": [
            "enrichplot   (1.14.2 -> d11b60bb6...) [GitHub]\n",
            "withr        (2.4.3  -> 2.5.0       ) [CRAN]\n",
            "openssl      (1.4.6  -> 2.0.0       ) [CRAN]\n",
            "rlang        (1.0.1  -> 1.0.2       ) [CRAN]\n",
            "Rcpp         (1.0.8  -> 1.0.8.3     ) [CRAN]\n",
            "TxDb.Hsap... (NA     -> 3.2.2       ) [CRAN]\n",
            "plotrix      (NA     -> 3.8-2       ) [CRAN]\n"
          ]
        },
        {
          "output_type": "stream",
          "name": "stderr",
          "text": [
            "Installing 6 packages: withr, openssl, rlang, Rcpp, TxDb.Hsapiens.UCSC.hg19.knownGene, plotrix\n",
            "\n",
            "Installing packages into ‘/usr/local/lib/R/site-library’\n",
            "(as ‘lib’ is unspecified)\n",
            "\n",
            "Downloading GitHub repo GuangchuangYu/enrichplot@HEAD\n",
            "\n"
          ]
        },
        {
          "output_type": "stream",
          "name": "stdout",
          "text": [
            "\n",
            "* checking for file ‘/tmp/RtmpUc0oFz/remotes3d39937a9e/GuangchuangYu-enrichplot-d11b60b/DESCRIPTION’ ... OK\n",
            "* preparing ‘enrichplot’:\n",
            "* checking DESCRIPTION meta-information ... OK\n",
            "* checking for LF line-endings in source and make files and shell scripts\n",
            "* checking for empty or unneeded directories\n",
            "* building ‘enrichplot_1.13.1.992.tar.gz’\n",
            "\n"
          ]
        },
        {
          "output_type": "stream",
          "name": "stderr",
          "text": [
            "Installing package into ‘/usr/local/lib/R/site-library’\n",
            "(as ‘lib’ is unspecified)\n",
            "\n"
          ]
        },
        {
          "output_type": "stream",
          "name": "stdout",
          "text": [
            "* checking for file ‘/tmp/RtmpUc0oFz/remotes3d55f95015/YuLab-SMU-ChIPseeker-5371322/DESCRIPTION’ ... OK\n",
            "* preparing ‘ChIPseeker’:\n",
            "* checking DESCRIPTION meta-information ... OK\n",
            "* checking for LF line-endings in source and make files and shell scripts\n",
            "* checking for empty or unneeded directories\n",
            "* looking to see if a ‘data/datalist’ file should be added\n",
            "* building ‘ChIPseeker_1.31.3.900.tar.gz’\n",
            "\n"
          ]
        },
        {
          "output_type": "stream",
          "name": "stderr",
          "text": [
            "Installing package into ‘/usr/local/lib/R/site-library’\n",
            "(as ‘lib’ is unspecified)\n",
            "\n"
          ]
        }
      ]
    },
    {
      "cell_type": "markdown",
      "source": [
        "#Loading R packages"
      ],
      "metadata": {
        "id": "KIbEYTJuScoH"
      }
    },
    {
      "cell_type": "code",
      "metadata": {
        "id": "jGU7XpEVhPrf",
        "colab": {
          "base_uri": "https://localhost:8080/"
        },
        "outputId": "666629ae-ad73-462e-d2b9-9b7a98a9baed"
      },
      "source": [
        "library(BiocParallel)\n",
        "library(SummarizedExperiment)\n",
        "library(gplots)\n",
        "library(circlize)\n",
        "library(ComplexHeatmap)\n",
        "register(MulticoreParam(4)) # Use 8 cores\n",
        "library(plyr)\n",
        "library(dplyr)\n",
        "library(DESeq2)\n",
        "library(VennDiagram)\n",
        "library(ggwordcloud)\n",
        "library(GenomicRanges)\n",
        "library(apeglm)\n",
        "library(biomaRt)\n",
        "library(org.Mm.eg.db)\n",
        "library(ChIPseeker)\n",
        "library(clusterProfiler)\n",
        "library(ggplot2)\n",
        "library(tidyr)\n",
        "library(Matrix)\n",
        "library(GO.db)\n",
        "library(matrixStats)\n",
        "library(ComplexHeatmap)\n",
        "library(stringr)\n",
        "library(DOSE)\n",
        "library(ReactomePA)\n",
        "library(ggnewscale)\n",
        "library(GOSemSim)\n",
        "library(enrichplot)\n",
        "library(pathview)\n",
        "library(gage)\n",
        "library(gageData)"
      ],
      "execution_count": null,
      "outputs": [
        {
          "output_type": "stream",
          "name": "stderr",
          "text": [
            "Loading required package: MatrixGenerics\n",
            "\n",
            "Loading required package: matrixStats\n",
            "\n",
            "\n",
            "Attaching package: ‘MatrixGenerics’\n",
            "\n",
            "\n",
            "The following objects are masked from ‘package:matrixStats’:\n",
            "\n",
            "    colAlls, colAnyNAs, colAnys, colAvgsPerRowSet, colCollapse,\n",
            "    colCounts, colCummaxs, colCummins, colCumprods, colCumsums,\n",
            "    colDiffs, colIQRDiffs, colIQRs, colLogSumExps, colMadDiffs,\n",
            "    colMads, colMaxs, colMeans2, colMedians, colMins, colOrderStats,\n",
            "    colProds, colQuantiles, colRanges, colRanks, colSdDiffs, colSds,\n",
            "    colSums2, colTabulates, colVarDiffs, colVars, colWeightedMads,\n",
            "    colWeightedMeans, colWeightedMedians, colWeightedSds,\n",
            "    colWeightedVars, rowAlls, rowAnyNAs, rowAnys, rowAvgsPerColSet,\n",
            "    rowCollapse, rowCounts, rowCummaxs, rowCummins, rowCumprods,\n",
            "    rowCumsums, rowDiffs, rowIQRDiffs, rowIQRs, rowLogSumExps,\n",
            "    rowMadDiffs, rowMads, rowMaxs, rowMeans2, rowMedians, rowMins,\n",
            "    rowOrderStats, rowProds, rowQuantiles, rowRanges, rowRanks,\n",
            "    rowSdDiffs, rowSds, rowSums2, rowTabulates, rowVarDiffs, rowVars,\n",
            "    rowWeightedMads, rowWeightedMeans, rowWeightedMedians,\n",
            "    rowWeightedSds, rowWeightedVars\n",
            "\n",
            "\n",
            "Loading required package: GenomicRanges\n",
            "\n",
            "Loading required package: stats4\n",
            "\n",
            "Loading required package: BiocGenerics\n",
            "\n",
            "\n",
            "Attaching package: ‘BiocGenerics’\n",
            "\n",
            "\n",
            "The following objects are masked from ‘package:stats’:\n",
            "\n",
            "    IQR, mad, sd, var, xtabs\n",
            "\n",
            "\n",
            "The following objects are masked from ‘package:base’:\n",
            "\n",
            "    anyDuplicated, append, as.data.frame, basename, cbind, colnames,\n",
            "    dirname, do.call, duplicated, eval, evalq, Filter, Find, get, grep,\n",
            "    grepl, intersect, is.unsorted, lapply, Map, mapply, match, mget,\n",
            "    order, paste, pmax, pmax.int, pmin, pmin.int, Position, rank,\n",
            "    rbind, Reduce, rownames, sapply, setdiff, sort, table, tapply,\n",
            "    union, unique, unsplit, which.max, which.min\n",
            "\n",
            "\n",
            "Loading required package: S4Vectors\n",
            "\n",
            "\n",
            "Attaching package: ‘S4Vectors’\n",
            "\n",
            "\n",
            "The following objects are masked from ‘package:base’:\n",
            "\n",
            "    expand.grid, I, unname\n",
            "\n",
            "\n",
            "Loading required package: IRanges\n",
            "\n",
            "Loading required package: GenomeInfoDb\n",
            "\n",
            "Loading required package: Biobase\n",
            "\n",
            "Welcome to Bioconductor\n",
            "\n",
            "    Vignettes contain introductory material; view with\n",
            "    'browseVignettes()'. To cite Bioconductor, see\n",
            "    'citation(\"Biobase\")', and for packages 'citation(\"pkgname\")'.\n",
            "\n",
            "\n",
            "\n",
            "Attaching package: ‘Biobase’\n",
            "\n",
            "\n",
            "The following object is masked from ‘package:MatrixGenerics’:\n",
            "\n",
            "    rowMedians\n",
            "\n",
            "\n",
            "The following objects are masked from ‘package:matrixStats’:\n",
            "\n",
            "    anyMissing, rowMedians\n",
            "\n",
            "\n",
            "\n",
            "Attaching package: ‘gplots’\n",
            "\n",
            "\n",
            "The following object is masked from ‘package:IRanges’:\n",
            "\n",
            "    space\n",
            "\n",
            "\n",
            "The following object is masked from ‘package:S4Vectors’:\n",
            "\n",
            "    space\n",
            "\n",
            "\n",
            "The following object is masked from ‘package:stats’:\n",
            "\n",
            "    lowess\n",
            "\n",
            "\n",
            "========================================\n",
            "circlize version 0.4.14\n",
            "CRAN page: https://cran.r-project.org/package=circlize\n",
            "Github page: https://github.com/jokergoo/circlize\n",
            "Documentation: https://jokergoo.github.io/circlize_book/book/\n",
            "\n",
            "If you use it in published research, please cite:\n",
            "Gu, Z. circlize implements and enhances circular visualization\n",
            "  in R. Bioinformatics 2014.\n",
            "\n",
            "This message can be suppressed by:\n",
            "  suppressPackageStartupMessages(library(circlize))\n",
            "========================================\n",
            "\n",
            "\n",
            "Loading required package: grid\n",
            "\n",
            "========================================\n",
            "ComplexHeatmap version 2.11.1\n",
            "Bioconductor page: http://bioconductor.org/packages/ComplexHeatmap/\n",
            "Github page: https://github.com/jokergoo/ComplexHeatmap\n",
            "Documentation: http://jokergoo.github.io/ComplexHeatmap-reference\n",
            "\n",
            "If you use it in published research, please cite:\n",
            "Gu, Z. Complex heatmaps reveal patterns and correlations in multidimensional \n",
            "  genomic data. Bioinformatics 2016.\n",
            "\n",
            "The new InteractiveComplexHeatmap package can directly export static \n",
            "complex heatmaps into an interactive Shiny app with zero effort. Have a try!\n",
            "\n",
            "This message can be suppressed by:\n",
            "  suppressPackageStartupMessages(library(ComplexHeatmap))\n",
            "========================================\n",
            "\n",
            "\n",
            "\n",
            "Attaching package: ‘plyr’\n",
            "\n",
            "\n",
            "The following object is masked from ‘package:IRanges’:\n",
            "\n",
            "    desc\n",
            "\n",
            "\n",
            "The following object is masked from ‘package:S4Vectors’:\n",
            "\n",
            "    rename\n",
            "\n",
            "\n",
            "The following object is masked from ‘package:matrixStats’:\n",
            "\n",
            "    count\n",
            "\n",
            "\n",
            "\n",
            "Attaching package: ‘dplyr’\n",
            "\n",
            "\n",
            "The following objects are masked from ‘package:plyr’:\n",
            "\n",
            "    arrange, count, desc, failwith, id, mutate, rename, summarise,\n",
            "    summarize\n",
            "\n",
            "\n",
            "The following object is masked from ‘package:Biobase’:\n",
            "\n",
            "    combine\n",
            "\n",
            "\n",
            "The following objects are masked from ‘package:GenomicRanges’:\n",
            "\n",
            "    intersect, setdiff, union\n",
            "\n",
            "\n",
            "The following object is masked from ‘package:GenomeInfoDb’:\n",
            "\n",
            "    intersect\n",
            "\n",
            "\n",
            "The following objects are masked from ‘package:IRanges’:\n",
            "\n",
            "    collapse, desc, intersect, setdiff, slice, union\n",
            "\n",
            "\n",
            "The following objects are masked from ‘package:S4Vectors’:\n",
            "\n",
            "    first, intersect, rename, setdiff, setequal, union\n",
            "\n",
            "\n",
            "The following objects are masked from ‘package:BiocGenerics’:\n",
            "\n",
            "    combine, intersect, setdiff, union\n",
            "\n",
            "\n",
            "The following object is masked from ‘package:matrixStats’:\n",
            "\n",
            "    count\n",
            "\n",
            "\n",
            "The following objects are masked from ‘package:stats’:\n",
            "\n",
            "    filter, lag\n",
            "\n",
            "\n",
            "The following objects are masked from ‘package:base’:\n",
            "\n",
            "    intersect, setdiff, setequal, union\n",
            "\n",
            "\n",
            "Loading required package: futile.logger\n",
            "\n",
            "Loading required package: ggplot2\n",
            "\n",
            "Loading required package: AnnotationDbi\n",
            "\n",
            "\n",
            "Attaching package: ‘AnnotationDbi’\n",
            "\n",
            "\n",
            "The following object is masked from ‘package:dplyr’:\n",
            "\n",
            "    select\n",
            "\n",
            "\n",
            "\n",
            "\n",
            "\n",
            "\n",
            "ChIPseeker v1.31.3.900  For help: https://guangchuangyu.github.io/software/ChIPseeker\n",
            "\n",
            "If you use ChIPseeker in published research, please cite:\n",
            "Guangchuang Yu, Li-Gen Wang, Qing-Yu He. ChIPseeker: an R/Bioconductor package for ChIP peak annotation, comparison and visualization. Bioinformatics 2015, 31(14):2382-2383\n",
            "\n",
            "\n",
            "Attaching package: ‘ChIPseeker’\n",
            "\n",
            "\n",
            "The following object is masked from ‘package:plyr’:\n",
            "\n",
            "    .\n",
            "\n",
            "\n",
            "clusterProfiler v4.2.2  For help: https://yulab-smu.top/biomedical-knowledge-mining-book/\n",
            "\n",
            "If you use clusterProfiler in published research, please cite:\n",
            "T Wu, E Hu, S Xu, M Chen, P Guo, Z Dai, T Feng, L Zhou, W Tang, L Zhan, X Fu, S Liu, X Bo, and G Yu. clusterProfiler 4.0: A universal enrichment tool for interpreting omics data. The Innovation. 2021, 2(3):100141\n",
            "\n",
            "\n",
            "Attaching package: ‘clusterProfiler’\n",
            "\n",
            "\n",
            "The following object is masked from ‘package:AnnotationDbi’:\n",
            "\n",
            "    select\n",
            "\n",
            "\n",
            "The following object is masked from ‘package:biomaRt’:\n",
            "\n",
            "    select\n",
            "\n",
            "\n",
            "The following objects are masked from ‘package:plyr’:\n",
            "\n",
            "    arrange, mutate, rename, summarise\n",
            "\n",
            "\n",
            "The following object is masked from ‘package:IRanges’:\n",
            "\n",
            "    slice\n",
            "\n",
            "\n",
            "The following object is masked from ‘package:S4Vectors’:\n",
            "\n",
            "    rename\n",
            "\n",
            "\n",
            "The following object is masked from ‘package:stats’:\n",
            "\n",
            "    filter\n",
            "\n",
            "\n",
            "\n",
            "Attaching package: ‘tidyr’\n",
            "\n",
            "\n",
            "The following object is masked from ‘package:S4Vectors’:\n",
            "\n",
            "    expand\n",
            "\n",
            "\n",
            "\n",
            "Attaching package: ‘Matrix’\n",
            "\n",
            "\n",
            "The following objects are masked from ‘package:tidyr’:\n",
            "\n",
            "    expand, pack, unpack\n",
            "\n",
            "\n",
            "The following object is masked from ‘package:S4Vectors’:\n",
            "\n",
            "    expand\n",
            "\n",
            "\n",
            "DOSE v3.20.1  For help: https://yulab-smu.top/biomedical-knowledge-mining-book/\n",
            "\n",
            "If you use DOSE in published research, please cite:\n",
            "Guangchuang Yu, Li-Gen Wang, Guang-Rong Yan, Qing-Yu He. DOSE: an R/Bioconductor package for Disease Ontology Semantic and Enrichment analysis. Bioinformatics 2015, 31(4):608-609\n",
            "\n",
            "\n",
            "ReactomePA v1.38.0  For help: https://yulab-smu.top/biomedical-knowledge-mining-book/\n",
            "\n",
            "If you use ReactomePA in published research, please cite:\n",
            "Guangchuang Yu, Qing-Yu He. ReactomePA: an R/Bioconductor package for reactome pathway analysis and visualization. Molecular BioSystems 2016, 12(2):477-479\n",
            "\n",
            "GOSemSim v2.20.0  For help: https://yulab-smu.top/biomedical-knowledge-mining-book/\n",
            "\n",
            "If you use GOSemSim in published research, please cite:\n",
            "\u001b[36m-\u001b[39m Guangchuang Yu. Gene Ontology Semantic Similarity Analysis Using GOSemSim. In: Kidder B. (eds) Stem Cell Transcriptional Networks. Methods in Molecular Biology, 2020, 2117:207-215. Humana, New York, NY. doi:10.1007/978-1-0716-0301-7_11\n",
            "\u001b[36m-\u001b[39m Guangchuang Yu, Fei Li, Yide Qin, Xiaochen Bo, Yibo Wu, Shengqi Wang. GOSemSim: an R package for measuring semantic similarity among GO terms and gene products Bioinformatics 2010, 26(7):976-978. doi:10.1093/bioinformatics/btq064\n",
            "\n",
            "\n",
            "\n",
            "\n",
            "Attaching package: ‘GOSemSim’\n",
            "\n",
            "\n",
            "The following objects are masked from ‘package:DOSE’:\n",
            "\n",
            "    clusterSim, geneSim, mclusterSim\n",
            "\n",
            "\n",
            "\n",
            "\n",
            "##############################################################################\n",
            "Pathview is an open source software package distributed under GNU General\n",
            "Public License version 3 (GPLv3). Details of GPLv3 is available at\n",
            "http://www.gnu.org/licenses/gpl-3.0.html. Particullary, users are required to\n",
            "formally cite the original Pathview paper (not just mention it) in publications\n",
            "or products. For details, do citation(\"pathview\") within R.\n",
            "\n",
            "The pathview downloads and uses KEGG data. Non-academic uses may require a KEGG\n",
            "license agreement (details at http://www.kegg.jp/kegg/legal.html).\n",
            "##############################################################################\n",
            "\n"
          ]
        }
      ]
    },
    {
      "cell_type": "markdown",
      "metadata": {
        "id": "RJJj0kumgiaK"
      },
      "source": [
        "# Download data processed on MSI"
      ]
    },
    {
      "cell_type": "markdown",
      "metadata": {
        "id": "zv3L_79Ffyir"
      },
      "source": [
        "Processed data using tximport to extract transcript-level abundance, estimated counts and transcript lengths. Summarized the abundance.tsv file from Kallisto."
      ]
    },
    {
      "cell_type": "code",
      "metadata": {
        "id": "W-CZWyDpP_YM"
      },
      "source": [
        "txi_file <- 'https://s3.msi.umn.edu/dsouz072/datasets/dataset=Foxk1_version=20191130a/Kallisto_D10_Foxk1_EBs_txi_v1.rds'\n",
        "txi <- txi_file %>%\n",
        "  url() %>%\n",
        "  gzcon() %>%\n",
        "  readRDS()"
      ],
      "execution_count": null,
      "outputs": []
    },
    {
      "cell_type": "markdown",
      "metadata": {
        "id": "g7YdRSF9G1_N"
      },
      "source": [
        "Transcripts to gene txt from Kallisto for mm10"
      ]
    },
    {
      "cell_type": "code",
      "metadata": {
        "id": "kDmBBnZp_kZp"
      },
      "source": [
        "t2g_dat <- read.table('https://s3.msi.umn.edu/dsouz072/datasets/dataset=Foxk1_version=20191130a/transcripts_to_genes.txt', sep = '\\t')"
      ],
      "execution_count": null,
      "outputs": []
    },
    {
      "cell_type": "code",
      "metadata": {
        "id": "4o7xHSkpABPx",
        "colab": {
          "base_uri": "https://localhost:8080/",
          "height": 286
        },
        "outputId": "38ff2362-2cd1-4aa4-a94f-af9f71788263"
      },
      "source": [
        "colnames(t2g_dat) <- c('ensembl_transcript', 'ensembl_gene', 'gene_name')\n",
        "head(t2g_dat)"
      ],
      "execution_count": null,
      "outputs": [
        {
          "output_type": "display_data",
          "data": {
            "text/html": [
              "<table class=\"dataframe\">\n",
              "<caption>A data.frame: 6 × 3</caption>\n",
              "<thead>\n",
              "\t<tr><th></th><th scope=col>ensembl_transcript</th><th scope=col>ensembl_gene</th><th scope=col>gene_name</th></tr>\n",
              "\t<tr><th></th><th scope=col>&lt;chr&gt;</th><th scope=col>&lt;chr&gt;</th><th scope=col>&lt;chr&gt;</th></tr>\n",
              "</thead>\n",
              "<tbody>\n",
              "\t<tr><th scope=row>1</th><td>ENSMUST00000193812.1</td><td>ENSMUSG00000102693.1</td><td>4933401J01Rik</td></tr>\n",
              "\t<tr><th scope=row>2</th><td>ENSMUST00000082908.1</td><td>ENSMUSG00000064842.1</td><td>Gm26206      </td></tr>\n",
              "\t<tr><th scope=row>3</th><td>ENSMUST00000162897.1</td><td>ENSMUSG00000051951.5</td><td>Xkr4         </td></tr>\n",
              "\t<tr><th scope=row>4</th><td>ENSMUST00000159265.1</td><td>ENSMUSG00000051951.5</td><td>Xkr4         </td></tr>\n",
              "\t<tr><th scope=row>5</th><td>ENSMUST00000070533.4</td><td>ENSMUSG00000051951.5</td><td>Xkr4         </td></tr>\n",
              "\t<tr><th scope=row>6</th><td>ENSMUST00000192857.1</td><td>ENSMUSG00000102851.1</td><td>Gm18956      </td></tr>\n",
              "</tbody>\n",
              "</table>\n"
            ],
            "text/markdown": "\nA data.frame: 6 × 3\n\n| <!--/--> | ensembl_transcript &lt;chr&gt; | ensembl_gene &lt;chr&gt; | gene_name &lt;chr&gt; |\n|---|---|---|---|\n| 1 | ENSMUST00000193812.1 | ENSMUSG00000102693.1 | 4933401J01Rik |\n| 2 | ENSMUST00000082908.1 | ENSMUSG00000064842.1 | Gm26206       |\n| 3 | ENSMUST00000162897.1 | ENSMUSG00000051951.5 | Xkr4          |\n| 4 | ENSMUST00000159265.1 | ENSMUSG00000051951.5 | Xkr4          |\n| 5 | ENSMUST00000070533.4 | ENSMUSG00000051951.5 | Xkr4          |\n| 6 | ENSMUST00000192857.1 | ENSMUSG00000102851.1 | Gm18956       |\n\n",
            "text/latex": "A data.frame: 6 × 3\n\\begin{tabular}{r|lll}\n  & ensembl\\_transcript & ensembl\\_gene & gene\\_name\\\\\n  & <chr> & <chr> & <chr>\\\\\n\\hline\n\t1 & ENSMUST00000193812.1 & ENSMUSG00000102693.1 & 4933401J01Rik\\\\\n\t2 & ENSMUST00000082908.1 & ENSMUSG00000064842.1 & Gm26206      \\\\\n\t3 & ENSMUST00000162897.1 & ENSMUSG00000051951.5 & Xkr4         \\\\\n\t4 & ENSMUST00000159265.1 & ENSMUSG00000051951.5 & Xkr4         \\\\\n\t5 & ENSMUST00000070533.4 & ENSMUSG00000051951.5 & Xkr4         \\\\\n\t6 & ENSMUST00000192857.1 & ENSMUSG00000102851.1 & Gm18956      \\\\\n\\end{tabular}\n",
            "text/plain": [
              "  ensembl_transcript   ensembl_gene         gene_name    \n",
              "1 ENSMUST00000193812.1 ENSMUSG00000102693.1 4933401J01Rik\n",
              "2 ENSMUST00000082908.1 ENSMUSG00000064842.1 Gm26206      \n",
              "3 ENSMUST00000162897.1 ENSMUSG00000051951.5 Xkr4         \n",
              "4 ENSMUST00000159265.1 ENSMUSG00000051951.5 Xkr4         \n",
              "5 ENSMUST00000070533.4 ENSMUSG00000051951.5 Xkr4         \n",
              "6 ENSMUST00000192857.1 ENSMUSG00000102851.1 Gm18956      "
            ]
          },
          "metadata": {}
        }
      ]
    },
    {
      "cell_type": "markdown",
      "metadata": {
        "id": "FhbyAX9nHh1E"
      },
      "source": [
        "Text parsing to get the condition in the format e.g. 'KO' for DESeq2"
      ]
    },
    {
      "cell_type": "code",
      "metadata": {
        "id": "1gxaQJXtYW4I"
      },
      "source": [
        "condition <- gsub('1[0-9]+_|2_|D10_|Foxk1|_EBs|_[0-9]+|', '', colnames(txi$counts)) ##parsing text to get the day and condition to get 'D3_KO' "
      ],
      "execution_count": null,
      "outputs": []
    },
    {
      "cell_type": "code",
      "metadata": {
        "id": "kDv5eeobfd1g"
      },
      "source": [
        "sampleTable <- as.data.frame(condition)"
      ],
      "execution_count": null,
      "outputs": []
    },
    {
      "cell_type": "code",
      "metadata": {
        "id": "L_7Bb8A5fpRz"
      },
      "source": [
        "rownames(sampleTable) <- colnames(txi$counts)"
      ],
      "execution_count": null,
      "outputs": []
    },
    {
      "cell_type": "code",
      "metadata": {
        "id": "eXAoC8TRhJ6Z",
        "colab": {
          "base_uri": "https://localhost:8080/",
          "height": 286
        },
        "outputId": "368a6ee5-81e8-4909-e6b2-84624d2558fe"
      },
      "source": [
        "head(sampleTable)"
      ],
      "execution_count": null,
      "outputs": [
        {
          "output_type": "display_data",
          "data": {
            "text/html": [
              "<table class=\"dataframe\">\n",
              "<caption>A data.frame: 6 × 1</caption>\n",
              "<thead>\n",
              "\t<tr><th></th><th scope=col>condition</th></tr>\n",
              "\t<tr><th></th><th scope=col>&lt;chr&gt;</th></tr>\n",
              "</thead>\n",
              "<tbody>\n",
              "\t<tr><th scope=row>13_D10_Control_EBs_1</th><td>Control</td></tr>\n",
              "\t<tr><th scope=row>14_D10_Control_EBs_2</th><td>Control</td></tr>\n",
              "\t<tr><th scope=row>15_D10_Foxk1KO_EBs_1</th><td>KO     </td></tr>\n",
              "\t<tr><th scope=row>16_D10_Foxk1KO_EBs_2</th><td>KO     </td></tr>\n",
              "\t<tr><th scope=row>17_D10_Foxk1KO_IWR1_EBs_1</th><td>KO_IWR1</td></tr>\n",
              "\t<tr><th scope=row>18_D10_Foxk1KO_IWR1_EBs_2</th><td>KO_IWR1</td></tr>\n",
              "</tbody>\n",
              "</table>\n"
            ],
            "text/markdown": "\nA data.frame: 6 × 1\n\n| <!--/--> | condition &lt;chr&gt; |\n|---|---|\n| 13_D10_Control_EBs_1 | Control |\n| 14_D10_Control_EBs_2 | Control |\n| 15_D10_Foxk1KO_EBs_1 | KO      |\n| 16_D10_Foxk1KO_EBs_2 | KO      |\n| 17_D10_Foxk1KO_IWR1_EBs_1 | KO_IWR1 |\n| 18_D10_Foxk1KO_IWR1_EBs_2 | KO_IWR1 |\n\n",
            "text/latex": "A data.frame: 6 × 1\n\\begin{tabular}{r|l}\n  & condition\\\\\n  & <chr>\\\\\n\\hline\n\t13\\_D10\\_Control\\_EBs\\_1 & Control\\\\\n\t14\\_D10\\_Control\\_EBs\\_2 & Control\\\\\n\t15\\_D10\\_Foxk1KO\\_EBs\\_1 & KO     \\\\\n\t16\\_D10\\_Foxk1KO\\_EBs\\_2 & KO     \\\\\n\t17\\_D10\\_Foxk1KO\\_IWR1\\_EBs\\_1 & KO\\_IWR1\\\\\n\t18\\_D10\\_Foxk1KO\\_IWR1\\_EBs\\_2 & KO\\_IWR1\\\\\n\\end{tabular}\n",
            "text/plain": [
              "                          condition\n",
              "13_D10_Control_EBs_1      Control  \n",
              "14_D10_Control_EBs_2      Control  \n",
              "15_D10_Foxk1KO_EBs_1      KO       \n",
              "16_D10_Foxk1KO_EBs_2      KO       \n",
              "17_D10_Foxk1KO_IWR1_EBs_1 KO_IWR1  \n",
              "18_D10_Foxk1KO_IWR1_EBs_2 KO_IWR1  "
            ]
          },
          "metadata": {}
        }
      ]
    },
    {
      "cell_type": "markdown",
      "metadata": {
        "id": "Q55AEEJ-hVNQ"
      },
      "source": [
        "# Normalize the read counts by DESeq2"
      ]
    },
    {
      "cell_type": "code",
      "metadata": {
        "id": "wQLcvV1VYIIK",
        "colab": {
          "base_uri": "https://localhost:8080/"
        },
        "outputId": "ce411912-bf02-40a3-cde0-831fbdaa0f26"
      },
      "source": [
        "dds <- DESeqDataSetFromTximport(txi, sampleTable, ~condition)"
      ],
      "execution_count": null,
      "outputs": [
        {
          "output_type": "stream",
          "name": "stderr",
          "text": [
            "Warning message in DESeqDataSet(se, design = design, ignoreRank):\n",
            "“some variables in design formula are characters, converting to factors”\n",
            "using counts and average transcript lengths from tximport\n",
            "\n"
          ]
        }
      ]
    },
    {
      "cell_type": "code",
      "metadata": {
        "id": "ShMK3aJ1f8c9",
        "colab": {
          "base_uri": "https://localhost:8080/"
        },
        "outputId": "fa54afca-ef4e-4e94-c90d-0c6b77cc4c90"
      },
      "source": [
        "dds_res <- DESeq(dds)"
      ],
      "execution_count": null,
      "outputs": [
        {
          "output_type": "stream",
          "name": "stderr",
          "text": [
            "estimating size factors\n",
            "\n",
            "using 'avgTxLength' from assays(dds), correcting for library size\n",
            "\n",
            "estimating dispersions\n",
            "\n",
            "gene-wise dispersion estimates\n",
            "\n",
            "mean-dispersion relationship\n",
            "\n",
            "final dispersion estimates\n",
            "\n",
            "fitting model and testing\n",
            "\n"
          ]
        }
      ]
    },
    {
      "cell_type": "markdown",
      "metadata": {
        "id": "jny8pJS2SIvO"
      },
      "source": [
        "## PC calculations from DESeq2 library (Variance Stabilizing Transformation)"
      ]
    },
    {
      "cell_type": "code",
      "metadata": {
        "id": "Ej3p-ppEk_8h",
        "colab": {
          "base_uri": "https://localhost:8080/",
          "height": 181
        },
        "outputId": "4e5e52ff-d4bc-4f86-b86b-2b903a0f77b9"
      },
      "source": [
        "set.seed(2345)\n",
        "vsd <- vst(dds_res, blind=FALSE)\n",
        "head(assay(vsd), 3)"
      ],
      "execution_count": null,
      "outputs": [
        {
          "output_type": "display_data",
          "data": {
            "text/html": [
              "<table class=\"dataframe\">\n",
              "<caption>A matrix: 3 × 6 of type dbl</caption>\n",
              "<thead>\n",
              "\t<tr><th></th><th scope=col>13_D10_Control_EBs_1</th><th scope=col>14_D10_Control_EBs_2</th><th scope=col>15_D10_Foxk1KO_EBs_1</th><th scope=col>16_D10_Foxk1KO_EBs_2</th><th scope=col>17_D10_Foxk1KO_IWR1_EBs_1</th><th scope=col>18_D10_Foxk1KO_IWR1_EBs_2</th></tr>\n",
              "</thead>\n",
              "<tbody>\n",
              "\t<tr><th scope=row>ENSMUSG00000000001.4</th><td>13.22223</td><td>13.20128</td><td>13.43130</td><td>13.60275</td><td>13.77626</td><td>13.37814</td></tr>\n",
              "\t<tr><th scope=row>ENSMUSG00000000003.15</th><td> 5.94861</td><td> 5.94861</td><td> 5.94861</td><td> 5.94861</td><td> 5.94861</td><td> 5.94861</td></tr>\n",
              "\t<tr><th scope=row>ENSMUSG00000000028.15</th><td>10.27774</td><td>10.42099</td><td>10.23619</td><td>10.20597</td><td>11.31713</td><td>10.98636</td></tr>\n",
              "</tbody>\n",
              "</table>\n"
            ],
            "text/markdown": "\nA matrix: 3 × 6 of type dbl\n\n| <!--/--> | 13_D10_Control_EBs_1 | 14_D10_Control_EBs_2 | 15_D10_Foxk1KO_EBs_1 | 16_D10_Foxk1KO_EBs_2 | 17_D10_Foxk1KO_IWR1_EBs_1 | 18_D10_Foxk1KO_IWR1_EBs_2 |\n|---|---|---|---|---|---|---|\n| ENSMUSG00000000001.4 | 13.22223 | 13.20128 | 13.43130 | 13.60275 | 13.77626 | 13.37814 |\n| ENSMUSG00000000003.15 |  5.94861 |  5.94861 |  5.94861 |  5.94861 |  5.94861 |  5.94861 |\n| ENSMUSG00000000028.15 | 10.27774 | 10.42099 | 10.23619 | 10.20597 | 11.31713 | 10.98636 |\n\n",
            "text/latex": "A matrix: 3 × 6 of type dbl\n\\begin{tabular}{r|llllll}\n  & 13\\_D10\\_Control\\_EBs\\_1 & 14\\_D10\\_Control\\_EBs\\_2 & 15\\_D10\\_Foxk1KO\\_EBs\\_1 & 16\\_D10\\_Foxk1KO\\_EBs\\_2 & 17\\_D10\\_Foxk1KO\\_IWR1\\_EBs\\_1 & 18\\_D10\\_Foxk1KO\\_IWR1\\_EBs\\_2\\\\\n\\hline\n\tENSMUSG00000000001.4 & 13.22223 & 13.20128 & 13.43130 & 13.60275 & 13.77626 & 13.37814\\\\\n\tENSMUSG00000000003.15 &  5.94861 &  5.94861 &  5.94861 &  5.94861 &  5.94861 &  5.94861\\\\\n\tENSMUSG00000000028.15 & 10.27774 & 10.42099 & 10.23619 & 10.20597 & 11.31713 & 10.98636\\\\\n\\end{tabular}\n",
            "text/plain": [
              "                      13_D10_Control_EBs_1 14_D10_Control_EBs_2\n",
              "ENSMUSG00000000001.4  13.22223             13.20128            \n",
              "ENSMUSG00000000003.15  5.94861              5.94861            \n",
              "ENSMUSG00000000028.15 10.27774             10.42099            \n",
              "                      15_D10_Foxk1KO_EBs_1 16_D10_Foxk1KO_EBs_2\n",
              "ENSMUSG00000000001.4  13.43130             13.60275            \n",
              "ENSMUSG00000000003.15  5.94861              5.94861            \n",
              "ENSMUSG00000000028.15 10.23619             10.20597            \n",
              "                      17_D10_Foxk1KO_IWR1_EBs_1 18_D10_Foxk1KO_IWR1_EBs_2\n",
              "ENSMUSG00000000001.4  13.77626                  13.37814                 \n",
              "ENSMUSG00000000003.15  5.94861                   5.94861                 \n",
              "ENSMUSG00000000028.15 11.31713                  10.98636                 "
            ]
          },
          "metadata": {}
        }
      ]
    },
    {
      "cell_type": "code",
      "metadata": {
        "id": "bMI1GrovlKmR",
        "colab": {
          "base_uri": "https://localhost:8080/"
        },
        "outputId": "bb86fc20-677c-457b-981e-4b6ce0b0a26f"
      },
      "source": [
        "options(repr.plot.width=10, repr.plot.height = 10)\n",
        "plotPCA(vsd, intgroup=c(\"condition\"))+ geom_point(size=8) + geom_point(shape = 1,size = 8,colour = \"black\") +\n",
        "  theme_bw() +\n",
        "  theme(panel.grid.major = element_blank(), panel.grid.minor = element_blank(),\n",
        "panel.background = element_blank(), axis.line = element_line(colour = \"black\"), axis.text=element_text(size=14),\n",
        "        axis.title=element_text(size=20,face=\"bold\"))"
      ],
      "execution_count": null,
      "outputs": [
        {
          "output_type": "display_data",
          "data": {
            "text/plain": [
              "plot without title"
            ],
            "image/png": "[encoded data removed]"
          },
          "metadata": {
            "image/png": {
              "width": 600,
              "height": 600
            }
          }
        }
      ]
    },
    {
      "cell_type": "markdown",
      "metadata": {
        "id": "ch1lLyaGLqhR"
      },
      "source": [
        "# Mapping Ensembl transcripts to gene symbols using Transcript_to_genes from kallisto"
      ]
    },
    {
      "cell_type": "code",
      "metadata": {
        "id": "lxKx1w__MIkC"
      },
      "source": [
        "ensembl_id <- as.data.frame(rownames(test_sub))\n",
        "colnames(ensembl_id) <- c('ensembl_gene_id') ##dataframe to comply with t2g ensembl transcript id"
      ],
      "execution_count": null,
      "outputs": []
    },
    {
      "cell_type": "code",
      "metadata": {
        "id": "jql_DzPqNRCo"
      },
      "source": [
        "ensembl_id$gene_name <- t2g_dat$gene_name[match(ensembl_id$ensembl_gene_id, t2g_dat$ensembl_gene)] ##Appending a column to ensembl dataframe when the ensembl transcript id of the subsetted countdata to the data from biomart"
      ],
      "execution_count": null,
      "outputs": []
    },
    {
      "cell_type": "markdown",
      "metadata": {
        "id": "avdtjiSoPrpk"
      },
      "source": [
        "# WT vs KO  DESeq2\n",
        "**981** genes are upregulated in WT day 10 and **581** genes are upregulated in KO Day 10"
      ]
    },
    {
      "cell_type": "code",
      "metadata": {
        "id": "AOY7UnT2zqkw"
      },
      "source": [
        "Control <- results(dds_res, contrast = c('condition', 'Control', 'KO'), alpha = 0.05) "
      ],
      "execution_count": null,
      "outputs": []
    },
    {
      "cell_type": "markdown",
      "metadata": {
        "id": "tDk_5vjWQJwQ"
      },
      "source": [
        "The below step is to get the data for log2 fold change equal to or greater than 1 with a significant p-adj value for WT vs KO. "
      ]
    },
    {
      "cell_type": "code",
      "metadata": {
        "id": "gt44qstlzDmH"
      },
      "source": [
        "sig <- Control[!is.na(Control$padj) & Control$padj<0.05 & abs(Control$log2FoldChange)>=1,] ##Subsetting significant values with absolute fold change above 1"
      ],
      "execution_count": null,
      "outputs": []
    },
    {
      "cell_type": "code",
      "metadata": {
        "id": "f-Yyh3Yi0jms",
        "colab": {
          "base_uri": "https://localhost:8080/",
          "height": 553
        },
        "outputId": "b137c27e-b801-4db2-d57c-3497d5976fba"
      },
      "source": [
        "head(sig)\n",
        "summary(sig)"
      ],
      "execution_count": null,
      "outputs": [
        {
          "output_type": "display_data",
          "data": {
            "text/plain": [
              "log2 fold change (MLE): condition Control vs KO \n",
              "Wald test p-value: condition Control vs KO \n",
              "DataFrame with 6 rows and 6 columns\n",
              "                        baseMean log2FoldChange     lfcSE      stat      pvalue\n",
              "                       <numeric>      <numeric> <numeric> <numeric>   <numeric>\n",
              "ENSMUSG00000000094.12   418.9298       -2.24982  0.435953  -5.16070 2.46026e-07\n",
              "ENSMUSG00000000126.11   430.1009       -1.45765  0.412585  -3.53296 4.10930e-04\n",
              "ENSMUSG00000000182.9     17.4358        3.83983  1.221304   3.14404 1.66631e-03\n",
              "ENSMUSG00000000184.12 13944.9085        1.19638  0.253409   4.72117 2.34494e-06\n",
              "ENSMUSG00000000202.9    113.1470        2.88042  0.730681   3.94210 8.07726e-05\n",
              "ENSMUSG00000000244.17   206.2979       -1.29690  0.419910  -3.08851 2.01163e-03\n",
              "                             padj\n",
              "                        <numeric>\n",
              "ENSMUSG00000000094.12 1.03284e-05\n",
              "ENSMUSG00000000126.11 6.56739e-03\n",
              "ENSMUSG00000000182.9  2.09459e-02\n",
              "ENSMUSG00000000184.12 7.52269e-05\n",
              "ENSMUSG00000000202.9  1.66557e-03\n",
              "ENSMUSG00000000244.17 2.40600e-02"
            ]
          },
          "metadata": {}
        },
        {
          "output_type": "stream",
          "name": "stdout",
          "text": [
            "\n",
            "out of 1562 with nonzero total read count\n",
            "adjusted p-value < 0.05\n",
            "LFC > 0 (up)       : 981, 63%\n",
            "LFC < 0 (down)     : 581, 37%\n",
            "outliers [1]       : 0, 0%\n",
            "low counts [2]     : 0, 0%\n",
            "(mean count < 5)\n",
            "[1] see 'cooksCutoff' argument of ?results\n",
            "[2] see 'independentFiltering' argument of ?results\n",
            "\n"
          ]
        }
      ]
    },
    {
      "cell_type": "code",
      "metadata": {
        "id": "BquGcivfPu5r"
      },
      "source": [
        "sig$gene_name <- t2g_dat$gene_name[match(rownames(sig), t2g_dat$ensembl_gene)] ## Adding a column with gene names in this dataset of significant genes"
      ],
      "execution_count": null,
      "outputs": []
    },
    {
      "cell_type": "markdown",
      "source": [
        "# IWR1 KO vs KO\n",
        "**1123** genes are upregulated in IWR1 KO and **1687** genes are upregulated in KO"
      ],
      "metadata": {
        "id": "jCPjdDtAqRuI"
      }
    },
    {
      "cell_type": "code",
      "metadata": {
        "id": "9LjV5whrqQWr"
      },
      "source": [
        "KO <- results(dds_res, contrast = c('condition', 'KO_IWR1', 'KO'), alpha = 0.05)"
      ],
      "execution_count": null,
      "outputs": []
    },
    {
      "cell_type": "markdown",
      "metadata": {
        "id": "8K75_YA9qQWs"
      },
      "source": [
        "The below step is to get the data for log2 fold change equal to or greater than 1 with a significant p-adj value for IWR1 KO vs KO. "
      ]
    },
    {
      "cell_type": "code",
      "metadata": {
        "id": "8oHmwy5xqQWt"
      },
      "source": [
        "sig_ko <- KO[!is.na(KO$padj) & KO$padj<0.05 & abs(KO$log2FoldChange)>=1,] ##Subsetting significant values with absolute fold change above 1"
      ],
      "execution_count": null,
      "outputs": []
    },
    {
      "cell_type": "code",
      "metadata": {
        "colab": {
          "base_uri": "https://localhost:8080/",
          "height": 553
        },
        "outputId": "8ed7aff5-5d44-4e66-ae4e-f96bc44f5362",
        "id": "ym6uj-CUqQWt"
      },
      "source": [
        "head(sig_ko)\n",
        "summary(sig_ko)"
      ],
      "execution_count": null,
      "outputs": [
        {
          "output_type": "display_data",
          "data": {
            "text/plain": [
              "log2 fold change (MLE): condition KO_IWR1 vs KO \n",
              "Wald test p-value: condition KO_IWR1 vs KO \n",
              "DataFrame with 6 rows and 6 columns\n",
              "                       baseMean log2FoldChange     lfcSE      stat      pvalue\n",
              "                      <numeric>      <numeric> <numeric> <numeric>   <numeric>\n",
              "ENSMUSG00000000028.15  1475.730        1.01477  0.265387   3.82374 1.31444e-04\n",
              "ENSMUSG00000000085.16  1669.205       -1.35473  0.322478  -4.20098 2.65759e-05\n",
              "ENSMUSG00000000094.12   418.930       -2.03395  0.434623  -4.67980 2.87150e-06\n",
              "ENSMUSG00000000125.5    105.166        3.00294  0.515428   5.82611 5.67354e-09\n",
              "ENSMUSG00000000126.11   430.101       -1.37927  0.412096  -3.34697 8.16987e-04\n",
              "ENSMUSG00000000142.15   822.973        1.11598  0.377465   2.95650 3.11147e-03\n",
              "                             padj\n",
              "                        <numeric>\n",
              "ENSMUSG00000000028.15 1.44207e-03\n",
              "ENSMUSG00000000085.16 3.80791e-04\n",
              "ENSMUSG00000000094.12 5.70217e-05\n",
              "ENSMUSG00000000125.5  2.46858e-07\n",
              "ENSMUSG00000000126.11 6.46318e-03\n",
              "ENSMUSG00000000142.15 1.85775e-02"
            ]
          },
          "metadata": {}
        },
        {
          "output_type": "stream",
          "name": "stdout",
          "text": [
            "\n",
            "out of 2810 with nonzero total read count\n",
            "adjusted p-value < 0.05\n",
            "LFC > 0 (up)       : 1123, 40%\n",
            "LFC < 0 (down)     : 1687, 60%\n",
            "outliers [1]       : 0, 0%\n",
            "low counts [2]     : 0, 0%\n",
            "(mean count < 9)\n",
            "[1] see 'cooksCutoff' argument of ?results\n",
            "[2] see 'independentFiltering' argument of ?results\n",
            "\n"
          ]
        }
      ]
    },
    {
      "cell_type": "code",
      "metadata": {
        "id": "iRXjlRjjqQWu"
      },
      "source": [
        "sig_ko$gene_name <- t2g_dat$gene_name[match(rownames(sig_ko), t2g_dat$ensembl_gene)] ## Adding a column with gene names in this dataset of significant genes"
      ],
      "execution_count": null,
      "outputs": []
    },
    {
      "cell_type": "markdown",
      "source": [
        "# Commonly upregulated genes between Control and IWR1 Foxk1 KO when compared to Foxk1 KO"
      ],
      "metadata": {
        "id": "nB_SOsaryQlk"
      }
    },
    {
      "cell_type": "code",
      "source": [
        "up_wt <- sig[sig$log2FoldChange > 0,]$gene_name"
      ],
      "metadata": {
        "id": "fUwfU0BHyYXq"
      },
      "execution_count": null,
      "outputs": []
    },
    {
      "cell_type": "code",
      "source": [
        "iwr1_up <- sig_ko[sig_ko$log2FoldChange > 0,]$gene_name"
      ],
      "metadata": {
        "id": "ELLbwELMygat"
      },
      "execution_count": null,
      "outputs": []
    },
    {
      "cell_type": "markdown",
      "source": [
        "## Venn Diagram showing common genes upregulated in both Control and Iwr1 Foxk1 KO"
      ],
      "metadata": {
        "id": "hWp0MyD6G2dH"
      }
    },
    {
      "cell_type": "code",
      "source": [
        "options(repr.plot.width=4, repr.plot.height=4)\n",
        "draw.pairwise.venn(\n",
        "  area1 = length(up_wt),\n",
        "  area2 = length(iwr1_up),\n",
        "  cross.area = length(intersect(iwr1_up,up_wt)),\n",
        "  category = c(\"WT\", 'IWR1_KO'), \n",
        "  lty = \"blank\", \n",
        "  fill = c(\"skyblue\", \"pink1\"),\n",
        "  cex = 2,\n",
        "  cat.cex = 1,\n",
        "  scale = FALSE\n",
        ")\n",
        "\n"
      ],
      "metadata": {
        "colab": {
          "base_uri": "https://localhost:8080/",
          "height": 295
        },
        "id": "5WTJ-Rwez0OD",
        "outputId": "c0d111f3-313d-40fd-851b-f190d6827ae1"
      },
      "execution_count": null,
      "outputs": [
        {
          "output_type": "display_data",
          "data": {
            "text/plain": [
              "(polygon[GRID.polygon.894], polygon[GRID.polygon.895], polygon[GRID.polygon.896], polygon[GRID.polygon.897], text[GRID.text.898], text[GRID.text.899], text[GRID.text.900], text[GRID.text.901], text[GRID.text.902]) "
            ]
          },
          "metadata": {}
        },
        {
          "output_type": "display_data",
          "data": {
            "text/plain": [
              "plot without title"
            ],
            "image/png": "[encoded data removed]"
          },
          "metadata": {
            "image/png": {
              "width": 240,
              "height": 240
            }
          }
        }
      ]
    },
    {
      "cell_type": "code",
      "source": [
        "common_genes <- intersect(iwr1_up,up_wt)"
      ],
      "metadata": {
        "id": "D2t4CnkM1MkO"
      },
      "execution_count": null,
      "outputs": []
    },
    {
      "cell_type": "code",
      "source": [
        "go <- enrichGO(gene = common_genes,\n",
        "                OrgDb         = org.Mm.eg.db,\n",
        "                keyType = 'SYMBOL',\n",
        "                ont           = \"BP\",\n",
        "                pAdjustMethod = \"BH\",\n",
        "                pvalueCutoff  = 0.05,\n",
        "                qvalueCutoff  = 0.05,\n",
        "        readable      = FALSE)"
      ],
      "metadata": {
        "id": "yMp8DjHb11IE"
      },
      "execution_count": null,
      "outputs": []
    },
    {
      "cell_type": "code",
      "source": [
        "enrich_go <- go %>% filter(str_detect(Description, 'pathway|cascade|development|regeneration')) %>% filter(!str_detect(Description, 'Wnt|Notch|negative|positive')) ##subsetting data to keep terms that include pathway, cascade, development, regeneration and cardiac and excludes negative and positive"
      ],
      "metadata": {
        "id": "RL-Ueh2NIHcj"
      },
      "execution_count": null,
      "outputs": []
    },
    {
      "cell_type": "markdown",
      "source": [
        "## Top 20 genes upregulated in the pathways \n",
        "muscle tissue development & striated muscle tissue development"
      ],
      "metadata": {
        "id": "jcP51bwXGoVe"
      }
    },
    {
      "cell_type": "code",
      "source": [
        "go_muscle <- enrich_go[enrich_go$Description %in% c('muscle tissue development','striated muscle tissue development')]"
      ],
      "metadata": {
        "id": "iinFCfJhVteh"
      },
      "execution_count": null,
      "outputs": []
    },
    {
      "cell_type": "code",
      "source": [
        "go_genes <- unlist(strsplit(go_muscle$geneID, split = '/'))"
      ],
      "metadata": {
        "id": "kPBtMmkAXgag"
      },
      "execution_count": null,
      "outputs": []
    },
    {
      "cell_type": "code",
      "source": [
        "top_enrich <- data.frame(sig[sig$gene_name %in% go_genes,]) %>% arrange(-log2FoldChange)"
      ],
      "metadata": {
        "id": "b5UryP4xqvnz"
      },
      "execution_count": null,
      "outputs": []
    },
    {
      "cell_type": "code",
      "metadata": {
        "id": "hBzZ1Le2P9bx"
      },
      "source": [
        "scale_mat <- scale(t(counts(dds_res))) #Scaling the matrix"
      ],
      "execution_count": null,
      "outputs": []
    },
    {
      "cell_type": "code",
      "metadata": {
        "id": "uVoM7RCviRTM",
        "colab": {
          "base_uri": "https://localhost:8080/",
          "height": 17
        },
        "outputId": "f93f4b8f-9c4e-4263-ecc2-0afc5fca8c22"
      },
      "source": [
        "scale_mat[is.na(scale_mat) == 'TRUE']"
      ],
      "execution_count": null,
      "outputs": [
        {
          "output_type": "display_data",
          "data": {
            "text/html": [
              ""
            ],
            "text/markdown": "",
            "text/latex": "",
            "text/plain": [
              "numeric(0)"
            ]
          },
          "metadata": {}
        }
      ]
    },
    {
      "cell_type": "code",
      "metadata": {
        "id": "ErCkqlzkh5Ro"
      },
      "source": [
        "mat <- t(scale_mat)"
      ],
      "execution_count": null,
      "outputs": []
    },
    {
      "cell_type": "code",
      "metadata": {
        "id": "3u6Rar66mXUx"
      },
      "source": [
        "rownames(mat) <- t2g_dat$gene_name[match(rownames(mat), t2g_dat$ensembl_gene)]"
      ],
      "execution_count": null,
      "outputs": []
    },
    {
      "cell_type": "code",
      "source": [
        "mat_top <- mat[rownames(mat) %in% head(top_enrich$gene_name, 20),colnames(mat) %in% c('13_D10_Control_EBs_1',\t'14_D10_Control_EBs_2',\t'15_D10_Foxk1KO_EBs_1',\t'16_D10_Foxk1KO_EBs_2')]"
      ],
      "metadata": {
        "id": "cHhLsyarpWxD"
      },
      "execution_count": null,
      "outputs": []
    },
    {
      "cell_type": "code",
      "source": [
        "column_annotation <- HeatmapAnnotation(\n",
        "  Condition = colnames(mat_top),\n",
        "  col = list(Condition = c(\"13_D10_Control_EBs_1\" = \"cornflowerblue\", \"14_D10_Control_EBs_2\" = \"cornflowerblue\", \"15_D10_Foxk1KO_EBs_1\" = \"black\", \"16_D10_Foxk1KO_EBs_2\" = \"black\")),\n",
        "  gp = gpar(col = \"white\")\n",
        ")\n",
        "\n",
        "col_fun <- colorRamp2(quantile(mat_top, c(0.1, 0.5, 0.9)), c(\"blue\", \"black\", \"red\"))\n",
        "\n",
        "options(repr.plot.width=8, repr.plot.height = 8)\n",
        "Heatmap(\n",
        "  mat_top,\n",
        "  cluster_rows = TRUE,\n",
        "  cluster_columns = TRUE,\n",
        "  top_annotation = column_annotation,\n",
        "  show_row_names = TRUE,\n",
        "  show_column_names = FALSE,\n",
        "  show_column_dend = FALSE,\n",
        "  col = col_fun,\n",
        "  show_row_dend = FALSE,\n",
        "  row_names_gp = gpar(fontsize = 20))"
      ],
      "metadata": {
        "colab": {
          "base_uri": "https://localhost:8080/",
          "height": 497
        },
        "id": "VcKnOUXwp-An",
        "outputId": "e6e3fe77-fa69-43ca-8379-570a80edc584"
      },
      "execution_count": null,
      "outputs": [
        {
          "output_type": "display_data",
          "data": {
            "text/plain": [
              "plot without title"
            ],
            "image/png": "[encoded data removed]"
          },
          "metadata": {
            "image/png": {
              "width": 480,
              "height": 480
            }
          }
        }
      ]
    },
    {
      "cell_type": "markdown",
      "source": [
        "## Significant pathways upregulated using genes common between Control and Foxk1 KO"
      ],
      "metadata": {
        "id": "5or7gFIrHG3O"
      }
    },
    {
      "cell_type": "code",
      "source": [
        "options(repr.plot.width=8, repr.plot.height=10)\n",
        "barplot(enrich_go, showCategory=8)  + scale_fill_gradient(low = \"#132B43\", high = \"#56B1F7\")"
      ],
      "metadata": {
        "colab": {
          "base_uri": "https://localhost:8080/",
          "height": 670
        },
        "id": "41_0nptHIvXn",
        "outputId": "16b339d9-4e34-4a75-9f86-b374f5f8cfbf"
      },
      "execution_count": null,
      "outputs": [
        {
          "output_type": "stream",
          "name": "stderr",
          "text": [
            "Scale for 'fill' is already present. Adding another scale for 'fill', which\n",
            "will replace the existing scale.\n",
            "\n"
          ]
        },
        {
          "output_type": "display_data",
          "data": {
            "text/plain": [
              "plot without title"
            ],
            "image/png": "[encoded data removed]"
          },
          "metadata": {
            "image/png": {
              "width": 480,
              "height": 600
            }
          }
        }
      ]
    },
    {
      "cell_type": "code",
      "metadata": {
        "id": "KQmJclTzvheu",
        "colab": {
          "base_uri": "https://localhost:8080/",
          "height": 1000
        },
        "outputId": "a2a480b6-4740-4eb9-fe5d-06af6d6add7f"
      },
      "source": [
        "sessionInfo()"
      ],
      "execution_count": null,
      "outputs": [
        {
          "output_type": "display_data",
          "data": {
            "text/plain": [
              "R version 4.1.2 (2021-11-01)\n",
              "Platform: x86_64-pc-linux-gnu (64-bit)\n",
              "Running under: Ubuntu 18.04.5 LTS\n",
              "\n",
              "Matrix products: default\n",
              "BLAS:   /usr/lib/x86_64-linux-gnu/openblas/libblas.so.3\n",
              "LAPACK: /usr/lib/x86_64-linux-gnu/libopenblasp-r0.2.20.so\n",
              "\n",
              "locale:\n",
              " [1] LC_CTYPE=en_US.UTF-8       LC_NUMERIC=C              \n",
              " [3] LC_TIME=en_US.UTF-8        LC_COLLATE=en_US.UTF-8    \n",
              " [5] LC_MONETARY=en_US.UTF-8    LC_MESSAGES=en_US.UTF-8   \n",
              " [7] LC_PAPER=en_US.UTF-8       LC_NAME=C                 \n",
              " [9] LC_ADDRESS=C               LC_TELEPHONE=C            \n",
              "[11] LC_MEASUREMENT=en_US.UTF-8 LC_IDENTIFICATION=C       \n",
              "\n",
              "attached base packages:\n",
              "[1] grid      stats4    stats     graphics  grDevices utils     datasets \n",
              "[8] methods   base     \n",
              "\n",
              "other attached packages:\n",
              " [1] gageData_2.32.0             gage_2.44.0                \n",
              " [3] pathview_1.34.0             enrichplot_1.13.1.992      \n",
              " [5] GOSemSim_2.20.0             ggnewscale_0.4.6           \n",
              " [7] ReactomePA_1.38.0           DOSE_3.20.1                \n",
              " [9] stringr_1.4.0               GO.db_3.14.0               \n",
              "[11] Matrix_1.4-0                tidyr_1.2.0                \n",
              "[13] clusterProfiler_4.2.2       ChIPseeker_1.31.3.900      \n",
              "[15] org.Mm.eg.db_3.14.0         AnnotationDbi_1.56.2       \n",
              "[17] biomaRt_2.50.3              apeglm_1.16.0              \n",
              "[19] ggwordcloud_0.5.0           ggplot2_3.3.5              \n",
              "[21] VennDiagram_1.7.1           futile.logger_1.4.3        \n",
              "[23] DESeq2_1.34.0               dplyr_1.0.8                \n",
              "[25] plyr_1.8.6                  ComplexHeatmap_2.11.1      \n",
              "[27] circlize_0.4.14             gplots_3.1.1               \n",
              "[29] SummarizedExperiment_1.24.0 Biobase_2.54.0             \n",
              "[31] GenomicRanges_1.46.1        GenomeInfoDb_1.30.1        \n",
              "[33] IRanges_2.28.0              S4Vectors_0.32.3           \n",
              "[35] BiocGenerics_0.40.0         MatrixGenerics_1.6.0       \n",
              "[37] matrixStats_0.61.0          BiocParallel_1.28.3        \n",
              "\n",
              "loaded via a namespace (and not attached):\n",
              "  [1] rappdirs_0.3.3                         \n",
              "  [2] rtracklayer_1.54.0                     \n",
              "  [3] pbdZMQ_0.3-7                           \n",
              "  [4] coda_0.19-4                            \n",
              "  [5] bit64_4.0.5                            \n",
              "  [6] DelayedArray_0.20.0                    \n",
              "  [7] data.table_1.14.2                      \n",
              "  [8] KEGGREST_1.34.0                        \n",
              "  [9] RCurl_1.98-1.6                         \n",
              " [10] doParallel_1.0.17                      \n",
              " [11] generics_0.1.2                         \n",
              " [12] GenomicFeatures_1.46.5                 \n",
              " [13] callr_3.7.0                            \n",
              " [14] lambda.r_1.2.4                         \n",
              " [15] usethis_2.1.5                          \n",
              " [16] RSQLite_2.2.10                         \n",
              " [17] shadowtext_0.1.1                       \n",
              " [18] bit_4.0.4                              \n",
              " [19] xml2_1.3.3                             \n",
              " [20] assertthat_0.2.1                       \n",
              " [21] viridis_0.6.2                          \n",
              " [22] hms_1.1.1                              \n",
              " [23] evaluate_0.15                          \n",
              " [24] fansi_1.0.2                            \n",
              " [25] restfulr_0.0.13                        \n",
              " [26] progress_1.2.2                         \n",
              " [27] caTools_1.18.2                         \n",
              " [28] dbplyr_2.1.1                           \n",
              " [29] Rgraphviz_2.38.0                       \n",
              " [30] igraph_1.2.11                          \n",
              " [31] DBI_1.1.2                              \n",
              " [32] geneplotter_1.72.0                     \n",
              " [33] purrr_0.3.4                            \n",
              " [34] ellipsis_0.3.2                         \n",
              " [35] backports_1.4.1                        \n",
              " [36] annotate_1.72.0                        \n",
              " [37] vctrs_0.3.8                            \n",
              " [38] Cairo_1.5-15                           \n",
              " [39] remotes_2.4.2                          \n",
              " [40] cachem_1.0.6                           \n",
              " [41] withr_2.4.3                            \n",
              " [42] ggforce_0.3.3                          \n",
              " [43] bdsmatrix_1.3-4                        \n",
              " [44] checkmate_2.0.0                        \n",
              " [45] GenomicAlignments_1.30.0               \n",
              " [46] treeio_1.18.1                          \n",
              " [47] prettyunits_1.1.1                      \n",
              " [48] cluster_2.1.2                          \n",
              " [49] ape_5.6-2                              \n",
              " [50] IRdisplay_1.1                          \n",
              " [51] lazyeval_0.2.2                         \n",
              " [52] crayon_1.5.0                           \n",
              " [53] genefilter_1.76.0                      \n",
              " [54] labeling_0.4.2                         \n",
              " [55] pkgconfig_2.0.3                        \n",
              " [56] tweenr_1.0.2                           \n",
              " [57] nlme_3.1-155                           \n",
              " [58] pkgload_1.2.4                          \n",
              " [59] devtools_2.4.3                         \n",
              " [60] rlang_1.0.1                            \n",
              " [61] lifecycle_1.0.1                        \n",
              " [62] downloader_0.4                         \n",
              " [63] filelock_1.0.2                         \n",
              " [64] BiocFileCache_2.2.1                    \n",
              " [65] rprojroot_2.0.2                        \n",
              " [66] polyclip_1.10-0                        \n",
              " [67] graph_1.72.0                           \n",
              " [68] aplot_0.1.2                            \n",
              " [69] IRkernel_1.3                           \n",
              " [70] boot_1.3-28                            \n",
              " [71] base64enc_0.1-3                        \n",
              " [72] GlobalOptions_0.1.2                    \n",
              " [73] processx_3.5.2                         \n",
              " [74] png_0.1-7                              \n",
              " [75] viridisLite_0.4.0                      \n",
              " [76] rjson_0.2.21                           \n",
              " [77] bitops_1.0-7                           \n",
              " [78] KernSmooth_2.23-20                     \n",
              " [79] Biostrings_2.62.0                      \n",
              " [80] blob_1.2.2                             \n",
              " [81] shape_1.4.6                            \n",
              " [82] qvalue_2.26.0                          \n",
              " [83] gridGraphics_0.5-1                     \n",
              " [84] reactome.db_1.77.0                     \n",
              " [85] scales_1.1.1                           \n",
              " [86] memoise_2.0.1                          \n",
              " [87] graphite_1.40.0                        \n",
              " [88] magrittr_2.0.2                         \n",
              " [89] zlibbioc_1.40.0                        \n",
              " [90] compiler_4.1.2                         \n",
              " [91] scatterpie_0.1.7                       \n",
              " [92] BiocIO_1.4.0                           \n",
              " [93] bbmle_1.0.24                           \n",
              " [94] RColorBrewer_1.1-2                     \n",
              " [95] plotrix_3.8-2                          \n",
              " [96] clue_0.3-60                            \n",
              " [97] KEGGgraph_1.54.0                       \n",
              " [98] Rsamtools_2.10.0                       \n",
              " [99] cli_3.2.0                              \n",
              "[100] XVector_0.34.0                         \n",
              "[101] patchwork_1.1.1                        \n",
              "[102] ps_1.6.0                               \n",
              "[103] formatR_1.11                           \n",
              "[104] MASS_7.3-55                            \n",
              "[105] tidyselect_1.1.2                       \n",
              "[106] stringi_1.7.6                          \n",
              "[107] emdbook_1.3.12                         \n",
              "[108] yaml_2.3.5                             \n",
              "[109] locfit_1.5-9.5                         \n",
              "[110] ggrepel_0.9.1                          \n",
              "[111] fastmatch_1.1-3                        \n",
              "[112] tools_4.1.2                            \n",
              "[113] parallel_4.1.2                         \n",
              "[114] uuid_1.0-3                             \n",
              "[115] foreach_1.5.2                          \n",
              "[116] TxDb.Hsapiens.UCSC.hg19.knownGene_3.2.2\n",
              "[117] gridExtra_2.3                          \n",
              "[118] farver_2.1.0                           \n",
              "[119] ggraph_2.0.5                           \n",
              "[120] digest_0.6.29                          \n",
              "[121] BiocManager_1.30.16                    \n",
              "[122] Rcpp_1.0.8.3                           \n",
              "[123] org.Hs.eg.db_3.14.0                    \n",
              "[124] httr_1.4.2                             \n",
              "[125] colorspace_2.0-3                       \n",
              "[126] brio_1.1.3                             \n",
              "[127] XML_3.99-0.9                           \n",
              "[128] fs_1.5.2                               \n",
              "[129] splines_4.1.2                          \n",
              "[130] yulab.utils_0.0.4                      \n",
              "[131] tidytree_0.3.9                         \n",
              "[132] graphlayouts_0.8.0                     \n",
              "[133] ggplotify_0.1.0                        \n",
              "[134] sessioninfo_1.2.2                      \n",
              "[135] xtable_1.8-4                           \n",
              "[136] jsonlite_1.8.0                         \n",
              "[137] ggtree_3.2.1                           \n",
              "[138] futile.options_1.0.1                   \n",
              "[139] tidygraph_1.2.0                        \n",
              "[140] ggfun_0.0.5                            \n",
              "[141] testthat_3.1.2                         \n",
              "[142] R6_2.5.1                               \n",
              "[143] pillar_1.7.0                           \n",
              "[144] htmltools_0.5.2                        \n",
              "[145] glue_1.6.2                             \n",
              "[146] fastmap_1.1.0                          \n",
              "[147] codetools_0.2-18                       \n",
              "[148] fgsea_1.20.0                           \n",
              "[149] pkgbuild_1.3.1                         \n",
              "[150] mvtnorm_1.1-3                          \n",
              "[151] utf8_1.2.2                             \n",
              "[152] lattice_0.20-45                        \n",
              "[153] tibble_3.1.6                           \n",
              "[154] numDeriv_2016.8-1.1                    \n",
              "[155] curl_4.3.2                             \n",
              "[156] gtools_3.9.2                           \n",
              "[157] survival_3.2-13                        \n",
              "[158] repr_1.1.4                             \n",
              "[159] desc_1.4.0                             \n",
              "[160] munsell_0.5.0                          \n",
              "[161] DO.db_2.9                              \n",
              "[162] GetoptLong_1.0.5                       \n",
              "[163] GenomeInfoDbData_1.2.7                 \n",
              "[164] iterators_1.0.14                       \n",
              "[165] reshape2_1.4.4                         \n",
              "[166] gtable_0.3.0                           "
            ]
          },
          "metadata": {}
        }
      ]
    }
  ]
}